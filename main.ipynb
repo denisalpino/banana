{
 "cells": [
  {
   "cell_type": "markdown",
   "metadata": {},
   "source": [
    "Сейчас я тебе предоставлю контекст для решения задачи, а в дальнейшем ты будешь должен ответить на мои вопросы и в итоге совместно со мной написать решение задачи на языке Python.\n",
    "\n",
    "Мне необходимо разработать алгоритм-индикатор, который прогнозирует краткосрочные ценовые изменения выбранного финансового инструмента. Основная цель — предсказать направление (рост, падение или стабильность) цены на 15-минутный временной интервал с максимально возможной точностью. Модель должна генерировать рекомендации по уровням stop-loss и take-profit для каждой сделки.\n",
    "\n",
    "Входные данные: В качестве данных используется выгрузка с биржи о движении цен в формате CSV. Данные хранятся в 10 файлах, которые содержат Open High, Low, Close и соответствующий timestamp для 10 различных активов. В каждом файле данные о конкретном активе. Суммарный объем данных составляет около 16 Мб. Данные предоставляются в таймфрейме 15-минут (интервал между данными составляет 15 минут).\n",
    "\n",
    "Требования к решению (в порядке убывания приоритета):\n",
    "1. Предсказать направление цены (+1: рост, -1: падение, 0: стабильность на следующий временной интервал.\n",
    "2. Рассчитать оптимальные уровни stop-loss и take-profit для минимизации риска и максимизации прибыли.\n",
    "3. Сделки должны идти непрерывно: одна сделка закрылась - следующая открылась.\n",
    "\n",
    "Решение будет оцениваться в соответствии со следующими метриками (в порядке убывания приоритета):\n",
    "1. Win-rate – процент прибыльных сделок.\n",
    "2. PnL (Profit and Loss) – итоговая прибыль/убыток в процентах за определенный период.\n",
    "3. Количество сделок – количество всех сделок, совершенных в процессе торговли.\n",
    "4. Максимальная просадка депозита – максимальное снижение капитала за весь период торговли.\n",
    "5. Средний процент прибыли на сделку – средний процент, полученный за каждую прибыльную сделку.\n",
    "6. Средняя ширина от точки входа до выхода – средний процент изменения цены от входа в сделку до ее завершения.\n",
    "\n",
    "Дополнительные условия:\n",
    "* Ограничений на выбор алгоритмов нет, но крайне приветствуются интерпретируемые модели и модели машинного обучения.\n",
    "* Stop-loss и take-profit должны быть рассчитаны на основе исторических данных, волатильности, прогнозов модели и других параметров. А ширина от точки входа до stop-loss и take-profit ордеров должна быть фиксирована (risk/reward 1:1). Причем, минимальный диапазон 0.35%, максимальный 2%.\n",
    "\n",
    "Таким образом, цель задания - разработать алгоритм, который анализирует данные о движении цены криптовалют и автоматически рассчитывает возможные уровни для входа в сделку, стоп-лосса и тейк-профита.\n",
    "\n",
    "Необязательные, но важные предпочтения:\n",
    "* Минимальная задержка в обработке данных (реализация модели должна быть пригодна для реального времени).\n",
    "* Реализация адаптивного расчета stop-loss и take-profit с учетом изменения волатильности в реальном времени\n",
    "* Нормализация данных (избавление от шумов и аномальных движений).\n",
    "\n",
    "Если у тебя есть наводящие/уточняюще вопросы, задай их, а также, в любом случае, выскажи свое мнение на счет данного кейса и как бы его решал ты."
   ]
  },
  {
   "cell_type": "markdown",
   "metadata": {},
   "source": [
    "В качестве дополнительных фичей, помимо High, Open, Close и Low,  я собираюсь использовать следующие индикаторы: SMA_delta (Дельта скользящих), RSI_14 (Индекс относительной силы), BB_delta_cu, BB_delta_cl, ATR, Mean-reversion, Momentum. Я выбрал стратегию прогнозирования High/Low, а не Close-to-Close. Я хочу обчить LSTM для этих целей. Придумай, учитывая всю специфику задачи, функцию потерь, свой выбор подробно аргументируй."
   ]
  },
  {
   "cell_type": "code",
   "execution_count": null,
   "metadata": {},
   "outputs": [],
   "source": [
    "Напиши обучающий код, который в том числе будет разбивать исходную выборку на обучающую, валидаационню и тестовую подвыборки."
   ]
  },
  {
   "cell_type": "markdown",
   "metadata": {},
   "source": [
    "Вопросы:\n",
    "1. Какие модели стоит рассмотреть для решения данной задачи? Какие бы ты рекомендовал выбрать и почему? Аргументированно объясни свой ответ."
   ]
  },
  {
   "cell_type": "code",
   "execution_count": 105,
   "metadata": {},
   "outputs": [],
   "source": [
    "import pandas as pd\n",
    "import numpy as np\n",
    "\n",
    "import plotly.graph_objects as go\n",
    "\n",
    "import talib as ta"
   ]
  },
  {
   "cell_type": "code",
   "execution_count": 106,
   "metadata": {},
   "outputs": [],
   "source": [
    "# Вычисление динамического интервала\n",
    "def calculate_dynamic_range(atr, current_price, min_range=0.0035, max_range=0.02):\n",
    "    atr_percent = atr / current_price\n",
    "    dynamic_range = np.clip(atr_percent * 2, min_range, max_range) # Здесь от множетеля зависит итоговое количество сигналов\n",
    "    return dynamic_range # значение от 0.0035 до 0.02\n",
    "\n",
    "# Для создания торговых уровней\n",
    "def calculate_levels(current_price, atr):\n",
    "    dynamic_range = calculate_dynamic_range(atr, current_price)\n",
    "    take_profit = current_price * (1 + dynamic_range)\n",
    "    stop_loss = current_price * (1 - dynamic_range)\n",
    "    return take_profit, stop_loss\n",
    "\n",
    "# Для создания таргета\n",
    "def calculate_target(current_close, next_high, next_low, next_close, dynamic_range):\n",
    "    upper_breach = (next_high / current_close - 1) >= dynamic_range\n",
    "    lower_breach = (1 - next_low / current_close) >= dynamic_range\n",
    "    \n",
    "    if upper_breach and lower_breach:\n",
    "        # Выбор по Close следующего бара, если Low ниже, а High выше закрытия предыдущего бара\n",
    "        if next_close > current_close:\n",
    "            return 1\n",
    "        else:\n",
    "            return -1\n",
    "    elif upper_breach:\n",
    "        return 1\n",
    "    elif lower_breach:\n",
    "        return -1\n",
    "    else:\n",
    "        return 0"
   ]
  },
  {
   "cell_type": "code",
   "execution_count": 107,
   "metadata": {},
   "outputs": [],
   "source": [
    "df = pd.read_csv(filepath_or_buffer='data/AAVE_USDT_15m_candles.csv', sep=';', index_col=0)\n",
    "df.index = pd.to_datetime(df.index)"
   ]
  },
  {
   "cell_type": "code",
   "execution_count": 278,
   "metadata": {},
   "outputs": [
    {
     "data": {
      "text/html": [
       "<div>\n",
       "<style scoped>\n",
       "    .dataframe tbody tr th:only-of-type {\n",
       "        vertical-align: middle;\n",
       "    }\n",
       "\n",
       "    .dataframe tbody tr th {\n",
       "        vertical-align: top;\n",
       "    }\n",
       "\n",
       "    .dataframe thead th {\n",
       "        text-align: right;\n",
       "    }\n",
       "</style>\n",
       "<table border=\"1\" class=\"dataframe\">\n",
       "  <thead>\n",
       "    <tr style=\"text-align: right;\">\n",
       "      <th></th>\n",
       "      <th>open</th>\n",
       "      <th>high</th>\n",
       "      <th>low</th>\n",
       "      <th>close</th>\n",
       "    </tr>\n",
       "    <tr>\n",
       "      <th>timestamp</th>\n",
       "      <th></th>\n",
       "      <th></th>\n",
       "      <th></th>\n",
       "      <th></th>\n",
       "    </tr>\n",
       "  </thead>\n",
       "  <tbody>\n",
       "    <tr>\n",
       "      <th>2022-12-31 21:00:00</th>\n",
       "      <td>52.7</td>\n",
       "      <td>52.7</td>\n",
       "      <td>52.6</td>\n",
       "      <td>52.6</td>\n",
       "    </tr>\n",
       "    <tr>\n",
       "      <th>2022-12-31 21:15:00</th>\n",
       "      <td>52.7</td>\n",
       "      <td>52.7</td>\n",
       "      <td>52.5</td>\n",
       "      <td>52.6</td>\n",
       "    </tr>\n",
       "    <tr>\n",
       "      <th>2022-12-31 21:30:00</th>\n",
       "      <td>52.6</td>\n",
       "      <td>52.6</td>\n",
       "      <td>52.4</td>\n",
       "      <td>52.5</td>\n",
       "    </tr>\n",
       "    <tr>\n",
       "      <th>2022-12-31 21:45:00</th>\n",
       "      <td>52.5</td>\n",
       "      <td>52.5</td>\n",
       "      <td>52.4</td>\n",
       "      <td>52.4</td>\n",
       "    </tr>\n",
       "    <tr>\n",
       "      <th>2022-12-31 22:00:00</th>\n",
       "      <td>52.4</td>\n",
       "      <td>52.5</td>\n",
       "      <td>52.4</td>\n",
       "      <td>52.5</td>\n",
       "    </tr>\n",
       "  </tbody>\n",
       "</table>\n",
       "</div>"
      ],
      "text/plain": [
       "                     open  high   low  close\n",
       "timestamp                                   \n",
       "2022-12-31 21:00:00  52.7  52.7  52.6   52.6\n",
       "2022-12-31 21:15:00  52.7  52.7  52.5   52.6\n",
       "2022-12-31 21:30:00  52.6  52.6  52.4   52.5\n",
       "2022-12-31 21:45:00  52.5  52.5  52.4   52.4\n",
       "2022-12-31 22:00:00  52.4  52.5  52.4   52.5"
      ]
     },
     "execution_count": 278,
     "metadata": {},
     "output_type": "execute_result"
    }
   ],
   "source": [
    "df.head()"
   ]
  },
  {
   "cell_type": "code",
   "execution_count": 108,
   "metadata": {},
   "outputs": [],
   "source": [
    "df['next_high'] = df['high'].shift(-1)  # High следующего бара\n",
    "df['next_low'] = df['low'].shift(-1)    # Low следующего бара\n",
    "df['next_close'] = df['close'].shift(-1)  # Для обработки конфликта High/Low\n",
    "\n",
    "# Удаляем последнюю строку с NaN\n",
    "df = df.dropna(subset=['next_high', 'next_low'])"
   ]
  },
  {
   "cell_type": "code",
   "execution_count": 109,
   "metadata": {},
   "outputs": [],
   "source": [
    "# Для целевой переменной\n",
    "df['atr'] = ta.ATR(df['high'], df['low'], df['close'], timeperiod=14)\n",
    "df['dynamic_range'] = df.apply(lambda x: calculate_dynamic_range(x['atr'], x['close']), axis=1) / 2"
   ]
  },
  {
   "cell_type": "code",
   "execution_count": 110,
   "metadata": {},
   "outputs": [],
   "source": [
    "df['target'] = df.apply(\n",
    "    lambda row: calculate_target(\n",
    "        row['close'], row['next_high'], row['next_low'],\n",
    "        row['next_close'], row['dynamic_range']\n",
    "    ), axis=1\n",
    ")\n",
    "\n",
    "df = df.dropna(subset=['atr', 'dynamic_range'])"
   ]
  },
  {
   "cell_type": "code",
   "execution_count": 111,
   "metadata": {},
   "outputs": [],
   "source": [
    "df['returns'] = np.log(df['close'] / df['close'].shift(1))"
   ]
  },
  {
   "cell_type": "code",
   "execution_count": 283,
   "metadata": {},
   "outputs": [
    {
     "data": {
      "text/html": [
       "<div>\n",
       "<style scoped>\n",
       "    .dataframe tbody tr th:only-of-type {\n",
       "        vertical-align: middle;\n",
       "    }\n",
       "\n",
       "    .dataframe tbody tr th {\n",
       "        vertical-align: top;\n",
       "    }\n",
       "\n",
       "    .dataframe thead th {\n",
       "        text-align: right;\n",
       "    }\n",
       "</style>\n",
       "<table border=\"1\" class=\"dataframe\">\n",
       "  <thead>\n",
       "    <tr style=\"text-align: right;\">\n",
       "      <th></th>\n",
       "      <th>open</th>\n",
       "      <th>high</th>\n",
       "      <th>low</th>\n",
       "      <th>close</th>\n",
       "      <th>next_high</th>\n",
       "      <th>next_low</th>\n",
       "      <th>next_close</th>\n",
       "      <th>atr</th>\n",
       "      <th>dynamic_range</th>\n",
       "      <th>target</th>\n",
       "      <th>returns</th>\n",
       "    </tr>\n",
       "    <tr>\n",
       "      <th>timestamp</th>\n",
       "      <th></th>\n",
       "      <th></th>\n",
       "      <th></th>\n",
       "      <th></th>\n",
       "      <th></th>\n",
       "      <th></th>\n",
       "      <th></th>\n",
       "      <th></th>\n",
       "      <th></th>\n",
       "      <th></th>\n",
       "      <th></th>\n",
       "    </tr>\n",
       "  </thead>\n",
       "  <tbody>\n",
       "    <tr>\n",
       "      <th>2023-01-01 00:30:00</th>\n",
       "      <td>51.90</td>\n",
       "      <td>52.00</td>\n",
       "      <td>51.80</td>\n",
       "      <td>51.80</td>\n",
       "      <td>51.80</td>\n",
       "      <td>51.70</td>\n",
       "      <td>51.80</td>\n",
       "      <td>0.192857</td>\n",
       "      <td>0.003723</td>\n",
       "      <td>0</td>\n",
       "      <td>NaN</td>\n",
       "    </tr>\n",
       "    <tr>\n",
       "      <th>2023-01-01 00:45:00</th>\n",
       "      <td>51.70</td>\n",
       "      <td>51.80</td>\n",
       "      <td>51.70</td>\n",
       "      <td>51.80</td>\n",
       "      <td>51.80</td>\n",
       "      <td>51.70</td>\n",
       "      <td>51.80</td>\n",
       "      <td>0.186224</td>\n",
       "      <td>0.003595</td>\n",
       "      <td>0</td>\n",
       "      <td>0.000000</td>\n",
       "    </tr>\n",
       "    <tr>\n",
       "      <th>2023-01-01 01:00:00</th>\n",
       "      <td>51.80</td>\n",
       "      <td>51.80</td>\n",
       "      <td>51.70</td>\n",
       "      <td>51.80</td>\n",
       "      <td>51.80</td>\n",
       "      <td>51.70</td>\n",
       "      <td>51.80</td>\n",
       "      <td>0.180066</td>\n",
       "      <td>0.003476</td>\n",
       "      <td>0</td>\n",
       "      <td>0.000000</td>\n",
       "    </tr>\n",
       "    <tr>\n",
       "      <th>2023-01-01 01:15:00</th>\n",
       "      <td>51.70</td>\n",
       "      <td>51.80</td>\n",
       "      <td>51.70</td>\n",
       "      <td>51.80</td>\n",
       "      <td>51.80</td>\n",
       "      <td>51.80</td>\n",
       "      <td>51.80</td>\n",
       "      <td>0.174347</td>\n",
       "      <td>0.003366</td>\n",
       "      <td>0</td>\n",
       "      <td>0.000000</td>\n",
       "    </tr>\n",
       "    <tr>\n",
       "      <th>2023-01-01 01:30:00</th>\n",
       "      <td>51.80</td>\n",
       "      <td>51.80</td>\n",
       "      <td>51.80</td>\n",
       "      <td>51.80</td>\n",
       "      <td>51.90</td>\n",
       "      <td>51.70</td>\n",
       "      <td>51.90</td>\n",
       "      <td>0.161893</td>\n",
       "      <td>0.003125</td>\n",
       "      <td>0</td>\n",
       "      <td>0.000000</td>\n",
       "    </tr>\n",
       "    <tr>\n",
       "      <th>...</th>\n",
       "      <td>...</td>\n",
       "      <td>...</td>\n",
       "      <td>...</td>\n",
       "      <td>...</td>\n",
       "      <td>...</td>\n",
       "      <td>...</td>\n",
       "      <td>...</td>\n",
       "      <td>...</td>\n",
       "      <td>...</td>\n",
       "      <td>...</td>\n",
       "      <td>...</td>\n",
       "    </tr>\n",
       "    <tr>\n",
       "      <th>2023-12-30 22:30:00</th>\n",
       "      <td>112.08</td>\n",
       "      <td>112.52</td>\n",
       "      <td>111.85</td>\n",
       "      <td>112.41</td>\n",
       "      <td>112.48</td>\n",
       "      <td>111.33</td>\n",
       "      <td>112.09</td>\n",
       "      <td>0.797792</td>\n",
       "      <td>0.007097</td>\n",
       "      <td>-1</td>\n",
       "      <td>0.003029</td>\n",
       "    </tr>\n",
       "    <tr>\n",
       "      <th>2023-12-30 22:45:00</th>\n",
       "      <td>112.43</td>\n",
       "      <td>112.48</td>\n",
       "      <td>111.33</td>\n",
       "      <td>112.09</td>\n",
       "      <td>112.95</td>\n",
       "      <td>112.02</td>\n",
       "      <td>112.45</td>\n",
       "      <td>0.822949</td>\n",
       "      <td>0.007342</td>\n",
       "      <td>1</td>\n",
       "      <td>-0.002851</td>\n",
       "    </tr>\n",
       "    <tr>\n",
       "      <th>2023-12-30 23:00:00</th>\n",
       "      <td>112.08</td>\n",
       "      <td>112.95</td>\n",
       "      <td>112.02</td>\n",
       "      <td>112.45</td>\n",
       "      <td>112.51</td>\n",
       "      <td>112.03</td>\n",
       "      <td>112.15</td>\n",
       "      <td>0.830596</td>\n",
       "      <td>0.007386</td>\n",
       "      <td>0</td>\n",
       "      <td>0.003207</td>\n",
       "    </tr>\n",
       "    <tr>\n",
       "      <th>2023-12-30 23:15:00</th>\n",
       "      <td>112.40</td>\n",
       "      <td>112.51</td>\n",
       "      <td>112.03</td>\n",
       "      <td>112.15</td>\n",
       "      <td>112.33</td>\n",
       "      <td>111.49</td>\n",
       "      <td>111.50</td>\n",
       "      <td>0.805553</td>\n",
       "      <td>0.007183</td>\n",
       "      <td>0</td>\n",
       "      <td>-0.002671</td>\n",
       "    </tr>\n",
       "    <tr>\n",
       "      <th>2023-12-30 23:30:00</th>\n",
       "      <td>112.10</td>\n",
       "      <td>112.33</td>\n",
       "      <td>111.49</td>\n",
       "      <td>111.50</td>\n",
       "      <td>111.66</td>\n",
       "      <td>110.90</td>\n",
       "      <td>111.02</td>\n",
       "      <td>0.808014</td>\n",
       "      <td>0.007247</td>\n",
       "      <td>0</td>\n",
       "      <td>-0.005813</td>\n",
       "    </tr>\n",
       "  </tbody>\n",
       "</table>\n",
       "<p>34936 rows × 11 columns</p>\n",
       "</div>"
      ],
      "text/plain": [
       "                       open    high     low   close  next_high  next_low  \\\n",
       "timestamp                                                                  \n",
       "2023-01-01 00:30:00   51.90   52.00   51.80   51.80      51.80     51.70   \n",
       "2023-01-01 00:45:00   51.70   51.80   51.70   51.80      51.80     51.70   \n",
       "2023-01-01 01:00:00   51.80   51.80   51.70   51.80      51.80     51.70   \n",
       "2023-01-01 01:15:00   51.70   51.80   51.70   51.80      51.80     51.80   \n",
       "2023-01-01 01:30:00   51.80   51.80   51.80   51.80      51.90     51.70   \n",
       "...                     ...     ...     ...     ...        ...       ...   \n",
       "2023-12-30 22:30:00  112.08  112.52  111.85  112.41     112.48    111.33   \n",
       "2023-12-30 22:45:00  112.43  112.48  111.33  112.09     112.95    112.02   \n",
       "2023-12-30 23:00:00  112.08  112.95  112.02  112.45     112.51    112.03   \n",
       "2023-12-30 23:15:00  112.40  112.51  112.03  112.15     112.33    111.49   \n",
       "2023-12-30 23:30:00  112.10  112.33  111.49  111.50     111.66    110.90   \n",
       "\n",
       "                     next_close       atr  dynamic_range  target   returns  \n",
       "timestamp                                                                   \n",
       "2023-01-01 00:30:00       51.80  0.192857       0.003723       0       NaN  \n",
       "2023-01-01 00:45:00       51.80  0.186224       0.003595       0  0.000000  \n",
       "2023-01-01 01:00:00       51.80  0.180066       0.003476       0  0.000000  \n",
       "2023-01-01 01:15:00       51.80  0.174347       0.003366       0  0.000000  \n",
       "2023-01-01 01:30:00       51.90  0.161893       0.003125       0  0.000000  \n",
       "...                         ...       ...            ...     ...       ...  \n",
       "2023-12-30 22:30:00      112.09  0.797792       0.007097      -1  0.003029  \n",
       "2023-12-30 22:45:00      112.45  0.822949       0.007342       1 -0.002851  \n",
       "2023-12-30 23:00:00      112.15  0.830596       0.007386       0  0.003207  \n",
       "2023-12-30 23:15:00      111.50  0.805553       0.007183       0 -0.002671  \n",
       "2023-12-30 23:30:00      111.02  0.808014       0.007247       0 -0.005813  \n",
       "\n",
       "[34936 rows x 11 columns]"
      ]
     },
     "execution_count": 283,
     "metadata": {},
     "output_type": "execute_result"
    }
   ],
   "source": [
    "df"
   ]
  },
  {
   "cell_type": "code",
   "execution_count": 112,
   "metadata": {},
   "outputs": [
    {
     "data": {
      "text/plain": [
       "target\n",
       " 0    26467\n",
       "-1     4413\n",
       " 1     4056\n",
       "Name: count, dtype: int64"
      ]
     },
     "execution_count": 112,
     "metadata": {},
     "output_type": "execute_result"
    }
   ],
   "source": [
    "df.target.value_counts()"
   ]
  },
  {
   "cell_type": "code",
   "execution_count": 113,
   "metadata": {},
   "outputs": [],
   "source": [
    "df.reset_index(inplace=True)"
   ]
  },
  {
   "cell_type": "code",
   "execution_count": 291,
   "metadata": {},
   "outputs": [
    {
     "data": {
      "application/vnd.plotly.v1+json": {
       "config": {
        "plotlyServerURL": "https://plot.ly"
       },
       "data": [
        {
         "close": [
          51.7,
          51.8,
          51.8,
          51.7,
          51.8,
          52,
          52,
          52,
          52,
          52.1,
          52.1,
          52.1,
          52,
          52.1,
          52.3,
          52.4,
          52.3,
          52.2,
          52.1,
          52.1,
          52.2,
          52.1,
          52,
          52.1,
          52,
          52,
          51.9,
          52,
          52.2,
          52.1,
          51.9,
          51.8,
          51.7,
          51.6,
          51.8,
          51.7,
          51.6,
          51.7,
          51.6
         ],
         "high": [
          51.7,
          51.8,
          52,
          51.9,
          51.8,
          52,
          52,
          52,
          52.1,
          52.1,
          52.1,
          52.1,
          52.1,
          52.2,
          52.4,
          52.4,
          52.4,
          52.4,
          52.2,
          52.2,
          52.2,
          52.3,
          52.1,
          52.1,
          52.1,
          52.1,
          52.1,
          52,
          52.2,
          52.3,
          52.1,
          52,
          51.9,
          51.8,
          51.9,
          51.8,
          51.7,
          51.7,
          51.7
         ],
         "low": [
          51.6,
          51.7,
          51.7,
          51.7,
          51.7,
          51.8,
          51.8,
          51.9,
          52,
          52,
          52,
          52,
          51.9,
          52,
          52.1,
          52.3,
          52.3,
          52.1,
          52.1,
          52.1,
          52.1,
          52.1,
          52,
          52,
          51.9,
          51.9,
          51.9,
          51.9,
          52,
          52,
          51.9,
          51.8,
          51.7,
          51.3,
          51.4,
          51.6,
          51.5,
          51.5,
          51.6
         ],
         "name": "Candlestick",
         "open": [
          51.7,
          51.7,
          51.8,
          51.8,
          51.7,
          51.8,
          51.9,
          52,
          52,
          52,
          52.1,
          52,
          52.1,
          52,
          52.1,
          52.4,
          52.4,
          52.4,
          52.2,
          52.2,
          52.1,
          52.2,
          52.1,
          52,
          52.1,
          52,
          52.1,
          51.9,
          52,
          52.2,
          52,
          51.9,
          51.8,
          51.7,
          51.6,
          51.8,
          51.7,
          51.5,
          51.7
         ],
         "type": "candlestick",
         "x": [
          "2023-01-01T16:45:00",
          "2023-01-01T17:00:00",
          "2023-01-01T17:15:00",
          "2023-01-01T17:30:00",
          "2023-01-01T17:45:00",
          "2023-01-01T18:00:00",
          "2023-01-01T18:15:00",
          "2023-01-01T18:30:00",
          "2023-01-01T18:45:00",
          "2023-01-01T19:00:00",
          "2023-01-01T19:15:00",
          "2023-01-01T19:30:00",
          "2023-01-01T19:45:00",
          "2023-01-01T20:00:00",
          "2023-01-01T20:15:00",
          "2023-01-01T20:30:00",
          "2023-01-01T20:45:00",
          "2023-01-01T21:00:00",
          "2023-01-01T21:15:00",
          "2023-01-01T21:30:00",
          "2023-01-01T21:45:00",
          "2023-01-01T22:00:00",
          "2023-01-01T22:15:00",
          "2023-01-01T22:30:00",
          "2023-01-01T22:45:00",
          "2023-01-01T23:00:00",
          "2023-01-01T23:15:00",
          "2023-01-01T23:30:00",
          "2023-01-01T23:45:00",
          "2023-01-02T00:00:00",
          "2023-01-02T00:15:00",
          "2023-01-02T00:30:00",
          "2023-01-02T00:45:00",
          "2023-01-02T01:00:00",
          "2023-01-02T01:15:00",
          "2023-01-02T01:30:00",
          "2023-01-02T01:45:00",
          "2023-01-02T02:00:00",
          "2023-01-02T02:15:00"
         ]
        },
        {
         "mode": "text",
         "showlegend": false,
         "text": "0",
         "textposition": "top center",
         "type": "scatter",
         "x": [
          "2023-01-01T16:45:00"
         ],
         "y": [
          51.7
         ]
        },
        {
         "mode": "text",
         "showlegend": false,
         "text": "1",
         "textposition": "top center",
         "type": "scatter",
         "x": [
          "2023-01-01T17:00:00"
         ],
         "y": [
          51.8
         ]
        },
        {
         "mode": "text",
         "showlegend": false,
         "text": "0",
         "textposition": "top center",
         "type": "scatter",
         "x": [
          "2023-01-01T17:15:00"
         ],
         "y": [
          51.8
         ]
        },
        {
         "mode": "text",
         "showlegend": false,
         "text": "0",
         "textposition": "top center",
         "type": "scatter",
         "x": [
          "2023-01-01T17:30:00"
         ],
         "y": [
          51.7
         ]
        },
        {
         "mode": "text",
         "showlegend": false,
         "text": "1",
         "textposition": "top center",
         "type": "scatter",
         "x": [
          "2023-01-01T17:45:00"
         ],
         "y": [
          51.8
         ]
        },
        {
         "mode": "text",
         "showlegend": false,
         "text": "-1",
         "textposition": "top center",
         "type": "scatter",
         "x": [
          "2023-01-01T18:00:00"
         ],
         "y": [
          52
         ]
        },
        {
         "mode": "text",
         "showlegend": false,
         "text": "0",
         "textposition": "top center",
         "type": "scatter",
         "x": [
          "2023-01-01T18:15:00"
         ],
         "y": [
          52
         ]
        },
        {
         "mode": "text",
         "showlegend": false,
         "text": "0",
         "textposition": "top center",
         "type": "scatter",
         "x": [
          "2023-01-01T18:30:00"
         ],
         "y": [
          52
         ]
        },
        {
         "mode": "text",
         "showlegend": false,
         "text": "0",
         "textposition": "top center",
         "type": "scatter",
         "x": [
          "2023-01-01T18:45:00"
         ],
         "y": [
          52
         ]
        },
        {
         "mode": "text",
         "showlegend": false,
         "text": "0",
         "textposition": "top center",
         "type": "scatter",
         "x": [
          "2023-01-01T19:00:00"
         ],
         "y": [
          52.1
         ]
        },
        {
         "mode": "text",
         "showlegend": false,
         "text": "0",
         "textposition": "top center",
         "type": "scatter",
         "x": [
          "2023-01-01T19:15:00"
         ],
         "y": [
          52.1
         ]
        },
        {
         "mode": "text",
         "showlegend": false,
         "text": "-1",
         "textposition": "top center",
         "type": "scatter",
         "x": [
          "2023-01-01T19:30:00"
         ],
         "y": [
          52.1
         ]
        },
        {
         "mode": "text",
         "showlegend": false,
         "text": "1",
         "textposition": "top center",
         "type": "scatter",
         "x": [
          "2023-01-01T19:45:00"
         ],
         "y": [
          52
         ]
        },
        {
         "mode": "text",
         "showlegend": false,
         "text": "1",
         "textposition": "top center",
         "type": "scatter",
         "x": [
          "2023-01-01T20:00:00"
         ],
         "y": [
          52.1
         ]
        },
        {
         "mode": "text",
         "showlegend": false,
         "text": "0",
         "textposition": "top center",
         "type": "scatter",
         "x": [
          "2023-01-01T20:15:00"
         ],
         "y": [
          52.3
         ]
        },
        {
         "mode": "text",
         "showlegend": false,
         "text": "0",
         "textposition": "top center",
         "type": "scatter",
         "x": [
          "2023-01-01T20:30:00"
         ],
         "y": [
          52.4
         ]
        },
        {
         "mode": "text",
         "showlegend": false,
         "text": "-1",
         "textposition": "top center",
         "type": "scatter",
         "x": [
          "2023-01-01T20:45:00"
         ],
         "y": [
          52.3
         ]
        },
        {
         "mode": "text",
         "showlegend": false,
         "text": "0",
         "textposition": "top center",
         "type": "scatter",
         "x": [
          "2023-01-01T21:00:00"
         ],
         "y": [
          52.2
         ]
        },
        {
         "mode": "text",
         "showlegend": false,
         "text": "0",
         "textposition": "top center",
         "type": "scatter",
         "x": [
          "2023-01-01T21:15:00"
         ],
         "y": [
          52.1
         ]
        },
        {
         "mode": "text",
         "showlegend": false,
         "text": "0",
         "textposition": "top center",
         "type": "scatter",
         "x": [
          "2023-01-01T21:30:00"
         ],
         "y": [
          52.1
         ]
        },
        {
         "mode": "text",
         "showlegend": false,
         "text": "0",
         "textposition": "top center",
         "type": "scatter",
         "x": [
          "2023-01-01T21:45:00"
         ],
         "y": [
          52.2
         ]
        },
        {
         "mode": "text",
         "showlegend": false,
         "text": "0",
         "textposition": "top center",
         "type": "scatter",
         "x": [
          "2023-01-01T22:00:00"
         ],
         "y": [
          52.1
         ]
        },
        {
         "mode": "text",
         "showlegend": false,
         "text": "0",
         "textposition": "top center",
         "type": "scatter",
         "x": [
          "2023-01-01T22:15:00"
         ],
         "y": [
          52
         ]
        },
        {
         "mode": "text",
         "showlegend": false,
         "text": "-1",
         "textposition": "top center",
         "type": "scatter",
         "x": [
          "2023-01-01T22:30:00"
         ],
         "y": [
          52.1
         ]
        },
        {
         "mode": "text",
         "showlegend": false,
         "text": "0",
         "textposition": "top center",
         "type": "scatter",
         "x": [
          "2023-01-01T22:45:00"
         ],
         "y": [
          52
         ]
        },
        {
         "mode": "text",
         "showlegend": false,
         "text": "0",
         "textposition": "top center",
         "type": "scatter",
         "x": [
          "2023-01-01T23:00:00"
         ],
         "y": [
          52
         ]
        },
        {
         "mode": "text",
         "showlegend": false,
         "text": "0",
         "textposition": "top center",
         "type": "scatter",
         "x": [
          "2023-01-01T23:15:00"
         ],
         "y": [
          51.9
         ]
        },
        {
         "mode": "text",
         "showlegend": false,
         "text": "1",
         "textposition": "top center",
         "type": "scatter",
         "x": [
          "2023-01-01T23:30:00"
         ],
         "y": [
          52
         ]
        },
        {
         "mode": "text",
         "showlegend": false,
         "text": "-1",
         "textposition": "top center",
         "type": "scatter",
         "x": [
          "2023-01-01T23:45:00"
         ],
         "y": [
          52.2
         ]
        },
        {
         "mode": "text",
         "showlegend": false,
         "text": "-1",
         "textposition": "top center",
         "type": "scatter",
         "x": [
          "2023-01-02T00:00:00"
         ],
         "y": [
          52.1
         ]
        },
        {
         "mode": "text",
         "showlegend": false,
         "text": "0",
         "textposition": "top center",
         "type": "scatter",
         "x": [
          "2023-01-02T00:15:00"
         ],
         "y": [
          51.9
         ]
        },
        {
         "mode": "text",
         "showlegend": false,
         "text": "0",
         "textposition": "top center",
         "type": "scatter",
         "x": [
          "2023-01-02T00:30:00"
         ],
         "y": [
          51.8
         ]
        },
        {
         "mode": "text",
         "showlegend": false,
         "text": "-1",
         "textposition": "top center",
         "type": "scatter",
         "x": [
          "2023-01-02T00:45:00"
         ],
         "y": [
          51.7
         ]
        },
        {
         "mode": "text",
         "showlegend": false,
         "text": "1",
         "textposition": "top center",
         "type": "scatter",
         "x": [
          "2023-01-02T01:00:00"
         ],
         "y": [
          51.6
         ]
        },
        {
         "mode": "text",
         "showlegend": false,
         "text": "0",
         "textposition": "top center",
         "type": "scatter",
         "x": [
          "2023-01-02T01:15:00"
         ],
         "y": [
          51.8
         ]
        },
        {
         "mode": "text",
         "showlegend": false,
         "text": "0",
         "textposition": "top center",
         "type": "scatter",
         "x": [
          "2023-01-02T01:30:00"
         ],
         "y": [
          51.7
         ]
        },
        {
         "mode": "text",
         "showlegend": false,
         "text": "0",
         "textposition": "top center",
         "type": "scatter",
         "x": [
          "2023-01-02T01:45:00"
         ],
         "y": [
          51.6
         ]
        },
        {
         "mode": "text",
         "showlegend": false,
         "text": "0",
         "textposition": "top center",
         "type": "scatter",
         "x": [
          "2023-01-02T02:00:00"
         ],
         "y": [
          51.7
         ]
        },
        {
         "mode": "text",
         "showlegend": false,
         "text": "0",
         "textposition": "top center",
         "type": "scatter",
         "x": [
          "2023-01-02T02:15:00"
         ],
         "y": [
          51.6
         ]
        },
        {
         "marker": {
          "color": "green",
          "size": 8
         },
         "mode": "markers+text",
         "showlegend": false,
         "text": "51.86",
         "textposition": "top center",
         "type": "scatter",
         "x": [
          "2023-01-01T17:00:00"
         ],
         "y": [
          51.85951857180736
         ]
        },
        {
         "marker": {
          "color": "red",
          "size": 8
         },
         "mode": "markers+text",
         "showlegend": false,
         "text": "51.54",
         "textposition": "bottom center",
         "type": "scatter",
         "x": [
          "2023-01-01T17:00:00"
         ],
         "y": [
          51.54048142819264
         ]
        },
        {
         "marker": {
          "color": "green",
          "size": 8
         },
         "mode": "markers+text",
         "showlegend": false,
         "text": "51.96",
         "textposition": "top center",
         "type": "scatter",
         "x": [
          "2023-01-01T17:15:00"
         ],
         "y": [
          51.95526724524969
         ]
        },
        {
         "marker": {
          "color": "red",
          "size": 8
         },
         "mode": "markers+text",
         "showlegend": false,
         "text": "51.64",
         "textposition": "bottom center",
         "type": "scatter",
         "x": [
          "2023-01-01T17:15:00"
         ],
         "y": [
          51.64473275475031
         ]
        },
        {
         "marker": {
          "color": "green",
          "size": 8
         },
         "mode": "markers+text",
         "showlegend": false,
         "text": "51.97",
         "textposition": "top center",
         "type": "scatter",
         "x": [
          "2023-01-01T17:30:00"
         ],
         "y": [
          51.96560529916043
         ]
        },
        {
         "marker": {
          "color": "red",
          "size": 8
         },
         "mode": "markers+text",
         "showlegend": false,
         "text": "51.63",
         "textposition": "bottom center",
         "type": "scatter",
         "x": [
          "2023-01-01T17:30:00"
         ],
         "y": [
          51.63439470083957
         ]
        },
        {
         "marker": {
          "color": "green",
          "size": 8
         },
         "mode": "markers+text",
         "showlegend": false,
         "text": "51.87",
         "textposition": "top center",
         "type": "scatter",
         "x": [
          "2023-01-01T17:45:00"
         ],
         "y": [
          51.868062063506116
         ]
        },
        {
         "marker": {
          "color": "red",
          "size": 8
         },
         "mode": "markers+text",
         "showlegend": false,
         "text": "51.53",
         "textposition": "bottom center",
         "type": "scatter",
         "x": [
          "2023-01-01T17:45:00"
         ],
         "y": [
          51.53193793649389
         ]
        },
        {
         "marker": {
          "color": "green",
          "size": 8
         },
         "mode": "markers+text",
         "showlegend": false,
         "text": "51.96",
         "textposition": "top center",
         "type": "scatter",
         "x": [
          "2023-01-01T18:00:00"
         ],
         "y": [
          51.963200487541386
         ]
        },
        {
         "marker": {
          "color": "red",
          "size": 8
         },
         "mode": "markers+text",
         "showlegend": false,
         "text": "51.64",
         "textposition": "bottom center",
         "type": "scatter",
         "x": [
          "2023-01-01T18:00:00"
         ],
         "y": [
          51.63679951245861
         ]
        },
        {
         "marker": {
          "color": "green",
          "size": 8
         },
         "mode": "markers+text",
         "showlegend": false,
         "text": "52.17",
         "textposition": "top center",
         "type": "scatter",
         "x": [
          "2023-01-01T18:15:00"
         ],
         "y": [
          52.16582902414557
         ]
        },
        {
         "marker": {
          "color": "red",
          "size": 8
         },
         "mode": "markers+text",
         "showlegend": false,
         "text": "51.83",
         "textposition": "bottom center",
         "type": "scatter",
         "x": [
          "2023-01-01T18:15:00"
         ],
         "y": [
          51.83417097585443
         ]
        },
        {
         "marker": {
          "color": "green",
          "size": 8
         },
         "mode": "markers+text",
         "showlegend": false,
         "text": "52.17",
         "textposition": "top center",
         "type": "scatter",
         "x": [
          "2023-01-01T18:30:00"
         ],
         "y": [
          52.16826980813517
         ]
        },
        {
         "marker": {
          "color": "red",
          "size": 8
         },
         "mode": "markers+text",
         "showlegend": false,
         "text": "51.83",
         "textposition": "bottom center",
         "type": "scatter",
         "x": [
          "2023-01-01T18:30:00"
         ],
         "y": [
          51.83173019186482
         ]
        },
        {
         "marker": {
          "color": "green",
          "size": 8
         },
         "mode": "markers+text",
         "showlegend": false,
         "text": "52.16",
         "textposition": "top center",
         "type": "scatter",
         "x": [
          "2023-01-01T18:45:00"
         ],
         "y": [
          52.16339339326838
         ]
        },
        {
         "marker": {
          "color": "red",
          "size": 8
         },
         "mode": "markers+text",
         "showlegend": false,
         "text": "51.84",
         "textposition": "bottom center",
         "type": "scatter",
         "x": [
          "2023-01-01T18:45:00"
         ],
         "y": [
          51.83660660673162
         ]
        },
        {
         "marker": {
          "color": "green",
          "size": 8
         },
         "mode": "markers+text",
         "showlegend": false,
         "text": "52.16",
         "textposition": "top center",
         "type": "scatter",
         "x": [
          "2023-01-01T19:00:00"
         ],
         "y": [
          52.158865293749216
         ]
        },
        {
         "marker": {
          "color": "red",
          "size": 8
         },
         "mode": "markers+text",
         "showlegend": false,
         "text": "51.84",
         "textposition": "bottom center",
         "type": "scatter",
         "x": [
          "2023-01-01T19:00:00"
         ],
         "y": [
          51.84113470625079
         ]
        },
        {
         "marker": {
          "color": "green",
          "size": 8
         },
         "mode": "markers+text",
         "showlegend": false,
         "text": "52.25",
         "textposition": "top center",
         "type": "scatter",
         "x": [
          "2023-01-01T19:15:00"
         ],
         "y": [
          52.254660629909985
         ]
        },
        {
         "marker": {
          "color": "red",
          "size": 8
         },
         "mode": "markers+text",
         "showlegend": false,
         "text": "51.95",
         "textposition": "bottom center",
         "type": "scatter",
         "x": [
          "2023-01-01T19:15:00"
         ],
         "y": [
          51.945339370090025
         ]
        },
        {
         "marker": {
          "color": "green",
          "size": 8
         },
         "mode": "markers+text",
         "showlegend": false,
         "text": "52.25",
         "textposition": "top center",
         "type": "scatter",
         "x": [
          "2023-01-01T19:30:00"
         ],
         "y": [
          52.25075629920212
         ]
        },
        {
         "marker": {
          "color": "red",
          "size": 8
         },
         "mode": "markers+text",
         "showlegend": false,
         "text": "51.95",
         "textposition": "bottom center",
         "type": "scatter",
         "x": [
          "2023-01-01T19:30:00"
         ],
         "y": [
          51.94924370079787
         ]
        },
        {
         "marker": {
          "color": "green",
          "size": 8
         },
         "mode": "markers+text",
         "showlegend": false,
         "text": "52.25",
         "textposition": "top center",
         "type": "scatter",
         "x": [
          "2023-01-01T19:45:00"
         ],
         "y": [
          52.247130849259115
         ]
        },
        {
         "marker": {
          "color": "red",
          "size": 8
         },
         "mode": "markers+text",
         "showlegend": false,
         "text": "51.95",
         "textposition": "bottom center",
         "type": "scatter",
         "x": [
          "2023-01-01T19:45:00"
         ],
         "y": [
          51.95286915074088
         ]
        },
        {
         "marker": {
          "color": "green",
          "size": 8
         },
         "mode": "markers+text",
         "showlegend": false,
         "text": "52.15",
         "textposition": "top center",
         "type": "scatter",
         "x": [
          "2023-01-01T20:00:00"
         ],
         "y": [
          52.15090721716918
         ]
        },
        {
         "marker": {
          "color": "red",
          "size": 8
         },
         "mode": "markers+text",
         "showlegend": false,
         "text": "51.85",
         "textposition": "bottom center",
         "type": "scatter",
         "x": [
          "2023-01-01T20:00:00"
         ],
         "y": [
          51.84909278283082
         ]
        },
        {
         "marker": {
          "color": "green",
          "size": 8
         },
         "mode": "markers+text",
         "showlegend": false,
         "text": "52.25",
         "textposition": "top center",
         "type": "scatter",
         "x": [
          "2023-01-01T20:15:00"
         ],
         "y": [
          52.25441384451424
         ]
        },
        {
         "marker": {
          "color": "red",
          "size": 8
         },
         "mode": "markers+text",
         "showlegend": false,
         "text": "51.95",
         "textposition": "bottom center",
         "type": "scatter",
         "x": [
          "2023-01-01T20:15:00"
         ],
         "y": [
          51.94558615548576
         ]
        },
        {
         "marker": {
          "color": "green",
          "size": 8
         },
         "mode": "markers+text",
         "showlegend": false,
         "text": "52.46",
         "textposition": "top center",
         "type": "scatter",
         "x": [
          "2023-01-01T20:30:00"
         ],
         "y": [
          52.46481285562036
         ]
        },
        {
         "marker": {
          "color": "red",
          "size": 8
         },
         "mode": "markers+text",
         "showlegend": false,
         "text": "52.14",
         "textposition": "bottom center",
         "type": "scatter",
         "x": [
          "2023-01-01T20:30:00"
         ],
         "y": [
          52.13518714437963
         ]
        },
        {
         "marker": {
          "color": "green",
          "size": 8
         },
         "mode": "markers+text",
         "showlegend": false,
         "text": "52.56",
         "textposition": "top center",
         "type": "scatter",
         "x": [
          "2023-01-01T20:45:00"
         ],
         "y": [
          52.5601833659332
         ]
        },
        {
         "marker": {
          "color": "red",
          "size": 8
         },
         "mode": "markers+text",
         "showlegend": false,
         "text": "52.24",
         "textposition": "bottom center",
         "type": "scatter",
         "x": [
          "2023-01-01T20:45:00"
         ],
         "y": [
          52.239816634066806
         ]
        },
        {
         "marker": {
          "color": "green",
          "size": 8
         },
         "mode": "markers+text",
         "showlegend": false,
         "text": "52.46",
         "textposition": "top center",
         "type": "scatter",
         "x": [
          "2023-01-01T21:00:00"
         ],
         "y": [
          52.455884554080825
         ]
        },
        {
         "marker": {
          "color": "red",
          "size": 8
         },
         "mode": "markers+text",
         "showlegend": false,
         "text": "52.14",
         "textposition": "bottom center",
         "type": "scatter",
         "x": [
          "2023-01-01T21:00:00"
         ],
         "y": [
          52.14411544591917
         ]
        },
        {
         "marker": {
          "color": "green",
          "size": 8
         },
         "mode": "markers+text",
         "showlegend": false,
         "text": "52.37",
         "textposition": "top center",
         "type": "scatter",
         "x": [
          "2023-01-01T21:15:00"
         ],
         "y": [
          52.36617851450362
         ]
        },
        {
         "marker": {
          "color": "red",
          "size": 8
         },
         "mode": "markers+text",
         "showlegend": false,
         "text": "52.03",
         "textposition": "bottom center",
         "type": "scatter",
         "x": [
          "2023-01-01T21:15:00"
         ],
         "y": [
          52.03382148549638
         ]
        },
        {
         "marker": {
          "color": "green",
          "size": 8
         },
         "mode": "markers+text",
         "showlegend": false,
         "text": "52.26",
         "textposition": "top center",
         "type": "scatter",
         "x": [
          "2023-01-01T21:30:00"
         ],
         "y": [
          52.26145147775336
         ]
        },
        {
         "marker": {
          "color": "red",
          "size": 8
         },
         "mode": "markers+text",
         "showlegend": false,
         "text": "51.94",
         "textposition": "bottom center",
         "type": "scatter",
         "x": [
          "2023-01-01T21:30:00"
         ],
         "y": [
          51.93854852224664
         ]
        },
        {
         "marker": {
          "color": "green",
          "size": 8
         },
         "mode": "markers+text",
         "showlegend": false,
         "text": "52.26",
         "textposition": "top center",
         "type": "scatter",
         "x": [
          "2023-01-01T21:45:00"
         ],
         "y": [
          52.25706208648526
         ]
        },
        {
         "marker": {
          "color": "red",
          "size": 8
         },
         "mode": "markers+text",
         "showlegend": false,
         "text": "51.94",
         "textposition": "bottom center",
         "type": "scatter",
         "x": [
          "2023-01-01T21:45:00"
         ],
         "y": [
          51.94293791351474
         ]
        },
        {
         "marker": {
          "color": "green",
          "size": 8
         },
         "mode": "markers+text",
         "showlegend": false,
         "text": "52.35",
         "textposition": "top center",
         "type": "scatter",
         "x": [
          "2023-01-01T22:00:00"
         ],
         "y": [
          52.35298622316489
         ]
        },
        {
         "marker": {
          "color": "red",
          "size": 8
         },
         "mode": "markers+text",
         "showlegend": false,
         "text": "52.05",
         "textposition": "bottom center",
         "type": "scatter",
         "x": [
          "2023-01-01T22:00:00"
         ],
         "y": [
          52.047013776835115
         ]
        },
        {
         "marker": {
          "color": "green",
          "size": 8
         },
         "mode": "markers+text",
         "showlegend": false,
         "text": "52.26",
         "textposition": "top center",
         "type": "scatter",
         "x": [
          "2023-01-01T22:15:00"
         ],
         "y": [
          52.25634435008168
         ]
        },
        {
         "marker": {
          "color": "red",
          "size": 8
         },
         "mode": "markers+text",
         "showlegend": false,
         "text": "51.94",
         "textposition": "bottom center",
         "type": "scatter",
         "x": [
          "2023-01-01T22:15:00"
         ],
         "y": [
          51.94365564991832
         ]
        },
        {
         "marker": {
          "color": "green",
          "size": 8
         },
         "mode": "markers+text",
         "showlegend": false,
         "text": "52.15",
         "textposition": "top center",
         "type": "scatter",
         "x": [
          "2023-01-01T22:30:00"
         ],
         "y": [
          52.15231975364728
         ]
        },
        {
         "marker": {
          "color": "red",
          "size": 8
         },
         "mode": "markers+text",
         "showlegend": false,
         "text": "51.85",
         "textposition": "bottom center",
         "type": "scatter",
         "x": [
          "2023-01-01T22:30:00"
         ],
         "y": [
          51.84768024635272
         ]
        },
        {
         "marker": {
          "color": "green",
          "size": 8
         },
         "mode": "markers+text",
         "showlegend": false,
         "text": "52.25",
         "textposition": "top center",
         "type": "scatter",
         "x": [
          "2023-01-01T22:45:00"
         ],
         "y": [
          52.248582628386764
         ]
        },
        {
         "marker": {
          "color": "red",
          "size": 8
         },
         "mode": "markers+text",
         "showlegend": false,
         "text": "51.95",
         "textposition": "bottom center",
         "type": "scatter",
         "x": [
          "2023-01-01T22:45:00"
         ],
         "y": [
          51.95141737161324
         ]
        },
        {
         "marker": {
          "color": "green",
          "size": 8
         },
         "mode": "markers+text",
         "showlegend": false,
         "text": "52.15",
         "textposition": "top center",
         "type": "scatter",
         "x": [
          "2023-01-01T23:00:00"
         ],
         "y": [
          52.1522552977877
         ]
        },
        {
         "marker": {
          "color": "red",
          "size": 8
         },
         "mode": "markers+text",
         "showlegend": false,
         "text": "51.85",
         "textposition": "bottom center",
         "type": "scatter",
         "x": [
          "2023-01-01T23:00:00"
         ],
         "y": [
          51.847744702212296
         ]
        },
        {
         "marker": {
          "color": "green",
          "size": 8
         },
         "mode": "markers+text",
         "showlegend": false,
         "text": "52.16",
         "textposition": "top center",
         "type": "scatter",
         "x": [
          "2023-01-01T23:15:00"
         ],
         "y": [
          52.155665633660014
         ]
        },
        {
         "marker": {
          "color": "red",
          "size": 8
         },
         "mode": "markers+text",
         "showlegend": false,
         "text": "51.84",
         "textposition": "bottom center",
         "type": "scatter",
         "x": [
          "2023-01-01T23:15:00"
         ],
         "y": [
          51.84433436633999
         ]
        },
        {
         "marker": {
          "color": "green",
          "size": 8
         },
         "mode": "markers+text",
         "showlegend": false,
         "text": "52.06",
         "textposition": "top center",
         "type": "scatter",
         "x": [
          "2023-01-01T23:30:00"
         ],
         "y": [
          52.05883237411286
         ]
        },
        {
         "marker": {
          "color": "red",
          "size": 8
         },
         "mode": "markers+text",
         "showlegend": false,
         "text": "51.74",
         "textposition": "bottom center",
         "type": "scatter",
         "x": [
          "2023-01-01T23:30:00"
         ],
         "y": [
          51.74116762588714
         ]
        },
        {
         "marker": {
          "color": "green",
          "size": 8
         },
         "mode": "markers+text",
         "showlegend": false,
         "text": "52.15",
         "textposition": "top center",
         "type": "scatter",
         "x": [
          "2023-01-01T23:45:00"
         ],
         "y": [
          52.15463006167623
         ]
        },
        {
         "marker": {
          "color": "red",
          "size": 8
         },
         "mode": "markers+text",
         "showlegend": false,
         "text": "51.85",
         "textposition": "bottom center",
         "type": "scatter",
         "x": [
          "2023-01-01T23:45:00"
         ],
         "y": [
          51.84536993832377
         ]
        },
        {
         "marker": {
          "color": "green",
          "size": 8
         },
         "mode": "markers+text",
         "showlegend": false,
         "text": "52.36",
         "textposition": "top center",
         "type": "scatter",
         "x": [
          "2023-01-02T00:00:00"
         ],
         "y": [
          52.357870771556506
         ]
        },
        {
         "marker": {
          "color": "red",
          "size": 8
         },
         "mode": "markers+text",
         "showlegend": false,
         "text": "52.04",
         "textposition": "bottom center",
         "type": "scatter",
         "x": [
          "2023-01-02T00:00:00"
         ],
         "y": [
          52.0421292284435
         ]
        },
        {
         "marker": {
          "color": "green",
          "size": 8
         },
         "mode": "markers+text",
         "showlegend": false,
         "text": "52.27",
         "textposition": "top center",
         "type": "scatter",
         "x": [
          "2023-01-02T00:15:00"
         ],
         "y": [
          52.26802285930247
         ]
        },
        {
         "marker": {
          "color": "red",
          "size": 8
         },
         "mode": "markers+text",
         "showlegend": false,
         "text": "51.93",
         "textposition": "bottom center",
         "type": "scatter",
         "x": [
          "2023-01-02T00:15:00"
         ],
         "y": [
          51.93197714069753
         ]
        },
        {
         "marker": {
          "color": "green",
          "size": 8
         },
         "mode": "markers+text",
         "showlegend": false,
         "text": "52.07",
         "textposition": "top center",
         "type": "scatter",
         "x": [
          "2023-01-02T00:30:00"
         ],
         "y": [
          52.07030694078087
         ]
        },
        {
         "marker": {
          "color": "red",
          "size": 8
         },
         "mode": "markers+text",
         "showlegend": false,
         "text": "51.73",
         "textposition": "bottom center",
         "type": "scatter",
         "x": [
          "2023-01-02T00:30:00"
         ],
         "y": [
          51.72969305921914
         ]
        },
        {
         "marker": {
          "color": "green",
          "size": 8
         },
         "mode": "markers+text",
         "showlegend": false,
         "text": "51.97",
         "textposition": "top center",
         "type": "scatter",
         "x": [
          "2023-01-02T00:45:00"
         ],
         "y": [
          51.97242787358223
         ]
        },
        {
         "marker": {
          "color": "red",
          "size": 8
         },
         "mode": "markers+text",
         "showlegend": false,
         "text": "51.63",
         "textposition": "bottom center",
         "type": "scatter",
         "x": [
          "2023-01-02T00:45:00"
         ],
         "y": [
          51.62757212641777
         ]
        },
        {
         "marker": {
          "color": "green",
          "size": 8
         },
         "mode": "markers+text",
         "showlegend": false,
         "text": "51.87",
         "textposition": "top center",
         "type": "scatter",
         "x": [
          "2023-01-02T01:00:00"
         ],
         "y": [
          51.8743973111835
         ]
        },
        {
         "marker": {
          "color": "red",
          "size": 8
         },
         "mode": "markers+text",
         "showlegend": false,
         "text": "51.53",
         "textposition": "bottom center",
         "type": "scatter",
         "x": [
          "2023-01-02T01:00:00"
         ],
         "y": [
          51.525602688816505
         ]
        },
        {
         "marker": {
          "color": "green",
          "size": 8
         },
         "mode": "markers+text",
         "showlegend": false,
         "text": "51.80",
         "textposition": "top center",
         "type": "scatter",
         "x": [
          "2023-01-02T01:15:00"
         ],
         "y": [
          51.79765464609896
         ]
        },
        {
         "marker": {
          "color": "red",
          "size": 8
         },
         "mode": "markers+text",
         "showlegend": false,
         "text": "51.40",
         "textposition": "bottom center",
         "type": "scatter",
         "x": [
          "2023-01-02T01:15:00"
         ],
         "y": [
          51.40234535390104
         ]
        },
        {
         "marker": {
          "color": "green",
          "size": 8
         },
         "mode": "markers+text",
         "showlegend": false,
         "text": "52.02",
         "textposition": "top center",
         "type": "scatter",
         "x": [
          "2023-01-02T01:30:00"
         ],
         "y": [
          52.01925074280618
         ]
        },
        {
         "marker": {
          "color": "red",
          "size": 8
         },
         "mode": "markers+text",
         "showlegend": false,
         "text": "51.58",
         "textposition": "bottom center",
         "type": "scatter",
         "x": [
          "2023-01-02T01:30:00"
         ],
         "y": [
          51.580749257193816
         ]
        },
        {
         "marker": {
          "color": "green",
          "size": 8
         },
         "mode": "markers+text",
         "showlegend": false,
         "text": "51.92",
         "textposition": "top center",
         "type": "scatter",
         "x": [
          "2023-01-02T01:45:00"
         ],
         "y": [
          51.91787568974859
         ]
        },
        {
         "marker": {
          "color": "red",
          "size": 8
         },
         "mode": "markers+text",
         "showlegend": false,
         "text": "51.48",
         "textposition": "bottom center",
         "type": "scatter",
         "x": [
          "2023-01-02T01:45:00"
         ],
         "y": [
          51.48212431025141
         ]
        },
        {
         "marker": {
          "color": "green",
          "size": 8
         },
         "mode": "markers+text",
         "showlegend": false,
         "text": "51.82",
         "textposition": "top center",
         "type": "scatter",
         "x": [
          "2023-01-02T02:00:00"
         ],
         "y": [
          51.81659885476655
         ]
        },
        {
         "marker": {
          "color": "red",
          "size": 8
         },
         "mode": "markers+text",
         "showlegend": false,
         "text": "51.38",
         "textposition": "bottom center",
         "type": "scatter",
         "x": [
          "2023-01-02T02:00:00"
         ],
         "y": [
          51.38340114523345
         ]
        },
        {
         "marker": {
          "color": "green",
          "size": 8
         },
         "mode": "markers+text",
         "showlegend": false,
         "text": "51.92",
         "textposition": "top center",
         "type": "scatter",
         "x": [
          "2023-01-02T02:15:00"
         ],
         "y": [
          51.91541322228323
         ]
        },
        {
         "marker": {
          "color": "red",
          "size": 8
         },
         "mode": "markers+text",
         "showlegend": false,
         "text": "51.48",
         "textposition": "bottom center",
         "type": "scatter",
         "x": [
          "2023-01-02T02:15:00"
         ],
         "y": [
          51.48458677771677
         ]
        }
       ],
       "layout": {
        "height": 800,
        "template": {
         "data": {
          "bar": [
           {
            "error_x": {
             "color": "#2a3f5f"
            },
            "error_y": {
             "color": "#2a3f5f"
            },
            "marker": {
             "line": {
              "color": "white",
              "width": 0.5
             },
             "pattern": {
              "fillmode": "overlay",
              "size": 10,
              "solidity": 0.2
             }
            },
            "type": "bar"
           }
          ],
          "barpolar": [
           {
            "marker": {
             "line": {
              "color": "white",
              "width": 0.5
             },
             "pattern": {
              "fillmode": "overlay",
              "size": 10,
              "solidity": 0.2
             }
            },
            "type": "barpolar"
           }
          ],
          "carpet": [
           {
            "aaxis": {
             "endlinecolor": "#2a3f5f",
             "gridcolor": "#C8D4E3",
             "linecolor": "#C8D4E3",
             "minorgridcolor": "#C8D4E3",
             "startlinecolor": "#2a3f5f"
            },
            "baxis": {
             "endlinecolor": "#2a3f5f",
             "gridcolor": "#C8D4E3",
             "linecolor": "#C8D4E3",
             "minorgridcolor": "#C8D4E3",
             "startlinecolor": "#2a3f5f"
            },
            "type": "carpet"
           }
          ],
          "choropleth": [
           {
            "colorbar": {
             "outlinewidth": 0,
             "ticks": ""
            },
            "type": "choropleth"
           }
          ],
          "contour": [
           {
            "colorbar": {
             "outlinewidth": 0,
             "ticks": ""
            },
            "colorscale": [
             [
              0,
              "#0d0887"
             ],
             [
              0.1111111111111111,
              "#46039f"
             ],
             [
              0.2222222222222222,
              "#7201a8"
             ],
             [
              0.3333333333333333,
              "#9c179e"
             ],
             [
              0.4444444444444444,
              "#bd3786"
             ],
             [
              0.5555555555555556,
              "#d8576b"
             ],
             [
              0.6666666666666666,
              "#ed7953"
             ],
             [
              0.7777777777777778,
              "#fb9f3a"
             ],
             [
              0.8888888888888888,
              "#fdca26"
             ],
             [
              1,
              "#f0f921"
             ]
            ],
            "type": "contour"
           }
          ],
          "contourcarpet": [
           {
            "colorbar": {
             "outlinewidth": 0,
             "ticks": ""
            },
            "type": "contourcarpet"
           }
          ],
          "heatmap": [
           {
            "colorbar": {
             "outlinewidth": 0,
             "ticks": ""
            },
            "colorscale": [
             [
              0,
              "#0d0887"
             ],
             [
              0.1111111111111111,
              "#46039f"
             ],
             [
              0.2222222222222222,
              "#7201a8"
             ],
             [
              0.3333333333333333,
              "#9c179e"
             ],
             [
              0.4444444444444444,
              "#bd3786"
             ],
             [
              0.5555555555555556,
              "#d8576b"
             ],
             [
              0.6666666666666666,
              "#ed7953"
             ],
             [
              0.7777777777777778,
              "#fb9f3a"
             ],
             [
              0.8888888888888888,
              "#fdca26"
             ],
             [
              1,
              "#f0f921"
             ]
            ],
            "type": "heatmap"
           }
          ],
          "heatmapgl": [
           {
            "colorbar": {
             "outlinewidth": 0,
             "ticks": ""
            },
            "colorscale": [
             [
              0,
              "#0d0887"
             ],
             [
              0.1111111111111111,
              "#46039f"
             ],
             [
              0.2222222222222222,
              "#7201a8"
             ],
             [
              0.3333333333333333,
              "#9c179e"
             ],
             [
              0.4444444444444444,
              "#bd3786"
             ],
             [
              0.5555555555555556,
              "#d8576b"
             ],
             [
              0.6666666666666666,
              "#ed7953"
             ],
             [
              0.7777777777777778,
              "#fb9f3a"
             ],
             [
              0.8888888888888888,
              "#fdca26"
             ],
             [
              1,
              "#f0f921"
             ]
            ],
            "type": "heatmapgl"
           }
          ],
          "histogram": [
           {
            "marker": {
             "pattern": {
              "fillmode": "overlay",
              "size": 10,
              "solidity": 0.2
             }
            },
            "type": "histogram"
           }
          ],
          "histogram2d": [
           {
            "colorbar": {
             "outlinewidth": 0,
             "ticks": ""
            },
            "colorscale": [
             [
              0,
              "#0d0887"
             ],
             [
              0.1111111111111111,
              "#46039f"
             ],
             [
              0.2222222222222222,
              "#7201a8"
             ],
             [
              0.3333333333333333,
              "#9c179e"
             ],
             [
              0.4444444444444444,
              "#bd3786"
             ],
             [
              0.5555555555555556,
              "#d8576b"
             ],
             [
              0.6666666666666666,
              "#ed7953"
             ],
             [
              0.7777777777777778,
              "#fb9f3a"
             ],
             [
              0.8888888888888888,
              "#fdca26"
             ],
             [
              1,
              "#f0f921"
             ]
            ],
            "type": "histogram2d"
           }
          ],
          "histogram2dcontour": [
           {
            "colorbar": {
             "outlinewidth": 0,
             "ticks": ""
            },
            "colorscale": [
             [
              0,
              "#0d0887"
             ],
             [
              0.1111111111111111,
              "#46039f"
             ],
             [
              0.2222222222222222,
              "#7201a8"
             ],
             [
              0.3333333333333333,
              "#9c179e"
             ],
             [
              0.4444444444444444,
              "#bd3786"
             ],
             [
              0.5555555555555556,
              "#d8576b"
             ],
             [
              0.6666666666666666,
              "#ed7953"
             ],
             [
              0.7777777777777778,
              "#fb9f3a"
             ],
             [
              0.8888888888888888,
              "#fdca26"
             ],
             [
              1,
              "#f0f921"
             ]
            ],
            "type": "histogram2dcontour"
           }
          ],
          "mesh3d": [
           {
            "colorbar": {
             "outlinewidth": 0,
             "ticks": ""
            },
            "type": "mesh3d"
           }
          ],
          "parcoords": [
           {
            "line": {
             "colorbar": {
              "outlinewidth": 0,
              "ticks": ""
             }
            },
            "type": "parcoords"
           }
          ],
          "pie": [
           {
            "automargin": true,
            "type": "pie"
           }
          ],
          "scatter": [
           {
            "fillpattern": {
             "fillmode": "overlay",
             "size": 10,
             "solidity": 0.2
            },
            "type": "scatter"
           }
          ],
          "scatter3d": [
           {
            "line": {
             "colorbar": {
              "outlinewidth": 0,
              "ticks": ""
             }
            },
            "marker": {
             "colorbar": {
              "outlinewidth": 0,
              "ticks": ""
             }
            },
            "type": "scatter3d"
           }
          ],
          "scattercarpet": [
           {
            "marker": {
             "colorbar": {
              "outlinewidth": 0,
              "ticks": ""
             }
            },
            "type": "scattercarpet"
           }
          ],
          "scattergeo": [
           {
            "marker": {
             "colorbar": {
              "outlinewidth": 0,
              "ticks": ""
             }
            },
            "type": "scattergeo"
           }
          ],
          "scattergl": [
           {
            "marker": {
             "colorbar": {
              "outlinewidth": 0,
              "ticks": ""
             }
            },
            "type": "scattergl"
           }
          ],
          "scattermapbox": [
           {
            "marker": {
             "colorbar": {
              "outlinewidth": 0,
              "ticks": ""
             }
            },
            "type": "scattermapbox"
           }
          ],
          "scatterpolar": [
           {
            "marker": {
             "colorbar": {
              "outlinewidth": 0,
              "ticks": ""
             }
            },
            "type": "scatterpolar"
           }
          ],
          "scatterpolargl": [
           {
            "marker": {
             "colorbar": {
              "outlinewidth": 0,
              "ticks": ""
             }
            },
            "type": "scatterpolargl"
           }
          ],
          "scatterternary": [
           {
            "marker": {
             "colorbar": {
              "outlinewidth": 0,
              "ticks": ""
             }
            },
            "type": "scatterternary"
           }
          ],
          "surface": [
           {
            "colorbar": {
             "outlinewidth": 0,
             "ticks": ""
            },
            "colorscale": [
             [
              0,
              "#0d0887"
             ],
             [
              0.1111111111111111,
              "#46039f"
             ],
             [
              0.2222222222222222,
              "#7201a8"
             ],
             [
              0.3333333333333333,
              "#9c179e"
             ],
             [
              0.4444444444444444,
              "#bd3786"
             ],
             [
              0.5555555555555556,
              "#d8576b"
             ],
             [
              0.6666666666666666,
              "#ed7953"
             ],
             [
              0.7777777777777778,
              "#fb9f3a"
             ],
             [
              0.8888888888888888,
              "#fdca26"
             ],
             [
              1,
              "#f0f921"
             ]
            ],
            "type": "surface"
           }
          ],
          "table": [
           {
            "cells": {
             "fill": {
              "color": "#EBF0F8"
             },
             "line": {
              "color": "white"
             }
            },
            "header": {
             "fill": {
              "color": "#C8D4E3"
             },
             "line": {
              "color": "white"
             }
            },
            "type": "table"
           }
          ]
         },
         "layout": {
          "annotationdefaults": {
           "arrowcolor": "#2a3f5f",
           "arrowhead": 0,
           "arrowwidth": 1
          },
          "autotypenumbers": "strict",
          "coloraxis": {
           "colorbar": {
            "outlinewidth": 0,
            "ticks": ""
           }
          },
          "colorscale": {
           "diverging": [
            [
             0,
             "#8e0152"
            ],
            [
             0.1,
             "#c51b7d"
            ],
            [
             0.2,
             "#de77ae"
            ],
            [
             0.3,
             "#f1b6da"
            ],
            [
             0.4,
             "#fde0ef"
            ],
            [
             0.5,
             "#f7f7f7"
            ],
            [
             0.6,
             "#e6f5d0"
            ],
            [
             0.7,
             "#b8e186"
            ],
            [
             0.8,
             "#7fbc41"
            ],
            [
             0.9,
             "#4d9221"
            ],
            [
             1,
             "#276419"
            ]
           ],
           "sequential": [
            [
             0,
             "#0d0887"
            ],
            [
             0.1111111111111111,
             "#46039f"
            ],
            [
             0.2222222222222222,
             "#7201a8"
            ],
            [
             0.3333333333333333,
             "#9c179e"
            ],
            [
             0.4444444444444444,
             "#bd3786"
            ],
            [
             0.5555555555555556,
             "#d8576b"
            ],
            [
             0.6666666666666666,
             "#ed7953"
            ],
            [
             0.7777777777777778,
             "#fb9f3a"
            ],
            [
             0.8888888888888888,
             "#fdca26"
            ],
            [
             1,
             "#f0f921"
            ]
           ],
           "sequentialminus": [
            [
             0,
             "#0d0887"
            ],
            [
             0.1111111111111111,
             "#46039f"
            ],
            [
             0.2222222222222222,
             "#7201a8"
            ],
            [
             0.3333333333333333,
             "#9c179e"
            ],
            [
             0.4444444444444444,
             "#bd3786"
            ],
            [
             0.5555555555555556,
             "#d8576b"
            ],
            [
             0.6666666666666666,
             "#ed7953"
            ],
            [
             0.7777777777777778,
             "#fb9f3a"
            ],
            [
             0.8888888888888888,
             "#fdca26"
            ],
            [
             1,
             "#f0f921"
            ]
           ]
          },
          "colorway": [
           "#636efa",
           "#EF553B",
           "#00cc96",
           "#ab63fa",
           "#FFA15A",
           "#19d3f3",
           "#FF6692",
           "#B6E880",
           "#FF97FF",
           "#FECB52"
          ],
          "font": {
           "color": "#2a3f5f"
          },
          "geo": {
           "bgcolor": "white",
           "lakecolor": "white",
           "landcolor": "white",
           "showlakes": true,
           "showland": true,
           "subunitcolor": "#C8D4E3"
          },
          "hoverlabel": {
           "align": "left"
          },
          "hovermode": "closest",
          "mapbox": {
           "style": "light"
          },
          "paper_bgcolor": "white",
          "plot_bgcolor": "white",
          "polar": {
           "angularaxis": {
            "gridcolor": "#EBF0F8",
            "linecolor": "#EBF0F8",
            "ticks": ""
           },
           "bgcolor": "white",
           "radialaxis": {
            "gridcolor": "#EBF0F8",
            "linecolor": "#EBF0F8",
            "ticks": ""
           }
          },
          "scene": {
           "xaxis": {
            "backgroundcolor": "white",
            "gridcolor": "#DFE8F3",
            "gridwidth": 2,
            "linecolor": "#EBF0F8",
            "showbackground": true,
            "ticks": "",
            "zerolinecolor": "#EBF0F8"
           },
           "yaxis": {
            "backgroundcolor": "white",
            "gridcolor": "#DFE8F3",
            "gridwidth": 2,
            "linecolor": "#EBF0F8",
            "showbackground": true,
            "ticks": "",
            "zerolinecolor": "#EBF0F8"
           },
           "zaxis": {
            "backgroundcolor": "white",
            "gridcolor": "#DFE8F3",
            "gridwidth": 2,
            "linecolor": "#EBF0F8",
            "showbackground": true,
            "ticks": "",
            "zerolinecolor": "#EBF0F8"
           }
          },
          "shapedefaults": {
           "line": {
            "color": "#2a3f5f"
           }
          },
          "ternary": {
           "aaxis": {
            "gridcolor": "#DFE8F3",
            "linecolor": "#A2B1C6",
            "ticks": ""
           },
           "baxis": {
            "gridcolor": "#DFE8F3",
            "linecolor": "#A2B1C6",
            "ticks": ""
           },
           "bgcolor": "white",
           "caxis": {
            "gridcolor": "#DFE8F3",
            "linecolor": "#A2B1C6",
            "ticks": ""
           }
          },
          "title": {
           "x": 0.05
          },
          "xaxis": {
           "automargin": true,
           "gridcolor": "#EBF0F8",
           "linecolor": "#EBF0F8",
           "ticks": "",
           "title": {
            "standoff": 15
           },
           "zerolinecolor": "#EBF0F8",
           "zerolinewidth": 2
          },
          "yaxis": {
           "automargin": true,
           "gridcolor": "#EBF0F8",
           "linecolor": "#EBF0F8",
           "ticks": "",
           "title": {
            "standoff": 15
           },
           "zerolinecolor": "#EBF0F8",
           "zerolinewidth": 2
          }
         }
        },
        "title": {
         "text": "Свечной график"
        },
        "width": 1500,
        "xaxis": {
         "rangeslider": {
          "visible": false
         },
         "title": {
          "text": "Время"
         }
        },
        "yaxis": {
         "title": {
          "text": "Цена"
         }
        }
       }
      }
     },
     "metadata": {},
     "output_type": "display_data"
    }
   ],
   "source": [
    "# Пример данных\n",
    "df_viz = df[65:104]\n",
    "\n",
    "fig = go.Figure(\n",
    "    data=[\n",
    "        go.Candlestick(\n",
    "            x=df_viz[\"timestamp\"],\n",
    "            open=df_viz[\"open\"],\n",
    "            high=df_viz[\"high\"],\n",
    "            low=df_viz[\"low\"],\n",
    "            close=df_viz[\"close\"],\n",
    "            name=\"Candlestick\"\n",
    "        )\n",
    "    ]\n",
    ")\n",
    "\n",
    "# Добавление текстовых меток из колонки target\n",
    "for _, row in df_viz.iterrows():\n",
    "    fig.add_trace(\n",
    "        go.Scatter(\n",
    "            x=[row[\"timestamp\"]],\n",
    "            y=[row[\"close\"]],  # Метки располагаются на уровне закрытия свечи\n",
    "            mode=\"text\",\n",
    "            text=row[\"target\"],\n",
    "            textposition=\"top center\",\n",
    "            showlegend=False\n",
    "        )\n",
    "    )\n",
    "\n",
    "# Добавление меток со сдвигом вперёд\n",
    "for i in range(len(df_viz) - 1):  # Останавливаемся на предпоследней строке\n",
    "    fig.add_trace(\n",
    "        go.Scatter(\n",
    "            x=[df_viz[\"timestamp\"].iloc[i + 1]],  # Метка на следующую свечу\n",
    "            y=[df_viz[\"close\"].iloc[i] * (1 + df_viz['dynamic_range'].iloc[i])],\n",
    "            mode=\"markers+text\",\n",
    "            marker=dict(color=\"green\", size=8),\n",
    "            text=f\"{df_viz['close'].iloc[i] * (1 + df_viz['dynamic_range'].iloc[i]):.2f}\",\n",
    "            textposition=\"top center\",\n",
    "            showlegend=False\n",
    "        )\n",
    "    )\n",
    "    fig.add_trace(\n",
    "        go.Scatter(\n",
    "            x=[df_viz[\"timestamp\"].iloc[i + 1]],  # Метка на следующую свечу\n",
    "            y=[df_viz[\"close\"].iloc[i] * (1 - df_viz['dynamic_range'].iloc[i])],\n",
    "            mode=\"markers+text\",\n",
    "            marker=dict(color=\"red\", size=8),\n",
    "            text=f\"{df_viz['close'].iloc[i] * (1 - df_viz['dynamic_range'].iloc[i]):.2f}\",\n",
    "            textposition=\"bottom center\",\n",
    "            showlegend=False\n",
    "        )\n",
    "    )\n",
    "\n",
    "\n",
    "# Настройка осей и заголовков\n",
    "fig.update_layout(\n",
    "    title=\"Свечной график\",\n",
    "    xaxis_title=\"Время\",\n",
    "    yaxis_title=\"Цена\",\n",
    "    xaxis_rangeslider_visible=False,  # Скрыть ползунок масштаба\n",
    "    template=\"plotly_white\",\n",
    "    width=1500,  # Ширина графика\n",
    "    height=800  # Увеличенная высота\n",
    ")\n",
    "\n",
    "# Отображение графика\n",
    "fig.show()\n"
   ]
  },
  {
   "cell_type": "code",
   "execution_count": 114,
   "metadata": {},
   "outputs": [
    {
     "data": {
      "text/html": [
       "<div>\n",
       "<style scoped>\n",
       "    .dataframe tbody tr th:only-of-type {\n",
       "        vertical-align: middle;\n",
       "    }\n",
       "\n",
       "    .dataframe tbody tr th {\n",
       "        vertical-align: top;\n",
       "    }\n",
       "\n",
       "    .dataframe thead th {\n",
       "        text-align: right;\n",
       "    }\n",
       "</style>\n",
       "<table border=\"1\" class=\"dataframe\">\n",
       "  <thead>\n",
       "    <tr style=\"text-align: right;\">\n",
       "      <th></th>\n",
       "      <th>target_-1</th>\n",
       "      <th>target_0</th>\n",
       "      <th>target_1</th>\n",
       "    </tr>\n",
       "  </thead>\n",
       "  <tbody>\n",
       "    <tr>\n",
       "      <th>0</th>\n",
       "      <td>False</td>\n",
       "      <td>True</td>\n",
       "      <td>False</td>\n",
       "    </tr>\n",
       "    <tr>\n",
       "      <th>1</th>\n",
       "      <td>False</td>\n",
       "      <td>True</td>\n",
       "      <td>False</td>\n",
       "    </tr>\n",
       "    <tr>\n",
       "      <th>2</th>\n",
       "      <td>False</td>\n",
       "      <td>True</td>\n",
       "      <td>False</td>\n",
       "    </tr>\n",
       "    <tr>\n",
       "      <th>3</th>\n",
       "      <td>False</td>\n",
       "      <td>True</td>\n",
       "      <td>False</td>\n",
       "    </tr>\n",
       "    <tr>\n",
       "      <th>4</th>\n",
       "      <td>False</td>\n",
       "      <td>True</td>\n",
       "      <td>False</td>\n",
       "    </tr>\n",
       "    <tr>\n",
       "      <th>...</th>\n",
       "      <td>...</td>\n",
       "      <td>...</td>\n",
       "      <td>...</td>\n",
       "    </tr>\n",
       "    <tr>\n",
       "      <th>34931</th>\n",
       "      <td>True</td>\n",
       "      <td>False</td>\n",
       "      <td>False</td>\n",
       "    </tr>\n",
       "    <tr>\n",
       "      <th>34932</th>\n",
       "      <td>False</td>\n",
       "      <td>False</td>\n",
       "      <td>True</td>\n",
       "    </tr>\n",
       "    <tr>\n",
       "      <th>34933</th>\n",
       "      <td>False</td>\n",
       "      <td>True</td>\n",
       "      <td>False</td>\n",
       "    </tr>\n",
       "    <tr>\n",
       "      <th>34934</th>\n",
       "      <td>False</td>\n",
       "      <td>True</td>\n",
       "      <td>False</td>\n",
       "    </tr>\n",
       "    <tr>\n",
       "      <th>34935</th>\n",
       "      <td>False</td>\n",
       "      <td>True</td>\n",
       "      <td>False</td>\n",
       "    </tr>\n",
       "  </tbody>\n",
       "</table>\n",
       "<p>34936 rows × 3 columns</p>\n",
       "</div>"
      ],
      "text/plain": [
       "       target_-1  target_0  target_1\n",
       "0          False      True     False\n",
       "1          False      True     False\n",
       "2          False      True     False\n",
       "3          False      True     False\n",
       "4          False      True     False\n",
       "...          ...       ...       ...\n",
       "34931       True     False     False\n",
       "34932      False     False      True\n",
       "34933      False      True     False\n",
       "34934      False      True     False\n",
       "34935      False      True     False\n",
       "\n",
       "[34936 rows x 3 columns]"
      ]
     },
     "execution_count": 114,
     "metadata": {},
     "output_type": "execute_result"
    }
   ],
   "source": [
    "pd.get_dummies(df[\"target\"], prefix=\"target\")"
   ]
  },
  {
   "cell_type": "code",
   "execution_count": 293,
   "metadata": {},
   "outputs": [
    {
     "name": "stdout",
     "output_type": "stream",
     "text": [
      "Средний TP: 0.0082%, Средний SL: 0.3570%\n"
     ]
    }
   ],
   "source": [
    "# Анализ прибыльности\n",
    "tp_profit = df[df['target'] == 1]['returns'].mean()\n",
    "sl_loss = df[df['target'] == -1]['returns'].abs().mean()\n",
    "print(f\"Средний TP: {tp_profit:.4%}, Средний SL: {sl_loss:.4%}\")"
   ]
  },
  {
   "cell_type": "code",
   "execution_count": 296,
   "metadata": {},
   "outputs": [],
   "source": [
    "df.drop(['next_high', 'next_low', 'next_close'], inplace=True, axis=1)"
   ]
  },
  {
   "cell_type": "markdown",
   "metadata": {},
   "source": [
    "### ФУЛ КОД"
   ]
  },
  {
   "cell_type": "code",
   "execution_count": null,
   "metadata": {},
   "outputs": [],
   "source": [
    "import pandas as pd\n",
    "import numpy as np\n",
    "import plotly.graph_objects as go\n",
    "import talib as ta\n",
    "\n",
    "\n",
    "# Вычисление динамического интервала\n",
    "def calculate_dynamic_range(atr, current_price, min_range=0.0035, max_range=0.02):\n",
    "    atr_percent = atr / current_price\n",
    "    dynamic_range = np.clip(atr_percent * 2, min_range, max_range) # Здесь от множетеля зависит итоговое количество сигналов\n",
    "    return dynamic_range # значение от 0.0035 до 0.02\n",
    "\n",
    "# Для создания таргета\n",
    "def calculate_target(current_close, next_high, next_low, next_close, dynamic_range):\n",
    "    upper_breach = (next_high / current_close - 1) >= dynamic_range\n",
    "    lower_breach = (1 - next_low / current_close) >= dynamic_range\n",
    "    \n",
    "    if upper_breach and lower_breach:\n",
    "        # Выбор по Close следующего бара, если Low ниже, а High выше закрытия предыдущего бара\n",
    "        if next_close > current_close:\n",
    "            return 1\n",
    "        else:\n",
    "            return -1\n",
    "    elif upper_breach:\n",
    "        return 1\n",
    "    elif lower_breach:\n",
    "        return -1\n",
    "    else:\n",
    "        return 0\n",
    "    \n",
    "\n",
    "df = pd.read_csv(filepath_or_buffer='data/AAVE_USDT_15m_candles.csv', sep=';', index_col=0)\n",
    "df.index = pd.to_datetime(df.index)\n",
    "\n",
    "df['next_high'] = df['high'].shift(-1)  # High следующего бара\n",
    "df['next_low'] = df['low'].shift(-1)    # Low следующего бара\n",
    "df['next_close'] = df['close'].shift(-1)  # Для обработки конфликта High/Low\n",
    "\n",
    "# Удаляем последнюю строку с NaN\n",
    "df = df.dropna(subset=['next_high', 'next_low'])\n",
    "\n",
    "# Для целевой переменной\n",
    "df['atr'] = ta.ATR(df['high'], df['low'], df['close'], timeperiod=14)\n",
    "df['dynamic_range'] = df.apply(lambda x: calculate_dynamic_range(x['atr'], x['close']), axis=1) / 2\n",
    "\n",
    "df['target'] = df.apply(\n",
    "    lambda row: calculate_target(\n",
    "        row['close'], row['next_high'], row['next_low'],\n",
    "        row['next_close'], row['dynamic_range']\n",
    "    ), axis=1\n",
    ")\n",
    "\n",
    "df = df.dropna(subset=['atr', 'dynamic_range'])\n",
    "\n",
    "df['returns'] = np.log(df['close'] / df['close'].shift(1))\n",
    "\n",
    "df.reset_index(inplace=True)\n",
    "\n",
    "\n",
    "# Пример данных\n",
    "df_viz = df[65:104]\n",
    "\n",
    "fig = go.Figure(\n",
    "    data=[\n",
    "        go.Candlestick(\n",
    "            x=df_viz[\"timestamp\"],\n",
    "            open=df_viz[\"open\"],\n",
    "            high=df_viz[\"high\"],\n",
    "            low=df_viz[\"low\"],\n",
    "            close=df_viz[\"close\"],\n",
    "            name=\"Candlestick\"\n",
    "        )\n",
    "    ]\n",
    ")\n",
    "\n",
    "# Добавление текстовых меток из колонки target\n",
    "for _, row in df_viz.iterrows():\n",
    "    fig.add_trace(\n",
    "        go.Scatter(\n",
    "            x=[row[\"timestamp\"]],\n",
    "            y=[row[\"close\"]],  # Метки располагаются на уровне закрытия свечи\n",
    "            mode=\"text\",\n",
    "            text=row[\"target\"],\n",
    "            textposition=\"top center\",\n",
    "            showlegend=False\n",
    "        )\n",
    "    )\n",
    "\n",
    "# Добавление меток со сдвигом вперёд\n",
    "for i in range(len(df_viz) - 1):  # Останавливаемся на предпоследней строке\n",
    "    fig.add_trace(\n",
    "        go.Scatter(\n",
    "            x=[df_viz[\"timestamp\"].iloc[i + 1]],  # Метка на следующую свечу\n",
    "            y=[df_viz[\"close\"].iloc[i] * (1 + df_viz['dynamic_range'].iloc[i])],\n",
    "            mode=\"markers+text\",\n",
    "            marker=dict(color=\"green\", size=8),\n",
    "            text=f\"{df_viz['close'].iloc[i] * (1 + df_viz['dynamic_range'].iloc[i]):.2f}\",\n",
    "            textposition=\"top center\",\n",
    "            showlegend=False\n",
    "        )\n",
    "    )\n",
    "    fig.add_trace(\n",
    "        go.Scatter(\n",
    "            x=[df_viz[\"timestamp\"].iloc[i + 1]],  # Метка на следующую свечу\n",
    "            y=[df_viz[\"close\"].iloc[i] * (1 - df_viz['dynamic_range'].iloc[i])],\n",
    "            mode=\"markers+text\",\n",
    "            marker=dict(color=\"red\", size=8),\n",
    "            text=f\"{df_viz['close'].iloc[i] * (1 - df_viz['dynamic_range'].iloc[i]):.2f}\",\n",
    "            textposition=\"bottom center\",\n",
    "            showlegend=False\n",
    "        )\n",
    "    )\n",
    "\n",
    "\n",
    "# Настройка осей и заголовков\n",
    "fig.update_layout(\n",
    "    title=\"Свечной график\",\n",
    "    xaxis_title=\"Время\",\n",
    "    yaxis_title=\"Цена\",\n",
    "    xaxis_rangeslider_visible=False,  # Скрыть ползунок масштаба\n",
    "    template=\"plotly_white\",\n",
    "    width=1500,  # Ширина графика\n",
    "    height=800  # Увеличенная высота\n",
    ")\n",
    "\n",
    "# Отображение графика\n",
    "fig.show()"
   ]
  },
  {
   "cell_type": "code",
   "execution_count": null,
   "metadata": {},
   "outputs": [],
   "source": [
    "# Считаем прибыль/убыток от сделки\n",
    "\n",
    "df['profit'] = \n",
    "\n",
    "tp_sl = ['take_profit', 'stop_loss']\n",
    "\n",
    "last_pos = 0\n",
    "curr_tp_sl = tp_sl\n",
    "\n",
    "for i in range(len(df)):\n",
    "    if df['target'][i] == 1:\n",
    "        last_pos = df['target'][i]\n",
    "        curr_tp_sl = tp_sl\n",
    "    elif df['target'][i] == -1:\n",
    "        last_pos = df['target'][i]\n",
    "        curr_tp_sl = tp_sl[-1]\n",
    "    else:\n",
    "        if last_pos:\n",
    "\n",
    "\n",
    "if df['target'][i - 1] == 1:\n",
    "    df['close']"
   ]
  },
  {
   "cell_type": "markdown",
   "metadata": {},
   "source": [
    "1. Profit-Weighted Cross Entropy:\n",
    "\n",
    "$$\\mathcal{L} = -\\frac{1}{N} \\sum_{i=1}^N w_{y_i} \\cdot \\left[ y_i \\cdot \\log(p_i) + (1 - y_i) \\cdot \\log(1 - p_i) \\right]$$\n",
    "\n",
    "2. Sharpe Ratio Maximization:\n",
    "\n",
    "$$\\mathcal{L} = -\\frac{\\text{E}[R]}{\\sqrt{\\text{Var}[R] + \\epsilon}}$$"
   ]
  },
  {
   "cell_type": "markdown",
   "metadata": {},
   "source": [
    "Как учесть ситуацию, при которой следующая свеча не пересекает SL/TP уровни? В таком случае, по условиям, сделка должна перейти на следующую свечу, но, насколько я понимаю,ты это не учитываешь в предложенном решении. Объясни как реализовать это, а затем перепиши весь текущий код учитывая это."
   ]
  },
  {
   "cell_type": "code",
   "execution_count": 166,
   "metadata": {},
   "outputs": [],
   "source": [
    "# Вычисление динамического интервала\n",
    "def calculate_dynamic_range(atr, current_price, min_range=0.0035, max_range=0.02):\n",
    "    atr_percent = atr / current_price\n",
    "    dynamic_range = np.clip(atr_percent, min_range, max_range) # Здесь от множетеля зависит итоговое количество сигналов\n",
    "    return dynamic_range # значение от 0.0035 до 0.02\n",
    "\n",
    "def generate_targets(df, max_hold=10):\n",
    "    targets = []\n",
    "    for i in range(len(df)):\n",
    "        entry_price = df.iloc[i]['close']\n",
    "        dynamic_range = df.iloc[i]['dynamic_range']\n",
    "        result = 0\n",
    "        for j in range(1, max_hold+1):\n",
    "            if i+j >= len(df):\n",
    "                break\n",
    "            high = df.iloc[i+j]['high']\n",
    "            low = df.iloc[i+j]['low']\n",
    "            close = df.iloc[i+j]['close']\n",
    "\n",
    "            upper_breach = (high / entry_price - 1) >= dynamic_range / 2\n",
    "            lower_breach = (1 - low / entry_price) >= dynamic_range / 2\n",
    "\n",
    "            if upper_breach and lower_breach:\n",
    "                # Выбор по Close следующего бара, если Low ниже, а High выше закрытия предыдущего бара\n",
    "                if close > entry_price:\n",
    "                    result = 1\n",
    "                    break\n",
    "                else:\n",
    "                    result = -1\n",
    "                    break\n",
    "            elif upper_breach:\n",
    "                result = 1\n",
    "                break\n",
    "            elif lower_breach:\n",
    "                result = -1\n",
    "                break\n",
    "        targets.append(result)\n",
    "    return pd.Series(targets, index=df.index)\n",
    "\n",
    "def prepare_data(df, max_hold=10):\n",
    "    # Индикаторы\n",
    "    df['atr'] = ta.ATR(df['high'], df['low'], df['close'], timeperiod=14)\n",
    "    df['returns'] = np.log(df['close'] / df['close'].shift(1))\n",
    "\n",
    "    df['dynamic_range'] = df.apply(lambda x: calculate_dynamic_range(x['atr'], x['close']), axis=1)\n",
    "    \n",
    "    # Генерация целевой переменной\n",
    "    df['target'] = generate_targets(df, max_hold)\n",
    "    \n",
    "    # Фичи\n",
    "    df['range_pct'] = (df['high'] - df['low']) / df['close']\n",
    "    df['body_pct'] = (df['close'] - df['open']) / df['open']\n",
    "    df['sma_10'] = df['close'].rolling(10).mean()\n",
    "    df['rsi'] = ta.RSI(df['close'], timeperiod=14)\n",
    "    \n",
    "    # Удаление NaN\n",
    "    df = df.dropna(subset=['target', 'atr', 'rsi'])\n",
    "    \n",
    "    return df"
   ]
  },
  {
   "cell_type": "code",
   "execution_count": 167,
   "metadata": {},
   "outputs": [
    {
     "data": {
      "text/html": [
       "<div>\n",
       "<style scoped>\n",
       "    .dataframe tbody tr th:only-of-type {\n",
       "        vertical-align: middle;\n",
       "    }\n",
       "\n",
       "    .dataframe tbody tr th {\n",
       "        vertical-align: top;\n",
       "    }\n",
       "\n",
       "    .dataframe thead th {\n",
       "        text-align: right;\n",
       "    }\n",
       "</style>\n",
       "<table border=\"1\" class=\"dataframe\">\n",
       "  <thead>\n",
       "    <tr style=\"text-align: right;\">\n",
       "      <th></th>\n",
       "      <th>open</th>\n",
       "      <th>high</th>\n",
       "      <th>low</th>\n",
       "      <th>close</th>\n",
       "    </tr>\n",
       "    <tr>\n",
       "      <th>timestamp</th>\n",
       "      <th></th>\n",
       "      <th></th>\n",
       "      <th></th>\n",
       "      <th></th>\n",
       "    </tr>\n",
       "  </thead>\n",
       "  <tbody>\n",
       "    <tr>\n",
       "      <th>2022-12-31 21:00:00</th>\n",
       "      <td>52.70</td>\n",
       "      <td>52.70</td>\n",
       "      <td>52.60</td>\n",
       "      <td>52.60</td>\n",
       "    </tr>\n",
       "    <tr>\n",
       "      <th>2022-12-31 21:15:00</th>\n",
       "      <td>52.70</td>\n",
       "      <td>52.70</td>\n",
       "      <td>52.50</td>\n",
       "      <td>52.60</td>\n",
       "    </tr>\n",
       "    <tr>\n",
       "      <th>2022-12-31 21:30:00</th>\n",
       "      <td>52.60</td>\n",
       "      <td>52.60</td>\n",
       "      <td>52.40</td>\n",
       "      <td>52.50</td>\n",
       "    </tr>\n",
       "    <tr>\n",
       "      <th>2022-12-31 21:45:00</th>\n",
       "      <td>52.50</td>\n",
       "      <td>52.50</td>\n",
       "      <td>52.40</td>\n",
       "      <td>52.40</td>\n",
       "    </tr>\n",
       "    <tr>\n",
       "      <th>2022-12-31 22:00:00</th>\n",
       "      <td>52.40</td>\n",
       "      <td>52.50</td>\n",
       "      <td>52.40</td>\n",
       "      <td>52.50</td>\n",
       "    </tr>\n",
       "    <tr>\n",
       "      <th>...</th>\n",
       "      <td>...</td>\n",
       "      <td>...</td>\n",
       "      <td>...</td>\n",
       "      <td>...</td>\n",
       "    </tr>\n",
       "    <tr>\n",
       "      <th>2023-12-30 22:45:00</th>\n",
       "      <td>112.43</td>\n",
       "      <td>112.48</td>\n",
       "      <td>111.33</td>\n",
       "      <td>112.09</td>\n",
       "    </tr>\n",
       "    <tr>\n",
       "      <th>2023-12-30 23:00:00</th>\n",
       "      <td>112.08</td>\n",
       "      <td>112.95</td>\n",
       "      <td>112.02</td>\n",
       "      <td>112.45</td>\n",
       "    </tr>\n",
       "    <tr>\n",
       "      <th>2023-12-30 23:15:00</th>\n",
       "      <td>112.40</td>\n",
       "      <td>112.51</td>\n",
       "      <td>112.03</td>\n",
       "      <td>112.15</td>\n",
       "    </tr>\n",
       "    <tr>\n",
       "      <th>2023-12-30 23:30:00</th>\n",
       "      <td>112.10</td>\n",
       "      <td>112.33</td>\n",
       "      <td>111.49</td>\n",
       "      <td>111.50</td>\n",
       "    </tr>\n",
       "    <tr>\n",
       "      <th>2023-12-30 23:45:00</th>\n",
       "      <td>111.53</td>\n",
       "      <td>111.66</td>\n",
       "      <td>110.90</td>\n",
       "      <td>111.02</td>\n",
       "    </tr>\n",
       "  </tbody>\n",
       "</table>\n",
       "<p>34951 rows × 4 columns</p>\n",
       "</div>"
      ],
      "text/plain": [
       "                       open    high     low   close\n",
       "timestamp                                          \n",
       "2022-12-31 21:00:00   52.70   52.70   52.60   52.60\n",
       "2022-12-31 21:15:00   52.70   52.70   52.50   52.60\n",
       "2022-12-31 21:30:00   52.60   52.60   52.40   52.50\n",
       "2022-12-31 21:45:00   52.50   52.50   52.40   52.40\n",
       "2022-12-31 22:00:00   52.40   52.50   52.40   52.50\n",
       "...                     ...     ...     ...     ...\n",
       "2023-12-30 22:45:00  112.43  112.48  111.33  112.09\n",
       "2023-12-30 23:00:00  112.08  112.95  112.02  112.45\n",
       "2023-12-30 23:15:00  112.40  112.51  112.03  112.15\n",
       "2023-12-30 23:30:00  112.10  112.33  111.49  111.50\n",
       "2023-12-30 23:45:00  111.53  111.66  110.90  111.02\n",
       "\n",
       "[34951 rows x 4 columns]"
      ]
     },
     "execution_count": 167,
     "metadata": {},
     "output_type": "execute_result"
    }
   ],
   "source": [
    "# Пример использования\n",
    "df = pd.read_csv('data/AAVE_USDT_15m_candles.csv', sep=';', index_col=0)\n",
    "df"
   ]
  },
  {
   "cell_type": "code",
   "execution_count": 168,
   "metadata": {},
   "outputs": [],
   "source": [
    "df = df.sort_values('timestamp').reset_index()"
   ]
  },
  {
   "cell_type": "code",
   "execution_count": 150,
   "metadata": {},
   "outputs": [
    {
     "data": {
      "text/html": [
       "<div>\n",
       "<style scoped>\n",
       "    .dataframe tbody tr th:only-of-type {\n",
       "        vertical-align: middle;\n",
       "    }\n",
       "\n",
       "    .dataframe tbody tr th {\n",
       "        vertical-align: top;\n",
       "    }\n",
       "\n",
       "    .dataframe thead th {\n",
       "        text-align: right;\n",
       "    }\n",
       "</style>\n",
       "<table border=\"1\" class=\"dataframe\">\n",
       "  <thead>\n",
       "    <tr style=\"text-align: right;\">\n",
       "      <th></th>\n",
       "      <th>timestamp</th>\n",
       "      <th>open</th>\n",
       "      <th>high</th>\n",
       "      <th>low</th>\n",
       "      <th>close</th>\n",
       "    </tr>\n",
       "  </thead>\n",
       "  <tbody>\n",
       "    <tr>\n",
       "      <th>0</th>\n",
       "      <td>2022-12-31 21:00:00</td>\n",
       "      <td>52.70</td>\n",
       "      <td>52.70</td>\n",
       "      <td>52.60</td>\n",
       "      <td>52.60</td>\n",
       "    </tr>\n",
       "    <tr>\n",
       "      <th>1</th>\n",
       "      <td>2022-12-31 21:15:00</td>\n",
       "      <td>52.70</td>\n",
       "      <td>52.70</td>\n",
       "      <td>52.50</td>\n",
       "      <td>52.60</td>\n",
       "    </tr>\n",
       "    <tr>\n",
       "      <th>2</th>\n",
       "      <td>2022-12-31 21:30:00</td>\n",
       "      <td>52.60</td>\n",
       "      <td>52.60</td>\n",
       "      <td>52.40</td>\n",
       "      <td>52.50</td>\n",
       "    </tr>\n",
       "    <tr>\n",
       "      <th>3</th>\n",
       "      <td>2022-12-31 21:45:00</td>\n",
       "      <td>52.50</td>\n",
       "      <td>52.50</td>\n",
       "      <td>52.40</td>\n",
       "      <td>52.40</td>\n",
       "    </tr>\n",
       "    <tr>\n",
       "      <th>4</th>\n",
       "      <td>2022-12-31 22:00:00</td>\n",
       "      <td>52.40</td>\n",
       "      <td>52.50</td>\n",
       "      <td>52.40</td>\n",
       "      <td>52.50</td>\n",
       "    </tr>\n",
       "    <tr>\n",
       "      <th>...</th>\n",
       "      <td>...</td>\n",
       "      <td>...</td>\n",
       "      <td>...</td>\n",
       "      <td>...</td>\n",
       "      <td>...</td>\n",
       "    </tr>\n",
       "    <tr>\n",
       "      <th>34946</th>\n",
       "      <td>2023-12-30 22:45:00</td>\n",
       "      <td>112.43</td>\n",
       "      <td>112.48</td>\n",
       "      <td>111.33</td>\n",
       "      <td>112.09</td>\n",
       "    </tr>\n",
       "    <tr>\n",
       "      <th>34947</th>\n",
       "      <td>2023-12-30 23:00:00</td>\n",
       "      <td>112.08</td>\n",
       "      <td>112.95</td>\n",
       "      <td>112.02</td>\n",
       "      <td>112.45</td>\n",
       "    </tr>\n",
       "    <tr>\n",
       "      <th>34948</th>\n",
       "      <td>2023-12-30 23:15:00</td>\n",
       "      <td>112.40</td>\n",
       "      <td>112.51</td>\n",
       "      <td>112.03</td>\n",
       "      <td>112.15</td>\n",
       "    </tr>\n",
       "    <tr>\n",
       "      <th>34949</th>\n",
       "      <td>2023-12-30 23:30:00</td>\n",
       "      <td>112.10</td>\n",
       "      <td>112.33</td>\n",
       "      <td>111.49</td>\n",
       "      <td>111.50</td>\n",
       "    </tr>\n",
       "    <tr>\n",
       "      <th>34950</th>\n",
       "      <td>2023-12-30 23:45:00</td>\n",
       "      <td>111.53</td>\n",
       "      <td>111.66</td>\n",
       "      <td>110.90</td>\n",
       "      <td>111.02</td>\n",
       "    </tr>\n",
       "  </tbody>\n",
       "</table>\n",
       "<p>34951 rows × 5 columns</p>\n",
       "</div>"
      ],
      "text/plain": [
       "                 timestamp    open    high     low   close\n",
       "0      2022-12-31 21:00:00   52.70   52.70   52.60   52.60\n",
       "1      2022-12-31 21:15:00   52.70   52.70   52.50   52.60\n",
       "2      2022-12-31 21:30:00   52.60   52.60   52.40   52.50\n",
       "3      2022-12-31 21:45:00   52.50   52.50   52.40   52.40\n",
       "4      2022-12-31 22:00:00   52.40   52.50   52.40   52.50\n",
       "...                    ...     ...     ...     ...     ...\n",
       "34946  2023-12-30 22:45:00  112.43  112.48  111.33  112.09\n",
       "34947  2023-12-30 23:00:00  112.08  112.95  112.02  112.45\n",
       "34948  2023-12-30 23:15:00  112.40  112.51  112.03  112.15\n",
       "34949  2023-12-30 23:30:00  112.10  112.33  111.49  111.50\n",
       "34950  2023-12-30 23:45:00  111.53  111.66  110.90  111.02\n",
       "\n",
       "[34951 rows x 5 columns]"
      ]
     },
     "execution_count": 150,
     "metadata": {},
     "output_type": "execute_result"
    }
   ],
   "source": [
    "df"
   ]
  },
  {
   "cell_type": "code",
   "execution_count": 169,
   "metadata": {},
   "outputs": [],
   "source": [
    "prepared_df = prepare_data(df, max_hold=10)"
   ]
  },
  {
   "cell_type": "code",
   "execution_count": 129,
   "metadata": {},
   "outputs": [
    {
     "data": {
      "text/html": [
       "<div>\n",
       "<style scoped>\n",
       "    .dataframe tbody tr th:only-of-type {\n",
       "        vertical-align: middle;\n",
       "    }\n",
       "\n",
       "    .dataframe tbody tr th {\n",
       "        vertical-align: top;\n",
       "    }\n",
       "\n",
       "    .dataframe thead th {\n",
       "        text-align: right;\n",
       "    }\n",
       "</style>\n",
       "<table border=\"1\" class=\"dataframe\">\n",
       "  <thead>\n",
       "    <tr style=\"text-align: right;\">\n",
       "      <th></th>\n",
       "      <th>open</th>\n",
       "      <th>high</th>\n",
       "      <th>low</th>\n",
       "      <th>close</th>\n",
       "      <th>atr</th>\n",
       "      <th>returns</th>\n",
       "      <th>dynamic_range</th>\n",
       "      <th>target</th>\n",
       "      <th>range_pct</th>\n",
       "      <th>body_pct</th>\n",
       "      <th>sma_10</th>\n",
       "      <th>rsi</th>\n",
       "    </tr>\n",
       "  </thead>\n",
       "  <tbody>\n",
       "    <tr>\n",
       "      <th>14</th>\n",
       "      <td>51.90</td>\n",
       "      <td>52.00</td>\n",
       "      <td>51.80</td>\n",
       "      <td>51.80</td>\n",
       "      <td>0.192857</td>\n",
       "      <td>-0.001929</td>\n",
       "      <td>0.007446</td>\n",
       "      <td>1</td>\n",
       "      <td>0.003861</td>\n",
       "      <td>-0.001927</td>\n",
       "      <td>51.990</td>\n",
       "      <td>16.666667</td>\n",
       "    </tr>\n",
       "    <tr>\n",
       "      <th>15</th>\n",
       "      <td>51.70</td>\n",
       "      <td>51.80</td>\n",
       "      <td>51.70</td>\n",
       "      <td>51.80</td>\n",
       "      <td>0.186224</td>\n",
       "      <td>0.000000</td>\n",
       "      <td>0.007190</td>\n",
       "      <td>1</td>\n",
       "      <td>0.001931</td>\n",
       "      <td>0.001934</td>\n",
       "      <td>51.950</td>\n",
       "      <td>16.666667</td>\n",
       "    </tr>\n",
       "    <tr>\n",
       "      <th>16</th>\n",
       "      <td>51.80</td>\n",
       "      <td>51.80</td>\n",
       "      <td>51.70</td>\n",
       "      <td>51.80</td>\n",
       "      <td>0.180066</td>\n",
       "      <td>0.000000</td>\n",
       "      <td>0.006952</td>\n",
       "      <td>1</td>\n",
       "      <td>0.001931</td>\n",
       "      <td>0.000000</td>\n",
       "      <td>51.920</td>\n",
       "      <td>16.666667</td>\n",
       "    </tr>\n",
       "    <tr>\n",
       "      <th>17</th>\n",
       "      <td>51.70</td>\n",
       "      <td>51.80</td>\n",
       "      <td>51.70</td>\n",
       "      <td>51.80</td>\n",
       "      <td>0.174347</td>\n",
       "      <td>0.000000</td>\n",
       "      <td>0.006732</td>\n",
       "      <td>1</td>\n",
       "      <td>0.001931</td>\n",
       "      <td>0.001934</td>\n",
       "      <td>51.890</td>\n",
       "      <td>16.666667</td>\n",
       "    </tr>\n",
       "    <tr>\n",
       "      <th>18</th>\n",
       "      <td>51.80</td>\n",
       "      <td>51.80</td>\n",
       "      <td>51.80</td>\n",
       "      <td>51.80</td>\n",
       "      <td>0.161893</td>\n",
       "      <td>0.000000</td>\n",
       "      <td>0.006251</td>\n",
       "      <td>1</td>\n",
       "      <td>0.000000</td>\n",
       "      <td>0.000000</td>\n",
       "      <td>51.870</td>\n",
       "      <td>16.666667</td>\n",
       "    </tr>\n",
       "    <tr>\n",
       "      <th>...</th>\n",
       "      <td>...</td>\n",
       "      <td>...</td>\n",
       "      <td>...</td>\n",
       "      <td>...</td>\n",
       "      <td>...</td>\n",
       "      <td>...</td>\n",
       "      <td>...</td>\n",
       "      <td>...</td>\n",
       "      <td>...</td>\n",
       "      <td>...</td>\n",
       "      <td>...</td>\n",
       "      <td>...</td>\n",
       "    </tr>\n",
       "    <tr>\n",
       "      <th>34946</th>\n",
       "      <td>112.43</td>\n",
       "      <td>112.48</td>\n",
       "      <td>111.33</td>\n",
       "      <td>112.09</td>\n",
       "      <td>0.822949</td>\n",
       "      <td>-0.002851</td>\n",
       "      <td>0.014684</td>\n",
       "      <td>1</td>\n",
       "      <td>0.010260</td>\n",
       "      <td>-0.003024</td>\n",
       "      <td>112.314</td>\n",
       "      <td>47.081544</td>\n",
       "    </tr>\n",
       "    <tr>\n",
       "      <th>34947</th>\n",
       "      <td>112.08</td>\n",
       "      <td>112.95</td>\n",
       "      <td>112.02</td>\n",
       "      <td>112.45</td>\n",
       "      <td>0.830596</td>\n",
       "      <td>0.003207</td>\n",
       "      <td>0.014773</td>\n",
       "      <td>-1</td>\n",
       "      <td>0.008270</td>\n",
       "      <td>0.003301</td>\n",
       "      <td>112.347</td>\n",
       "      <td>51.338584</td>\n",
       "    </tr>\n",
       "    <tr>\n",
       "      <th>34948</th>\n",
       "      <td>112.40</td>\n",
       "      <td>112.51</td>\n",
       "      <td>112.03</td>\n",
       "      <td>112.15</td>\n",
       "      <td>0.805553</td>\n",
       "      <td>-0.002671</td>\n",
       "      <td>0.014366</td>\n",
       "      <td>-1</td>\n",
       "      <td>0.004280</td>\n",
       "      <td>-0.002224</td>\n",
       "      <td>112.325</td>\n",
       "      <td>47.881784</td>\n",
       "    </tr>\n",
       "    <tr>\n",
       "      <th>34949</th>\n",
       "      <td>112.10</td>\n",
       "      <td>112.33</td>\n",
       "      <td>111.49</td>\n",
       "      <td>111.50</td>\n",
       "      <td>0.808014</td>\n",
       "      <td>-0.005813</td>\n",
       "      <td>0.014494</td>\n",
       "      <td>0</td>\n",
       "      <td>0.007534</td>\n",
       "      <td>-0.005352</td>\n",
       "      <td>112.227</td>\n",
       "      <td>41.380451</td>\n",
       "    </tr>\n",
       "    <tr>\n",
       "      <th>34950</th>\n",
       "      <td>111.53</td>\n",
       "      <td>111.66</td>\n",
       "      <td>110.90</td>\n",
       "      <td>111.02</td>\n",
       "      <td>0.804584</td>\n",
       "      <td>-0.004314</td>\n",
       "      <td>0.014494</td>\n",
       "      <td>0</td>\n",
       "      <td>0.006846</td>\n",
       "      <td>-0.004573</td>\n",
       "      <td>112.085</td>\n",
       "      <td>37.347640</td>\n",
       "    </tr>\n",
       "  </tbody>\n",
       "</table>\n",
       "<p>34937 rows × 12 columns</p>\n",
       "</div>"
      ],
      "text/plain": [
       "         open    high     low   close       atr   returns  dynamic_range  \\\n",
       "14      51.90   52.00   51.80   51.80  0.192857 -0.001929       0.007446   \n",
       "15      51.70   51.80   51.70   51.80  0.186224  0.000000       0.007190   \n",
       "16      51.80   51.80   51.70   51.80  0.180066  0.000000       0.006952   \n",
       "17      51.70   51.80   51.70   51.80  0.174347  0.000000       0.006732   \n",
       "18      51.80   51.80   51.80   51.80  0.161893  0.000000       0.006251   \n",
       "...       ...     ...     ...     ...       ...       ...            ...   \n",
       "34946  112.43  112.48  111.33  112.09  0.822949 -0.002851       0.014684   \n",
       "34947  112.08  112.95  112.02  112.45  0.830596  0.003207       0.014773   \n",
       "34948  112.40  112.51  112.03  112.15  0.805553 -0.002671       0.014366   \n",
       "34949  112.10  112.33  111.49  111.50  0.808014 -0.005813       0.014494   \n",
       "34950  111.53  111.66  110.90  111.02  0.804584 -0.004314       0.014494   \n",
       "\n",
       "       target  range_pct  body_pct   sma_10        rsi  \n",
       "14          1   0.003861 -0.001927   51.990  16.666667  \n",
       "15          1   0.001931  0.001934   51.950  16.666667  \n",
       "16          1   0.001931  0.000000   51.920  16.666667  \n",
       "17          1   0.001931  0.001934   51.890  16.666667  \n",
       "18          1   0.000000  0.000000   51.870  16.666667  \n",
       "...       ...        ...       ...      ...        ...  \n",
       "34946       1   0.010260 -0.003024  112.314  47.081544  \n",
       "34947      -1   0.008270  0.003301  112.347  51.338584  \n",
       "34948      -1   0.004280 -0.002224  112.325  47.881784  \n",
       "34949       0   0.007534 -0.005352  112.227  41.380451  \n",
       "34950       0   0.006846 -0.004573  112.085  37.347640  \n",
       "\n",
       "[34937 rows x 12 columns]"
      ]
     },
     "execution_count": 129,
     "metadata": {},
     "output_type": "execute_result"
    }
   ],
   "source": [
    "prepared_df"
   ]
  },
  {
   "cell_type": "code",
   "execution_count": 139,
   "metadata": {},
   "outputs": [
    {
     "data": {
      "text/plain": [
       "target\n",
       "-1    16770\n",
       " 1    16374\n",
       " 0     1793\n",
       "Name: count, dtype: int64"
      ]
     },
     "execution_count": 139,
     "metadata": {},
     "output_type": "execute_result"
    }
   ],
   "source": [
    "prepared_df.target.value_counts()"
   ]
  },
  {
   "cell_type": "code",
   "execution_count": 140,
   "metadata": {},
   "outputs": [],
   "source": [
    "pnl_1 = prepared_df[prepared_df['target'] == 1]['returns'].mean()  # Пример: +0.8%\n",
    "pnl_neg1 = prepared_df[prepared_df['target'] == -1]['returns'].abs().mean()  # Пример: -1.2%\n",
    "class_weights = [pnl_neg1, 0.0, pnl_1]  # Веса для [-1, 0, 1]"
   ]
  },
  {
   "cell_type": "code",
   "execution_count": 141,
   "metadata": {},
   "outputs": [
    {
     "data": {
      "text/plain": [
       "(0.9999494947576513,\n",
       " 1.0001081792491928,\n",
       " [1.0001081792491928, 0.0, 0.9999494947576513])"
      ]
     },
     "execution_count": 141,
     "metadata": {},
     "output_type": "execute_result"
    }
   ],
   "source": [
    "pnl_1, pnl_neg1, class_weights"
   ]
  },
  {
   "cell_type": "code",
   "execution_count": 142,
   "metadata": {},
   "outputs": [
    {
     "data": {
      "image/png": "[encoded data removed]",
      "text/plain": [
       "<Figure size 1000x500 with 1 Axes>"
      ]
     },
     "metadata": {},
     "output_type": "display_data"
    }
   ],
   "source": [
    "import matplotlib.pyplot as plt\n",
    "\n",
    "# Распределение результатов\n",
    "plt.figure(figsize=(10,5))\n",
    "prepared_df['target'].value_counts().plot(kind='bar')\n",
    "plt.title('Распределение исходов сделок')\n",
    "plt.xlabel('Результат (1=TP, -1=SL, 0=Timeout)')\n",
    "plt.ylabel('Количество')\n",
    "plt.show()"
   ]
  },
  {
   "cell_type": "code",
   "execution_count": 143,
   "metadata": {},
   "outputs": [
    {
     "name": "stdout",
     "output_type": "stream",
     "text": [
      "Средний TP: 99.9949%, Средний SL: 100.0108%\n"
     ]
    }
   ],
   "source": [
    "# Анализ прибыльности\n",
    "tp_profit = prepared_df[prepared_df['target'] == 1]['returns'].mean()\n",
    "sl_loss = prepared_df[prepared_df['target'] == -1]['returns'].abs().mean()\n",
    "print(f\"Средний TP: {tp_profit:.4%}, Средний SL: {sl_loss:.4%}\")"
   ]
  },
  {
   "cell_type": "code",
   "execution_count": 146,
   "metadata": {},
   "outputs": [
    {
     "data": {
      "text/html": [
       "<div>\n",
       "<style scoped>\n",
       "    .dataframe tbody tr th:only-of-type {\n",
       "        vertical-align: middle;\n",
       "    }\n",
       "\n",
       "    .dataframe tbody tr th {\n",
       "        vertical-align: top;\n",
       "    }\n",
       "\n",
       "    .dataframe thead th {\n",
       "        text-align: right;\n",
       "    }\n",
       "</style>\n",
       "<table border=\"1\" class=\"dataframe\">\n",
       "  <thead>\n",
       "    <tr style=\"text-align: right;\">\n",
       "      <th></th>\n",
       "      <th>index</th>\n",
       "      <th>open</th>\n",
       "      <th>high</th>\n",
       "      <th>low</th>\n",
       "      <th>close</th>\n",
       "      <th>atr</th>\n",
       "      <th>returns</th>\n",
       "      <th>dynamic_range</th>\n",
       "      <th>target</th>\n",
       "      <th>range_pct</th>\n",
       "      <th>body_pct</th>\n",
       "      <th>sma_10</th>\n",
       "      <th>rsi</th>\n",
       "    </tr>\n",
       "  </thead>\n",
       "  <tbody>\n",
       "    <tr>\n",
       "      <th>0</th>\n",
       "      <td>14</td>\n",
       "      <td>51.90</td>\n",
       "      <td>52.00</td>\n",
       "      <td>51.80</td>\n",
       "      <td>51.80</td>\n",
       "      <td>0.192857</td>\n",
       "      <td>0.998073</td>\n",
       "      <td>0.007446</td>\n",
       "      <td>1</td>\n",
       "      <td>0.003861</td>\n",
       "      <td>-0.001927</td>\n",
       "      <td>51.990</td>\n",
       "      <td>16.666667</td>\n",
       "    </tr>\n",
       "    <tr>\n",
       "      <th>1</th>\n",
       "      <td>15</td>\n",
       "      <td>51.70</td>\n",
       "      <td>51.80</td>\n",
       "      <td>51.70</td>\n",
       "      <td>51.80</td>\n",
       "      <td>0.186224</td>\n",
       "      <td>1.000000</td>\n",
       "      <td>0.007190</td>\n",
       "      <td>1</td>\n",
       "      <td>0.001931</td>\n",
       "      <td>0.001934</td>\n",
       "      <td>51.950</td>\n",
       "      <td>16.666667</td>\n",
       "    </tr>\n",
       "    <tr>\n",
       "      <th>2</th>\n",
       "      <td>16</td>\n",
       "      <td>51.80</td>\n",
       "      <td>51.80</td>\n",
       "      <td>51.70</td>\n",
       "      <td>51.80</td>\n",
       "      <td>0.180066</td>\n",
       "      <td>1.000000</td>\n",
       "      <td>0.006952</td>\n",
       "      <td>1</td>\n",
       "      <td>0.001931</td>\n",
       "      <td>0.000000</td>\n",
       "      <td>51.920</td>\n",
       "      <td>16.666667</td>\n",
       "    </tr>\n",
       "    <tr>\n",
       "      <th>3</th>\n",
       "      <td>17</td>\n",
       "      <td>51.70</td>\n",
       "      <td>51.80</td>\n",
       "      <td>51.70</td>\n",
       "      <td>51.80</td>\n",
       "      <td>0.174347</td>\n",
       "      <td>1.000000</td>\n",
       "      <td>0.006732</td>\n",
       "      <td>1</td>\n",
       "      <td>0.001931</td>\n",
       "      <td>0.001934</td>\n",
       "      <td>51.890</td>\n",
       "      <td>16.666667</td>\n",
       "    </tr>\n",
       "    <tr>\n",
       "      <th>4</th>\n",
       "      <td>18</td>\n",
       "      <td>51.80</td>\n",
       "      <td>51.80</td>\n",
       "      <td>51.80</td>\n",
       "      <td>51.80</td>\n",
       "      <td>0.161893</td>\n",
       "      <td>1.000000</td>\n",
       "      <td>0.006251</td>\n",
       "      <td>1</td>\n",
       "      <td>0.000000</td>\n",
       "      <td>0.000000</td>\n",
       "      <td>51.870</td>\n",
       "      <td>16.666667</td>\n",
       "    </tr>\n",
       "    <tr>\n",
       "      <th>...</th>\n",
       "      <td>...</td>\n",
       "      <td>...</td>\n",
       "      <td>...</td>\n",
       "      <td>...</td>\n",
       "      <td>...</td>\n",
       "      <td>...</td>\n",
       "      <td>...</td>\n",
       "      <td>...</td>\n",
       "      <td>...</td>\n",
       "      <td>...</td>\n",
       "      <td>...</td>\n",
       "      <td>...</td>\n",
       "      <td>...</td>\n",
       "    </tr>\n",
       "    <tr>\n",
       "      <th>34932</th>\n",
       "      <td>34946</td>\n",
       "      <td>112.43</td>\n",
       "      <td>112.48</td>\n",
       "      <td>111.33</td>\n",
       "      <td>112.09</td>\n",
       "      <td>0.822949</td>\n",
       "      <td>0.997153</td>\n",
       "      <td>0.014684</td>\n",
       "      <td>1</td>\n",
       "      <td>0.010260</td>\n",
       "      <td>-0.003024</td>\n",
       "      <td>112.314</td>\n",
       "      <td>47.081544</td>\n",
       "    </tr>\n",
       "    <tr>\n",
       "      <th>34933</th>\n",
       "      <td>34947</td>\n",
       "      <td>112.08</td>\n",
       "      <td>112.95</td>\n",
       "      <td>112.02</td>\n",
       "      <td>112.45</td>\n",
       "      <td>0.830596</td>\n",
       "      <td>1.003212</td>\n",
       "      <td>0.014773</td>\n",
       "      <td>-1</td>\n",
       "      <td>0.008270</td>\n",
       "      <td>0.003301</td>\n",
       "      <td>112.347</td>\n",
       "      <td>51.338584</td>\n",
       "    </tr>\n",
       "    <tr>\n",
       "      <th>34934</th>\n",
       "      <td>34948</td>\n",
       "      <td>112.40</td>\n",
       "      <td>112.51</td>\n",
       "      <td>112.03</td>\n",
       "      <td>112.15</td>\n",
       "      <td>0.805553</td>\n",
       "      <td>0.997332</td>\n",
       "      <td>0.014366</td>\n",
       "      <td>-1</td>\n",
       "      <td>0.004280</td>\n",
       "      <td>-0.002224</td>\n",
       "      <td>112.325</td>\n",
       "      <td>47.881784</td>\n",
       "    </tr>\n",
       "    <tr>\n",
       "      <th>34935</th>\n",
       "      <td>34949</td>\n",
       "      <td>112.10</td>\n",
       "      <td>112.33</td>\n",
       "      <td>111.49</td>\n",
       "      <td>111.50</td>\n",
       "      <td>0.808014</td>\n",
       "      <td>0.994204</td>\n",
       "      <td>0.014494</td>\n",
       "      <td>0</td>\n",
       "      <td>0.007534</td>\n",
       "      <td>-0.005352</td>\n",
       "      <td>112.227</td>\n",
       "      <td>41.380451</td>\n",
       "    </tr>\n",
       "    <tr>\n",
       "      <th>34936</th>\n",
       "      <td>34950</td>\n",
       "      <td>111.53</td>\n",
       "      <td>111.66</td>\n",
       "      <td>110.90</td>\n",
       "      <td>111.02</td>\n",
       "      <td>0.804584</td>\n",
       "      <td>0.995695</td>\n",
       "      <td>0.014494</td>\n",
       "      <td>0</td>\n",
       "      <td>0.006846</td>\n",
       "      <td>-0.004573</td>\n",
       "      <td>112.085</td>\n",
       "      <td>37.347640</td>\n",
       "    </tr>\n",
       "  </tbody>\n",
       "</table>\n",
       "<p>34937 rows × 13 columns</p>\n",
       "</div>"
      ],
      "text/plain": [
       "       index    open    high     low   close       atr   returns  \\\n",
       "0         14   51.90   52.00   51.80   51.80  0.192857  0.998073   \n",
       "1         15   51.70   51.80   51.70   51.80  0.186224  1.000000   \n",
       "2         16   51.80   51.80   51.70   51.80  0.180066  1.000000   \n",
       "3         17   51.70   51.80   51.70   51.80  0.174347  1.000000   \n",
       "4         18   51.80   51.80   51.80   51.80  0.161893  1.000000   \n",
       "...      ...     ...     ...     ...     ...       ...       ...   \n",
       "34932  34946  112.43  112.48  111.33  112.09  0.822949  0.997153   \n",
       "34933  34947  112.08  112.95  112.02  112.45  0.830596  1.003212   \n",
       "34934  34948  112.40  112.51  112.03  112.15  0.805553  0.997332   \n",
       "34935  34949  112.10  112.33  111.49  111.50  0.808014  0.994204   \n",
       "34936  34950  111.53  111.66  110.90  111.02  0.804584  0.995695   \n",
       "\n",
       "       dynamic_range  target  range_pct  body_pct   sma_10        rsi  \n",
       "0           0.007446       1   0.003861 -0.001927   51.990  16.666667  \n",
       "1           0.007190       1   0.001931  0.001934   51.950  16.666667  \n",
       "2           0.006952       1   0.001931  0.000000   51.920  16.666667  \n",
       "3           0.006732       1   0.001931  0.001934   51.890  16.666667  \n",
       "4           0.006251       1   0.000000  0.000000   51.870  16.666667  \n",
       "...              ...     ...        ...       ...      ...        ...  \n",
       "34932       0.014684       1   0.010260 -0.003024  112.314  47.081544  \n",
       "34933       0.014773      -1   0.008270  0.003301  112.347  51.338584  \n",
       "34934       0.014366      -1   0.004280 -0.002224  112.325  47.881784  \n",
       "34935       0.014494       0   0.007534 -0.005352  112.227  41.380451  \n",
       "34936       0.014494       0   0.006846 -0.004573  112.085  37.347640  \n",
       "\n",
       "[34937 rows x 13 columns]"
      ]
     },
     "execution_count": 146,
     "metadata": {},
     "output_type": "execute_result"
    }
   ],
   "source": [
    "df"
   ]
  },
  {
   "cell_type": "code",
   "execution_count": 174,
   "metadata": {},
   "outputs": [
    {
     "data": {
      "application/vnd.plotly.v1+json": {
       "config": {
        "plotlyServerURL": "https://plot.ly"
       },
       "data": [
        {
         "close": [
          51.8,
          51.8,
          51.7,
          51.8,
          51.6,
          51.6,
          51.7,
          51.6,
          51.7,
          51.7,
          51.7,
          51.8,
          51.8,
          51.7,
          51.8,
          52,
          52,
          52,
          52,
          52.1,
          52.1,
          52.1,
          52,
          52.1,
          52.3,
          52.4,
          52.3,
          52.2,
          52.1,
          52.1
         ],
         "high": [
          51.8,
          51.9,
          51.9,
          51.9,
          51.8,
          51.7,
          51.7,
          51.8,
          51.7,
          51.7,
          51.7,
          51.8,
          52,
          51.9,
          51.8,
          52,
          52,
          52,
          52.1,
          52.1,
          52.1,
          52.1,
          52.1,
          52.2,
          52.4,
          52.4,
          52.4,
          52.4,
          52.2,
          52.2
         ],
         "low": [
          51.7,
          51.8,
          51.7,
          51.7,
          51.5,
          51.4,
          51.5,
          51.6,
          51.6,
          51.7,
          51.6,
          51.7,
          51.7,
          51.7,
          51.7,
          51.8,
          51.8,
          51.9,
          52,
          52,
          52,
          52,
          51.9,
          52,
          52.1,
          52.3,
          52.3,
          52.1,
          52.1,
          52.1
         ],
         "name": "Candlestick",
         "open": [
          51.7,
          51.8,
          51.9,
          51.8,
          51.7,
          51.7,
          51.6,
          51.7,
          51.7,
          51.7,
          51.7,
          51.7,
          51.8,
          51.8,
          51.7,
          51.8,
          51.9,
          52,
          52,
          52,
          52.1,
          52,
          52.1,
          52,
          52.1,
          52.4,
          52.4,
          52.4,
          52.2,
          52.2
         ],
         "type": "candlestick",
         "x": [
          "2023-01-01 14:15:00",
          "2023-01-01 14:30:00",
          "2023-01-01 14:45:00",
          "2023-01-01 15:00:00",
          "2023-01-01 15:15:00",
          "2023-01-01 15:30:00",
          "2023-01-01 15:45:00",
          "2023-01-01 16:00:00",
          "2023-01-01 16:15:00",
          "2023-01-01 16:30:00",
          "2023-01-01 16:45:00",
          "2023-01-01 17:00:00",
          "2023-01-01 17:15:00",
          "2023-01-01 17:30:00",
          "2023-01-01 17:45:00",
          "2023-01-01 18:00:00",
          "2023-01-01 18:15:00",
          "2023-01-01 18:30:00",
          "2023-01-01 18:45:00",
          "2023-01-01 19:00:00",
          "2023-01-01 19:15:00",
          "2023-01-01 19:30:00",
          "2023-01-01 19:45:00",
          "2023-01-01 20:00:00",
          "2023-01-01 20:15:00",
          "2023-01-01 20:30:00",
          "2023-01-01 20:45:00",
          "2023-01-01 21:00:00",
          "2023-01-01 21:15:00",
          "2023-01-01 21:30:00"
         ]
        },
        {
         "mode": "text",
         "showlegend": false,
         "text": "1",
         "textposition": "top center",
         "type": "scatter",
         "x": [
          "2023-01-01 14:15:00"
         ],
         "y": [
          51.8
         ]
        },
        {
         "mode": "text",
         "showlegend": false,
         "text": "-1",
         "textposition": "top center",
         "type": "scatter",
         "x": [
          "2023-01-01 14:30:00"
         ],
         "y": [
          51.8
         ]
        },
        {
         "mode": "text",
         "showlegend": false,
         "text": "1",
         "textposition": "top center",
         "type": "scatter",
         "x": [
          "2023-01-01 14:45:00"
         ],
         "y": [
          51.7
         ]
        },
        {
         "mode": "text",
         "showlegend": false,
         "text": "-1",
         "textposition": "top center",
         "type": "scatter",
         "x": [
          "2023-01-01 15:00:00"
         ],
         "y": [
          51.8
         ]
        },
        {
         "mode": "text",
         "showlegend": false,
         "text": "-1",
         "textposition": "top center",
         "type": "scatter",
         "x": [
          "2023-01-01 15:15:00"
         ],
         "y": [
          51.6
         ]
        },
        {
         "mode": "text",
         "showlegend": false,
         "text": "1",
         "textposition": "top center",
         "type": "scatter",
         "x": [
          "2023-01-01 15:30:00"
         ],
         "y": [
          51.6
         ]
        },
        {
         "mode": "text",
         "showlegend": false,
         "text": "-1",
         "textposition": "top center",
         "type": "scatter",
         "x": [
          "2023-01-01 15:45:00"
         ],
         "y": [
          51.7
         ]
        },
        {
         "mode": "text",
         "showlegend": false,
         "text": "1",
         "textposition": "top center",
         "type": "scatter",
         "x": [
          "2023-01-01 16:00:00"
         ],
         "y": [
          51.6
         ]
        },
        {
         "mode": "text",
         "showlegend": false,
         "text": "-1",
         "textposition": "top center",
         "type": "scatter",
         "x": [
          "2023-01-01 16:15:00"
         ],
         "y": [
          51.7
         ]
        },
        {
         "mode": "text",
         "showlegend": false,
         "text": "-1",
         "textposition": "top center",
         "type": "scatter",
         "x": [
          "2023-01-01 16:30:00"
         ],
         "y": [
          51.7
         ]
        },
        {
         "mode": "text",
         "showlegend": false,
         "text": "1",
         "textposition": "top center",
         "type": "scatter",
         "x": [
          "2023-01-01 16:45:00"
         ],
         "y": [
          51.7
         ]
        },
        {
         "mode": "text",
         "showlegend": false,
         "text": "-1",
         "textposition": "top center",
         "type": "scatter",
         "x": [
          "2023-01-01 17:00:00"
         ],
         "y": [
          51.8
         ]
        },
        {
         "mode": "text",
         "showlegend": false,
         "text": "-1",
         "textposition": "top center",
         "type": "scatter",
         "x": [
          "2023-01-01 17:15:00"
         ],
         "y": [
          51.8
         ]
        },
        {
         "mode": "text",
         "showlegend": false,
         "text": "1",
         "textposition": "top center",
         "type": "scatter",
         "x": [
          "2023-01-01 17:30:00"
         ],
         "y": [
          51.7
         ]
        },
        {
         "mode": "text",
         "showlegend": false,
         "text": "1",
         "textposition": "top center",
         "type": "scatter",
         "x": [
          "2023-01-01 17:45:00"
         ],
         "y": [
          51.8
         ]
        },
        {
         "mode": "text",
         "showlegend": false,
         "text": "-1",
         "textposition": "top center",
         "type": "scatter",
         "x": [
          "2023-01-01 18:00:00"
         ],
         "y": [
          52
         ]
        },
        {
         "mode": "text",
         "showlegend": false,
         "text": "-1",
         "textposition": "top center",
         "type": "scatter",
         "x": [
          "2023-01-01 18:15:00"
         ],
         "y": [
          52
         ]
        },
        {
         "mode": "text",
         "showlegend": false,
         "text": "1",
         "textposition": "top center",
         "type": "scatter",
         "x": [
          "2023-01-01 18:30:00"
         ],
         "y": [
          52
         ]
        },
        {
         "mode": "text",
         "showlegend": false,
         "text": "1",
         "textposition": "top center",
         "type": "scatter",
         "x": [
          "2023-01-01 18:45:00"
         ],
         "y": [
          52
         ]
        },
        {
         "mode": "text",
         "showlegend": false,
         "text": "-1",
         "textposition": "top center",
         "type": "scatter",
         "x": [
          "2023-01-01 19:00:00"
         ],
         "y": [
          52.1
         ]
        },
        {
         "mode": "text",
         "showlegend": false,
         "text": "-1",
         "textposition": "top center",
         "type": "scatter",
         "x": [
          "2023-01-01 19:15:00"
         ],
         "y": [
          52.1
         ]
        },
        {
         "mode": "text",
         "showlegend": false,
         "text": "-1",
         "textposition": "top center",
         "type": "scatter",
         "x": [
          "2023-01-01 19:30:00"
         ],
         "y": [
          52.1
         ]
        },
        {
         "mode": "text",
         "showlegend": false,
         "text": "1",
         "textposition": "top center",
         "type": "scatter",
         "x": [
          "2023-01-01 19:45:00"
         ],
         "y": [
          52
         ]
        },
        {
         "mode": "text",
         "showlegend": false,
         "text": "1",
         "textposition": "top center",
         "type": "scatter",
         "x": [
          "2023-01-01 20:00:00"
         ],
         "y": [
          52.1
         ]
        },
        {
         "mode": "text",
         "showlegend": false,
         "text": "1",
         "textposition": "top center",
         "type": "scatter",
         "x": [
          "2023-01-01 20:15:00"
         ],
         "y": [
          52.3
         ]
        },
        {
         "mode": "text",
         "showlegend": false,
         "text": "-1",
         "textposition": "top center",
         "type": "scatter",
         "x": [
          "2023-01-01 20:30:00"
         ],
         "y": [
          52.4
         ]
        },
        {
         "mode": "text",
         "showlegend": false,
         "text": "-1",
         "textposition": "top center",
         "type": "scatter",
         "x": [
          "2023-01-01 20:45:00"
         ],
         "y": [
          52.3
         ]
        },
        {
         "mode": "text",
         "showlegend": false,
         "text": "-1",
         "textposition": "top center",
         "type": "scatter",
         "x": [
          "2023-01-01 21:00:00"
         ],
         "y": [
          52.2
         ]
        },
        {
         "mode": "text",
         "showlegend": false,
         "text": "1",
         "textposition": "top center",
         "type": "scatter",
         "x": [
          "2023-01-01 21:15:00"
         ],
         "y": [
          52.1
         ]
        },
        {
         "mode": "text",
         "showlegend": false,
         "text": "1",
         "textposition": "top center",
         "type": "scatter",
         "x": [
          "2023-01-01 21:30:00"
         ],
         "y": [
          52.1
         ]
        },
        {
         "marker": {
          "color": "green",
          "size": 8
         },
         "mode": "markers+text",
         "showlegend": false,
         "text": "51.98",
         "textposition": "top center",
         "type": "scatter",
         "x": [
          "2023-01-01 14:30:00"
         ],
         "y": [
          51.9813
         ]
        },
        {
         "marker": {
          "color": "red",
          "size": 8
         },
         "mode": "markers+text",
         "showlegend": false,
         "text": "51.62",
         "textposition": "bottom center",
         "type": "scatter",
         "x": [
          "2023-01-01 14:30:00"
         ],
         "y": [
          51.6187
         ]
        },
        {
         "marker": {
          "color": "green",
          "size": 8
         },
         "mode": "markers+text",
         "showlegend": false,
         "text": "51.98",
         "textposition": "top center",
         "type": "scatter",
         "x": [
          "2023-01-01 14:45:00"
         ],
         "y": [
          51.9813
         ]
        },
        {
         "marker": {
          "color": "red",
          "size": 8
         },
         "mode": "markers+text",
         "showlegend": false,
         "text": "51.62",
         "textposition": "bottom center",
         "type": "scatter",
         "x": [
          "2023-01-01 14:45:00"
         ],
         "y": [
          51.6187
         ]
        },
        {
         "marker": {
          "color": "green",
          "size": 8
         },
         "mode": "markers+text",
         "showlegend": false,
         "text": "51.88",
         "textposition": "top center",
         "type": "scatter",
         "x": [
          "2023-01-01 15:00:00"
         ],
         "y": [
          51.880950000000006
         ]
        },
        {
         "marker": {
          "color": "red",
          "size": 8
         },
         "mode": "markers+text",
         "showlegend": false,
         "text": "51.52",
         "textposition": "bottom center",
         "type": "scatter",
         "x": [
          "2023-01-01 15:00:00"
         ],
         "y": [
          51.51905000000001
         ]
        },
        {
         "marker": {
          "color": "green",
          "size": 8
         },
         "mode": "markers+text",
         "showlegend": false,
         "text": "51.98",
         "textposition": "top center",
         "type": "scatter",
         "x": [
          "2023-01-01 15:15:00"
         ],
         "y": [
          51.9813
         ]
        },
        {
         "marker": {
          "color": "red",
          "size": 8
         },
         "mode": "markers+text",
         "showlegend": false,
         "text": "51.62",
         "textposition": "bottom center",
         "type": "scatter",
         "x": [
          "2023-01-01 15:15:00"
         ],
         "y": [
          51.6187
         ]
        },
        {
         "marker": {
          "color": "green",
          "size": 8
         },
         "mode": "markers+text",
         "showlegend": false,
         "text": "51.78",
         "textposition": "top center",
         "type": "scatter",
         "x": [
          "2023-01-01 15:30:00"
         ],
         "y": [
          51.78060000000001
         ]
        },
        {
         "marker": {
          "color": "red",
          "size": 8
         },
         "mode": "markers+text",
         "showlegend": false,
         "text": "51.42",
         "textposition": "bottom center",
         "type": "scatter",
         "x": [
          "2023-01-01 15:30:00"
         ],
         "y": [
          51.4194
         ]
        },
        {
         "marker": {
          "color": "green",
          "size": 8
         },
         "mode": "markers+text",
         "showlegend": false,
         "text": "51.78",
         "textposition": "top center",
         "type": "scatter",
         "x": [
          "2023-01-01 15:45:00"
         ],
         "y": [
          51.78060000000001
         ]
        },
        {
         "marker": {
          "color": "red",
          "size": 8
         },
         "mode": "markers+text",
         "showlegend": false,
         "text": "51.42",
         "textposition": "bottom center",
         "type": "scatter",
         "x": [
          "2023-01-01 15:45:00"
         ],
         "y": [
          51.4194
         ]
        },
        {
         "marker": {
          "color": "green",
          "size": 8
         },
         "mode": "markers+text",
         "showlegend": false,
         "text": "51.88",
         "textposition": "top center",
         "type": "scatter",
         "x": [
          "2023-01-01 16:00:00"
         ],
         "y": [
          51.88128445973712
         ]
        },
        {
         "marker": {
          "color": "red",
          "size": 8
         },
         "mode": "markers+text",
         "showlegend": false,
         "text": "51.52",
         "textposition": "bottom center",
         "type": "scatter",
         "x": [
          "2023-01-01 16:00:00"
         ],
         "y": [
          51.518715540262896
         ]
        },
        {
         "marker": {
          "color": "green",
          "size": 8
         },
         "mode": "markers+text",
         "showlegend": false,
         "text": "51.78",
         "textposition": "top center",
         "type": "scatter",
         "x": [
          "2023-01-01 16:15:00"
         ],
         "y": [
          51.7826212840416
         ]
        },
        {
         "marker": {
          "color": "red",
          "size": 8
         },
         "mode": "markers+text",
         "showlegend": false,
         "text": "51.42",
         "textposition": "bottom center",
         "type": "scatter",
         "x": [
          "2023-01-01 16:15:00"
         ],
         "y": [
          51.41737871595841
         ]
        },
        {
         "marker": {
          "color": "green",
          "size": 8
         },
         "mode": "markers+text",
         "showlegend": false,
         "text": "51.88",
         "textposition": "top center",
         "type": "scatter",
         "x": [
          "2023-01-01 16:30:00"
         ],
         "y": [
          51.880950000000006
         ]
        },
        {
         "marker": {
          "color": "red",
          "size": 8
         },
         "mode": "markers+text",
         "showlegend": false,
         "text": "51.52",
         "textposition": "bottom center",
         "type": "scatter",
         "x": [
          "2023-01-01 16:30:00"
         ],
         "y": [
          51.51905000000001
         ]
        },
        {
         "marker": {
          "color": "green",
          "size": 8
         },
         "mode": "markers+text",
         "showlegend": false,
         "text": "51.88",
         "textposition": "top center",
         "type": "scatter",
         "x": [
          "2023-01-01 16:45:00"
         ],
         "y": [
          51.880950000000006
         ]
        },
        {
         "marker": {
          "color": "red",
          "size": 8
         },
         "mode": "markers+text",
         "showlegend": false,
         "text": "51.52",
         "textposition": "bottom center",
         "type": "scatter",
         "x": [
          "2023-01-01 16:45:00"
         ],
         "y": [
          51.51905000000001
         ]
        },
        {
         "marker": {
          "color": "green",
          "size": 8
         },
         "mode": "markers+text",
         "showlegend": false,
         "text": "51.88",
         "textposition": "top center",
         "type": "scatter",
         "x": [
          "2023-01-01 17:00:00"
         ],
         "y": [
          51.880950000000006
         ]
        },
        {
         "marker": {
          "color": "red",
          "size": 8
         },
         "mode": "markers+text",
         "showlegend": false,
         "text": "51.52",
         "textposition": "bottom center",
         "type": "scatter",
         "x": [
          "2023-01-01 17:00:00"
         ],
         "y": [
          51.51905000000001
         ]
        },
        {
         "marker": {
          "color": "green",
          "size": 8
         },
         "mode": "markers+text",
         "showlegend": false,
         "text": "51.98",
         "textposition": "top center",
         "type": "scatter",
         "x": [
          "2023-01-01 17:15:00"
         ],
         "y": [
          51.9813
         ]
        },
        {
         "marker": {
          "color": "red",
          "size": 8
         },
         "mode": "markers+text",
         "showlegend": false,
         "text": "51.62",
         "textposition": "bottom center",
         "type": "scatter",
         "x": [
          "2023-01-01 17:15:00"
         ],
         "y": [
          51.6187
         ]
        },
        {
         "marker": {
          "color": "green",
          "size": 8
         },
         "mode": "markers+text",
         "showlegend": false,
         "text": "51.98",
         "textposition": "top center",
         "type": "scatter",
         "x": [
          "2023-01-01 17:30:00"
         ],
         "y": [
          51.9813
         ]
        },
        {
         "marker": {
          "color": "red",
          "size": 8
         },
         "mode": "markers+text",
         "showlegend": false,
         "text": "51.62",
         "textposition": "bottom center",
         "type": "scatter",
         "x": [
          "2023-01-01 17:30:00"
         ],
         "y": [
          51.6187
         ]
        },
        {
         "marker": {
          "color": "green",
          "size": 8
         },
         "mode": "markers+text",
         "showlegend": false,
         "text": "51.88",
         "textposition": "top center",
         "type": "scatter",
         "x": [
          "2023-01-01 17:45:00"
         ],
         "y": [
          51.880950000000006
         ]
        },
        {
         "marker": {
          "color": "red",
          "size": 8
         },
         "mode": "markers+text",
         "showlegend": false,
         "text": "51.52",
         "textposition": "bottom center",
         "type": "scatter",
         "x": [
          "2023-01-01 17:45:00"
         ],
         "y": [
          51.51905000000001
         ]
        },
        {
         "marker": {
          "color": "green",
          "size": 8
         },
         "mode": "markers+text",
         "showlegend": false,
         "text": "51.98",
         "textposition": "top center",
         "type": "scatter",
         "x": [
          "2023-01-01 18:00:00"
         ],
         "y": [
          51.9813
         ]
        },
        {
         "marker": {
          "color": "red",
          "size": 8
         },
         "mode": "markers+text",
         "showlegend": false,
         "text": "51.62",
         "textposition": "bottom center",
         "type": "scatter",
         "x": [
          "2023-01-01 18:00:00"
         ],
         "y": [
          51.6187
         ]
        },
        {
         "marker": {
          "color": "green",
          "size": 8
         },
         "mode": "markers+text",
         "showlegend": false,
         "text": "52.18",
         "textposition": "top center",
         "type": "scatter",
         "x": [
          "2023-01-01 18:15:00"
         ],
         "y": [
          52.182
         ]
        },
        {
         "marker": {
          "color": "red",
          "size": 8
         },
         "mode": "markers+text",
         "showlegend": false,
         "text": "51.82",
         "textposition": "bottom center",
         "type": "scatter",
         "x": [
          "2023-01-01 18:15:00"
         ],
         "y": [
          51.818000000000005
         ]
        },
        {
         "marker": {
          "color": "green",
          "size": 8
         },
         "mode": "markers+text",
         "showlegend": false,
         "text": "52.18",
         "textposition": "top center",
         "type": "scatter",
         "x": [
          "2023-01-01 18:30:00"
         ],
         "y": [
          52.182
         ]
        },
        {
         "marker": {
          "color": "red",
          "size": 8
         },
         "mode": "markers+text",
         "showlegend": false,
         "text": "51.82",
         "textposition": "bottom center",
         "type": "scatter",
         "x": [
          "2023-01-01 18:30:00"
         ],
         "y": [
          51.818000000000005
         ]
        },
        {
         "marker": {
          "color": "green",
          "size": 8
         },
         "mode": "markers+text",
         "showlegend": false,
         "text": "52.18",
         "textposition": "top center",
         "type": "scatter",
         "x": [
          "2023-01-01 18:45:00"
         ],
         "y": [
          52.182
         ]
        },
        {
         "marker": {
          "color": "red",
          "size": 8
         },
         "mode": "markers+text",
         "showlegend": false,
         "text": "51.82",
         "textposition": "bottom center",
         "type": "scatter",
         "x": [
          "2023-01-01 18:45:00"
         ],
         "y": [
          51.818000000000005
         ]
        },
        {
         "marker": {
          "color": "green",
          "size": 8
         },
         "mode": "markers+text",
         "showlegend": false,
         "text": "52.18",
         "textposition": "top center",
         "type": "scatter",
         "x": [
          "2023-01-01 19:00:00"
         ],
         "y": [
          52.182
         ]
        },
        {
         "marker": {
          "color": "red",
          "size": 8
         },
         "mode": "markers+text",
         "showlegend": false,
         "text": "51.82",
         "textposition": "bottom center",
         "type": "scatter",
         "x": [
          "2023-01-01 19:00:00"
         ],
         "y": [
          51.818000000000005
         ]
        },
        {
         "marker": {
          "color": "green",
          "size": 8
         },
         "mode": "markers+text",
         "showlegend": false,
         "text": "52.28",
         "textposition": "top center",
         "type": "scatter",
         "x": [
          "2023-01-01 19:15:00"
         ],
         "y": [
          52.28235
         ]
        },
        {
         "marker": {
          "color": "red",
          "size": 8
         },
         "mode": "markers+text",
         "showlegend": false,
         "text": "51.92",
         "textposition": "bottom center",
         "type": "scatter",
         "x": [
          "2023-01-01 19:15:00"
         ],
         "y": [
          51.91765
         ]
        },
        {
         "marker": {
          "color": "green",
          "size": 8
         },
         "mode": "markers+text",
         "showlegend": false,
         "text": "52.28",
         "textposition": "top center",
         "type": "scatter",
         "x": [
          "2023-01-01 19:30:00"
         ],
         "y": [
          52.28235
         ]
        },
        {
         "marker": {
          "color": "red",
          "size": 8
         },
         "mode": "markers+text",
         "showlegend": false,
         "text": "51.92",
         "textposition": "bottom center",
         "type": "scatter",
         "x": [
          "2023-01-01 19:30:00"
         ],
         "y": [
          51.91765
         ]
        },
        {
         "marker": {
          "color": "green",
          "size": 8
         },
         "mode": "markers+text",
         "showlegend": false,
         "text": "52.28",
         "textposition": "top center",
         "type": "scatter",
         "x": [
          "2023-01-01 19:45:00"
         ],
         "y": [
          52.28235
         ]
        },
        {
         "marker": {
          "color": "red",
          "size": 8
         },
         "mode": "markers+text",
         "showlegend": false,
         "text": "51.92",
         "textposition": "bottom center",
         "type": "scatter",
         "x": [
          "2023-01-01 19:45:00"
         ],
         "y": [
          51.91765
         ]
        },
        {
         "marker": {
          "color": "green",
          "size": 8
         },
         "mode": "markers+text",
         "showlegend": false,
         "text": "52.18",
         "textposition": "top center",
         "type": "scatter",
         "x": [
          "2023-01-01 20:00:00"
         ],
         "y": [
          52.182
         ]
        },
        {
         "marker": {
          "color": "red",
          "size": 8
         },
         "mode": "markers+text",
         "showlegend": false,
         "text": "51.82",
         "textposition": "bottom center",
         "type": "scatter",
         "x": [
          "2023-01-01 20:00:00"
         ],
         "y": [
          51.818000000000005
         ]
        },
        {
         "marker": {
          "color": "green",
          "size": 8
         },
         "mode": "markers+text",
         "showlegend": false,
         "text": "52.28",
         "textposition": "top center",
         "type": "scatter",
         "x": [
          "2023-01-01 20:15:00"
         ],
         "y": [
          52.28235
         ]
        },
        {
         "marker": {
          "color": "red",
          "size": 8
         },
         "mode": "markers+text",
         "showlegend": false,
         "text": "51.92",
         "textposition": "bottom center",
         "type": "scatter",
         "x": [
          "2023-01-01 20:15:00"
         ],
         "y": [
          51.91765
         ]
        },
        {
         "marker": {
          "color": "green",
          "size": 8
         },
         "mode": "markers+text",
         "showlegend": false,
         "text": "52.48",
         "textposition": "top center",
         "type": "scatter",
         "x": [
          "2023-01-01 20:30:00"
         ],
         "y": [
          52.48305
         ]
        },
        {
         "marker": {
          "color": "red",
          "size": 8
         },
         "mode": "markers+text",
         "showlegend": false,
         "text": "52.12",
         "textposition": "bottom center",
         "type": "scatter",
         "x": [
          "2023-01-01 20:30:00"
         ],
         "y": [
          52.11695
         ]
        },
        {
         "marker": {
          "color": "green",
          "size": 8
         },
         "mode": "markers+text",
         "showlegend": false,
         "text": "52.58",
         "textposition": "top center",
         "type": "scatter",
         "x": [
          "2023-01-01 20:45:00"
         ],
         "y": [
          52.583400000000005
         ]
        },
        {
         "marker": {
          "color": "red",
          "size": 8
         },
         "mode": "markers+text",
         "showlegend": false,
         "text": "52.22",
         "textposition": "bottom center",
         "type": "scatter",
         "x": [
          "2023-01-01 20:45:00"
         ],
         "y": [
          52.2166
         ]
        },
        {
         "marker": {
          "color": "green",
          "size": 8
         },
         "mode": "markers+text",
         "showlegend": false,
         "text": "52.48",
         "textposition": "top center",
         "type": "scatter",
         "x": [
          "2023-01-01 21:00:00"
         ],
         "y": [
          52.48305
         ]
        },
        {
         "marker": {
          "color": "red",
          "size": 8
         },
         "mode": "markers+text",
         "showlegend": false,
         "text": "52.12",
         "textposition": "bottom center",
         "type": "scatter",
         "x": [
          "2023-01-01 21:00:00"
         ],
         "y": [
          52.11695
         ]
        },
        {
         "marker": {
          "color": "green",
          "size": 8
         },
         "mode": "markers+text",
         "showlegend": false,
         "text": "52.38",
         "textposition": "top center",
         "type": "scatter",
         "x": [
          "2023-01-01 21:15:00"
         ],
         "y": [
          52.38270000000001
         ]
        },
        {
         "marker": {
          "color": "red",
          "size": 8
         },
         "mode": "markers+text",
         "showlegend": false,
         "text": "52.02",
         "textposition": "bottom center",
         "type": "scatter",
         "x": [
          "2023-01-01 21:15:00"
         ],
         "y": [
          52.017300000000006
         ]
        },
        {
         "marker": {
          "color": "green",
          "size": 8
         },
         "mode": "markers+text",
         "showlegend": false,
         "text": "52.28",
         "textposition": "top center",
         "type": "scatter",
         "x": [
          "2023-01-01 21:30:00"
         ],
         "y": [
          52.28235
         ]
        },
        {
         "marker": {
          "color": "red",
          "size": 8
         },
         "mode": "markers+text",
         "showlegend": false,
         "text": "51.92",
         "textposition": "bottom center",
         "type": "scatter",
         "x": [
          "2023-01-01 21:30:00"
         ],
         "y": [
          51.91765
         ]
        }
       ],
       "layout": {
        "template": {
         "data": {
          "bar": [
           {
            "error_x": {
             "color": "#2a3f5f"
            },
            "error_y": {
             "color": "#2a3f5f"
            },
            "marker": {
             "line": {
              "color": "white",
              "width": 0.5
             },
             "pattern": {
              "fillmode": "overlay",
              "size": 10,
              "solidity": 0.2
             }
            },
            "type": "bar"
           }
          ],
          "barpolar": [
           {
            "marker": {
             "line": {
              "color": "white",
              "width": 0.5
             },
             "pattern": {
              "fillmode": "overlay",
              "size": 10,
              "solidity": 0.2
             }
            },
            "type": "barpolar"
           }
          ],
          "carpet": [
           {
            "aaxis": {
             "endlinecolor": "#2a3f5f",
             "gridcolor": "#C8D4E3",
             "linecolor": "#C8D4E3",
             "minorgridcolor": "#C8D4E3",
             "startlinecolor": "#2a3f5f"
            },
            "baxis": {
             "endlinecolor": "#2a3f5f",
             "gridcolor": "#C8D4E3",
             "linecolor": "#C8D4E3",
             "minorgridcolor": "#C8D4E3",
             "startlinecolor": "#2a3f5f"
            },
            "type": "carpet"
           }
          ],
          "choropleth": [
           {
            "colorbar": {
             "outlinewidth": 0,
             "ticks": ""
            },
            "type": "choropleth"
           }
          ],
          "contour": [
           {
            "colorbar": {
             "outlinewidth": 0,
             "ticks": ""
            },
            "colorscale": [
             [
              0,
              "#0d0887"
             ],
             [
              0.1111111111111111,
              "#46039f"
             ],
             [
              0.2222222222222222,
              "#7201a8"
             ],
             [
              0.3333333333333333,
              "#9c179e"
             ],
             [
              0.4444444444444444,
              "#bd3786"
             ],
             [
              0.5555555555555556,
              "#d8576b"
             ],
             [
              0.6666666666666666,
              "#ed7953"
             ],
             [
              0.7777777777777778,
              "#fb9f3a"
             ],
             [
              0.8888888888888888,
              "#fdca26"
             ],
             [
              1,
              "#f0f921"
             ]
            ],
            "type": "contour"
           }
          ],
          "contourcarpet": [
           {
            "colorbar": {
             "outlinewidth": 0,
             "ticks": ""
            },
            "type": "contourcarpet"
           }
          ],
          "heatmap": [
           {
            "colorbar": {
             "outlinewidth": 0,
             "ticks": ""
            },
            "colorscale": [
             [
              0,
              "#0d0887"
             ],
             [
              0.1111111111111111,
              "#46039f"
             ],
             [
              0.2222222222222222,
              "#7201a8"
             ],
             [
              0.3333333333333333,
              "#9c179e"
             ],
             [
              0.4444444444444444,
              "#bd3786"
             ],
             [
              0.5555555555555556,
              "#d8576b"
             ],
             [
              0.6666666666666666,
              "#ed7953"
             ],
             [
              0.7777777777777778,
              "#fb9f3a"
             ],
             [
              0.8888888888888888,
              "#fdca26"
             ],
             [
              1,
              "#f0f921"
             ]
            ],
            "type": "heatmap"
           }
          ],
          "heatmapgl": [
           {
            "colorbar": {
             "outlinewidth": 0,
             "ticks": ""
            },
            "colorscale": [
             [
              0,
              "#0d0887"
             ],
             [
              0.1111111111111111,
              "#46039f"
             ],
             [
              0.2222222222222222,
              "#7201a8"
             ],
             [
              0.3333333333333333,
              "#9c179e"
             ],
             [
              0.4444444444444444,
              "#bd3786"
             ],
             [
              0.5555555555555556,
              "#d8576b"
             ],
             [
              0.6666666666666666,
              "#ed7953"
             ],
             [
              0.7777777777777778,
              "#fb9f3a"
             ],
             [
              0.8888888888888888,
              "#fdca26"
             ],
             [
              1,
              "#f0f921"
             ]
            ],
            "type": "heatmapgl"
           }
          ],
          "histogram": [
           {
            "marker": {
             "pattern": {
              "fillmode": "overlay",
              "size": 10,
              "solidity": 0.2
             }
            },
            "type": "histogram"
           }
          ],
          "histogram2d": [
           {
            "colorbar": {
             "outlinewidth": 0,
             "ticks": ""
            },
            "colorscale": [
             [
              0,
              "#0d0887"
             ],
             [
              0.1111111111111111,
              "#46039f"
             ],
             [
              0.2222222222222222,
              "#7201a8"
             ],
             [
              0.3333333333333333,
              "#9c179e"
             ],
             [
              0.4444444444444444,
              "#bd3786"
             ],
             [
              0.5555555555555556,
              "#d8576b"
             ],
             [
              0.6666666666666666,
              "#ed7953"
             ],
             [
              0.7777777777777778,
              "#fb9f3a"
             ],
             [
              0.8888888888888888,
              "#fdca26"
             ],
             [
              1,
              "#f0f921"
             ]
            ],
            "type": "histogram2d"
           }
          ],
          "histogram2dcontour": [
           {
            "colorbar": {
             "outlinewidth": 0,
             "ticks": ""
            },
            "colorscale": [
             [
              0,
              "#0d0887"
             ],
             [
              0.1111111111111111,
              "#46039f"
             ],
             [
              0.2222222222222222,
              "#7201a8"
             ],
             [
              0.3333333333333333,
              "#9c179e"
             ],
             [
              0.4444444444444444,
              "#bd3786"
             ],
             [
              0.5555555555555556,
              "#d8576b"
             ],
             [
              0.6666666666666666,
              "#ed7953"
             ],
             [
              0.7777777777777778,
              "#fb9f3a"
             ],
             [
              0.8888888888888888,
              "#fdca26"
             ],
             [
              1,
              "#f0f921"
             ]
            ],
            "type": "histogram2dcontour"
           }
          ],
          "mesh3d": [
           {
            "colorbar": {
             "outlinewidth": 0,
             "ticks": ""
            },
            "type": "mesh3d"
           }
          ],
          "parcoords": [
           {
            "line": {
             "colorbar": {
              "outlinewidth": 0,
              "ticks": ""
             }
            },
            "type": "parcoords"
           }
          ],
          "pie": [
           {
            "automargin": true,
            "type": "pie"
           }
          ],
          "scatter": [
           {
            "fillpattern": {
             "fillmode": "overlay",
             "size": 10,
             "solidity": 0.2
            },
            "type": "scatter"
           }
          ],
          "scatter3d": [
           {
            "line": {
             "colorbar": {
              "outlinewidth": 0,
              "ticks": ""
             }
            },
            "marker": {
             "colorbar": {
              "outlinewidth": 0,
              "ticks": ""
             }
            },
            "type": "scatter3d"
           }
          ],
          "scattercarpet": [
           {
            "marker": {
             "colorbar": {
              "outlinewidth": 0,
              "ticks": ""
             }
            },
            "type": "scattercarpet"
           }
          ],
          "scattergeo": [
           {
            "marker": {
             "colorbar": {
              "outlinewidth": 0,
              "ticks": ""
             }
            },
            "type": "scattergeo"
           }
          ],
          "scattergl": [
           {
            "marker": {
             "colorbar": {
              "outlinewidth": 0,
              "ticks": ""
             }
            },
            "type": "scattergl"
           }
          ],
          "scattermapbox": [
           {
            "marker": {
             "colorbar": {
              "outlinewidth": 0,
              "ticks": ""
             }
            },
            "type": "scattermapbox"
           }
          ],
          "scatterpolar": [
           {
            "marker": {
             "colorbar": {
              "outlinewidth": 0,
              "ticks": ""
             }
            },
            "type": "scatterpolar"
           }
          ],
          "scatterpolargl": [
           {
            "marker": {
             "colorbar": {
              "outlinewidth": 0,
              "ticks": ""
             }
            },
            "type": "scatterpolargl"
           }
          ],
          "scatterternary": [
           {
            "marker": {
             "colorbar": {
              "outlinewidth": 0,
              "ticks": ""
             }
            },
            "type": "scatterternary"
           }
          ],
          "surface": [
           {
            "colorbar": {
             "outlinewidth": 0,
             "ticks": ""
            },
            "colorscale": [
             [
              0,
              "#0d0887"
             ],
             [
              0.1111111111111111,
              "#46039f"
             ],
             [
              0.2222222222222222,
              "#7201a8"
             ],
             [
              0.3333333333333333,
              "#9c179e"
             ],
             [
              0.4444444444444444,
              "#bd3786"
             ],
             [
              0.5555555555555556,
              "#d8576b"
             ],
             [
              0.6666666666666666,
              "#ed7953"
             ],
             [
              0.7777777777777778,
              "#fb9f3a"
             ],
             [
              0.8888888888888888,
              "#fdca26"
             ],
             [
              1,
              "#f0f921"
             ]
            ],
            "type": "surface"
           }
          ],
          "table": [
           {
            "cells": {
             "fill": {
              "color": "#EBF0F8"
             },
             "line": {
              "color": "white"
             }
            },
            "header": {
             "fill": {
              "color": "#C8D4E3"
             },
             "line": {
              "color": "white"
             }
            },
            "type": "table"
           }
          ]
         },
         "layout": {
          "annotationdefaults": {
           "arrowcolor": "#2a3f5f",
           "arrowhead": 0,
           "arrowwidth": 1
          },
          "autotypenumbers": "strict",
          "coloraxis": {
           "colorbar": {
            "outlinewidth": 0,
            "ticks": ""
           }
          },
          "colorscale": {
           "diverging": [
            [
             0,
             "#8e0152"
            ],
            [
             0.1,
             "#c51b7d"
            ],
            [
             0.2,
             "#de77ae"
            ],
            [
             0.3,
             "#f1b6da"
            ],
            [
             0.4,
             "#fde0ef"
            ],
            [
             0.5,
             "#f7f7f7"
            ],
            [
             0.6,
             "#e6f5d0"
            ],
            [
             0.7,
             "#b8e186"
            ],
            [
             0.8,
             "#7fbc41"
            ],
            [
             0.9,
             "#4d9221"
            ],
            [
             1,
             "#276419"
            ]
           ],
           "sequential": [
            [
             0,
             "#0d0887"
            ],
            [
             0.1111111111111111,
             "#46039f"
            ],
            [
             0.2222222222222222,
             "#7201a8"
            ],
            [
             0.3333333333333333,
             "#9c179e"
            ],
            [
             0.4444444444444444,
             "#bd3786"
            ],
            [
             0.5555555555555556,
             "#d8576b"
            ],
            [
             0.6666666666666666,
             "#ed7953"
            ],
            [
             0.7777777777777778,
             "#fb9f3a"
            ],
            [
             0.8888888888888888,
             "#fdca26"
            ],
            [
             1,
             "#f0f921"
            ]
           ],
           "sequentialminus": [
            [
             0,
             "#0d0887"
            ],
            [
             0.1111111111111111,
             "#46039f"
            ],
            [
             0.2222222222222222,
             "#7201a8"
            ],
            [
             0.3333333333333333,
             "#9c179e"
            ],
            [
             0.4444444444444444,
             "#bd3786"
            ],
            [
             0.5555555555555556,
             "#d8576b"
            ],
            [
             0.6666666666666666,
             "#ed7953"
            ],
            [
             0.7777777777777778,
             "#fb9f3a"
            ],
            [
             0.8888888888888888,
             "#fdca26"
            ],
            [
             1,
             "#f0f921"
            ]
           ]
          },
          "colorway": [
           "#636efa",
           "#EF553B",
           "#00cc96",
           "#ab63fa",
           "#FFA15A",
           "#19d3f3",
           "#FF6692",
           "#B6E880",
           "#FF97FF",
           "#FECB52"
          ],
          "font": {
           "color": "#2a3f5f"
          },
          "geo": {
           "bgcolor": "white",
           "lakecolor": "white",
           "landcolor": "white",
           "showlakes": true,
           "showland": true,
           "subunitcolor": "#C8D4E3"
          },
          "hoverlabel": {
           "align": "left"
          },
          "hovermode": "closest",
          "mapbox": {
           "style": "light"
          },
          "paper_bgcolor": "white",
          "plot_bgcolor": "white",
          "polar": {
           "angularaxis": {
            "gridcolor": "#EBF0F8",
            "linecolor": "#EBF0F8",
            "ticks": ""
           },
           "bgcolor": "white",
           "radialaxis": {
            "gridcolor": "#EBF0F8",
            "linecolor": "#EBF0F8",
            "ticks": ""
           }
          },
          "scene": {
           "xaxis": {
            "backgroundcolor": "white",
            "gridcolor": "#DFE8F3",
            "gridwidth": 2,
            "linecolor": "#EBF0F8",
            "showbackground": true,
            "ticks": "",
            "zerolinecolor": "#EBF0F8"
           },
           "yaxis": {
            "backgroundcolor": "white",
            "gridcolor": "#DFE8F3",
            "gridwidth": 2,
            "linecolor": "#EBF0F8",
            "showbackground": true,
            "ticks": "",
            "zerolinecolor": "#EBF0F8"
           },
           "zaxis": {
            "backgroundcolor": "white",
            "gridcolor": "#DFE8F3",
            "gridwidth": 2,
            "linecolor": "#EBF0F8",
            "showbackground": true,
            "ticks": "",
            "zerolinecolor": "#EBF0F8"
           }
          },
          "shapedefaults": {
           "line": {
            "color": "#2a3f5f"
           }
          },
          "ternary": {
           "aaxis": {
            "gridcolor": "#DFE8F3",
            "linecolor": "#A2B1C6",
            "ticks": ""
           },
           "baxis": {
            "gridcolor": "#DFE8F3",
            "linecolor": "#A2B1C6",
            "ticks": ""
           },
           "bgcolor": "white",
           "caxis": {
            "gridcolor": "#DFE8F3",
            "linecolor": "#A2B1C6",
            "ticks": ""
           }
          },
          "title": {
           "x": 0.05
          },
          "xaxis": {
           "automargin": true,
           "gridcolor": "#EBF0F8",
           "linecolor": "#EBF0F8",
           "ticks": "",
           "title": {
            "standoff": 15
           },
           "zerolinecolor": "#EBF0F8",
           "zerolinewidth": 2
          },
          "yaxis": {
           "automargin": true,
           "gridcolor": "#EBF0F8",
           "linecolor": "#EBF0F8",
           "ticks": "",
           "title": {
            "standoff": 15
           },
           "zerolinecolor": "#EBF0F8",
           "zerolinewidth": 2
          }
         }
        },
        "title": {
         "text": "Свечной график"
        },
        "xaxis": {
         "rangeslider": {
          "visible": false
         },
         "title": {
          "text": "Время"
         }
        },
        "yaxis": {
         "title": {
          "text": "Цена"
         }
        }
       }
      }
     },
     "metadata": {},
     "output_type": "display_data"
    }
   ],
   "source": [
    "import pandas as pd\n",
    "import plotly.graph_objects as go\n",
    "\n",
    "# Пример данных\n",
    "df = prepared_df[55:85]\n",
    "\n",
    "fig = go.Figure(\n",
    "    data=[\n",
    "        go.Candlestick(\n",
    "            x=df[\"timestamp\"],\n",
    "            open=df[\"open\"],\n",
    "            high=df[\"high\"],\n",
    "            low=df[\"low\"],\n",
    "            close=df[\"close\"],\n",
    "            name=\"Candlestick\"\n",
    "        )\n",
    "    ]\n",
    ")\n",
    "\n",
    "# Добавление текстовых меток из колонки target\n",
    "for _, row in df.iterrows():\n",
    "    fig.add_trace(\n",
    "        go.Scatter(\n",
    "            x=[row[\"timestamp\"]],\n",
    "            y=[row[\"close\"]],  # Метки располагаются на уровне закрытия свечи\n",
    "            mode=\"text\",\n",
    "            text=row[\"target\"],\n",
    "            textposition=\"top center\",\n",
    "            showlegend=False\n",
    "        )\n",
    "    )\n",
    "\n",
    "# Добавление меток со сдвигом вперёд\n",
    "for i in range(len(df) - 1):  # Останавливаемся на предпоследней строке\n",
    "    fig.add_trace(\n",
    "        go.Scatter(\n",
    "            x=[df[\"timestamp\"].iloc[i + 1]],  # Метка на следующую свечу\n",
    "            y=[df[\"close\"].iloc[i] * (1 + df['dynamic_range'].iloc[i])],\n",
    "            mode=\"markers+text\",\n",
    "            marker=dict(color=\"green\", size=8),\n",
    "            text=f\"{df['close'].iloc[i] * (1 + df['dynamic_range'].iloc[i]):.2f}\",\n",
    "            textposition=\"top center\",\n",
    "            showlegend=False\n",
    "        )\n",
    "    )\n",
    "    fig.add_trace(\n",
    "        go.Scatter(\n",
    "            x=[df[\"timestamp\"].iloc[i + 1]],  # Метка на следующую свечу\n",
    "            y=[df[\"close\"].iloc[i] * (1 - df['dynamic_range'].iloc[i])],\n",
    "            mode=\"markers+text\",\n",
    "            marker=dict(color=\"red\", size=8),\n",
    "            text=f\"{df['close'].iloc[i] * (1 - df['dynamic_range'].iloc[i]):.2f}\",\n",
    "            textposition=\"bottom center\",\n",
    "            showlegend=False\n",
    "        )\n",
    "    )\n",
    "\n",
    "\n",
    "# Настройка осей и заголовков\n",
    "fig.update_layout(\n",
    "    title=\"Свечной график\",\n",
    "    xaxis_title=\"Время\",\n",
    "    yaxis_title=\"Цена\",\n",
    "    xaxis_rangeslider_visible=False,  # Скрыть ползунок масштаба\n",
    "    template=\"plotly_white\"\n",
    ")\n",
    "\n",
    "# Отображение графика\n",
    "fig.show()\n"
   ]
  },
  {
   "cell_type": "code",
   "execution_count": 162,
   "metadata": {},
   "outputs": [
    {
     "data": {
      "text/html": [
       "<div>\n",
       "<style scoped>\n",
       "    .dataframe tbody tr th:only-of-type {\n",
       "        vertical-align: middle;\n",
       "    }\n",
       "\n",
       "    .dataframe tbody tr th {\n",
       "        vertical-align: top;\n",
       "    }\n",
       "\n",
       "    .dataframe thead th {\n",
       "        text-align: right;\n",
       "    }\n",
       "</style>\n",
       "<table border=\"1\" class=\"dataframe\">\n",
       "  <thead>\n",
       "    <tr style=\"text-align: right;\">\n",
       "      <th></th>\n",
       "      <th>timestamp</th>\n",
       "      <th>open</th>\n",
       "      <th>high</th>\n",
       "      <th>low</th>\n",
       "      <th>close</th>\n",
       "      <th>atr</th>\n",
       "      <th>returns</th>\n",
       "      <th>dynamic_range</th>\n",
       "      <th>target</th>\n",
       "      <th>range_pct</th>\n",
       "      <th>body_pct</th>\n",
       "      <th>sma_10</th>\n",
       "      <th>rsi</th>\n",
       "    </tr>\n",
       "  </thead>\n",
       "  <tbody>\n",
       "    <tr>\n",
       "      <th>14</th>\n",
       "      <td>2023-01-01 00:30:00</td>\n",
       "      <td>51.9</td>\n",
       "      <td>52.0</td>\n",
       "      <td>51.8</td>\n",
       "      <td>51.8</td>\n",
       "      <td>0.192857</td>\n",
       "      <td>0.998073</td>\n",
       "      <td>0.007446</td>\n",
       "      <td>1</td>\n",
       "      <td>0.003861</td>\n",
       "      <td>-0.001927</td>\n",
       "      <td>51.99</td>\n",
       "      <td>16.666667</td>\n",
       "    </tr>\n",
       "    <tr>\n",
       "      <th>15</th>\n",
       "      <td>2023-01-01 00:45:00</td>\n",
       "      <td>51.7</td>\n",
       "      <td>51.8</td>\n",
       "      <td>51.7</td>\n",
       "      <td>51.8</td>\n",
       "      <td>0.186224</td>\n",
       "      <td>1.000000</td>\n",
       "      <td>0.007190</td>\n",
       "      <td>1</td>\n",
       "      <td>0.001931</td>\n",
       "      <td>0.001934</td>\n",
       "      <td>51.95</td>\n",
       "      <td>16.666667</td>\n",
       "    </tr>\n",
       "    <tr>\n",
       "      <th>16</th>\n",
       "      <td>2023-01-01 01:00:00</td>\n",
       "      <td>51.8</td>\n",
       "      <td>51.8</td>\n",
       "      <td>51.7</td>\n",
       "      <td>51.8</td>\n",
       "      <td>0.180066</td>\n",
       "      <td>1.000000</td>\n",
       "      <td>0.006952</td>\n",
       "      <td>1</td>\n",
       "      <td>0.001931</td>\n",
       "      <td>0.000000</td>\n",
       "      <td>51.92</td>\n",
       "      <td>16.666667</td>\n",
       "    </tr>\n",
       "    <tr>\n",
       "      <th>17</th>\n",
       "      <td>2023-01-01 01:15:00</td>\n",
       "      <td>51.7</td>\n",
       "      <td>51.8</td>\n",
       "      <td>51.7</td>\n",
       "      <td>51.8</td>\n",
       "      <td>0.174347</td>\n",
       "      <td>1.000000</td>\n",
       "      <td>0.006732</td>\n",
       "      <td>1</td>\n",
       "      <td>0.001931</td>\n",
       "      <td>0.001934</td>\n",
       "      <td>51.89</td>\n",
       "      <td>16.666667</td>\n",
       "    </tr>\n",
       "    <tr>\n",
       "      <th>18</th>\n",
       "      <td>2023-01-01 01:30:00</td>\n",
       "      <td>51.8</td>\n",
       "      <td>51.8</td>\n",
       "      <td>51.8</td>\n",
       "      <td>51.8</td>\n",
       "      <td>0.161893</td>\n",
       "      <td>1.000000</td>\n",
       "      <td>0.006251</td>\n",
       "      <td>1</td>\n",
       "      <td>0.000000</td>\n",
       "      <td>0.000000</td>\n",
       "      <td>51.87</td>\n",
       "      <td>16.666667</td>\n",
       "    </tr>\n",
       "    <tr>\n",
       "      <th>...</th>\n",
       "      <td>...</td>\n",
       "      <td>...</td>\n",
       "      <td>...</td>\n",
       "      <td>...</td>\n",
       "      <td>...</td>\n",
       "      <td>...</td>\n",
       "      <td>...</td>\n",
       "      <td>...</td>\n",
       "      <td>...</td>\n",
       "      <td>...</td>\n",
       "      <td>...</td>\n",
       "      <td>...</td>\n",
       "      <td>...</td>\n",
       "    </tr>\n",
       "    <tr>\n",
       "      <th>114</th>\n",
       "      <td>2023-01-02 01:30:00</td>\n",
       "      <td>51.8</td>\n",
       "      <td>51.8</td>\n",
       "      <td>51.6</td>\n",
       "      <td>51.7</td>\n",
       "      <td>0.217876</td>\n",
       "      <td>0.998069</td>\n",
       "      <td>0.008428</td>\n",
       "      <td>1</td>\n",
       "      <td>0.003868</td>\n",
       "      <td>-0.001931</td>\n",
       "      <td>51.87</td>\n",
       "      <td>41.455760</td>\n",
       "    </tr>\n",
       "    <tr>\n",
       "      <th>115</th>\n",
       "      <td>2023-01-02 01:45:00</td>\n",
       "      <td>51.7</td>\n",
       "      <td>51.7</td>\n",
       "      <td>51.5</td>\n",
       "      <td>51.6</td>\n",
       "      <td>0.216599</td>\n",
       "      <td>0.998066</td>\n",
       "      <td>0.008395</td>\n",
       "      <td>1</td>\n",
       "      <td>0.003876</td>\n",
       "      <td>-0.001934</td>\n",
       "      <td>51.84</td>\n",
       "      <td>38.616665</td>\n",
       "    </tr>\n",
       "    <tr>\n",
       "      <th>116</th>\n",
       "      <td>2023-01-02 02:00:00</td>\n",
       "      <td>51.5</td>\n",
       "      <td>51.7</td>\n",
       "      <td>51.5</td>\n",
       "      <td>51.7</td>\n",
       "      <td>0.215413</td>\n",
       "      <td>1.001938</td>\n",
       "      <td>0.008333</td>\n",
       "      <td>1</td>\n",
       "      <td>0.003868</td>\n",
       "      <td>0.003883</td>\n",
       "      <td>51.81</td>\n",
       "      <td>42.832910</td>\n",
       "    </tr>\n",
       "    <tr>\n",
       "      <th>117</th>\n",
       "      <td>2023-01-02 02:15:00</td>\n",
       "      <td>51.7</td>\n",
       "      <td>51.7</td>\n",
       "      <td>51.6</td>\n",
       "      <td>51.6</td>\n",
       "      <td>0.207169</td>\n",
       "      <td>0.998066</td>\n",
       "      <td>0.008030</td>\n",
       "      <td>1</td>\n",
       "      <td>0.001938</td>\n",
       "      <td>-0.001934</td>\n",
       "      <td>51.75</td>\n",
       "      <td>39.882753</td>\n",
       "    </tr>\n",
       "    <tr>\n",
       "      <th>118</th>\n",
       "      <td>2023-01-02 02:30:00</td>\n",
       "      <td>51.6</td>\n",
       "      <td>51.8</td>\n",
       "      <td>51.6</td>\n",
       "      <td>51.8</td>\n",
       "      <td>0.206657</td>\n",
       "      <td>1.003876</td>\n",
       "      <td>0.007979</td>\n",
       "      <td>1</td>\n",
       "      <td>0.003861</td>\n",
       "      <td>0.003876</td>\n",
       "      <td>51.72</td>\n",
       "      <td>47.648938</td>\n",
       "    </tr>\n",
       "  </tbody>\n",
       "</table>\n",
       "<p>105 rows × 13 columns</p>\n",
       "</div>"
      ],
      "text/plain": [
       "               timestamp  open  high   low  close       atr   returns  \\\n",
       "14   2023-01-01 00:30:00  51.9  52.0  51.8   51.8  0.192857  0.998073   \n",
       "15   2023-01-01 00:45:00  51.7  51.8  51.7   51.8  0.186224  1.000000   \n",
       "16   2023-01-01 01:00:00  51.8  51.8  51.7   51.8  0.180066  1.000000   \n",
       "17   2023-01-01 01:15:00  51.7  51.8  51.7   51.8  0.174347  1.000000   \n",
       "18   2023-01-01 01:30:00  51.8  51.8  51.8   51.8  0.161893  1.000000   \n",
       "..                   ...   ...   ...   ...    ...       ...       ...   \n",
       "114  2023-01-02 01:30:00  51.8  51.8  51.6   51.7  0.217876  0.998069   \n",
       "115  2023-01-02 01:45:00  51.7  51.7  51.5   51.6  0.216599  0.998066   \n",
       "116  2023-01-02 02:00:00  51.5  51.7  51.5   51.7  0.215413  1.001938   \n",
       "117  2023-01-02 02:15:00  51.7  51.7  51.6   51.6  0.207169  0.998066   \n",
       "118  2023-01-02 02:30:00  51.6  51.8  51.6   51.8  0.206657  1.003876   \n",
       "\n",
       "     dynamic_range  target  range_pct  body_pct  sma_10        rsi  \n",
       "14        0.007446       1   0.003861 -0.001927   51.99  16.666667  \n",
       "15        0.007190       1   0.001931  0.001934   51.95  16.666667  \n",
       "16        0.006952       1   0.001931  0.000000   51.92  16.666667  \n",
       "17        0.006732       1   0.001931  0.001934   51.89  16.666667  \n",
       "18        0.006251       1   0.000000  0.000000   51.87  16.666667  \n",
       "..             ...     ...        ...       ...     ...        ...  \n",
       "114       0.008428       1   0.003868 -0.001931   51.87  41.455760  \n",
       "115       0.008395       1   0.003876 -0.001934   51.84  38.616665  \n",
       "116       0.008333       1   0.003868  0.003883   51.81  42.832910  \n",
       "117       0.008030       1   0.001938 -0.001934   51.75  39.882753  \n",
       "118       0.007979       1   0.003861  0.003876   51.72  47.648938  \n",
       "\n",
       "[105 rows x 13 columns]"
      ]
     },
     "execution_count": 162,
     "metadata": {},
     "output_type": "execute_result"
    }
   ],
   "source": [
    "df"
   ]
  },
  {
   "cell_type": "markdown",
   "metadata": {},
   "source": [
    "### ЧИСТОВИК"
   ]
  },
  {
   "cell_type": "code",
   "execution_count": null,
   "metadata": {},
   "outputs": [],
   "source": [
    "!pip install -U kaleido\n",
    "!pip install -U tensorflow"
   ]
  },
  {
   "cell_type": "code",
   "execution_count": 64,
   "metadata": {},
   "outputs": [],
   "source": [
    "import pandas as pd\n",
    "import numpy as np\n",
    "import talib as ta\n",
    "\n",
    "def calculate_dynamic_range(atr: pd.Series, close: pd.Series, \n",
    "                           multiplier: float = 2.0,\n",
    "                           min_range: float = 0.0035, \n",
    "                           max_range: float = 0.02) -> pd.Series:\n",
    "    \"\"\"Векторизованный расчет динамического диапазона\"\"\"\n",
    "    atr_percent = atr / close\n",
    "    return np.clip(atr_percent * multiplier, min_range, max_range)\n",
    "\n",
    "def calculate_targets(df: pd.DataFrame) -> pd.Series:\n",
    "    \"\"\"Векторизованный расчет целевой переменной\"\"\"\n",
    "    close = df['close'].values\n",
    "    next_high = df['next_high'].values\n",
    "    next_low = df['next_low'].values\n",
    "    next_close = df['next_close'].values\n",
    "    dynamic_range = df['dynamic_range'].values\n",
    "    \n",
    "    upper_breach = (next_high - close) / close >= dynamic_range\n",
    "    lower_breach = (close - next_low) / close >= dynamic_range\n",
    "    close_diff = next_close > close\n",
    "    \n",
    "    # Векторизованные условия\n",
    "    return pd.Series(\n",
    "        np.select(\n",
    "            condlist=[\n",
    "                upper_breach & lower_breach & close_diff,\n",
    "                upper_breach & lower_breach & ~close_diff,\n",
    "                upper_breach,\n",
    "                lower_breach\n",
    "            ],\n",
    "            choicelist=[1, -1, 1, -1],\n",
    "            default=0\n",
    "        ),\n",
    "        index=df.index\n",
    "    )\n",
    "\n",
    "def prepare_data(filepath: str, multiplier: float = 2.0) -> pd.DataFrame:\n",
    "    \"\"\"Оптимизированный пайплайн обработки данных\"\"\"\n",
    "    df = pd.read_csv(filepath, sep=';', index_col=0, parse_dates=True)\n",
    "    \n",
    "    # Сдвиги для будущих значений\n",
    "    for col in ['high', 'low', 'close']:\n",
    "        df[f'next_{col}'] = df[col].shift(-1)\n",
    "    \n",
    "    df = df.dropna(subset=['next_high', 'next_low', 'next_close'])\n",
    "    \n",
    "    # Индикаторы\n",
    "    df['atr'] = ta.ATR(df['high'], df['low'], df['close'], 14)\n",
    "    df['dynamic_range'] = calculate_dynamic_range(df['atr'], df['close'], multiplier) / 2\n",
    "    \n",
    "    # Целевая переменная\n",
    "    df['target'] = calculate_targets(df)\n",
    "    \n",
    "    # Фичи и очистка\n",
    "    df['returns'] = np.log(df['close'] / df['close'].shift(1))\n",
    "\n",
    "    return df.dropna(subset=['atr', 'dynamic_range', 'target']).reset_index()\n"
   ]
  },
  {
   "cell_type": "code",
   "execution_count": 65,
   "metadata": {},
   "outputs": [],
   "source": [
    "import plotly.graph_objects as go\n",
    "from typing import Optional\n",
    "\n",
    "def create_candlestick_chart(\n",
    "    df: pd.DataFrame, \n",
    "    title: str = \"Свечной график\",\n",
    "    width: int = 1500,\n",
    "    height: int = 800\n",
    ") -> go.Figure:\n",
    "    \"\"\"Создание базового свечного графика\"\"\"\n",
    "    fig = go.Figure(\n",
    "        data=[\n",
    "            go.Candlestick(\n",
    "                x=df[\"timestamp\"],\n",
    "                open=df[\"open\"],\n",
    "                high=df[\"high\"],\n",
    "                low=df[\"low\"],\n",
    "                close=df[\"close\"],\n",
    "                name=\"Candlestick\"\n",
    "            )\n",
    "        ]\n",
    "    )\n",
    "    \n",
    "    fig.update_layout(\n",
    "        title=title,\n",
    "        xaxis_title=\"Время\",\n",
    "        yaxis_title=\"Цена\",\n",
    "        xaxis_rangeslider_visible=False,\n",
    "        template=\"plotly_white\",\n",
    "        width=width,\n",
    "        height=height\n",
    "    )\n",
    "    return fig\n",
    "\n",
    "def add_target_annotations(fig: go.Figure, df: pd.DataFrame) -> None:\n",
    "    \"\"\"Добавление аннотаций целевой переменной\"\"\"\n",
    "    for _, row in df.iterrows():\n",
    "        fig.add_trace(\n",
    "            go.Scatter(\n",
    "                x=[row[\"timestamp\"]],\n",
    "                y=[row[\"close\"]],\n",
    "                mode=\"text\",\n",
    "                text=str(['Stay', 'Buy', 'Sell'][row[\"target\"]]),\n",
    "                textposition=\"top center\",\n",
    "                showlegend=False,\n",
    "                textfont=dict(size=14)\n",
    "            )\n",
    "        )\n",
    "\n",
    "def add_levels(fig: go.Figure, df: pd.DataFrame) -> None:\n",
    "    \"\"\"Добавление уровней TP/SL с цветовой индикацией по target\"\"\"\n",
    "    # Фильтруем записи с ненулевым target и получаем следующий таймстемп\n",
    "    filtered = df[df['target'] != 0].copy()\n",
    "    filtered['next_timestamp'] = df['timestamp'].shift(-1).loc[filtered.index]\n",
    "\n",
    "    # Разделяем на две группы\n",
    "    long_signals = filtered[filtered['target'] == 1]\n",
    "    short_signals = filtered[filtered['target'] == -1]\n",
    "\n",
    "    # Уровни для лонгов (target=1)\n",
    "    if not long_signals.empty:\n",
    "        # TP (верхний уровень - зеленый)\n",
    "        fig.add_trace(\n",
    "            go.Scatter(\n",
    "                x=long_signals['next_timestamp'],\n",
    "                y=long_signals['close'] * (1 + long_signals['dynamic_range']),\n",
    "                mode='markers+text',\n",
    "                marker=dict(color='green', size=8, symbol='triangle-up'),\n",
    "                textposition='top center',\n",
    "                name='Long TP'\n",
    "            )\n",
    "        )\n",
    "        # SL (нижний уровень - красный)\n",
    "        fig.add_trace(\n",
    "            go.Scatter(\n",
    "                x=long_signals['next_timestamp'],\n",
    "                y=long_signals['close'] * (1 - long_signals['dynamic_range']),\n",
    "                mode='markers+text',\n",
    "                marker=dict(color='red', size=8, symbol='triangle-down'),\n",
    "                textposition='bottom center',\n",
    "                name='Long SL'\n",
    "            )\n",
    "        )\n",
    "\n",
    "    # Уровни для шортов (target=-1)\n",
    "    if not short_signals.empty:\n",
    "        # TP (нижний уровень - зеленый)\n",
    "        fig.add_trace(\n",
    "            go.Scatter(\n",
    "                x=short_signals['next_timestamp'],\n",
    "                y=short_signals['close'] * (1 - short_signals['dynamic_range']),\n",
    "                mode='markers+text',\n",
    "                marker=dict(color='green', size=8, symbol='triangle-down'),\n",
    "                textposition='bottom center',\n",
    "                name='Short TP'\n",
    "            )\n",
    "        )\n",
    "        # SL (верхний уровень - красный)\n",
    "        fig.add_trace(\n",
    "            go.Scatter(\n",
    "                x=short_signals['next_timestamp'],\n",
    "                y=short_signals['close'] * (1 + short_signals['dynamic_range']),\n",
    "                mode='markers+text',\n",
    "                marker=dict(color='red', size=8, symbol='triangle-up'),\n",
    "                textposition='top center',\n",
    "                name='Short SL'\n",
    "            )\n",
    "        )\n",
    "\n",
    "def calculate_trade_outcome(row: pd.Series) -> dict:\n",
    "    \"\"\"Определение параметров сделки и результата\"\"\"\n",
    "    entry_price = row['close']\n",
    "    tp_level = entry_price * (1 + row['dynamic_range'])\n",
    "    sl_level = entry_price * (1 - row['dynamic_range'])\n",
    "    next_high = row['next_high']\n",
    "    next_low = row['next_low']\n",
    "    next_close = row['next_close']\n",
    "    \n",
    "    # Определение сработавшего уровня\n",
    "    hit_tp = next_high >= tp_level\n",
    "    hit_sl = next_low <= sl_level\n",
    "    \n",
    "    if row['target'] == 1:\n",
    "        exit_price = tp_level if hit_tp else sl_level if hit_sl else next_close\n",
    "        exit_type = 'TP' if hit_tp else 'SL' if hit_sl else 'Close'\n",
    "    elif row['target'] == -1:\n",
    "        exit_price = sl_level if hit_sl else tp_level if hit_tp else next_close\n",
    "        exit_type = 'SL' if hit_sl else 'TP' if hit_tp else 'Close'\n",
    "    else:\n",
    "        return None\n",
    "    \n",
    "    # Расчет доходности\n",
    "    pnl = (exit_price / entry_price - 1) * 100\n",
    "    if row['target'] == -1:\n",
    "        pnl *= -1\n",
    "    \n",
    "    return {\n",
    "        'entry_time': row['timestamp'],\n",
    "        'exit_time': row['timestamp'] + pd.Timedelta(minutes=15),\n",
    "        'entry_price': entry_price,\n",
    "        'exit_price': exit_price,\n",
    "        'direction': 'Long' if row['target'] == 1 else 'Short',\n",
    "        'exit_type': exit_type,\n",
    "        'pnl': pnl\n",
    "    }\n",
    "\n",
    "def add_trade_lines(fig: go.Figure, df: pd.DataFrame) -> None:\n",
    "    \"\"\"Добавление линий сделок и аннотаций\"\"\"\n",
    "    trades = df[df['target'] != 0].apply(calculate_trade_outcome, axis=1).dropna()\n",
    "    \n",
    "    for trade in trades:\n",
    "        color = 'green' if trade['pnl'] > 0 else 'red'\n",
    "        line_width = 1.5\n",
    "        \n",
    "        # Линия сделки\n",
    "        fig.add_trace(\n",
    "            go.Scatter(\n",
    "                x=[trade['entry_time'], trade['exit_time']],\n",
    "                y=[trade['entry_price'], trade['exit_price']],\n",
    "                mode='lines+markers',\n",
    "                line=dict(color=color, width=line_width),\n",
    "                marker=dict(size=6),\n",
    "                showlegend=False\n",
    "            )\n",
    "        )\n",
    "        \n",
    "        # Аннотация с доходностью\n",
    "        fig.add_annotation(\n",
    "            x=trade['exit_time'],\n",
    "            y=trade['exit_price'],\n",
    "            text=f\"{trade['pnl']:.2f}%\",\n",
    "            showarrow=False,\n",
    "            font=dict(color=color, size=12),\n",
    "            xshift=-20,\n",
    "            yshift=10 if trade['direction'] == 'Long' else -10\n",
    "        )\n",
    "        \n",
    "        # Маркеры уровней\n",
    "        fig.add_trace(\n",
    "            go.Scatter(\n",
    "                x=[trade['exit_time']],\n",
    "                y=[trade['exit_price']],\n",
    "                mode='markers',\n",
    "                marker=dict(\n",
    "                    color=color,\n",
    "                    size=16,\n",
    "                    symbol='triangle-up' if trade['exit_type'] == 'TP' else 'triangle-down'\n",
    "                ),\n",
    "                showlegend=False\n",
    "            )\n",
    "        )"
   ]
  },
  {
   "cell_type": "code",
   "execution_count": 86,
   "metadata": {},
   "outputs": [
    {
     "name": "stdout",
     "output_type": "stream",
     "text": [
      "Средний TP: 0.0078%, Средний SL: 0.3570%\n",
      "target\n",
      " 0    26468\n",
      "-1     4413\n",
      " 1     4055\n",
      "Name: count, dtype: int64\n"
     ]
    },
    {
     "data": {
      "application/vnd.plotly.v1+json": {
       "config": {
        "plotlyServerURL": "https://plot.ly"
       },
       "data": [
        {
         "close": [
          51.7,
          51.8,
          51.8,
          51.7,
          51.8,
          52,
          52,
          52,
          52,
          52.1,
          52.1,
          52.1,
          52,
          52.1,
          52.3,
          52.4,
          52.3,
          52.2,
          52.1,
          52.1,
          52.2,
          52.1,
          52,
          52.1,
          52,
          52,
          51.9,
          52,
          52.2,
          52.1,
          51.9,
          51.8,
          51.7,
          51.6,
          51.8,
          51.7,
          51.6,
          51.7,
          51.6
         ],
         "high": [
          51.7,
          51.8,
          52,
          51.9,
          51.8,
          52,
          52,
          52,
          52.1,
          52.1,
          52.1,
          52.1,
          52.1,
          52.2,
          52.4,
          52.4,
          52.4,
          52.4,
          52.2,
          52.2,
          52.2,
          52.3,
          52.1,
          52.1,
          52.1,
          52.1,
          52.1,
          52,
          52.2,
          52.3,
          52.1,
          52,
          51.9,
          51.8,
          51.9,
          51.8,
          51.7,
          51.7,
          51.7
         ],
         "low": [
          51.6,
          51.7,
          51.7,
          51.7,
          51.7,
          51.8,
          51.8,
          51.9,
          52,
          52,
          52,
          52,
          51.9,
          52,
          52.1,
          52.3,
          52.3,
          52.1,
          52.1,
          52.1,
          52.1,
          52.1,
          52,
          52,
          51.9,
          51.9,
          51.9,
          51.9,
          52,
          52,
          51.9,
          51.8,
          51.7,
          51.3,
          51.4,
          51.6,
          51.5,
          51.5,
          51.6
         ],
         "name": "Candlestick",
         "open": [
          51.7,
          51.7,
          51.8,
          51.8,
          51.7,
          51.8,
          51.9,
          52,
          52,
          52,
          52.1,
          52,
          52.1,
          52,
          52.1,
          52.4,
          52.4,
          52.4,
          52.2,
          52.2,
          52.1,
          52.2,
          52.1,
          52,
          52.1,
          52,
          52.1,
          51.9,
          52,
          52.2,
          52,
          51.9,
          51.8,
          51.7,
          51.6,
          51.8,
          51.7,
          51.5,
          51.7
         ],
         "type": "candlestick",
         "x": [
          "2023-01-01T16:45:00",
          "2023-01-01T17:00:00",
          "2023-01-01T17:15:00",
          "2023-01-01T17:30:00",
          "2023-01-01T17:45:00",
          "2023-01-01T18:00:00",
          "2023-01-01T18:15:00",
          "2023-01-01T18:30:00",
          "2023-01-01T18:45:00",
          "2023-01-01T19:00:00",
          "2023-01-01T19:15:00",
          "2023-01-01T19:30:00",
          "2023-01-01T19:45:00",
          "2023-01-01T20:00:00",
          "2023-01-01T20:15:00",
          "2023-01-01T20:30:00",
          "2023-01-01T20:45:00",
          "2023-01-01T21:00:00",
          "2023-01-01T21:15:00",
          "2023-01-01T21:30:00",
          "2023-01-01T21:45:00",
          "2023-01-01T22:00:00",
          "2023-01-01T22:15:00",
          "2023-01-01T22:30:00",
          "2023-01-01T22:45:00",
          "2023-01-01T23:00:00",
          "2023-01-01T23:15:00",
          "2023-01-01T23:30:00",
          "2023-01-01T23:45:00",
          "2023-01-02T00:00:00",
          "2023-01-02T00:15:00",
          "2023-01-02T00:30:00",
          "2023-01-02T00:45:00",
          "2023-01-02T01:00:00",
          "2023-01-02T01:15:00",
          "2023-01-02T01:30:00",
          "2023-01-02T01:45:00",
          "2023-01-02T02:00:00",
          "2023-01-02T02:15:00"
         ]
        },
        {
         "marker": {
          "color": "green",
          "size": 8,
          "symbol": "triangle-up"
         },
         "mode": "markers+text",
         "name": "Long TP",
         "textposition": "top center",
         "type": "scatter",
         "x": [
          "2023-01-01T17:15:00",
          "2023-01-01T18:00:00",
          "2023-01-01T20:00:00",
          "2023-01-01T20:15:00",
          "2023-01-01T23:45:00",
          "2023-01-02T01:15:00"
         ],
         "y": [
          51.95526724524969,
          51.963200487541386,
          52.15090721716918,
          52.25441384451424,
          52.15463006167623,
          51.79765464609896
         ]
        },
        {
         "marker": {
          "color": "red",
          "size": 8,
          "symbol": "triangle-down"
         },
         "mode": "markers+text",
         "name": "Long SL",
         "textposition": "bottom center",
         "type": "scatter",
         "x": [
          "2023-01-01T17:15:00",
          "2023-01-01T18:00:00",
          "2023-01-01T20:00:00",
          "2023-01-01T20:15:00",
          "2023-01-01T23:45:00",
          "2023-01-02T01:15:00"
         ],
         "y": [
          51.64473275475031,
          51.63679951245861,
          51.84909278283082,
          51.94558615548576,
          51.84536993832377,
          51.40234535390104
         ]
        },
        {
         "marker": {
          "color": "green",
          "size": 8,
          "symbol": "triangle-down"
         },
         "mode": "markers+text",
         "name": "Short TP",
         "textposition": "bottom center",
         "type": "scatter",
         "x": [
          "2023-01-01T18:15:00",
          "2023-01-01T19:45:00",
          "2023-01-01T21:00:00",
          "2023-01-01T22:45:00",
          "2023-01-02T00:00:00",
          "2023-01-02T00:15:00",
          "2023-01-02T01:00:00"
         ],
         "y": [
          51.83417097585443,
          51.95286915074088,
          52.14411544591917,
          51.95141737161324,
          52.0421292284435,
          51.93197714069753,
          51.525602688816505
         ]
        },
        {
         "marker": {
          "color": "red",
          "size": 8,
          "symbol": "triangle-up"
         },
         "mode": "markers+text",
         "name": "Short SL",
         "textposition": "top center",
         "type": "scatter",
         "x": [
          "2023-01-01T18:15:00",
          "2023-01-01T19:45:00",
          "2023-01-01T21:00:00",
          "2023-01-01T22:45:00",
          "2023-01-02T00:00:00",
          "2023-01-02T00:15:00",
          "2023-01-02T01:00:00"
         ],
         "y": [
          52.16582902414557,
          52.247130849259115,
          52.455884554080825,
          52.248582628386764,
          52.357870771556506,
          52.26802285930247,
          51.8743973111835
         ]
        },
        {
         "mode": "text",
         "showlegend": false,
         "text": "Stay",
         "textfont": {
          "size": 14
         },
         "textposition": "top center",
         "type": "scatter",
         "x": [
          "2023-01-01T16:45:00"
         ],
         "y": [
          51.7
         ]
        },
        {
         "mode": "text",
         "showlegend": false,
         "text": "Buy",
         "textfont": {
          "size": 14
         },
         "textposition": "top center",
         "type": "scatter",
         "x": [
          "2023-01-01T17:00:00"
         ],
         "y": [
          51.8
         ]
        },
        {
         "mode": "text",
         "showlegend": false,
         "text": "Stay",
         "textfont": {
          "size": 14
         },
         "textposition": "top center",
         "type": "scatter",
         "x": [
          "2023-01-01T17:15:00"
         ],
         "y": [
          51.8
         ]
        },
        {
         "mode": "text",
         "showlegend": false,
         "text": "Stay",
         "textfont": {
          "size": 14
         },
         "textposition": "top center",
         "type": "scatter",
         "x": [
          "2023-01-01T17:30:00"
         ],
         "y": [
          51.7
         ]
        },
        {
         "mode": "text",
         "showlegend": false,
         "text": "Buy",
         "textfont": {
          "size": 14
         },
         "textposition": "top center",
         "type": "scatter",
         "x": [
          "2023-01-01T17:45:00"
         ],
         "y": [
          51.8
         ]
        },
        {
         "mode": "text",
         "showlegend": false,
         "text": "Sell",
         "textfont": {
          "size": 14
         },
         "textposition": "top center",
         "type": "scatter",
         "x": [
          "2023-01-01T18:00:00"
         ],
         "y": [
          52
         ]
        },
        {
         "mode": "text",
         "showlegend": false,
         "text": "Stay",
         "textfont": {
          "size": 14
         },
         "textposition": "top center",
         "type": "scatter",
         "x": [
          "2023-01-01T18:15:00"
         ],
         "y": [
          52
         ]
        },
        {
         "mode": "text",
         "showlegend": false,
         "text": "Stay",
         "textfont": {
          "size": 14
         },
         "textposition": "top center",
         "type": "scatter",
         "x": [
          "2023-01-01T18:30:00"
         ],
         "y": [
          52
         ]
        },
        {
         "mode": "text",
         "showlegend": false,
         "text": "Stay",
         "textfont": {
          "size": 14
         },
         "textposition": "top center",
         "type": "scatter",
         "x": [
          "2023-01-01T18:45:00"
         ],
         "y": [
          52
         ]
        },
        {
         "mode": "text",
         "showlegend": false,
         "text": "Stay",
         "textfont": {
          "size": 14
         },
         "textposition": "top center",
         "type": "scatter",
         "x": [
          "2023-01-01T19:00:00"
         ],
         "y": [
          52.1
         ]
        },
        {
         "mode": "text",
         "showlegend": false,
         "text": "Stay",
         "textfont": {
          "size": 14
         },
         "textposition": "top center",
         "type": "scatter",
         "x": [
          "2023-01-01T19:15:00"
         ],
         "y": [
          52.1
         ]
        },
        {
         "mode": "text",
         "showlegend": false,
         "text": "Sell",
         "textfont": {
          "size": 14
         },
         "textposition": "top center",
         "type": "scatter",
         "x": [
          "2023-01-01T19:30:00"
         ],
         "y": [
          52.1
         ]
        },
        {
         "mode": "text",
         "showlegend": false,
         "text": "Buy",
         "textfont": {
          "size": 14
         },
         "textposition": "top center",
         "type": "scatter",
         "x": [
          "2023-01-01T19:45:00"
         ],
         "y": [
          52
         ]
        },
        {
         "mode": "text",
         "showlegend": false,
         "text": "Buy",
         "textfont": {
          "size": 14
         },
         "textposition": "top center",
         "type": "scatter",
         "x": [
          "2023-01-01T20:00:00"
         ],
         "y": [
          52.1
         ]
        },
        {
         "mode": "text",
         "showlegend": false,
         "text": "Stay",
         "textfont": {
          "size": 14
         },
         "textposition": "top center",
         "type": "scatter",
         "x": [
          "2023-01-01T20:15:00"
         ],
         "y": [
          52.3
         ]
        },
        {
         "mode": "text",
         "showlegend": false,
         "text": "Stay",
         "textfont": {
          "size": 14
         },
         "textposition": "top center",
         "type": "scatter",
         "x": [
          "2023-01-01T20:30:00"
         ],
         "y": [
          52.4
         ]
        },
        {
         "mode": "text",
         "showlegend": false,
         "text": "Sell",
         "textfont": {
          "size": 14
         },
         "textposition": "top center",
         "type": "scatter",
         "x": [
          "2023-01-01T20:45:00"
         ],
         "y": [
          52.3
         ]
        },
        {
         "mode": "text",
         "showlegend": false,
         "text": "Stay",
         "textfont": {
          "size": 14
         },
         "textposition": "top center",
         "type": "scatter",
         "x": [
          "2023-01-01T21:00:00"
         ],
         "y": [
          52.2
         ]
        },
        {
         "mode": "text",
         "showlegend": false,
         "text": "Stay",
         "textfont": {
          "size": 14
         },
         "textposition": "top center",
         "type": "scatter",
         "x": [
          "2023-01-01T21:15:00"
         ],
         "y": [
          52.1
         ]
        },
        {
         "mode": "text",
         "showlegend": false,
         "text": "Stay",
         "textfont": {
          "size": 14
         },
         "textposition": "top center",
         "type": "scatter",
         "x": [
          "2023-01-01T21:30:00"
         ],
         "y": [
          52.1
         ]
        },
        {
         "mode": "text",
         "showlegend": false,
         "text": "Stay",
         "textfont": {
          "size": 14
         },
         "textposition": "top center",
         "type": "scatter",
         "x": [
          "2023-01-01T21:45:00"
         ],
         "y": [
          52.2
         ]
        },
        {
         "mode": "text",
         "showlegend": false,
         "text": "Stay",
         "textfont": {
          "size": 14
         },
         "textposition": "top center",
         "type": "scatter",
         "x": [
          "2023-01-01T22:00:00"
         ],
         "y": [
          52.1
         ]
        },
        {
         "mode": "text",
         "showlegend": false,
         "text": "Stay",
         "textfont": {
          "size": 14
         },
         "textposition": "top center",
         "type": "scatter",
         "x": [
          "2023-01-01T22:15:00"
         ],
         "y": [
          52
         ]
        },
        {
         "mode": "text",
         "showlegend": false,
         "text": "Sell",
         "textfont": {
          "size": 14
         },
         "textposition": "top center",
         "type": "scatter",
         "x": [
          "2023-01-01T22:30:00"
         ],
         "y": [
          52.1
         ]
        },
        {
         "mode": "text",
         "showlegend": false,
         "text": "Stay",
         "textfont": {
          "size": 14
         },
         "textposition": "top center",
         "type": "scatter",
         "x": [
          "2023-01-01T22:45:00"
         ],
         "y": [
          52
         ]
        },
        {
         "mode": "text",
         "showlegend": false,
         "text": "Stay",
         "textfont": {
          "size": 14
         },
         "textposition": "top center",
         "type": "scatter",
         "x": [
          "2023-01-01T23:00:00"
         ],
         "y": [
          52
         ]
        },
        {
         "mode": "text",
         "showlegend": false,
         "text": "Stay",
         "textfont": {
          "size": 14
         },
         "textposition": "top center",
         "type": "scatter",
         "x": [
          "2023-01-01T23:15:00"
         ],
         "y": [
          51.9
         ]
        },
        {
         "mode": "text",
         "showlegend": false,
         "text": "Buy",
         "textfont": {
          "size": 14
         },
         "textposition": "top center",
         "type": "scatter",
         "x": [
          "2023-01-01T23:30:00"
         ],
         "y": [
          52
         ]
        },
        {
         "mode": "text",
         "showlegend": false,
         "text": "Sell",
         "textfont": {
          "size": 14
         },
         "textposition": "top center",
         "type": "scatter",
         "x": [
          "2023-01-01T23:45:00"
         ],
         "y": [
          52.2
         ]
        },
        {
         "mode": "text",
         "showlegend": false,
         "text": "Sell",
         "textfont": {
          "size": 14
         },
         "textposition": "top center",
         "type": "scatter",
         "x": [
          "2023-01-02T00:00:00"
         ],
         "y": [
          52.1
         ]
        },
        {
         "mode": "text",
         "showlegend": false,
         "text": "Stay",
         "textfont": {
          "size": 14
         },
         "textposition": "top center",
         "type": "scatter",
         "x": [
          "2023-01-02T00:15:00"
         ],
         "y": [
          51.9
         ]
        },
        {
         "mode": "text",
         "showlegend": false,
         "text": "Stay",
         "textfont": {
          "size": 14
         },
         "textposition": "top center",
         "type": "scatter",
         "x": [
          "2023-01-02T00:30:00"
         ],
         "y": [
          51.8
         ]
        },
        {
         "mode": "text",
         "showlegend": false,
         "text": "Sell",
         "textfont": {
          "size": 14
         },
         "textposition": "top center",
         "type": "scatter",
         "x": [
          "2023-01-02T00:45:00"
         ],
         "y": [
          51.7
         ]
        },
        {
         "mode": "text",
         "showlegend": false,
         "text": "Buy",
         "textfont": {
          "size": 14
         },
         "textposition": "top center",
         "type": "scatter",
         "x": [
          "2023-01-02T01:00:00"
         ],
         "y": [
          51.6
         ]
        },
        {
         "mode": "text",
         "showlegend": false,
         "text": "Stay",
         "textfont": {
          "size": 14
         },
         "textposition": "top center",
         "type": "scatter",
         "x": [
          "2023-01-02T01:15:00"
         ],
         "y": [
          51.8
         ]
        },
        {
         "mode": "text",
         "showlegend": false,
         "text": "Stay",
         "textfont": {
          "size": 14
         },
         "textposition": "top center",
         "type": "scatter",
         "x": [
          "2023-01-02T01:30:00"
         ],
         "y": [
          51.7
         ]
        },
        {
         "mode": "text",
         "showlegend": false,
         "text": "Stay",
         "textfont": {
          "size": 14
         },
         "textposition": "top center",
         "type": "scatter",
         "x": [
          "2023-01-02T01:45:00"
         ],
         "y": [
          51.6
         ]
        },
        {
         "mode": "text",
         "showlegend": false,
         "text": "Stay",
         "textfont": {
          "size": 14
         },
         "textposition": "top center",
         "type": "scatter",
         "x": [
          "2023-01-02T02:00:00"
         ],
         "y": [
          51.7
         ]
        },
        {
         "mode": "text",
         "showlegend": false,
         "text": "Stay",
         "textfont": {
          "size": 14
         },
         "textposition": "top center",
         "type": "scatter",
         "x": [
          "2023-01-02T02:15:00"
         ],
         "y": [
          51.6
         ]
        },
        {
         "line": {
          "color": "green",
          "width": 1.5
         },
         "marker": {
          "size": 6
         },
         "mode": "lines+markers",
         "showlegend": false,
         "type": "scatter",
         "x": [
          "2023-01-01T17:00:00",
          "2023-01-01T17:15:00"
         ],
         "y": [
          51.8,
          51.95526724524969
         ]
        },
        {
         "marker": {
          "color": "green",
          "size": 16,
          "symbol": "triangle-up"
         },
         "mode": "markers",
         "showlegend": false,
         "type": "scatter",
         "x": [
          "2023-01-01T17:15:00"
         ],
         "y": [
          51.95526724524969
         ]
        },
        {
         "line": {
          "color": "green",
          "width": 1.5
         },
         "marker": {
          "size": 6
         },
         "mode": "lines+markers",
         "showlegend": false,
         "type": "scatter",
         "x": [
          "2023-01-01T17:45:00",
          "2023-01-01T18:00:00"
         ],
         "y": [
          51.8,
          51.963200487541386
         ]
        },
        {
         "marker": {
          "color": "green",
          "size": 16,
          "symbol": "triangle-up"
         },
         "mode": "markers",
         "showlegend": false,
         "type": "scatter",
         "x": [
          "2023-01-01T18:00:00"
         ],
         "y": [
          51.963200487541386
         ]
        },
        {
         "line": {
          "color": "green",
          "width": 1.5
         },
         "marker": {
          "size": 6
         },
         "mode": "lines+markers",
         "showlegend": false,
         "type": "scatter",
         "x": [
          "2023-01-01T18:00:00",
          "2023-01-01T18:15:00"
         ],
         "y": [
          52,
          51.83417097585443
         ]
        },
        {
         "marker": {
          "color": "green",
          "size": 16,
          "symbol": "triangle-down"
         },
         "mode": "markers",
         "showlegend": false,
         "type": "scatter",
         "x": [
          "2023-01-01T18:15:00"
         ],
         "y": [
          51.83417097585443
         ]
        },
        {
         "line": {
          "color": "green",
          "width": 1.5
         },
         "marker": {
          "size": 6
         },
         "mode": "lines+markers",
         "showlegend": false,
         "type": "scatter",
         "x": [
          "2023-01-01T19:30:00",
          "2023-01-01T19:45:00"
         ],
         "y": [
          52.1,
          51.95286915074088
         ]
        },
        {
         "marker": {
          "color": "green",
          "size": 16,
          "symbol": "triangle-down"
         },
         "mode": "markers",
         "showlegend": false,
         "type": "scatter",
         "x": [
          "2023-01-01T19:45:00"
         ],
         "y": [
          51.95286915074088
         ]
        },
        {
         "line": {
          "color": "green",
          "width": 1.5
         },
         "marker": {
          "size": 6
         },
         "mode": "lines+markers",
         "showlegend": false,
         "type": "scatter",
         "x": [
          "2023-01-01T19:45:00",
          "2023-01-01T20:00:00"
         ],
         "y": [
          52,
          52.15090721716918
         ]
        },
        {
         "marker": {
          "color": "green",
          "size": 16,
          "symbol": "triangle-up"
         },
         "mode": "markers",
         "showlegend": false,
         "type": "scatter",
         "x": [
          "2023-01-01T20:00:00"
         ],
         "y": [
          52.15090721716918
         ]
        },
        {
         "line": {
          "color": "green",
          "width": 1.5
         },
         "marker": {
          "size": 6
         },
         "mode": "lines+markers",
         "showlegend": false,
         "type": "scatter",
         "x": [
          "2023-01-01T20:00:00",
          "2023-01-01T20:15:00"
         ],
         "y": [
          52.1,
          52.25441384451424
         ]
        },
        {
         "marker": {
          "color": "green",
          "size": 16,
          "symbol": "triangle-up"
         },
         "mode": "markers",
         "showlegend": false,
         "type": "scatter",
         "x": [
          "2023-01-01T20:15:00"
         ],
         "y": [
          52.25441384451424
         ]
        },
        {
         "line": {
          "color": "green",
          "width": 1.5
         },
         "marker": {
          "size": 6
         },
         "mode": "lines+markers",
         "showlegend": false,
         "type": "scatter",
         "x": [
          "2023-01-01T20:45:00",
          "2023-01-01T21:00:00"
         ],
         "y": [
          52.3,
          52.14411544591917
         ]
        },
        {
         "marker": {
          "color": "green",
          "size": 16,
          "symbol": "triangle-down"
         },
         "mode": "markers",
         "showlegend": false,
         "type": "scatter",
         "x": [
          "2023-01-01T21:00:00"
         ],
         "y": [
          52.14411544591917
         ]
        },
        {
         "line": {
          "color": "green",
          "width": 1.5
         },
         "marker": {
          "size": 6
         },
         "mode": "lines+markers",
         "showlegend": false,
         "type": "scatter",
         "x": [
          "2023-01-01T22:30:00",
          "2023-01-01T22:45:00"
         ],
         "y": [
          52.1,
          51.95141737161324
         ]
        },
        {
         "marker": {
          "color": "green",
          "size": 16,
          "symbol": "triangle-down"
         },
         "mode": "markers",
         "showlegend": false,
         "type": "scatter",
         "x": [
          "2023-01-01T22:45:00"
         ],
         "y": [
          51.95141737161324
         ]
        },
        {
         "line": {
          "color": "green",
          "width": 1.5
         },
         "marker": {
          "size": 6
         },
         "mode": "lines+markers",
         "showlegend": false,
         "type": "scatter",
         "x": [
          "2023-01-01T23:30:00",
          "2023-01-01T23:45:00"
         ],
         "y": [
          52,
          52.15463006167623
         ]
        },
        {
         "marker": {
          "color": "green",
          "size": 16,
          "symbol": "triangle-up"
         },
         "mode": "markers",
         "showlegend": false,
         "type": "scatter",
         "x": [
          "2023-01-01T23:45:00"
         ],
         "y": [
          52.15463006167623
         ]
        },
        {
         "line": {
          "color": "green",
          "width": 1.5
         },
         "marker": {
          "size": 6
         },
         "mode": "lines+markers",
         "showlegend": false,
         "type": "scatter",
         "x": [
          "2023-01-01T23:45:00",
          "2023-01-02T00:00:00"
         ],
         "y": [
          52.2,
          52.0421292284435
         ]
        },
        {
         "marker": {
          "color": "green",
          "size": 16,
          "symbol": "triangle-down"
         },
         "mode": "markers",
         "showlegend": false,
         "type": "scatter",
         "x": [
          "2023-01-02T00:00:00"
         ],
         "y": [
          52.0421292284435
         ]
        },
        {
         "line": {
          "color": "green",
          "width": 1.5
         },
         "marker": {
          "size": 6
         },
         "mode": "lines+markers",
         "showlegend": false,
         "type": "scatter",
         "x": [
          "2023-01-02T00:00:00",
          "2023-01-02T00:15:00"
         ],
         "y": [
          52.1,
          51.93197714069753
         ]
        },
        {
         "marker": {
          "color": "green",
          "size": 16,
          "symbol": "triangle-down"
         },
         "mode": "markers",
         "showlegend": false,
         "type": "scatter",
         "x": [
          "2023-01-02T00:15:00"
         ],
         "y": [
          51.93197714069753
         ]
        },
        {
         "line": {
          "color": "green",
          "width": 1.5
         },
         "marker": {
          "size": 6
         },
         "mode": "lines+markers",
         "showlegend": false,
         "type": "scatter",
         "x": [
          "2023-01-02T00:45:00",
          "2023-01-02T01:00:00"
         ],
         "y": [
          51.7,
          51.525602688816505
         ]
        },
        {
         "marker": {
          "color": "green",
          "size": 16,
          "symbol": "triangle-down"
         },
         "mode": "markers",
         "showlegend": false,
         "type": "scatter",
         "x": [
          "2023-01-02T01:00:00"
         ],
         "y": [
          51.525602688816505
         ]
        },
        {
         "line": {
          "color": "green",
          "width": 1.5
         },
         "marker": {
          "size": 6
         },
         "mode": "lines+markers",
         "showlegend": false,
         "type": "scatter",
         "x": [
          "2023-01-02T01:00:00",
          "2023-01-02T01:15:00"
         ],
         "y": [
          51.6,
          51.79765464609896
         ]
        },
        {
         "marker": {
          "color": "green",
          "size": 16,
          "symbol": "triangle-up"
         },
         "mode": "markers",
         "showlegend": false,
         "type": "scatter",
         "x": [
          "2023-01-02T01:15:00"
         ],
         "y": [
          51.79765464609896
         ]
        }
       ],
       "layout": {
        "annotations": [
         {
          "font": {
           "color": "green",
           "size": 12
          },
          "showarrow": false,
          "text": "0.30%",
          "x": "2023-01-01T17:15:00",
          "xshift": -20,
          "y": 51.95526724524969,
          "yshift": 10
         },
         {
          "font": {
           "color": "green",
           "size": 12
          },
          "showarrow": false,
          "text": "0.32%",
          "x": "2023-01-01T18:00:00",
          "xshift": -20,
          "y": 51.963200487541386,
          "yshift": 10
         },
         {
          "font": {
           "color": "green",
           "size": 12
          },
          "showarrow": false,
          "text": "0.32%",
          "x": "2023-01-01T18:15:00",
          "xshift": -20,
          "y": 51.83417097585443,
          "yshift": -10
         },
         {
          "font": {
           "color": "green",
           "size": 12
          },
          "showarrow": false,
          "text": "0.28%",
          "x": "2023-01-01T19:45:00",
          "xshift": -20,
          "y": 51.95286915074088,
          "yshift": -10
         },
         {
          "font": {
           "color": "green",
           "size": 12
          },
          "showarrow": false,
          "text": "0.29%",
          "x": "2023-01-01T20:00:00",
          "xshift": -20,
          "y": 52.15090721716918,
          "yshift": 10
         },
         {
          "font": {
           "color": "green",
           "size": 12
          },
          "showarrow": false,
          "text": "0.30%",
          "x": "2023-01-01T20:15:00",
          "xshift": -20,
          "y": 52.25441384451424,
          "yshift": 10
         },
         {
          "font": {
           "color": "green",
           "size": 12
          },
          "showarrow": false,
          "text": "0.30%",
          "x": "2023-01-01T21:00:00",
          "xshift": -20,
          "y": 52.14411544591917,
          "yshift": -10
         },
         {
          "font": {
           "color": "green",
           "size": 12
          },
          "showarrow": false,
          "text": "0.29%",
          "x": "2023-01-01T22:45:00",
          "xshift": -20,
          "y": 51.95141737161324,
          "yshift": -10
         },
         {
          "font": {
           "color": "green",
           "size": 12
          },
          "showarrow": false,
          "text": "0.30%",
          "x": "2023-01-01T23:45:00",
          "xshift": -20,
          "y": 52.15463006167623,
          "yshift": 10
         },
         {
          "font": {
           "color": "green",
           "size": 12
          },
          "showarrow": false,
          "text": "0.30%",
          "x": "2023-01-02T00:00:00",
          "xshift": -20,
          "y": 52.0421292284435,
          "yshift": -10
         },
         {
          "font": {
           "color": "green",
           "size": 12
          },
          "showarrow": false,
          "text": "0.32%",
          "x": "2023-01-02T00:15:00",
          "xshift": -20,
          "y": 51.93197714069753,
          "yshift": -10
         },
         {
          "font": {
           "color": "green",
           "size": 12
          },
          "showarrow": false,
          "text": "0.34%",
          "x": "2023-01-02T01:00:00",
          "xshift": -20,
          "y": 51.525602688816505,
          "yshift": -10
         },
         {
          "font": {
           "color": "green",
           "size": 12
          },
          "showarrow": false,
          "text": "0.38%",
          "x": "2023-01-02T01:15:00",
          "xshift": -20,
          "y": 51.79765464609896,
          "yshift": 10
         }
        ],
        "height": 800,
        "template": {
         "data": {
          "bar": [
           {
            "error_x": {
             "color": "#2a3f5f"
            },
            "error_y": {
             "color": "#2a3f5f"
            },
            "marker": {
             "line": {
              "color": "white",
              "width": 0.5
             },
             "pattern": {
              "fillmode": "overlay",
              "size": 10,
              "solidity": 0.2
             }
            },
            "type": "bar"
           }
          ],
          "barpolar": [
           {
            "marker": {
             "line": {
              "color": "white",
              "width": 0.5
             },
             "pattern": {
              "fillmode": "overlay",
              "size": 10,
              "solidity": 0.2
             }
            },
            "type": "barpolar"
           }
          ],
          "carpet": [
           {
            "aaxis": {
             "endlinecolor": "#2a3f5f",
             "gridcolor": "#C8D4E3",
             "linecolor": "#C8D4E3",
             "minorgridcolor": "#C8D4E3",
             "startlinecolor": "#2a3f5f"
            },
            "baxis": {
             "endlinecolor": "#2a3f5f",
             "gridcolor": "#C8D4E3",
             "linecolor": "#C8D4E3",
             "minorgridcolor": "#C8D4E3",
             "startlinecolor": "#2a3f5f"
            },
            "type": "carpet"
           }
          ],
          "choropleth": [
           {
            "colorbar": {
             "outlinewidth": 0,
             "ticks": ""
            },
            "type": "choropleth"
           }
          ],
          "contour": [
           {
            "colorbar": {
             "outlinewidth": 0,
             "ticks": ""
            },
            "colorscale": [
             [
              0,
              "#0d0887"
             ],
             [
              0.1111111111111111,
              "#46039f"
             ],
             [
              0.2222222222222222,
              "#7201a8"
             ],
             [
              0.3333333333333333,
              "#9c179e"
             ],
             [
              0.4444444444444444,
              "#bd3786"
             ],
             [
              0.5555555555555556,
              "#d8576b"
             ],
             [
              0.6666666666666666,
              "#ed7953"
             ],
             [
              0.7777777777777778,
              "#fb9f3a"
             ],
             [
              0.8888888888888888,
              "#fdca26"
             ],
             [
              1,
              "#f0f921"
             ]
            ],
            "type": "contour"
           }
          ],
          "contourcarpet": [
           {
            "colorbar": {
             "outlinewidth": 0,
             "ticks": ""
            },
            "type": "contourcarpet"
           }
          ],
          "heatmap": [
           {
            "colorbar": {
             "outlinewidth": 0,
             "ticks": ""
            },
            "colorscale": [
             [
              0,
              "#0d0887"
             ],
             [
              0.1111111111111111,
              "#46039f"
             ],
             [
              0.2222222222222222,
              "#7201a8"
             ],
             [
              0.3333333333333333,
              "#9c179e"
             ],
             [
              0.4444444444444444,
              "#bd3786"
             ],
             [
              0.5555555555555556,
              "#d8576b"
             ],
             [
              0.6666666666666666,
              "#ed7953"
             ],
             [
              0.7777777777777778,
              "#fb9f3a"
             ],
             [
              0.8888888888888888,
              "#fdca26"
             ],
             [
              1,
              "#f0f921"
             ]
            ],
            "type": "heatmap"
           }
          ],
          "heatmapgl": [
           {
            "colorbar": {
             "outlinewidth": 0,
             "ticks": ""
            },
            "colorscale": [
             [
              0,
              "#0d0887"
             ],
             [
              0.1111111111111111,
              "#46039f"
             ],
             [
              0.2222222222222222,
              "#7201a8"
             ],
             [
              0.3333333333333333,
              "#9c179e"
             ],
             [
              0.4444444444444444,
              "#bd3786"
             ],
             [
              0.5555555555555556,
              "#d8576b"
             ],
             [
              0.6666666666666666,
              "#ed7953"
             ],
             [
              0.7777777777777778,
              "#fb9f3a"
             ],
             [
              0.8888888888888888,
              "#fdca26"
             ],
             [
              1,
              "#f0f921"
             ]
            ],
            "type": "heatmapgl"
           }
          ],
          "histogram": [
           {
            "marker": {
             "pattern": {
              "fillmode": "overlay",
              "size": 10,
              "solidity": 0.2
             }
            },
            "type": "histogram"
           }
          ],
          "histogram2d": [
           {
            "colorbar": {
             "outlinewidth": 0,
             "ticks": ""
            },
            "colorscale": [
             [
              0,
              "#0d0887"
             ],
             [
              0.1111111111111111,
              "#46039f"
             ],
             [
              0.2222222222222222,
              "#7201a8"
             ],
             [
              0.3333333333333333,
              "#9c179e"
             ],
             [
              0.4444444444444444,
              "#bd3786"
             ],
             [
              0.5555555555555556,
              "#d8576b"
             ],
             [
              0.6666666666666666,
              "#ed7953"
             ],
             [
              0.7777777777777778,
              "#fb9f3a"
             ],
             [
              0.8888888888888888,
              "#fdca26"
             ],
             [
              1,
              "#f0f921"
             ]
            ],
            "type": "histogram2d"
           }
          ],
          "histogram2dcontour": [
           {
            "colorbar": {
             "outlinewidth": 0,
             "ticks": ""
            },
            "colorscale": [
             [
              0,
              "#0d0887"
             ],
             [
              0.1111111111111111,
              "#46039f"
             ],
             [
              0.2222222222222222,
              "#7201a8"
             ],
             [
              0.3333333333333333,
              "#9c179e"
             ],
             [
              0.4444444444444444,
              "#bd3786"
             ],
             [
              0.5555555555555556,
              "#d8576b"
             ],
             [
              0.6666666666666666,
              "#ed7953"
             ],
             [
              0.7777777777777778,
              "#fb9f3a"
             ],
             [
              0.8888888888888888,
              "#fdca26"
             ],
             [
              1,
              "#f0f921"
             ]
            ],
            "type": "histogram2dcontour"
           }
          ],
          "mesh3d": [
           {
            "colorbar": {
             "outlinewidth": 0,
             "ticks": ""
            },
            "type": "mesh3d"
           }
          ],
          "parcoords": [
           {
            "line": {
             "colorbar": {
              "outlinewidth": 0,
              "ticks": ""
             }
            },
            "type": "parcoords"
           }
          ],
          "pie": [
           {
            "automargin": true,
            "type": "pie"
           }
          ],
          "scatter": [
           {
            "fillpattern": {
             "fillmode": "overlay",
             "size": 10,
             "solidity": 0.2
            },
            "type": "scatter"
           }
          ],
          "scatter3d": [
           {
            "line": {
             "colorbar": {
              "outlinewidth": 0,
              "ticks": ""
             }
            },
            "marker": {
             "colorbar": {
              "outlinewidth": 0,
              "ticks": ""
             }
            },
            "type": "scatter3d"
           }
          ],
          "scattercarpet": [
           {
            "marker": {
             "colorbar": {
              "outlinewidth": 0,
              "ticks": ""
             }
            },
            "type": "scattercarpet"
           }
          ],
          "scattergeo": [
           {
            "marker": {
             "colorbar": {
              "outlinewidth": 0,
              "ticks": ""
             }
            },
            "type": "scattergeo"
           }
          ],
          "scattergl": [
           {
            "marker": {
             "colorbar": {
              "outlinewidth": 0,
              "ticks": ""
             }
            },
            "type": "scattergl"
           }
          ],
          "scattermapbox": [
           {
            "marker": {
             "colorbar": {
              "outlinewidth": 0,
              "ticks": ""
             }
            },
            "type": "scattermapbox"
           }
          ],
          "scatterpolar": [
           {
            "marker": {
             "colorbar": {
              "outlinewidth": 0,
              "ticks": ""
             }
            },
            "type": "scatterpolar"
           }
          ],
          "scatterpolargl": [
           {
            "marker": {
             "colorbar": {
              "outlinewidth": 0,
              "ticks": ""
             }
            },
            "type": "scatterpolargl"
           }
          ],
          "scatterternary": [
           {
            "marker": {
             "colorbar": {
              "outlinewidth": 0,
              "ticks": ""
             }
            },
            "type": "scatterternary"
           }
          ],
          "surface": [
           {
            "colorbar": {
             "outlinewidth": 0,
             "ticks": ""
            },
            "colorscale": [
             [
              0,
              "#0d0887"
             ],
             [
              0.1111111111111111,
              "#46039f"
             ],
             [
              0.2222222222222222,
              "#7201a8"
             ],
             [
              0.3333333333333333,
              "#9c179e"
             ],
             [
              0.4444444444444444,
              "#bd3786"
             ],
             [
              0.5555555555555556,
              "#d8576b"
             ],
             [
              0.6666666666666666,
              "#ed7953"
             ],
             [
              0.7777777777777778,
              "#fb9f3a"
             ],
             [
              0.8888888888888888,
              "#fdca26"
             ],
             [
              1,
              "#f0f921"
             ]
            ],
            "type": "surface"
           }
          ],
          "table": [
           {
            "cells": {
             "fill": {
              "color": "#EBF0F8"
             },
             "line": {
              "color": "white"
             }
            },
            "header": {
             "fill": {
              "color": "#C8D4E3"
             },
             "line": {
              "color": "white"
             }
            },
            "type": "table"
           }
          ]
         },
         "layout": {
          "annotationdefaults": {
           "arrowcolor": "#2a3f5f",
           "arrowhead": 0,
           "arrowwidth": 1
          },
          "autotypenumbers": "strict",
          "coloraxis": {
           "colorbar": {
            "outlinewidth": 0,
            "ticks": ""
           }
          },
          "colorscale": {
           "diverging": [
            [
             0,
             "#8e0152"
            ],
            [
             0.1,
             "#c51b7d"
            ],
            [
             0.2,
             "#de77ae"
            ],
            [
             0.3,
             "#f1b6da"
            ],
            [
             0.4,
             "#fde0ef"
            ],
            [
             0.5,
             "#f7f7f7"
            ],
            [
             0.6,
             "#e6f5d0"
            ],
            [
             0.7,
             "#b8e186"
            ],
            [
             0.8,
             "#7fbc41"
            ],
            [
             0.9,
             "#4d9221"
            ],
            [
             1,
             "#276419"
            ]
           ],
           "sequential": [
            [
             0,
             "#0d0887"
            ],
            [
             0.1111111111111111,
             "#46039f"
            ],
            [
             0.2222222222222222,
             "#7201a8"
            ],
            [
             0.3333333333333333,
             "#9c179e"
            ],
            [
             0.4444444444444444,
             "#bd3786"
            ],
            [
             0.5555555555555556,
             "#d8576b"
            ],
            [
             0.6666666666666666,
             "#ed7953"
            ],
            [
             0.7777777777777778,
             "#fb9f3a"
            ],
            [
             0.8888888888888888,
             "#fdca26"
            ],
            [
             1,
             "#f0f921"
            ]
           ],
           "sequentialminus": [
            [
             0,
             "#0d0887"
            ],
            [
             0.1111111111111111,
             "#46039f"
            ],
            [
             0.2222222222222222,
             "#7201a8"
            ],
            [
             0.3333333333333333,
             "#9c179e"
            ],
            [
             0.4444444444444444,
             "#bd3786"
            ],
            [
             0.5555555555555556,
             "#d8576b"
            ],
            [
             0.6666666666666666,
             "#ed7953"
            ],
            [
             0.7777777777777778,
             "#fb9f3a"
            ],
            [
             0.8888888888888888,
             "#fdca26"
            ],
            [
             1,
             "#f0f921"
            ]
           ]
          },
          "colorway": [
           "#636efa",
           "#EF553B",
           "#00cc96",
           "#ab63fa",
           "#FFA15A",
           "#19d3f3",
           "#FF6692",
           "#B6E880",
           "#FF97FF",
           "#FECB52"
          ],
          "font": {
           "color": "#2a3f5f"
          },
          "geo": {
           "bgcolor": "white",
           "lakecolor": "white",
           "landcolor": "white",
           "showlakes": true,
           "showland": true,
           "subunitcolor": "#C8D4E3"
          },
          "hoverlabel": {
           "align": "left"
          },
          "hovermode": "closest",
          "mapbox": {
           "style": "light"
          },
          "paper_bgcolor": "white",
          "plot_bgcolor": "white",
          "polar": {
           "angularaxis": {
            "gridcolor": "#EBF0F8",
            "linecolor": "#EBF0F8",
            "ticks": ""
           },
           "bgcolor": "white",
           "radialaxis": {
            "gridcolor": "#EBF0F8",
            "linecolor": "#EBF0F8",
            "ticks": ""
           }
          },
          "scene": {
           "xaxis": {
            "backgroundcolor": "white",
            "gridcolor": "#DFE8F3",
            "gridwidth": 2,
            "linecolor": "#EBF0F8",
            "showbackground": true,
            "ticks": "",
            "zerolinecolor": "#EBF0F8"
           },
           "yaxis": {
            "backgroundcolor": "white",
            "gridcolor": "#DFE8F3",
            "gridwidth": 2,
            "linecolor": "#EBF0F8",
            "showbackground": true,
            "ticks": "",
            "zerolinecolor": "#EBF0F8"
           },
           "zaxis": {
            "backgroundcolor": "white",
            "gridcolor": "#DFE8F3",
            "gridwidth": 2,
            "linecolor": "#EBF0F8",
            "showbackground": true,
            "ticks": "",
            "zerolinecolor": "#EBF0F8"
           }
          },
          "shapedefaults": {
           "line": {
            "color": "#2a3f5f"
           }
          },
          "ternary": {
           "aaxis": {
            "gridcolor": "#DFE8F3",
            "linecolor": "#A2B1C6",
            "ticks": ""
           },
           "baxis": {
            "gridcolor": "#DFE8F3",
            "linecolor": "#A2B1C6",
            "ticks": ""
           },
           "bgcolor": "white",
           "caxis": {
            "gridcolor": "#DFE8F3",
            "linecolor": "#A2B1C6",
            "ticks": ""
           }
          },
          "title": {
           "x": 0.05
          },
          "xaxis": {
           "automargin": true,
           "gridcolor": "#EBF0F8",
           "linecolor": "#EBF0F8",
           "ticks": "",
           "title": {
            "standoff": 15
           },
           "zerolinecolor": "#EBF0F8",
           "zerolinewidth": 2
          },
          "yaxis": {
           "automargin": true,
           "gridcolor": "#EBF0F8",
           "linecolor": "#EBF0F8",
           "ticks": "",
           "title": {
            "standoff": 15
           },
           "zerolinecolor": "#EBF0F8",
           "zerolinewidth": 2
          }
         }
        },
        "title": {
         "text": "Свечной график"
        },
        "width": 1500,
        "xaxis": {
         "rangeslider": {
          "visible": false
         },
         "title": {
          "text": "Время"
         }
        },
        "yaxis": {
         "title": {
          "text": "Цена"
         }
        }
       }
      }
     },
     "metadata": {},
     "output_type": "display_data"
    }
   ],
   "source": [
    "def main():\n",
    "    # Загрузка и подготовка данных\n",
    "    df = prepare_data('data/AAVE_USDT_15m_candles.csv', multiplier=2)\n",
    "    tp_profit = df[df['target'] == 1]['returns'].mean()\n",
    "    sl_loss = df[df['target'] == -1]['returns'].abs().mean()\n",
    "    print(f\"Средний TP: {tp_profit:.4%}, Средний SL: {sl_loss:.4%}\")\n",
    "    print(df.target.value_counts())\n",
    "    \n",
    "    # Визуализация\n",
    "    viz_df = df[65:104]\n",
    "    fig = create_candlestick_chart(viz_df)\n",
    "    add_levels(fig, viz_df)\n",
    "    add_target_annotations(fig, viz_df)\n",
    "    add_trade_lines(fig, viz_df)  # Заменяем предыдущие аннотации\n",
    "    \n",
    "    fig.show()\n",
    "\n",
    "if __name__ == \"__main__\":\n",
    "    main()"
   ]
  },
  {
   "cell_type": "markdown",
   "metadata": {},
   "source": [
    "### ОБУЧЕНИЕ"
   ]
  },
  {
   "cell_type": "code",
   "execution_count": 87,
   "metadata": {},
   "outputs": [
    {
     "name": "stdout",
     "output_type": "stream",
     "text": [
      "Collecting tensorflow\n",
      "  Downloading tensorflow-2.18.0-cp311-cp311-win_amd64.whl.metadata (3.3 kB)\n",
      "Collecting tensorflow-intel==2.18.0 (from tensorflow)\n",
      "  Downloading tensorflow_intel-2.18.0-cp311-cp311-win_amd64.whl.metadata (4.9 kB)\n",
      "Collecting absl-py>=1.0.0 (from tensorflow-intel==2.18.0->tensorflow)\n",
      "  Downloading absl_py-2.1.0-py3-none-any.whl.metadata (2.3 kB)\n",
      "Collecting astunparse>=1.6.0 (from tensorflow-intel==2.18.0->tensorflow)\n",
      "  Downloading astunparse-1.6.3-py2.py3-none-any.whl.metadata (4.4 kB)\n",
      "Collecting flatbuffers>=24.3.25 (from tensorflow-intel==2.18.0->tensorflow)\n",
      "  Downloading flatbuffers-25.1.24-py2.py3-none-any.whl.metadata (875 bytes)\n",
      "Collecting gast!=0.5.0,!=0.5.1,!=0.5.2,>=0.2.1 (from tensorflow-intel==2.18.0->tensorflow)\n",
      "  Downloading gast-0.6.0-py3-none-any.whl.metadata (1.3 kB)\n",
      "Collecting google-pasta>=0.1.1 (from tensorflow-intel==2.18.0->tensorflow)\n",
      "  Downloading google_pasta-0.2.0-py3-none-any.whl.metadata (814 bytes)\n",
      "Collecting libclang>=13.0.0 (from tensorflow-intel==2.18.0->tensorflow)\n",
      "  Downloading libclang-18.1.1-py2.py3-none-win_amd64.whl.metadata (5.3 kB)\n",
      "Collecting opt-einsum>=2.3.2 (from tensorflow-intel==2.18.0->tensorflow)\n",
      "  Downloading opt_einsum-3.4.0-py3-none-any.whl.metadata (6.3 kB)\n",
      "Requirement already satisfied: packaging in c:\\users\\79112\\.conda\\envs\\myenv\\lib\\site-packages (from tensorflow-intel==2.18.0->tensorflow) (23.2)\n",
      "Collecting protobuf!=4.21.0,!=4.21.1,!=4.21.2,!=4.21.3,!=4.21.4,!=4.21.5,<6.0.0dev,>=3.20.3 (from tensorflow-intel==2.18.0->tensorflow)\n",
      "  Downloading protobuf-5.29.3-cp310-abi3-win_amd64.whl.metadata (592 bytes)\n",
      "Requirement already satisfied: requests<3,>=2.21.0 in c:\\users\\79112\\.conda\\envs\\myenv\\lib\\site-packages (from tensorflow-intel==2.18.0->tensorflow) (2.31.0)\n",
      "Requirement already satisfied: setuptools in c:\\users\\79112\\.conda\\envs\\myenv\\lib\\site-packages (from tensorflow-intel==2.18.0->tensorflow) (68.2.2)\n",
      "Requirement already satisfied: six>=1.12.0 in c:\\users\\79112\\.conda\\envs\\myenv\\lib\\site-packages (from tensorflow-intel==2.18.0->tensorflow) (1.16.0)\n",
      "Collecting termcolor>=1.1.0 (from tensorflow-intel==2.18.0->tensorflow)\n",
      "  Downloading termcolor-2.5.0-py3-none-any.whl.metadata (6.1 kB)\n",
      "Requirement already satisfied: typing-extensions>=3.6.6 in c:\\users\\79112\\.conda\\envs\\myenv\\lib\\site-packages (from tensorflow-intel==2.18.0->tensorflow) (4.8.0)\n",
      "Collecting wrapt>=1.11.0 (from tensorflow-intel==2.18.0->tensorflow)\n",
      "  Downloading wrapt-1.17.2-cp311-cp311-win_amd64.whl.metadata (6.5 kB)\n",
      "Collecting grpcio<2.0,>=1.24.3 (from tensorflow-intel==2.18.0->tensorflow)\n",
      "  Downloading grpcio-1.70.0-cp311-cp311-win_amd64.whl.metadata (4.0 kB)\n",
      "Collecting tensorboard<2.19,>=2.18 (from tensorflow-intel==2.18.0->tensorflow)\n",
      "  Downloading tensorboard-2.18.0-py3-none-any.whl.metadata (1.6 kB)\n",
      "Collecting keras>=3.5.0 (from tensorflow-intel==2.18.0->tensorflow)\n",
      "  Downloading keras-3.8.0-py3-none-any.whl.metadata (5.8 kB)\n",
      "Requirement already satisfied: numpy<2.1.0,>=1.26.0 in c:\\users\\79112\\.conda\\envs\\myenv\\lib\\site-packages (from tensorflow-intel==2.18.0->tensorflow) (1.26.0)\n",
      "Collecting h5py>=3.11.0 (from tensorflow-intel==2.18.0->tensorflow)\n",
      "  Downloading h5py-3.12.1-cp311-cp311-win_amd64.whl.metadata (2.5 kB)\n",
      "Collecting ml-dtypes<0.5.0,>=0.4.0 (from tensorflow-intel==2.18.0->tensorflow)\n",
      "  Downloading ml_dtypes-0.4.1-cp311-cp311-win_amd64.whl.metadata (20 kB)\n",
      "Collecting tensorflow-io-gcs-filesystem>=0.23.1 (from tensorflow-intel==2.18.0->tensorflow)\n",
      "  Downloading tensorflow_io_gcs_filesystem-0.31.0-cp311-cp311-win_amd64.whl.metadata (14 kB)\n",
      "Requirement already satisfied: wheel<1.0,>=0.23.0 in c:\\users\\79112\\.conda\\envs\\myenv\\lib\\site-packages (from astunparse>=1.6.0->tensorflow-intel==2.18.0->tensorflow) (0.41.3)\n",
      "Collecting rich (from keras>=3.5.0->tensorflow-intel==2.18.0->tensorflow)\n",
      "  Downloading rich-13.9.4-py3-none-any.whl.metadata (18 kB)\n",
      "Collecting namex (from keras>=3.5.0->tensorflow-intel==2.18.0->tensorflow)\n",
      "  Downloading namex-0.0.8-py3-none-any.whl.metadata (246 bytes)\n",
      "Collecting optree (from keras>=3.5.0->tensorflow-intel==2.18.0->tensorflow)\n",
      "  Downloading optree-0.14.0-cp311-cp311-win_amd64.whl.metadata (48 kB)\n",
      "     ---------------------------------------- 0.0/48.6 kB ? eta -:--:--\n",
      "     ------------------------- -------------- 30.7/48.6 kB 1.4 MB/s eta 0:00:01\n",
      "     -------------------------------------- 48.6/48.6 kB 833.5 kB/s eta 0:00:00\n",
      "Requirement already satisfied: charset-normalizer<4,>=2 in c:\\users\\79112\\.conda\\envs\\myenv\\lib\\site-packages (from requests<3,>=2.21.0->tensorflow-intel==2.18.0->tensorflow) (3.3.2)\n",
      "Requirement already satisfied: idna<4,>=2.5 in c:\\users\\79112\\.conda\\envs\\myenv\\lib\\site-packages (from requests<3,>=2.21.0->tensorflow-intel==2.18.0->tensorflow) (3.4)\n",
      "Requirement already satisfied: urllib3<3,>=1.21.1 in c:\\users\\79112\\.conda\\envs\\myenv\\lib\\site-packages (from requests<3,>=2.21.0->tensorflow-intel==2.18.0->tensorflow) (2.0.7)\n",
      "Requirement already satisfied: certifi>=2017.4.17 in c:\\users\\79112\\.conda\\envs\\myenv\\lib\\site-packages (from requests<3,>=2.21.0->tensorflow-intel==2.18.0->tensorflow) (2024.12.14)\n",
      "Collecting markdown>=2.6.8 (from tensorboard<2.19,>=2.18->tensorflow-intel==2.18.0->tensorflow)\n",
      "  Downloading Markdown-3.7-py3-none-any.whl.metadata (7.0 kB)\n",
      "Collecting tensorboard-data-server<0.8.0,>=0.7.0 (from tensorboard<2.19,>=2.18->tensorflow-intel==2.18.0->tensorflow)\n",
      "  Downloading tensorboard_data_server-0.7.2-py3-none-any.whl.metadata (1.1 kB)\n",
      "Collecting werkzeug>=1.0.1 (from tensorboard<2.19,>=2.18->tensorflow-intel==2.18.0->tensorflow)\n",
      "  Downloading werkzeug-3.1.3-py3-none-any.whl.metadata (3.7 kB)\n",
      "Requirement already satisfied: MarkupSafe>=2.1.1 in c:\\users\\79112\\.conda\\envs\\myenv\\lib\\site-packages (from werkzeug>=1.0.1->tensorboard<2.19,>=2.18->tensorflow-intel==2.18.0->tensorflow) (2.1.5)\n",
      "Collecting markdown-it-py>=2.2.0 (from rich->keras>=3.5.0->tensorflow-intel==2.18.0->tensorflow)\n",
      "  Downloading markdown_it_py-3.0.0-py3-none-any.whl.metadata (6.9 kB)\n",
      "Requirement already satisfied: pygments<3.0.0,>=2.13.0 in c:\\users\\79112\\.conda\\envs\\myenv\\lib\\site-packages (from rich->keras>=3.5.0->tensorflow-intel==2.18.0->tensorflow) (2.17.2)\n",
      "Collecting mdurl~=0.1 (from markdown-it-py>=2.2.0->rich->keras>=3.5.0->tensorflow-intel==2.18.0->tensorflow)\n",
      "  Downloading mdurl-0.1.2-py3-none-any.whl.metadata (1.6 kB)\n",
      "Downloading tensorflow-2.18.0-cp311-cp311-win_amd64.whl (7.5 kB)\n",
      "Downloading tensorflow_intel-2.18.0-cp311-cp311-win_amd64.whl (390.2 MB)\n",
      "   ---------------------------------------- 0.0/390.2 MB ? eta -:--:--\n",
      "   ---------------------------------------- 0.0/390.2 MB ? eta -:--:--\n",
      "   ---------------------------------------- 0.1/390.2 MB 1.1 MB/s eta 0:05:59\n",
      "   ---------------------------------------- 0.1/390.2 MB 845.5 kB/s eta 0:07:42\n",
      "   ---------------------------------------- 0.1/390.2 MB 944.1 kB/s eta 0:06:54\n",
      "   ---------------------------------------- 0.2/390.2 MB 926.0 kB/s eta 0:07:02\n",
      "   ---------------------------------------- 0.2/390.2 MB 901.1 kB/s eta 0:07:13\n",
      "   ---------------------------------------- 0.3/390.2 MB 983.9 kB/s eta 0:06:37\n",
      "   ---------------------------------------- 0.3/390.2 MB 893.0 kB/s eta 0:07:17\n",
      "   ---------------------------------------- 0.4/390.2 MB 955.7 kB/s eta 0:06:48\n",
      "   ---------------------------------------- 0.4/390.2 MB 958.4 kB/s eta 0:06:47\n",
      "   ---------------------------------------- 0.5/390.2 MB 982.5 kB/s eta 0:06:37\n",
      "   ---------------------------------------- 0.6/390.2 MB 1.0 MB/s eta 0:06:22\n",
      "   ---------------------------------------- 0.6/390.2 MB 1.0 MB/s eta 0:06:16\n",
      "   ---------------------------------------- 0.6/390.2 MB 1.0 MB/s eta 0:06:20\n",
      "   ---------------------------------------- 0.7/390.2 MB 1.1 MB/s eta 0:06:04\n",
      "   ---------------------------------------- 0.8/390.2 MB 1.1 MB/s eta 0:05:57\n",
      "   ---------------------------------------- 0.9/390.2 MB 1.1 MB/s eta 0:05:51\n",
      "   ---------------------------------------- 0.9/390.2 MB 1.1 MB/s eta 0:05:45\n",
      "   ---------------------------------------- 1.0/390.2 MB 1.2 MB/s eta 0:05:35\n",
      "   ---------------------------------------- 1.1/390.2 MB 1.2 MB/s eta 0:05:20\n",
      "   ---------------------------------------- 1.1/390.2 MB 1.1 MB/s eta 0:05:39\n",
      "   ---------------------------------------- 1.2/390.2 MB 1.2 MB/s eta 0:05:26\n",
      "   ---------------------------------------- 1.3/390.2 MB 1.3 MB/s eta 0:05:09\n",
      "   ---------------------------------------- 1.4/390.2 MB 1.3 MB/s eta 0:05:06\n",
      "   ---------------------------------------- 1.4/390.2 MB 1.3 MB/s eta 0:05:06\n",
      "   ---------------------------------------- 1.5/390.2 MB 1.3 MB/s eta 0:05:03\n",
      "   ---------------------------------------- 1.5/390.2 MB 1.3 MB/s eta 0:05:11\n",
      "   ---------------------------------------- 1.6/390.2 MB 1.3 MB/s eta 0:05:07\n",
      "   ---------------------------------------- 1.7/390.2 MB 1.3 MB/s eta 0:04:57\n",
      "   ---------------------------------------- 1.8/390.2 MB 1.3 MB/s eta 0:04:48\n",
      "   ---------------------------------------- 1.9/390.2 MB 1.3 MB/s eta 0:04:49\n",
      "   ---------------------------------------- 2.0/390.2 MB 1.4 MB/s eta 0:04:39\n",
      "   ---------------------------------------- 2.2/390.2 MB 1.4 MB/s eta 0:04:32\n",
      "   ---------------------------------------- 2.3/390.2 MB 1.5 MB/s eta 0:04:22\n",
      "   ---------------------------------------- 2.4/390.2 MB 1.5 MB/s eta 0:04:18\n",
      "   ---------------------------------------- 2.6/390.2 MB 1.6 MB/s eta 0:04:09\n",
      "   ---------------------------------------- 2.7/390.2 MB 1.6 MB/s eta 0:04:04\n",
      "   ---------------------------------------- 2.8/390.2 MB 1.6 MB/s eta 0:03:59\n",
      "   ---------------------------------------- 3.0/390.2 MB 1.7 MB/s eta 0:03:52\n",
      "   ---------------------------------------- 3.2/390.2 MB 1.7 MB/s eta 0:03:46\n",
      "   ---------------------------------------- 3.3/390.2 MB 1.8 MB/s eta 0:03:40\n",
      "   ---------------------------------------- 3.5/390.2 MB 1.8 MB/s eta 0:03:31\n",
      "   ---------------------------------------- 3.8/390.2 MB 1.9 MB/s eta 0:03:24\n",
      "   ---------------------------------------- 4.0/390.2 MB 2.0 MB/s eta 0:03:17\n",
      "   ---------------------------------------- 4.1/390.2 MB 2.0 MB/s eta 0:03:14\n",
      "   ---------------------------------------- 4.4/390.2 MB 2.1 MB/s eta 0:03:07\n",
      "   ---------------------------------------- 4.6/390.2 MB 2.1 MB/s eta 0:03:01\n",
      "   ---------------------------------------- 4.9/390.2 MB 2.2 MB/s eta 0:02:56\n",
      "    --------------------------------------- 5.1/390.2 MB 2.3 MB/s eta 0:02:51\n",
      "    --------------------------------------- 5.3/390.2 MB 2.3 MB/s eta 0:02:47\n",
      "    --------------------------------------- 5.6/390.2 MB 2.4 MB/s eta 0:02:42\n",
      "    --------------------------------------- 5.9/390.2 MB 2.5 MB/s eta 0:02:37\n",
      "    --------------------------------------- 6.2/390.2 MB 2.5 MB/s eta 0:02:32\n",
      "    --------------------------------------- 6.5/390.2 MB 2.6 MB/s eta 0:02:27\n",
      "    --------------------------------------- 6.8/390.2 MB 2.7 MB/s eta 0:02:24\n",
      "    --------------------------------------- 7.1/390.2 MB 2.7 MB/s eta 0:02:20\n",
      "    --------------------------------------- 7.4/390.2 MB 2.8 MB/s eta 0:02:16\n",
      "    --------------------------------------- 7.8/390.2 MB 2.9 MB/s eta 0:02:12\n",
      "    --------------------------------------- 8.0/390.2 MB 3.0 MB/s eta 0:02:10\n",
      "    --------------------------------------- 8.4/390.2 MB 3.1 MB/s eta 0:02:06\n",
      "    --------------------------------------- 8.8/390.2 MB 3.1 MB/s eta 0:02:02\n",
      "    --------------------------------------- 9.2/390.2 MB 3.2 MB/s eta 0:01:59\n",
      "    --------------------------------------- 9.7/390.2 MB 3.3 MB/s eta 0:01:55\n",
      "   - -------------------------------------- 10.1/390.2 MB 3.4 MB/s eta 0:01:52\n",
      "   - -------------------------------------- 10.6/390.2 MB 3.9 MB/s eta 0:01:39\n",
      "   - -------------------------------------- 11.0/390.2 MB 4.4 MB/s eta 0:01:27\n",
      "   - -------------------------------------- 11.3/390.2 MB 4.7 MB/s eta 0:01:22\n",
      "   - -------------------------------------- 11.8/390.2 MB 5.4 MB/s eta 0:01:11\n",
      "   - -------------------------------------- 12.0/390.2 MB 5.6 MB/s eta 0:01:08\n",
      "   - -------------------------------------- 12.5/390.2 MB 6.0 MB/s eta 0:01:03\n",
      "   - -------------------------------------- 13.0/390.2 MB 6.5 MB/s eta 0:00:58\n",
      "   - -------------------------------------- 13.5/390.2 MB 7.0 MB/s eta 0:00:55\n",
      "   - -------------------------------------- 14.0/390.2 MB 7.4 MB/s eta 0:00:52\n",
      "   - -------------------------------------- 14.5/390.2 MB 7.7 MB/s eta 0:00:49\n",
      "   - -------------------------------------- 15.0/390.2 MB 8.0 MB/s eta 0:00:47\n",
      "   - -------------------------------------- 15.6/390.2 MB 8.4 MB/s eta 0:00:45\n",
      "   - -------------------------------------- 16.1/390.2 MB 8.7 MB/s eta 0:00:43\n",
      "   - -------------------------------------- 16.6/390.2 MB 9.0 MB/s eta 0:00:42\n",
      "   - -------------------------------------- 17.1/390.2 MB 9.2 MB/s eta 0:00:41\n",
      "   - -------------------------------------- 17.6/390.2 MB 9.5 MB/s eta 0:00:40\n",
      "   - -------------------------------------- 18.2/390.2 MB 9.8 MB/s eta 0:00:39\n",
      "   - -------------------------------------- 18.7/390.2 MB 9.9 MB/s eta 0:00:38\n",
      "   - -------------------------------------- 19.2/390.2 MB 10.1 MB/s eta 0:00:37\n",
      "   -- ------------------------------------- 19.8/390.2 MB 10.2 MB/s eta 0:00:37\n",
      "   -- ------------------------------------- 20.3/390.2 MB 10.4 MB/s eta 0:00:36\n",
      "   -- ------------------------------------- 20.8/390.2 MB 10.4 MB/s eta 0:00:36\n",
      "   -- ------------------------------------- 21.3/390.2 MB 10.6 MB/s eta 0:00:35\n",
      "   -- ------------------------------------- 21.9/390.2 MB 10.9 MB/s eta 0:00:34\n",
      "   -- ------------------------------------- 22.4/390.2 MB 11.1 MB/s eta 0:00:34\n",
      "   -- ------------------------------------- 22.9/390.2 MB 11.1 MB/s eta 0:00:34\n",
      "   -- ------------------------------------- 23.4/390.2 MB 11.3 MB/s eta 0:00:33\n",
      "   -- ------------------------------------- 24.0/390.2 MB 11.3 MB/s eta 0:00:33\n",
      "   -- ------------------------------------- 24.5/390.2 MB 11.3 MB/s eta 0:00:33\n",
      "   -- ------------------------------------- 25.0/390.2 MB 11.3 MB/s eta 0:00:33\n",
      "   -- ------------------------------------- 25.5/390.2 MB 11.3 MB/s eta 0:00:33\n",
      "   -- ------------------------------------- 25.8/390.2 MB 11.3 MB/s eta 0:00:33\n",
      "   -- ------------------------------------- 25.8/390.2 MB 11.3 MB/s eta 0:00:33\n",
      "   -- ------------------------------------- 25.8/390.2 MB 11.3 MB/s eta 0:00:33\n",
      "   -- ------------------------------------- 27.5/390.2 MB 11.1 MB/s eta 0:00:33\n",
      "   -- ------------------------------------- 28.1/390.2 MB 11.3 MB/s eta 0:00:33\n",
      "   -- ------------------------------------- 28.6/390.2 MB 11.3 MB/s eta 0:00:33\n",
      "   -- ------------------------------------- 29.2/390.2 MB 11.3 MB/s eta 0:00:32\n",
      "   --- ------------------------------------ 29.6/390.2 MB 11.1 MB/s eta 0:00:33\n",
      "   --- ------------------------------------ 30.1/390.2 MB 11.1 MB/s eta 0:00:33\n",
      "   --- ------------------------------------ 30.5/390.2 MB 10.9 MB/s eta 0:00:33\n",
      "   --- ------------------------------------ 30.9/390.2 MB 10.7 MB/s eta 0:00:34\n",
      "   --- ------------------------------------ 31.4/390.2 MB 10.7 MB/s eta 0:00:34\n",
      "   --- ------------------------------------ 31.9/390.2 MB 10.9 MB/s eta 0:00:33\n",
      "   --- ------------------------------------ 32.4/390.2 MB 10.7 MB/s eta 0:00:34\n",
      "   --- ------------------------------------ 32.9/390.2 MB 10.7 MB/s eta 0:00:34\n",
      "   --- ------------------------------------ 33.4/390.2 MB 10.7 MB/s eta 0:00:34\n",
      "   --- ------------------------------------ 33.9/390.2 MB 10.7 MB/s eta 0:00:34\n",
      "   --- ------------------------------------ 34.4/390.2 MB 10.7 MB/s eta 0:00:34\n",
      "   --- ------------------------------------ 35.0/390.2 MB 10.7 MB/s eta 0:00:34\n",
      "   --- ------------------------------------ 35.5/390.2 MB 10.7 MB/s eta 0:00:34\n",
      "   --- ------------------------------------ 36.0/390.2 MB 10.7 MB/s eta 0:00:33\n",
      "   --- ------------------------------------ 36.5/390.2 MB 11.7 MB/s eta 0:00:31\n",
      "   --- ------------------------------------ 37.0/390.2 MB 11.5 MB/s eta 0:00:31\n",
      "   --- ------------------------------------ 37.3/390.2 MB 10.9 MB/s eta 0:00:33\n",
      "   --- ------------------------------------ 37.8/390.2 MB 10.6 MB/s eta 0:00:34\n",
      "   --- ------------------------------------ 38.4/390.2 MB 10.4 MB/s eta 0:00:34\n",
      "   --- ------------------------------------ 38.7/390.2 MB 10.2 MB/s eta 0:00:35\n",
      "   ---- ----------------------------------- 39.1/390.2 MB 10.1 MB/s eta 0:00:35\n",
      "   ---- ----------------------------------- 39.5/390.2 MB 10.1 MB/s eta 0:00:35\n",
      "   ---- ----------------------------------- 40.0/390.2 MB 10.1 MB/s eta 0:00:35\n",
      "   ---- ----------------------------------- 40.6/390.2 MB 10.2 MB/s eta 0:00:35\n",
      "   ---- ----------------------------------- 41.1/390.2 MB 10.4 MB/s eta 0:00:34\n",
      "   ---- ----------------------------------- 41.6/390.2 MB 10.4 MB/s eta 0:00:34\n",
      "   ---- ----------------------------------- 42.1/390.2 MB 10.4 MB/s eta 0:00:34\n",
      "   ---- ----------------------------------- 42.6/390.2 MB 10.4 MB/s eta 0:00:34\n",
      "   ---- ----------------------------------- 43.2/390.2 MB 10.4 MB/s eta 0:00:34\n",
      "   ---- ----------------------------------- 43.7/390.2 MB 10.4 MB/s eta 0:00:34\n",
      "   ---- ----------------------------------- 44.2/390.2 MB 10.4 MB/s eta 0:00:34\n",
      "   ---- ----------------------------------- 44.7/390.2 MB 10.4 MB/s eta 0:00:34\n",
      "   ---- ----------------------------------- 45.2/390.2 MB 10.6 MB/s eta 0:00:33\n",
      "   ---- ----------------------------------- 45.7/390.2 MB 10.4 MB/s eta 0:00:34\n",
      "   ---- ----------------------------------- 46.3/390.2 MB 10.4 MB/s eta 0:00:34\n",
      "   ---- ----------------------------------- 46.8/390.2 MB 10.4 MB/s eta 0:00:34\n",
      "   ---- ----------------------------------- 47.3/390.2 MB 10.7 MB/s eta 0:00:32\n",
      "   ---- ----------------------------------- 47.8/390.2 MB 10.9 MB/s eta 0:00:32\n",
      "   ---- ----------------------------------- 48.3/390.2 MB 10.7 MB/s eta 0:00:32\n",
      "   ----- ---------------------------------- 48.8/390.2 MB 10.9 MB/s eta 0:00:32\n",
      "   ----- ---------------------------------- 49.4/390.2 MB 11.1 MB/s eta 0:00:31\n",
      "   ----- ---------------------------------- 49.9/390.2 MB 11.3 MB/s eta 0:00:31\n",
      "   ----- ---------------------------------- 50.4/390.2 MB 11.3 MB/s eta 0:00:31\n",
      "   ----- ---------------------------------- 51.0/390.2 MB 11.3 MB/s eta 0:00:31\n",
      "   ----- ---------------------------------- 51.5/390.2 MB 11.3 MB/s eta 0:00:31\n",
      "   ----- ---------------------------------- 52.0/390.2 MB 11.3 MB/s eta 0:00:30\n",
      "   ----- ---------------------------------- 52.5/390.2 MB 11.3 MB/s eta 0:00:30\n",
      "   ----- ---------------------------------- 53.1/390.2 MB 11.3 MB/s eta 0:00:30\n",
      "   ----- ---------------------------------- 53.6/390.2 MB 11.3 MB/s eta 0:00:30\n",
      "   ----- ---------------------------------- 54.1/390.2 MB 11.3 MB/s eta 0:00:30\n",
      "   ----- ---------------------------------- 54.6/390.2 MB 11.3 MB/s eta 0:00:30\n",
      "   ----- ---------------------------------- 55.1/390.2 MB 11.3 MB/s eta 0:00:30\n",
      "   ----- ---------------------------------- 55.6/390.2 MB 11.3 MB/s eta 0:00:30\n",
      "   ----- ---------------------------------- 56.2/390.2 MB 11.3 MB/s eta 0:00:30\n",
      "   ----- ---------------------------------- 56.7/390.2 MB 11.3 MB/s eta 0:00:30\n",
      "   ----- ---------------------------------- 57.2/390.2 MB 11.3 MB/s eta 0:00:30\n",
      "   ----- ---------------------------------- 57.7/390.2 MB 11.3 MB/s eta 0:00:30\n",
      "   ----- ---------------------------------- 58.3/390.2 MB 11.3 MB/s eta 0:00:30\n",
      "   ------ --------------------------------- 58.8/390.2 MB 11.3 MB/s eta 0:00:30\n",
      "   ------ --------------------------------- 59.3/390.2 MB 11.1 MB/s eta 0:00:30\n",
      "   ------ --------------------------------- 59.8/390.2 MB 11.1 MB/s eta 0:00:30\n",
      "   ------ --------------------------------- 60.3/390.2 MB 11.1 MB/s eta 0:00:30\n",
      "   ------ --------------------------------- 60.9/390.2 MB 11.1 MB/s eta 0:00:30\n",
      "   ------ --------------------------------- 61.4/390.2 MB 11.3 MB/s eta 0:00:30\n",
      "   ------ --------------------------------- 61.9/390.2 MB 11.3 MB/s eta 0:00:30\n",
      "   ------ --------------------------------- 62.5/390.2 MB 11.3 MB/s eta 0:00:30\n",
      "   ------ --------------------------------- 63.0/390.2 MB 11.3 MB/s eta 0:00:29\n",
      "   ------ --------------------------------- 63.5/390.2 MB 11.1 MB/s eta 0:00:30\n",
      "   ------ --------------------------------- 64.0/390.2 MB 11.3 MB/s eta 0:00:29\n",
      "   ------ --------------------------------- 64.6/390.2 MB 11.3 MB/s eta 0:00:29\n",
      "   ------ --------------------------------- 65.1/390.2 MB 11.3 MB/s eta 0:00:29\n",
      "   ------ --------------------------------- 65.6/390.2 MB 11.3 MB/s eta 0:00:29\n",
      "   ------ --------------------------------- 66.1/390.2 MB 11.3 MB/s eta 0:00:29\n",
      "   ------ --------------------------------- 66.7/390.2 MB 11.3 MB/s eta 0:00:29\n",
      "   ------ --------------------------------- 67.2/390.2 MB 11.3 MB/s eta 0:00:29\n",
      "   ------ --------------------------------- 67.7/390.2 MB 11.3 MB/s eta 0:00:29\n",
      "   ------ --------------------------------- 68.3/390.2 MB 11.3 MB/s eta 0:00:29\n",
      "   ------- -------------------------------- 68.8/390.2 MB 11.3 MB/s eta 0:00:29\n",
      "   ------- -------------------------------- 69.3/390.2 MB 11.3 MB/s eta 0:00:29\n",
      "   ------- -------------------------------- 69.8/390.2 MB 11.3 MB/s eta 0:00:29\n",
      "   ------- -------------------------------- 70.3/390.2 MB 11.1 MB/s eta 0:00:29\n",
      "   ------- -------------------------------- 70.8/390.2 MB 11.1 MB/s eta 0:00:29\n",
      "   ------- -------------------------------- 71.4/390.2 MB 11.3 MB/s eta 0:00:29\n",
      "   ------- -------------------------------- 71.9/390.2 MB 11.3 MB/s eta 0:00:29\n",
      "   ------- -------------------------------- 72.4/390.2 MB 11.1 MB/s eta 0:00:29\n",
      "   ------- -------------------------------- 72.9/390.2 MB 11.1 MB/s eta 0:00:29\n",
      "   ------- -------------------------------- 73.5/390.2 MB 11.3 MB/s eta 0:00:29\n",
      "   ------- -------------------------------- 74.0/390.2 MB 11.3 MB/s eta 0:00:29\n",
      "   ------- -------------------------------- 74.4/390.2 MB 11.3 MB/s eta 0:00:28\n",
      "   ------- -------------------------------- 74.4/390.2 MB 11.3 MB/s eta 0:00:28\n",
      "   ------- -------------------------------- 74.4/390.2 MB 11.3 MB/s eta 0:00:28\n",
      "   ------- -------------------------------- 76.1/390.2 MB 11.3 MB/s eta 0:00:28\n",
      "   ------- -------------------------------- 76.7/390.2 MB 11.3 MB/s eta 0:00:28\n",
      "   ------- -------------------------------- 76.9/390.2 MB 11.1 MB/s eta 0:00:29\n",
      "   ------- -------------------------------- 77.7/390.2 MB 11.1 MB/s eta 0:00:29\n",
      "   -------- ------------------------------- 78.2/390.2 MB 11.1 MB/s eta 0:00:29\n",
      "   -------- ------------------------------- 78.7/390.2 MB 11.1 MB/s eta 0:00:29\n",
      "   -------- ------------------------------- 78.9/390.2 MB 11.1 MB/s eta 0:00:29\n",
      "   -------- ------------------------------- 79.1/390.2 MB 10.6 MB/s eta 0:00:30\n",
      "   -------- ------------------------------- 79.6/390.2 MB 10.6 MB/s eta 0:00:30\n",
      "   -------- ------------------------------- 80.0/390.2 MB 10.4 MB/s eta 0:00:30\n",
      "   -------- ------------------------------- 80.6/390.2 MB 10.4 MB/s eta 0:00:30\n",
      "   -------- ------------------------------- 81.1/390.2 MB 10.4 MB/s eta 0:00:30\n",
      "   -------- ------------------------------- 81.6/390.2 MB 10.4 MB/s eta 0:00:30\n",
      "   -------- ------------------------------- 82.1/390.2 MB 10.4 MB/s eta 0:00:30\n",
      "   -------- ------------------------------- 82.6/390.2 MB 10.4 MB/s eta 0:00:30\n",
      "   -------- ------------------------------- 83.2/390.2 MB 10.4 MB/s eta 0:00:30\n",
      "   -------- ------------------------------- 83.7/390.2 MB 10.4 MB/s eta 0:00:30\n",
      "   -------- ------------------------------- 84.2/390.2 MB 10.4 MB/s eta 0:00:30\n",
      "   -------- ------------------------------- 84.8/390.2 MB 11.7 MB/s eta 0:00:27\n",
      "   -------- ------------------------------- 85.3/390.2 MB 11.1 MB/s eta 0:00:28\n",
      "   -------- ------------------------------- 85.8/390.2 MB 10.6 MB/s eta 0:00:29\n",
      "   -------- ------------------------------- 86.3/390.2 MB 10.4 MB/s eta 0:00:30\n",
      "   -------- ------------------------------- 86.9/390.2 MB 10.4 MB/s eta 0:00:30\n",
      "   -------- ------------------------------- 87.4/390.2 MB 10.6 MB/s eta 0:00:29\n",
      "   --------- ------------------------------ 87.9/390.2 MB 10.4 MB/s eta 0:00:30\n",
      "   --------- ------------------------------ 88.4/390.2 MB 10.4 MB/s eta 0:00:30\n",
      "   --------- ------------------------------ 89.0/390.2 MB 10.4 MB/s eta 0:00:29\n",
      "   --------- ------------------------------ 89.5/390.2 MB 10.9 MB/s eta 0:00:28\n",
      "   --------- ------------------------------ 90.0/390.2 MB 11.1 MB/s eta 0:00:28\n",
      "   --------- ------------------------------ 90.5/390.2 MB 11.1 MB/s eta 0:00:28\n",
      "   --------- ------------------------------ 91.1/390.2 MB 11.3 MB/s eta 0:00:27\n",
      "   --------- ------------------------------ 91.6/390.2 MB 11.1 MB/s eta 0:00:27\n",
      "   --------- ------------------------------ 92.1/390.2 MB 11.1 MB/s eta 0:00:27\n",
      "   --------- ------------------------------ 92.7/390.2 MB 11.1 MB/s eta 0:00:27\n",
      "   --------- ------------------------------ 93.2/390.2 MB 11.1 MB/s eta 0:00:27\n",
      "   --------- ------------------------------ 93.7/390.2 MB 11.1 MB/s eta 0:00:27\n",
      "   --------- ------------------------------ 94.2/390.2 MB 11.1 MB/s eta 0:00:27\n",
      "   --------- ------------------------------ 94.7/390.2 MB 11.1 MB/s eta 0:00:27\n",
      "   --------- ------------------------------ 95.3/390.2 MB 11.1 MB/s eta 0:00:27\n",
      "   --------- ------------------------------ 95.8/390.2 MB 11.1 MB/s eta 0:00:27\n",
      "   --------- ------------------------------ 96.3/390.2 MB 11.1 MB/s eta 0:00:27\n",
      "   --------- ------------------------------ 96.8/390.2 MB 11.1 MB/s eta 0:00:27\n",
      "   --------- ------------------------------ 97.3/390.2 MB 11.1 MB/s eta 0:00:27\n",
      "   ---------- ----------------------------- 97.9/390.2 MB 11.3 MB/s eta 0:00:26\n",
      "   ---------- ----------------------------- 98.4/390.2 MB 11.1 MB/s eta 0:00:27\n",
      "   ---------- ----------------------------- 98.9/390.2 MB 11.3 MB/s eta 0:00:26\n",
      "   ---------- ----------------------------- 99.4/390.2 MB 11.1 MB/s eta 0:00:27\n",
      "   --------- ----------------------------- 100.0/390.2 MB 11.3 MB/s eta 0:00:26\n",
      "   ---------- ---------------------------- 100.5/390.2 MB 11.3 MB/s eta 0:00:26\n",
      "   ---------- ---------------------------- 101.0/390.2 MB 11.1 MB/s eta 0:00:27\n",
      "   ---------- ---------------------------- 101.5/390.2 MB 11.3 MB/s eta 0:00:26\n",
      "   ---------- ---------------------------- 102.1/390.2 MB 11.1 MB/s eta 0:00:26\n",
      "   ---------- ---------------------------- 102.6/390.2 MB 11.3 MB/s eta 0:00:26\n",
      "   ---------- ---------------------------- 103.1/390.2 MB 11.3 MB/s eta 0:00:26\n",
      "   ---------- ---------------------------- 103.6/390.2 MB 11.3 MB/s eta 0:00:26\n",
      "   ---------- ---------------------------- 104.2/390.2 MB 11.3 MB/s eta 0:00:26\n",
      "   ---------- ---------------------------- 104.7/390.2 MB 11.3 MB/s eta 0:00:26\n",
      "   ---------- ---------------------------- 105.2/390.2 MB 11.3 MB/s eta 0:00:26\n",
      "   ---------- ---------------------------- 105.7/390.2 MB 11.3 MB/s eta 0:00:26\n",
      "   ---------- ---------------------------- 106.2/390.2 MB 11.3 MB/s eta 0:00:26\n",
      "   ---------- ---------------------------- 106.7/390.2 MB 11.3 MB/s eta 0:00:26\n",
      "   ---------- ---------------------------- 107.3/390.2 MB 11.3 MB/s eta 0:00:26\n",
      "   ---------- ---------------------------- 107.8/390.2 MB 11.3 MB/s eta 0:00:26\n",
      "   ---------- ---------------------------- 108.3/390.2 MB 11.3 MB/s eta 0:00:25\n",
      "   ---------- ---------------------------- 108.8/390.2 MB 11.3 MB/s eta 0:00:25\n",
      "   ---------- ---------------------------- 109.3/390.2 MB 11.3 MB/s eta 0:00:25\n",
      "   ---------- ---------------------------- 109.9/390.2 MB 11.3 MB/s eta 0:00:25\n",
      "   ----------- --------------------------- 110.4/390.2 MB 11.3 MB/s eta 0:00:25\n",
      "   ----------- --------------------------- 110.9/390.2 MB 11.3 MB/s eta 0:00:25\n",
      "   ----------- --------------------------- 111.5/390.2 MB 11.3 MB/s eta 0:00:25\n",
      "   ----------- --------------------------- 112.0/390.2 MB 11.3 MB/s eta 0:00:25\n",
      "   ----------- --------------------------- 112.5/390.2 MB 11.3 MB/s eta 0:00:25\n",
      "   ----------- --------------------------- 113.0/390.2 MB 11.3 MB/s eta 0:00:25\n",
      "   ----------- --------------------------- 113.5/390.2 MB 11.3 MB/s eta 0:00:25\n",
      "   ----------- --------------------------- 114.1/390.2 MB 11.3 MB/s eta 0:00:25\n",
      "   ----------- --------------------------- 114.6/390.2 MB 11.3 MB/s eta 0:00:25\n",
      "   ----------- --------------------------- 115.1/390.2 MB 11.3 MB/s eta 0:00:25\n",
      "   ----------- --------------------------- 115.6/390.2 MB 11.3 MB/s eta 0:00:25\n",
      "   ----------- --------------------------- 116.2/390.2 MB 11.3 MB/s eta 0:00:25\n",
      "   ----------- --------------------------- 116.7/390.2 MB 11.3 MB/s eta 0:00:25\n",
      "   ----------- --------------------------- 117.1/390.2 MB 11.3 MB/s eta 0:00:25\n",
      "   ----------- --------------------------- 117.7/390.2 MB 11.3 MB/s eta 0:00:25\n",
      "   ----------- --------------------------- 118.3/390.2 MB 11.3 MB/s eta 0:00:25\n",
      "   ----------- --------------------------- 118.9/390.2 MB 11.3 MB/s eta 0:00:25\n",
      "   ----------- --------------------------- 118.9/390.2 MB 10.6 MB/s eta 0:00:26\n",
      "   ----------- --------------------------- 119.3/390.2 MB 10.6 MB/s eta 0:00:26\n",
      "   ----------- --------------------------- 119.8/390.2 MB 10.6 MB/s eta 0:00:26\n",
      "   ------------ -------------------------- 120.4/390.2 MB 10.6 MB/s eta 0:00:26\n",
      "   ------------ -------------------------- 120.9/390.2 MB 10.6 MB/s eta 0:00:26\n",
      "   ------------ -------------------------- 121.4/390.2 MB 10.6 MB/s eta 0:00:26\n",
      "   ------------ -------------------------- 121.9/390.2 MB 10.4 MB/s eta 0:00:26\n",
      "   ------------ -------------------------- 122.4/390.2 MB 10.4 MB/s eta 0:00:26\n",
      "   ------------ -------------------------- 123.0/390.2 MB 10.6 MB/s eta 0:00:26\n",
      "   ------------ -------------------------- 123.5/390.2 MB 10.4 MB/s eta 0:00:26\n",
      "   ------------ -------------------------- 124.0/390.2 MB 10.6 MB/s eta 0:00:26\n",
      "   ------------ -------------------------- 124.5/390.2 MB 10.4 MB/s eta 0:00:26\n",
      "   ------------ -------------------------- 125.1/390.2 MB 10.6 MB/s eta 0:00:26\n",
      "   ------------ -------------------------- 125.6/390.2 MB 10.6 MB/s eta 0:00:26\n",
      "   ------------ -------------------------- 126.1/390.2 MB 10.4 MB/s eta 0:00:26\n",
      "   ------------ -------------------------- 126.6/390.2 MB 10.4 MB/s eta 0:00:26\n",
      "   ------------ -------------------------- 127.1/390.2 MB 10.4 MB/s eta 0:00:26\n",
      "   ------------ -------------------------- 127.7/390.2 MB 10.6 MB/s eta 0:00:25\n",
      "   ------------ -------------------------- 128.2/390.2 MB 10.6 MB/s eta 0:00:25\n",
      "   ------------ -------------------------- 128.7/390.2 MB 10.4 MB/s eta 0:00:26\n",
      "   ------------ -------------------------- 129.3/390.2 MB 11.1 MB/s eta 0:00:24\n",
      "   ------------ -------------------------- 129.8/390.2 MB 11.1 MB/s eta 0:00:24\n",
      "   ------------- ------------------------- 130.3/390.2 MB 11.1 MB/s eta 0:00:24\n",
      "   ------------- ------------------------- 130.8/390.2 MB 11.1 MB/s eta 0:00:24\n",
      "   ------------- ------------------------- 131.4/390.2 MB 11.1 MB/s eta 0:00:24\n",
      "   ------------- ------------------------- 131.9/390.2 MB 11.1 MB/s eta 0:00:24\n",
      "   ------------- ------------------------- 132.4/390.2 MB 11.1 MB/s eta 0:00:24\n",
      "   ------------- ------------------------- 132.9/390.2 MB 11.3 MB/s eta 0:00:23\n",
      "   ------------- ------------------------- 133.4/390.2 MB 11.1 MB/s eta 0:00:24\n",
      "   ------------- ------------------------- 134.0/390.2 MB 11.3 MB/s eta 0:00:23\n",
      "   ------------- ------------------------- 134.5/390.2 MB 11.1 MB/s eta 0:00:24\n",
      "   ------------- ------------------------- 134.9/390.2 MB 10.9 MB/s eta 0:00:24\n",
      "   ------------- ------------------------- 135.3/390.2 MB 10.9 MB/s eta 0:00:24\n",
      "   ------------- ------------------------- 135.7/390.2 MB 10.7 MB/s eta 0:00:24\n",
      "   ------------- ------------------------- 135.9/390.2 MB 10.4 MB/s eta 0:00:25\n",
      "   ------------- ------------------------- 136.4/390.2 MB 10.4 MB/s eta 0:00:25\n",
      "   ------------- ------------------------- 136.8/390.2 MB 10.4 MB/s eta 0:00:25\n",
      "   ------------- ------------------------- 137.1/390.2 MB 10.1 MB/s eta 0:00:26\n",
      "   -------------- ------------------------- 137.5/390.2 MB 9.9 MB/s eta 0:00:26\n",
      "   -------------- ------------------------- 138.0/390.2 MB 9.9 MB/s eta 0:00:26\n",
      "   -------------- ------------------------- 138.3/390.2 MB 9.9 MB/s eta 0:00:26\n",
      "   -------------- ------------------------- 138.5/390.2 MB 9.5 MB/s eta 0:00:27\n",
      "   -------------- ------------------------- 139.0/390.2 MB 9.5 MB/s eta 0:00:27\n",
      "   -------------- ------------------------- 139.5/390.2 MB 9.5 MB/s eta 0:00:27\n",
      "   -------------- ------------------------- 139.9/390.2 MB 9.5 MB/s eta 0:00:27\n",
      "   -------------- ------------------------- 140.4/390.2 MB 9.5 MB/s eta 0:00:27\n",
      "   -------------- ------------------------- 141.0/390.2 MB 9.4 MB/s eta 0:00:27\n",
      "   -------------- ------------------------- 141.5/390.2 MB 9.5 MB/s eta 0:00:27\n",
      "   -------------- ------------------------- 142.0/390.2 MB 9.5 MB/s eta 0:00:27\n",
      "   -------------- ------------------------- 142.5/390.2 MB 9.5 MB/s eta 0:00:27\n",
      "   -------------- ------------------------- 143.1/390.2 MB 9.5 MB/s eta 0:00:27\n",
      "   -------------- ------------------------- 143.6/390.2 MB 9.5 MB/s eta 0:00:26\n",
      "   -------------- ------------------------- 143.6/390.2 MB 9.4 MB/s eta 0:00:27\n",
      "   -------------- ------------------------- 144.5/390.2 MB 9.2 MB/s eta 0:00:27\n",
      "   -------------- ------------------------- 144.8/390.2 MB 9.1 MB/s eta 0:00:27\n",
      "   -------------- ------------------------- 145.2/390.2 MB 9.1 MB/s eta 0:00:27\n",
      "   -------------- ------------------------- 145.7/390.2 MB 9.4 MB/s eta 0:00:27\n",
      "   -------------- ------------------------- 146.3/390.2 MB 9.6 MB/s eta 0:00:26\n",
      "   --------------- ------------------------ 146.8/390.2 MB 9.6 MB/s eta 0:00:26\n",
      "   --------------- ------------------------ 147.3/390.2 MB 9.8 MB/s eta 0:00:25\n",
      "   -------------- ------------------------ 147.9/390.2 MB 10.1 MB/s eta 0:00:25\n",
      "   -------------- ------------------------ 148.4/390.2 MB 10.1 MB/s eta 0:00:24\n",
      "   -------------- ------------------------ 148.9/390.2 MB 10.6 MB/s eta 0:00:23\n",
      "   -------------- ------------------------ 149.5/390.2 MB 10.6 MB/s eta 0:00:23\n",
      "   -------------- ------------------------ 150.0/390.2 MB 10.7 MB/s eta 0:00:23\n",
      "   --------------- ----------------------- 150.5/390.2 MB 10.7 MB/s eta 0:00:23\n",
      "   --------------- ----------------------- 151.1/390.2 MB 10.7 MB/s eta 0:00:23\n",
      "   --------------- ----------------------- 151.2/390.2 MB 10.7 MB/s eta 0:00:23\n",
      "   --------------- ----------------------- 152.0/390.2 MB 10.6 MB/s eta 0:00:23\n",
      "   --------------- ----------------------- 152.4/390.2 MB 10.6 MB/s eta 0:00:23\n",
      "   --------------- ----------------------- 152.9/390.2 MB 10.6 MB/s eta 0:00:23\n",
      "   --------------- ----------------------- 153.5/390.2 MB 10.6 MB/s eta 0:00:23\n",
      "   --------------- ----------------------- 154.0/390.2 MB 11.3 MB/s eta 0:00:21\n",
      "   --------------- ----------------------- 154.5/390.2 MB 10.7 MB/s eta 0:00:22\n",
      "   --------------- ----------------------- 155.0/390.2 MB 10.9 MB/s eta 0:00:22\n",
      "   --------------- ----------------------- 155.5/390.2 MB 10.9 MB/s eta 0:00:22\n",
      "   --------------- ----------------------- 156.1/390.2 MB 10.9 MB/s eta 0:00:22\n",
      "   --------------- ----------------------- 156.6/390.2 MB 10.9 MB/s eta 0:00:22\n",
      "   --------------- ----------------------- 157.1/390.2 MB 10.9 MB/s eta 0:00:22\n",
      "   --------------- ----------------------- 157.6/390.2 MB 10.9 MB/s eta 0:00:22\n",
      "   --------------- ----------------------- 158.1/390.2 MB 10.9 MB/s eta 0:00:22\n",
      "   --------------- ----------------------- 158.7/390.2 MB 10.9 MB/s eta 0:00:22\n",
      "   --------------- ----------------------- 159.2/390.2 MB 10.9 MB/s eta 0:00:22\n",
      "   --------------- ----------------------- 159.7/390.2 MB 10.9 MB/s eta 0:00:22\n",
      "   ---------------- ---------------------- 160.3/390.2 MB 10.9 MB/s eta 0:00:22\n",
      "   ---------------- ---------------------- 160.8/390.2 MB 10.9 MB/s eta 0:00:22\n",
      "   ---------------- ---------------------- 161.3/390.2 MB 10.9 MB/s eta 0:00:21\n",
      "   ---------------- ---------------------- 161.8/390.2 MB 11.3 MB/s eta 0:00:21\n",
      "   ---------------- ---------------------- 162.4/390.2 MB 10.9 MB/s eta 0:00:21\n",
      "   ---------------- ---------------------- 162.9/390.2 MB 11.1 MB/s eta 0:00:21\n",
      "   ---------------- ---------------------- 163.4/390.2 MB 11.1 MB/s eta 0:00:21\n",
      "   ---------------- ---------------------- 163.9/390.2 MB 11.1 MB/s eta 0:00:21\n",
      "   ---------------- ---------------------- 164.5/390.2 MB 11.1 MB/s eta 0:00:21\n",
      "   ---------------- ---------------------- 165.0/390.2 MB 11.1 MB/s eta 0:00:21\n",
      "   ---------------- ---------------------- 165.5/390.2 MB 11.1 MB/s eta 0:00:21\n",
      "   ---------------- ---------------------- 166.0/390.2 MB 11.1 MB/s eta 0:00:21\n",
      "   ---------------- ---------------------- 166.5/390.2 MB 11.1 MB/s eta 0:00:21\n",
      "   ---------------- ---------------------- 167.0/390.2 MB 11.1 MB/s eta 0:00:21\n",
      "   ---------------- ---------------------- 167.6/390.2 MB 11.1 MB/s eta 0:00:21\n",
      "   ---------------- ---------------------- 168.1/390.2 MB 11.1 MB/s eta 0:00:21\n",
      "   ---------------- ---------------------- 168.6/390.2 MB 11.1 MB/s eta 0:00:20\n",
      "   ---------------- ---------------------- 169.1/390.2 MB 11.1 MB/s eta 0:00:20\n",
      "   ---------------- ---------------------- 169.7/390.2 MB 11.1 MB/s eta 0:00:20\n",
      "   ----------------- --------------------- 170.2/390.2 MB 11.1 MB/s eta 0:00:20\n",
      "   ----------------- --------------------- 170.7/390.2 MB 11.3 MB/s eta 0:00:20\n",
      "   ----------------- --------------------- 171.2/390.2 MB 11.3 MB/s eta 0:00:20\n",
      "   ----------------- --------------------- 171.7/390.2 MB 11.1 MB/s eta 0:00:20\n",
      "   ----------------- --------------------- 172.3/390.2 MB 11.1 MB/s eta 0:00:20\n",
      "   ----------------- --------------------- 172.8/390.2 MB 11.3 MB/s eta 0:00:20\n",
      "   ----------------- --------------------- 173.3/390.2 MB 11.3 MB/s eta 0:00:20\n",
      "   ----------------- --------------------- 173.8/390.2 MB 11.3 MB/s eta 0:00:20\n",
      "   ----------------- --------------------- 174.3/390.2 MB 11.3 MB/s eta 0:00:20\n",
      "   ----------------- --------------------- 174.9/390.2 MB 11.3 MB/s eta 0:00:20\n",
      "   ----------------- --------------------- 175.4/390.2 MB 11.3 MB/s eta 0:00:20\n",
      "   ----------------- --------------------- 175.9/390.2 MB 11.3 MB/s eta 0:00:19\n",
      "   ----------------- --------------------- 176.5/390.2 MB 11.3 MB/s eta 0:00:19\n",
      "   ----------------- --------------------- 176.9/390.2 MB 11.3 MB/s eta 0:00:19\n",
      "   ----------------- --------------------- 177.5/390.2 MB 11.3 MB/s eta 0:00:19\n",
      "   ----------------- --------------------- 178.0/390.2 MB 11.3 MB/s eta 0:00:19\n",
      "   ----------------- --------------------- 178.0/390.2 MB 11.3 MB/s eta 0:00:19\n",
      "   ----------------- --------------------- 178.8/390.2 MB 10.9 MB/s eta 0:00:20\n",
      "   ----------------- --------------------- 179.6/390.2 MB 11.3 MB/s eta 0:00:19\n",
      "   ------------------ -------------------- 180.2/390.2 MB 11.1 MB/s eta 0:00:19\n",
      "   ------------------ -------------------- 180.7/390.2 MB 11.1 MB/s eta 0:00:19\n",
      "   ------------------ -------------------- 181.2/390.2 MB 11.1 MB/s eta 0:00:19\n",
      "   ------------------ -------------------- 181.7/390.2 MB 11.1 MB/s eta 0:00:19\n",
      "   ------------------ -------------------- 182.3/390.2 MB 11.1 MB/s eta 0:00:19\n",
      "   ------------------ -------------------- 182.8/390.2 MB 11.1 MB/s eta 0:00:19\n",
      "   ------------------ -------------------- 183.3/390.2 MB 11.1 MB/s eta 0:00:19\n",
      "   ------------------ -------------------- 183.8/390.2 MB 11.1 MB/s eta 0:00:19\n",
      "   ------------------ -------------------- 184.3/390.2 MB 11.3 MB/s eta 0:00:19\n",
      "   ------------------ -------------------- 184.8/390.2 MB 11.3 MB/s eta 0:00:19\n",
      "   ------------------ -------------------- 185.4/390.2 MB 11.3 MB/s eta 0:00:19\n",
      "   ------------------ -------------------- 185.8/390.2 MB 11.3 MB/s eta 0:00:19\n",
      "   ------------------ -------------------- 185.8/390.2 MB 11.3 MB/s eta 0:00:19\n",
      "   ------------------ -------------------- 186.3/390.2 MB 10.6 MB/s eta 0:00:20\n",
      "   ------------------ -------------------- 186.8/390.2 MB 10.6 MB/s eta 0:00:20\n",
      "   ------------------ -------------------- 187.3/390.2 MB 10.6 MB/s eta 0:00:20\n",
      "   ------------------ -------------------- 187.8/390.2 MB 10.6 MB/s eta 0:00:20\n",
      "   ------------------ -------------------- 188.4/390.2 MB 11.5 MB/s eta 0:00:18\n",
      "   ------------------ -------------------- 188.9/390.2 MB 10.9 MB/s eta 0:00:19\n",
      "   ------------------ -------------------- 189.4/390.2 MB 10.6 MB/s eta 0:00:20\n",
      "   ------------------ -------------------- 189.9/390.2 MB 10.6 MB/s eta 0:00:19\n",
      "   ------------------- ------------------- 190.4/390.2 MB 10.6 MB/s eta 0:00:19\n",
      "   ------------------- ------------------- 190.9/390.2 MB 10.6 MB/s eta 0:00:19\n",
      "   ------------------- ------------------- 191.5/390.2 MB 10.6 MB/s eta 0:00:19\n",
      "   ------------------- ------------------- 192.0/390.2 MB 10.6 MB/s eta 0:00:19\n",
      "   ------------------- ------------------- 192.6/390.2 MB 10.6 MB/s eta 0:00:19\n",
      "   ------------------- ------------------- 193.1/390.2 MB 10.6 MB/s eta 0:00:19\n",
      "   ------------------- ------------------- 193.6/390.2 MB 10.6 MB/s eta 0:00:19\n",
      "   ------------------- ------------------- 193.7/390.2 MB 10.6 MB/s eta 0:00:19\n",
      "   ------------------- ------------------- 194.6/390.2 MB 10.6 MB/s eta 0:00:19\n",
      "   ------------------- ------------------- 194.7/390.2 MB 10.1 MB/s eta 0:00:20\n",
      "   ------------------- -------------------- 195.1/390.2 MB 9.9 MB/s eta 0:00:20\n",
      "   -------------------- ------------------- 195.6/390.2 MB 9.9 MB/s eta 0:00:20\n",
      "   ------------------- ------------------- 196.1/390.2 MB 10.6 MB/s eta 0:00:19\n",
      "   ------------------- ------------------- 196.6/390.2 MB 10.6 MB/s eta 0:00:19\n",
      "   ------------------- ------------------- 197.1/390.2 MB 10.6 MB/s eta 0:00:19\n",
      "   ------------------- ------------------- 197.7/390.2 MB 10.6 MB/s eta 0:00:19\n",
      "   ------------------- ------------------- 198.2/390.2 MB 10.6 MB/s eta 0:00:19\n",
      "   ------------------- ------------------- 198.7/390.2 MB 10.7 MB/s eta 0:00:18\n",
      "   ------------------- ------------------- 199.2/390.2 MB 10.6 MB/s eta 0:00:19\n",
      "   ------------------- ------------------- 199.7/390.2 MB 10.6 MB/s eta 0:00:19\n",
      "   -------------------- ------------------ 200.3/390.2 MB 10.6 MB/s eta 0:00:18\n",
      "   -------------------- ------------------ 200.8/390.2 MB 10.6 MB/s eta 0:00:18\n",
      "   -------------------- ------------------ 201.3/390.2 MB 10.6 MB/s eta 0:00:18\n",
      "   -------------------- ------------------ 201.8/390.2 MB 10.6 MB/s eta 0:00:18\n",
      "   -------------------- ------------------ 202.4/390.2 MB 10.6 MB/s eta 0:00:18\n",
      "   -------------------- ------------------ 202.9/390.2 MB 10.7 MB/s eta 0:00:18\n",
      "   -------------------- ------------------ 203.4/390.2 MB 10.6 MB/s eta 0:00:18\n",
      "   -------------------- ------------------ 203.9/390.2 MB 10.6 MB/s eta 0:00:18\n",
      "   -------------------- ------------------ 204.5/390.2 MB 10.7 MB/s eta 0:00:18\n",
      "   -------------------- ------------------ 205.0/390.2 MB 11.3 MB/s eta 0:00:17\n",
      "   -------------------- ------------------ 205.4/390.2 MB 11.1 MB/s eta 0:00:17\n",
      "   -------------------- ------------------ 206.0/390.2 MB 11.3 MB/s eta 0:00:17\n",
      "   -------------------- ------------------ 206.5/390.2 MB 11.3 MB/s eta 0:00:17\n",
      "   -------------------- ------------------ 207.1/390.2 MB 11.3 MB/s eta 0:00:17\n",
      "   -------------------- ------------------ 207.6/390.2 MB 11.3 MB/s eta 0:00:17\n",
      "   -------------------- ------------------ 208.1/390.2 MB 11.3 MB/s eta 0:00:17\n",
      "   -------------------- ------------------ 208.7/390.2 MB 11.3 MB/s eta 0:00:17\n",
      "   -------------------- ------------------ 209.2/390.2 MB 11.3 MB/s eta 0:00:17\n",
      "   -------------------- ------------------ 209.7/390.2 MB 11.3 MB/s eta 0:00:17\n",
      "   --------------------- ----------------- 210.2/390.2 MB 11.3 MB/s eta 0:00:16\n",
      "   --------------------- ----------------- 210.8/390.2 MB 11.3 MB/s eta 0:00:16\n",
      "   --------------------- ----------------- 211.3/390.2 MB 11.3 MB/s eta 0:00:16\n",
      "   --------------------- ----------------- 211.8/390.2 MB 11.3 MB/s eta 0:00:16\n",
      "   --------------------- ----------------- 212.3/390.2 MB 11.3 MB/s eta 0:00:16\n",
      "   --------------------- ----------------- 212.9/390.2 MB 11.3 MB/s eta 0:00:16\n",
      "   --------------------- ----------------- 213.4/390.2 MB 11.3 MB/s eta 0:00:16\n",
      "   --------------------- ----------------- 213.9/390.2 MB 11.3 MB/s eta 0:00:16\n",
      "   --------------------- ----------------- 214.4/390.2 MB 11.3 MB/s eta 0:00:16\n",
      "   --------------------- ----------------- 215.0/390.2 MB 11.3 MB/s eta 0:00:16\n",
      "   --------------------- ----------------- 215.5/390.2 MB 11.3 MB/s eta 0:00:16\n",
      "   --------------------- ----------------- 216.0/390.2 MB 11.3 MB/s eta 0:00:16\n",
      "   --------------------- ----------------- 216.6/390.2 MB 11.3 MB/s eta 0:00:16\n",
      "   --------------------- ----------------- 217.1/390.2 MB 11.3 MB/s eta 0:00:16\n",
      "   --------------------- ----------------- 217.6/390.2 MB 11.3 MB/s eta 0:00:16\n",
      "   --------------------- ----------------- 218.1/390.2 MB 11.3 MB/s eta 0:00:16\n",
      "   --------------------- ----------------- 218.6/390.2 MB 11.3 MB/s eta 0:00:16\n",
      "   --------------------- ----------------- 219.2/390.2 MB 11.3 MB/s eta 0:00:16\n",
      "   --------------------- ----------------- 219.5/390.2 MB 10.9 MB/s eta 0:00:16\n",
      "   --------------------- ----------------- 219.9/390.2 MB 10.9 MB/s eta 0:00:16\n",
      "   ---------------------- ---------------- 220.4/390.2 MB 10.9 MB/s eta 0:00:16\n",
      "   ---------------------- ---------------- 220.8/390.2 MB 10.7 MB/s eta 0:00:16\n",
      "   ---------------------- ---------------- 221.3/390.2 MB 10.7 MB/s eta 0:00:16\n",
      "   ---------------------- ---------------- 221.8/390.2 MB 10.7 MB/s eta 0:00:16\n",
      "   ---------------------- ---------------- 222.3/390.2 MB 10.7 MB/s eta 0:00:16\n",
      "   ---------------------- ---------------- 222.8/390.2 MB 10.6 MB/s eta 0:00:16\n",
      "   ---------------------- ---------------- 223.3/390.2 MB 10.6 MB/s eta 0:00:16\n",
      "   ---------------------- ---------------- 223.8/390.2 MB 10.6 MB/s eta 0:00:16\n",
      "   ---------------------- ---------------- 224.2/390.2 MB 10.4 MB/s eta 0:00:16\n",
      "   ---------------------- ---------------- 224.6/390.2 MB 10.2 MB/s eta 0:00:17\n",
      "   ---------------------- ---------------- 224.9/390.2 MB 10.2 MB/s eta 0:00:17\n",
      "   ---------------------- ---------------- 225.4/390.2 MB 10.1 MB/s eta 0:00:17\n",
      "   ---------------------- ---------------- 225.9/390.2 MB 10.1 MB/s eta 0:00:17\n",
      "   ---------------------- ---------------- 226.4/390.2 MB 10.1 MB/s eta 0:00:17\n",
      "   ---------------------- ---------------- 226.9/390.2 MB 10.1 MB/s eta 0:00:17\n",
      "   ---------------------- ---------------- 227.4/390.2 MB 10.1 MB/s eta 0:00:17\n",
      "   ----------------------- ---------------- 227.9/390.2 MB 9.9 MB/s eta 0:00:17\n",
      "   ----------------------- ---------------- 228.4/390.2 MB 9.9 MB/s eta 0:00:17\n",
      "   ----------------------- ---------------- 228.9/390.2 MB 9.9 MB/s eta 0:00:17\n",
      "   ----------------------- ---------------- 229.2/390.2 MB 9.8 MB/s eta 0:00:17\n",
      "   ----------------------- ---------------- 229.6/390.2 MB 9.8 MB/s eta 0:00:17\n",
      "   ----------------------- ---------------- 230.0/390.2 MB 9.8 MB/s eta 0:00:17\n",
      "   ----------------------- ---------------- 230.3/390.2 MB 9.6 MB/s eta 0:00:17\n",
      "   ----------------------- ---------------- 230.4/390.2 MB 9.5 MB/s eta 0:00:17\n",
      "   ----------------------- ---------------- 230.4/390.2 MB 9.5 MB/s eta 0:00:17\n",
      "   ----------------------- ---------------- 230.4/390.2 MB 8.5 MB/s eta 0:00:19\n",
      "   ----------------------- ---------------- 231.5/390.2 MB 9.1 MB/s eta 0:00:18\n",
      "   ----------------------- ---------------- 231.5/390.2 MB 9.1 MB/s eta 0:00:18\n",
      "   ----------------------- ---------------- 231.5/390.2 MB 9.1 MB/s eta 0:00:18\n",
      "   ----------------------- ---------------- 231.7/390.2 MB 8.5 MB/s eta 0:00:19\n",
      "   ----------------------- ---------------- 232.1/390.2 MB 8.3 MB/s eta 0:00:20\n",
      "   ----------------------- ---------------- 232.3/390.2 MB 8.2 MB/s eta 0:00:20\n",
      "   ----------------------- ---------------- 232.3/390.2 MB 7.8 MB/s eta 0:00:21\n",
      "   ----------------------- ---------------- 232.6/390.2 MB 7.6 MB/s eta 0:00:21\n",
      "   ----------------------- ---------------- 232.9/390.2 MB 7.7 MB/s eta 0:00:21\n",
      "   ----------------------- ---------------- 232.9/390.2 MB 7.7 MB/s eta 0:00:21\n",
      "   ----------------------- ---------------- 233.4/390.2 MB 7.2 MB/s eta 0:00:22\n",
      "   ----------------------- ---------------- 233.5/390.2 MB 7.2 MB/s eta 0:00:22\n",
      "   ----------------------- ---------------- 233.7/390.2 MB 7.0 MB/s eta 0:00:23\n",
      "   ----------------------- ---------------- 233.9/390.2 MB 6.8 MB/s eta 0:00:23\n",
      "   ------------------------ --------------- 234.1/390.2 MB 6.7 MB/s eta 0:00:24\n",
      "   ------------------------ --------------- 234.4/390.2 MB 6.5 MB/s eta 0:00:24\n",
      "   ------------------------ --------------- 234.5/390.2 MB 6.5 MB/s eta 0:00:25\n",
      "   ------------------------ --------------- 234.7/390.2 MB 6.4 MB/s eta 0:00:25\n",
      "   ------------------------ --------------- 234.9/390.2 MB 6.3 MB/s eta 0:00:25\n",
      "   ------------------------ --------------- 235.2/390.2 MB 6.3 MB/s eta 0:00:25\n",
      "   ------------------------ --------------- 235.4/390.2 MB 6.2 MB/s eta 0:00:25\n",
      "   ------------------------ --------------- 235.6/390.2 MB 6.1 MB/s eta 0:00:26\n",
      "   ------------------------ --------------- 235.8/390.2 MB 6.0 MB/s eta 0:00:26\n",
      "   ------------------------ --------------- 236.0/390.2 MB 5.9 MB/s eta 0:00:27\n",
      "   ------------------------ --------------- 236.2/390.2 MB 5.8 MB/s eta 0:00:27\n",
      "   ------------------------ --------------- 236.4/390.2 MB 5.7 MB/s eta 0:00:27\n",
      "   ------------------------ --------------- 236.6/390.2 MB 5.6 MB/s eta 0:00:28\n",
      "   ------------------------ --------------- 236.8/390.2 MB 5.6 MB/s eta 0:00:28\n",
      "   ------------------------ --------------- 236.9/390.2 MB 5.5 MB/s eta 0:00:29\n",
      "   ------------------------ --------------- 237.1/390.2 MB 5.4 MB/s eta 0:00:29\n",
      "   ------------------------ --------------- 237.4/390.2 MB 5.3 MB/s eta 0:00:29\n",
      "   ------------------------ --------------- 237.6/390.2 MB 5.2 MB/s eta 0:00:30\n",
      "   ------------------------ --------------- 237.9/390.2 MB 5.2 MB/s eta 0:00:30\n",
      "   ------------------------ --------------- 238.1/390.2 MB 5.1 MB/s eta 0:00:30\n",
      "   ------------------------ --------------- 238.3/390.2 MB 5.0 MB/s eta 0:00:31\n",
      "   ------------------------ --------------- 238.5/390.2 MB 5.0 MB/s eta 0:00:31\n",
      "   ------------------------ --------------- 238.8/390.2 MB 4.9 MB/s eta 0:00:31\n",
      "   ------------------------ --------------- 239.0/390.2 MB 4.9 MB/s eta 0:00:32\n",
      "   ------------------------ --------------- 239.3/390.2 MB 4.8 MB/s eta 0:00:32\n",
      "   ------------------------ --------------- 239.5/390.2 MB 4.8 MB/s eta 0:00:32\n",
      "   ------------------------ --------------- 239.7/390.2 MB 4.7 MB/s eta 0:00:32\n",
      "   ------------------------ --------------- 239.9/390.2 MB 4.7 MB/s eta 0:00:33\n",
      "   ------------------------ --------------- 240.2/390.2 MB 4.6 MB/s eta 0:00:33\n",
      "   ------------------------ --------------- 240.4/390.2 MB 4.6 MB/s eta 0:00:33\n",
      "   ------------------------ --------------- 240.6/390.2 MB 4.6 MB/s eta 0:00:33\n",
      "   ------------------------ --------------- 240.8/390.2 MB 4.8 MB/s eta 0:00:32\n",
      "   ------------------------ --------------- 241.0/390.2 MB 4.7 MB/s eta 0:00:32\n",
      "   ------------------------ --------------- 241.2/390.2 MB 4.6 MB/s eta 0:00:33\n",
      "   ------------------------ --------------- 241.5/390.2 MB 4.5 MB/s eta 0:00:33\n",
      "   ------------------------ --------------- 241.7/390.2 MB 4.5 MB/s eta 0:00:34\n",
      "   ------------------------ --------------- 241.9/390.2 MB 4.6 MB/s eta 0:00:33\n",
      "   ------------------------ --------------- 242.2/390.2 MB 4.6 MB/s eta 0:00:32\n",
      "   ------------------------ --------------- 242.4/390.2 MB 4.5 MB/s eta 0:00:33\n",
      "   ------------------------ --------------- 242.5/390.2 MB 4.6 MB/s eta 0:00:33\n",
      "   ------------------------ --------------- 242.7/390.2 MB 4.7 MB/s eta 0:00:32\n",
      "   ------------------------ --------------- 242.9/390.2 MB 4.6 MB/s eta 0:00:33\n",
      "   ------------------------ --------------- 243.1/390.2 MB 4.5 MB/s eta 0:00:33\n",
      "   ------------------------ --------------- 243.3/390.2 MB 4.6 MB/s eta 0:00:32\n",
      "   ------------------------ --------------- 243.4/390.2 MB 4.6 MB/s eta 0:00:33\n",
      "   ------------------------ --------------- 243.7/390.2 MB 4.5 MB/s eta 0:00:33\n",
      "   ------------------------ --------------- 243.8/390.2 MB 4.5 MB/s eta 0:00:33\n",
      "   ------------------------- -------------- 244.1/390.2 MB 4.5 MB/s eta 0:00:33\n",
      "   ------------------------- -------------- 244.2/390.2 MB 4.5 MB/s eta 0:00:33\n",
      "   ------------------------- -------------- 244.4/390.2 MB 4.5 MB/s eta 0:00:33\n",
      "   ------------------------- -------------- 244.6/390.2 MB 4.5 MB/s eta 0:00:33\n",
      "   ------------------------- -------------- 244.8/390.2 MB 4.5 MB/s eta 0:00:33\n",
      "   ------------------------- -------------- 245.0/390.2 MB 4.5 MB/s eta 0:00:33\n",
      "   ------------------------- -------------- 245.2/390.2 MB 4.5 MB/s eta 0:00:33\n",
      "   ------------------------- -------------- 245.5/390.2 MB 4.5 MB/s eta 0:00:33\n",
      "   ------------------------- -------------- 245.7/390.2 MB 4.5 MB/s eta 0:00:33\n",
      "   ------------------------- -------------- 245.9/390.2 MB 4.5 MB/s eta 0:00:32\n",
      "   ------------------------- -------------- 246.2/390.2 MB 4.5 MB/s eta 0:00:32\n",
      "   ------------------------- -------------- 246.5/390.2 MB 4.5 MB/s eta 0:00:32\n",
      "   ------------------------- -------------- 246.7/390.2 MB 4.6 MB/s eta 0:00:32\n",
      "   ------------------------- -------------- 247.0/390.2 MB 4.6 MB/s eta 0:00:32\n",
      "   ------------------------- -------------- 247.1/390.2 MB 4.7 MB/s eta 0:00:31\n",
      "   ------------------------- -------------- 247.4/390.2 MB 4.7 MB/s eta 0:00:31\n",
      "   ------------------------- -------------- 247.7/390.2 MB 4.7 MB/s eta 0:00:31\n",
      "   ------------------------- -------------- 247.9/390.2 MB 4.7 MB/s eta 0:00:31\n",
      "   ------------------------- -------------- 248.1/390.2 MB 4.6 MB/s eta 0:00:31\n",
      "   ------------------------- -------------- 248.3/390.2 MB 4.7 MB/s eta 0:00:31\n",
      "   ------------------------- -------------- 248.6/390.2 MB 4.7 MB/s eta 0:00:31\n",
      "   ------------------------- -------------- 248.8/390.2 MB 4.7 MB/s eta 0:00:31\n",
      "   ------------------------- -------------- 249.1/390.2 MB 4.7 MB/s eta 0:00:30\n",
      "   ------------------------- -------------- 249.3/390.2 MB 4.7 MB/s eta 0:00:30\n",
      "   ------------------------- -------------- 249.5/390.2 MB 4.7 MB/s eta 0:00:30\n",
      "   ------------------------- -------------- 249.8/390.2 MB 4.7 MB/s eta 0:00:30\n",
      "   ------------------------- -------------- 250.1/390.2 MB 4.7 MB/s eta 0:00:30\n",
      "   ------------------------- -------------- 250.3/390.2 MB 4.7 MB/s eta 0:00:30\n",
      "   ------------------------- -------------- 250.6/390.2 MB 4.7 MB/s eta 0:00:30\n",
      "   ------------------------- -------------- 250.7/390.2 MB 4.7 MB/s eta 0:00:30\n",
      "   ------------------------- -------------- 251.0/390.2 MB 4.7 MB/s eta 0:00:30\n",
      "   ------------------------- -------------- 251.2/390.2 MB 4.7 MB/s eta 0:00:30\n",
      "   ------------------------- -------------- 251.5/390.2 MB 4.8 MB/s eta 0:00:30\n",
      "   ------------------------- -------------- 251.8/390.2 MB 4.8 MB/s eta 0:00:29\n",
      "   ------------------------- -------------- 252.0/390.2 MB 4.8 MB/s eta 0:00:29\n",
      "   ------------------------- -------------- 252.3/390.2 MB 4.8 MB/s eta 0:00:29\n",
      "   ------------------------- -------------- 252.5/390.2 MB 4.8 MB/s eta 0:00:29\n",
      "   ------------------------- -------------- 252.7/390.2 MB 4.9 MB/s eta 0:00:29\n",
      "   ------------------------- -------------- 253.0/390.2 MB 4.9 MB/s eta 0:00:28\n",
      "   ------------------------- -------------- 253.2/390.2 MB 5.0 MB/s eta 0:00:28\n",
      "   ------------------------- -------------- 253.5/390.2 MB 4.9 MB/s eta 0:00:28\n",
      "   -------------------------- ------------- 253.7/390.2 MB 5.0 MB/s eta 0:00:28\n",
      "   -------------------------- ------------- 254.0/390.2 MB 5.1 MB/s eta 0:00:27\n",
      "   -------------------------- ------------- 254.2/390.2 MB 5.0 MB/s eta 0:00:28\n",
      "   -------------------------- ------------- 254.4/390.2 MB 5.1 MB/s eta 0:00:27\n",
      "   -------------------------- ------------- 254.6/390.2 MB 5.1 MB/s eta 0:00:27\n",
      "   -------------------------- ------------- 254.8/390.2 MB 5.1 MB/s eta 0:00:27\n",
      "   -------------------------- ------------- 255.0/390.2 MB 5.0 MB/s eta 0:00:27\n",
      "   -------------------------- ------------- 255.3/390.2 MB 5.1 MB/s eta 0:00:27\n",
      "   -------------------------- ------------- 255.4/390.2 MB 5.1 MB/s eta 0:00:27\n",
      "   -------------------------- ------------- 255.6/390.2 MB 5.1 MB/s eta 0:00:27\n",
      "   -------------------------- ------------- 255.8/390.2 MB 5.0 MB/s eta 0:00:27\n",
      "   -------------------------- ------------- 255.9/390.2 MB 5.0 MB/s eta 0:00:27\n",
      "   -------------------------- ------------- 256.2/390.2 MB 5.0 MB/s eta 0:00:27\n",
      "   -------------------------- ------------- 256.5/390.2 MB 5.0 MB/s eta 0:00:27\n",
      "   -------------------------- ------------- 256.7/390.2 MB 5.0 MB/s eta 0:00:27\n",
      "   -------------------------- ------------- 257.0/390.2 MB 5.0 MB/s eta 0:00:27\n",
      "   -------------------------- ------------- 257.2/390.2 MB 5.0 MB/s eta 0:00:27\n",
      "   -------------------------- ------------- 257.5/390.2 MB 5.0 MB/s eta 0:00:27\n",
      "   -------------------------- ------------- 257.7/390.2 MB 5.0 MB/s eta 0:00:27\n",
      "   -------------------------- ------------- 258.0/390.2 MB 5.1 MB/s eta 0:00:27\n",
      "   -------------------------- ------------- 258.3/390.2 MB 5.1 MB/s eta 0:00:26\n",
      "   -------------------------- ------------- 258.5/390.2 MB 5.1 MB/s eta 0:00:26\n",
      "   -------------------------- ------------- 258.8/390.2 MB 5.1 MB/s eta 0:00:26\n",
      "   -------------------------- ------------- 259.1/390.2 MB 5.1 MB/s eta 0:00:26\n",
      "   -------------------------- ------------- 259.4/390.2 MB 5.1 MB/s eta 0:00:26\n",
      "   -------------------------- ------------- 259.6/390.2 MB 5.1 MB/s eta 0:00:26\n",
      "   -------------------------- ------------- 259.9/390.2 MB 5.2 MB/s eta 0:00:26\n",
      "   -------------------------- ------------- 260.2/390.2 MB 5.2 MB/s eta 0:00:26\n",
      "   -------------------------- ------------- 260.5/390.2 MB 5.2 MB/s eta 0:00:25\n",
      "   -------------------------- ------------- 260.8/390.2 MB 5.2 MB/s eta 0:00:25\n",
      "   -------------------------- ------------- 261.0/390.2 MB 5.3 MB/s eta 0:00:25\n",
      "   -------------------------- ------------- 261.3/390.2 MB 5.3 MB/s eta 0:00:25\n",
      "   -------------------------- ------------- 261.6/390.2 MB 5.3 MB/s eta 0:00:25\n",
      "   -------------------------- ------------- 261.8/390.2 MB 5.3 MB/s eta 0:00:25\n",
      "   -------------------------- ------------- 262.1/390.2 MB 5.3 MB/s eta 0:00:25\n",
      "   -------------------------- ------------- 262.4/390.2 MB 5.3 MB/s eta 0:00:25\n",
      "   -------------------------- ------------- 262.7/390.2 MB 5.3 MB/s eta 0:00:25\n",
      "   -------------------------- ------------- 262.9/390.2 MB 5.3 MB/s eta 0:00:24\n",
      "   -------------------------- ------------- 263.1/390.2 MB 5.3 MB/s eta 0:00:25\n",
      "   -------------------------- ------------- 263.4/390.2 MB 5.3 MB/s eta 0:00:25\n",
      "   --------------------------- ------------ 263.6/390.2 MB 5.3 MB/s eta 0:00:24\n",
      "   --------------------------- ------------ 263.9/390.2 MB 5.3 MB/s eta 0:00:24\n",
      "   --------------------------- ------------ 264.1/390.2 MB 5.3 MB/s eta 0:00:24\n",
      "   --------------------------- ------------ 264.3/390.2 MB 5.3 MB/s eta 0:00:24\n",
      "   --------------------------- ------------ 264.6/390.2 MB 5.3 MB/s eta 0:00:24\n",
      "   --------------------------- ------------ 264.8/390.2 MB 5.3 MB/s eta 0:00:24\n",
      "   --------------------------- ------------ 265.1/390.2 MB 5.4 MB/s eta 0:00:24\n",
      "   --------------------------- ------------ 265.3/390.2 MB 5.4 MB/s eta 0:00:24\n",
      "   --------------------------- ------------ 265.5/390.2 MB 5.4 MB/s eta 0:00:24\n",
      "   --------------------------- ------------ 265.8/390.2 MB 5.5 MB/s eta 0:00:23\n",
      "   --------------------------- ------------ 266.0/390.2 MB 5.5 MB/s eta 0:00:23\n",
      "   --------------------------- ------------ 266.2/390.2 MB 5.5 MB/s eta 0:00:23\n",
      "   --------------------------- ------------ 266.5/390.2 MB 5.5 MB/s eta 0:00:23\n",
      "   --------------------------- ------------ 266.8/390.2 MB 5.5 MB/s eta 0:00:23\n",
      "   --------------------------- ------------ 267.0/390.2 MB 5.5 MB/s eta 0:00:23\n",
      "   --------------------------- ------------ 267.2/390.2 MB 5.5 MB/s eta 0:00:23\n",
      "   --------------------------- ------------ 267.6/390.2 MB 5.5 MB/s eta 0:00:23\n",
      "   --------------------------- ------------ 267.9/390.2 MB 5.5 MB/s eta 0:00:23\n",
      "   --------------------------- ------------ 267.9/390.2 MB 5.6 MB/s eta 0:00:22\n",
      "   --------------------------- ------------ 268.2/390.2 MB 5.5 MB/s eta 0:00:23\n",
      "   --------------------------- ------------ 268.4/390.2 MB 5.5 MB/s eta 0:00:23\n",
      "   --------------------------- ------------ 268.6/390.2 MB 5.4 MB/s eta 0:00:23\n",
      "   --------------------------- ------------ 268.7/390.2 MB 5.3 MB/s eta 0:00:23\n",
      "   --------------------------- ------------ 268.9/390.2 MB 5.3 MB/s eta 0:00:23\n",
      "   --------------------------- ------------ 269.1/390.2 MB 5.2 MB/s eta 0:00:24\n",
      "   --------------------------- ------------ 269.4/390.2 MB 5.2 MB/s eta 0:00:24\n",
      "   --------------------------- ------------ 269.6/390.2 MB 5.2 MB/s eta 0:00:24\n",
      "   --------------------------- ------------ 270.0/390.2 MB 5.2 MB/s eta 0:00:23\n",
      "   --------------------------- ------------ 270.3/390.2 MB 5.3 MB/s eta 0:00:23\n",
      "   --------------------------- ------------ 270.5/390.2 MB 5.3 MB/s eta 0:00:23\n",
      "   --------------------------- ------------ 270.8/390.2 MB 5.3 MB/s eta 0:00:23\n",
      "   --------------------------- ------------ 271.1/390.2 MB 5.3 MB/s eta 0:00:23\n",
      "   --------------------------- ------------ 271.4/390.2 MB 5.3 MB/s eta 0:00:23\n",
      "   --------------------------- ------------ 271.7/390.2 MB 5.3 MB/s eta 0:00:23\n",
      "   --------------------------- ------------ 272.0/390.2 MB 5.3 MB/s eta 0:00:23\n",
      "   --------------------------- ------------ 272.3/390.2 MB 5.3 MB/s eta 0:00:23\n",
      "   --------------------------- ------------ 272.5/390.2 MB 5.3 MB/s eta 0:00:23\n",
      "   --------------------------- ------------ 272.9/390.2 MB 5.3 MB/s eta 0:00:23\n",
      "   --------------------------- ------------ 273.1/390.2 MB 5.3 MB/s eta 0:00:22\n",
      "   ---------------------------- ----------- 273.4/390.2 MB 5.4 MB/s eta 0:00:22\n",
      "   ---------------------------- ----------- 273.8/390.2 MB 5.4 MB/s eta 0:00:22\n",
      "   ---------------------------- ----------- 274.1/390.2 MB 5.5 MB/s eta 0:00:22\n",
      "   ---------------------------- ----------- 274.4/390.2 MB 5.5 MB/s eta 0:00:22\n",
      "   ---------------------------- ----------- 274.6/390.2 MB 5.5 MB/s eta 0:00:22\n",
      "   ---------------------------- ----------- 274.9/390.2 MB 5.5 MB/s eta 0:00:21\n",
      "   ---------------------------- ----------- 275.2/390.2 MB 5.5 MB/s eta 0:00:21\n",
      "   ---------------------------- ----------- 275.5/390.2 MB 5.6 MB/s eta 0:00:21\n",
      "   ---------------------------- ----------- 275.8/390.2 MB 5.6 MB/s eta 0:00:21\n",
      "   ---------------------------- ----------- 276.1/390.2 MB 5.7 MB/s eta 0:00:21\n",
      "   ---------------------------- ----------- 276.4/390.2 MB 5.7 MB/s eta 0:00:20\n",
      "   ---------------------------- ----------- 276.7/390.2 MB 5.7 MB/s eta 0:00:20\n",
      "   ---------------------------- ----------- 277.1/390.2 MB 5.8 MB/s eta 0:00:20\n",
      "   ---------------------------- ----------- 277.4/390.2 MB 5.8 MB/s eta 0:00:20\n",
      "   ---------------------------- ----------- 277.6/390.2 MB 5.8 MB/s eta 0:00:20\n",
      "   ---------------------------- ----------- 278.0/390.2 MB 5.9 MB/s eta 0:00:20\n",
      "   ---------------------------- ----------- 278.3/390.2 MB 6.0 MB/s eta 0:00:19\n",
      "   ---------------------------- ----------- 278.6/390.2 MB 6.0 MB/s eta 0:00:19\n",
      "   ---------------------------- ----------- 278.7/390.2 MB 6.0 MB/s eta 0:00:19\n",
      "   ---------------------------- ----------- 279.0/390.2 MB 6.1 MB/s eta 0:00:19\n",
      "   ---------------------------- ----------- 279.2/390.2 MB 6.1 MB/s eta 0:00:19\n",
      "   ---------------------------- ----------- 279.5/390.2 MB 6.2 MB/s eta 0:00:18\n",
      "   ---------------------------- ----------- 279.9/390.2 MB 6.2 MB/s eta 0:00:18\n",
      "   ---------------------------- ----------- 280.0/390.2 MB 6.2 MB/s eta 0:00:18\n",
      "   ---------------------------- ----------- 280.4/390.2 MB 6.2 MB/s eta 0:00:18\n",
      "   ---------------------------- ----------- 280.7/390.2 MB 6.2 MB/s eta 0:00:18\n",
      "   ---------------------------- ----------- 281.0/390.2 MB 6.2 MB/s eta 0:00:18\n",
      "   ---------------------------- ----------- 281.2/390.2 MB 6.2 MB/s eta 0:00:18\n",
      "   ---------------------------- ----------- 281.6/390.2 MB 6.2 MB/s eta 0:00:18\n",
      "   ---------------------------- ----------- 281.9/390.2 MB 6.2 MB/s eta 0:00:18\n",
      "   ---------------------------- ----------- 282.2/390.2 MB 6.2 MB/s eta 0:00:18\n",
      "   ---------------------------- ----------- 282.5/390.2 MB 6.2 MB/s eta 0:00:18\n",
      "   ---------------------------- ----------- 282.8/390.2 MB 6.3 MB/s eta 0:00:18\n",
      "   ----------------------------- ---------- 283.1/390.2 MB 6.3 MB/s eta 0:00:18\n",
      "   ----------------------------- ---------- 283.5/390.2 MB 6.3 MB/s eta 0:00:17\n",
      "   ----------------------------- ---------- 283.8/390.2 MB 6.3 MB/s eta 0:00:17\n",
      "   ----------------------------- ---------- 284.1/390.2 MB 6.4 MB/s eta 0:00:17\n",
      "   ----------------------------- ---------- 284.4/390.2 MB 6.4 MB/s eta 0:00:17\n",
      "   ----------------------------- ---------- 284.7/390.2 MB 6.3 MB/s eta 0:00:17\n",
      "   ----------------------------- ---------- 285.1/390.2 MB 6.4 MB/s eta 0:00:17\n",
      "   ----------------------------- ---------- 285.4/390.2 MB 6.4 MB/s eta 0:00:17\n",
      "   ----------------------------- ---------- 285.6/390.2 MB 6.4 MB/s eta 0:00:17\n",
      "   ----------------------------- ---------- 285.9/390.2 MB 6.4 MB/s eta 0:00:17\n",
      "   ----------------------------- ---------- 286.3/390.2 MB 6.4 MB/s eta 0:00:17\n",
      "   ----------------------------- ---------- 286.6/390.2 MB 6.4 MB/s eta 0:00:17\n",
      "   ----------------------------- ---------- 286.9/390.2 MB 6.4 MB/s eta 0:00:17\n",
      "   ----------------------------- ---------- 287.2/390.2 MB 6.4 MB/s eta 0:00:17\n",
      "   ----------------------------- ---------- 287.5/390.2 MB 6.4 MB/s eta 0:00:16\n",
      "   ----------------------------- ---------- 287.8/390.2 MB 6.4 MB/s eta 0:00:16\n",
      "   ----------------------------- ---------- 288.2/390.2 MB 6.4 MB/s eta 0:00:16\n",
      "   ----------------------------- ---------- 288.4/390.2 MB 6.4 MB/s eta 0:00:17\n",
      "   ----------------------------- ---------- 288.7/390.2 MB 6.4 MB/s eta 0:00:16\n",
      "   ----------------------------- ---------- 289.0/390.2 MB 6.5 MB/s eta 0:00:16\n",
      "   ----------------------------- ---------- 289.3/390.2 MB 6.5 MB/s eta 0:00:16\n",
      "   ----------------------------- ---------- 289.6/390.2 MB 6.5 MB/s eta 0:00:16\n",
      "   ----------------------------- ---------- 289.8/390.2 MB 6.4 MB/s eta 0:00:16\n",
      "   ----------------------------- ---------- 290.1/390.2 MB 6.4 MB/s eta 0:00:16\n",
      "   ----------------------------- ---------- 290.4/390.2 MB 6.5 MB/s eta 0:00:16\n",
      "   ----------------------------- ---------- 290.7/390.2 MB 6.5 MB/s eta 0:00:16\n",
      "   ----------------------------- ---------- 291.0/390.2 MB 6.5 MB/s eta 0:00:16\n",
      "   ----------------------------- ---------- 291.2/390.2 MB 6.4 MB/s eta 0:00:16\n",
      "   ----------------------------- ---------- 291.3/390.2 MB 6.4 MB/s eta 0:00:16\n",
      "   ----------------------------- ---------- 291.5/390.2 MB 6.2 MB/s eta 0:00:16\n",
      "   ----------------------------- ---------- 291.7/390.2 MB 6.2 MB/s eta 0:00:16\n",
      "   ----------------------------- ---------- 291.8/390.2 MB 6.1 MB/s eta 0:00:17\n",
      "   ----------------------------- ---------- 291.9/390.2 MB 6.0 MB/s eta 0:00:17\n",
      "   ----------------------------- ---------- 292.1/390.2 MB 5.9 MB/s eta 0:00:17\n",
      "   ----------------------------- ---------- 292.4/390.2 MB 5.9 MB/s eta 0:00:17\n",
      "   ----------------------------- ---------- 292.4/390.2 MB 5.8 MB/s eta 0:00:17\n",
      "   ----------------------------- ---------- 292.4/390.2 MB 5.8 MB/s eta 0:00:17\n",
      "   ------------------------------ --------- 292.9/390.2 MB 5.7 MB/s eta 0:00:18\n",
      "   ------------------------------ --------- 293.0/390.2 MB 5.6 MB/s eta 0:00:18\n",
      "   ------------------------------ --------- 293.5/390.2 MB 5.6 MB/s eta 0:00:18\n",
      "   ------------------------------ --------- 293.5/390.2 MB 5.6 MB/s eta 0:00:18\n",
      "   ------------------------------ --------- 293.9/390.2 MB 5.5 MB/s eta 0:00:18\n",
      "   ------------------------------ --------- 294.1/390.2 MB 5.5 MB/s eta 0:00:18\n",
      "   ------------------------------ --------- 294.5/390.2 MB 5.6 MB/s eta 0:00:18\n",
      "   ------------------------------ --------- 294.9/390.2 MB 5.6 MB/s eta 0:00:18\n",
      "   ------------------------------ --------- 295.4/390.2 MB 5.6 MB/s eta 0:00:17\n",
      "   ------------------------------ --------- 295.7/390.2 MB 5.6 MB/s eta 0:00:17\n",
      "   ------------------------------ --------- 296.0/390.2 MB 5.7 MB/s eta 0:00:17\n",
      "   ------------------------------ --------- 296.5/390.2 MB 5.7 MB/s eta 0:00:17\n",
      "   ------------------------------ --------- 296.9/390.2 MB 5.8 MB/s eta 0:00:17\n",
      "   ------------------------------ --------- 297.3/390.2 MB 5.8 MB/s eta 0:00:16\n",
      "   ------------------------------ --------- 297.8/390.2 MB 5.9 MB/s eta 0:00:16\n",
      "   ------------------------------ --------- 298.2/390.2 MB 6.0 MB/s eta 0:00:16\n",
      "   ------------------------------ --------- 298.6/390.2 MB 6.1 MB/s eta 0:00:16\n",
      "   ------------------------------ --------- 298.8/390.2 MB 6.1 MB/s eta 0:00:16\n",
      "   ------------------------------ --------- 299.2/390.2 MB 6.0 MB/s eta 0:00:16\n",
      "   ------------------------------ --------- 299.4/390.2 MB 6.0 MB/s eta 0:00:16\n",
      "   ------------------------------ --------- 299.8/390.2 MB 6.0 MB/s eta 0:00:16\n",
      "   ------------------------------ --------- 300.2/390.2 MB 6.2 MB/s eta 0:00:15\n",
      "   ------------------------------ --------- 300.5/390.2 MB 6.2 MB/s eta 0:00:15\n",
      "   ------------------------------ --------- 301.1/390.2 MB 6.3 MB/s eta 0:00:15\n",
      "   ------------------------------ --------- 301.4/390.2 MB 6.4 MB/s eta 0:00:14\n",
      "   ------------------------------ --------- 301.9/390.2 MB 6.7 MB/s eta 0:00:14\n",
      "   ------------------------------ --------- 302.4/390.2 MB 7.2 MB/s eta 0:00:13\n",
      "   ------------------------------- -------- 302.7/390.2 MB 7.8 MB/s eta 0:00:12\n",
      "   ------------------------------- -------- 303.1/390.2 MB 7.9 MB/s eta 0:00:12\n",
      "   ------------------------------- -------- 303.6/390.2 MB 8.0 MB/s eta 0:00:11\n",
      "   ------------------------------- -------- 304.0/390.2 MB 8.3 MB/s eta 0:00:11\n",
      "   ------------------------------- -------- 304.4/390.2 MB 8.4 MB/s eta 0:00:11\n",
      "   ------------------------------- -------- 304.8/390.2 MB 8.4 MB/s eta 0:00:11\n",
      "   ------------------------------- -------- 305.3/390.2 MB 8.4 MB/s eta 0:00:11\n",
      "   ------------------------------- -------- 305.7/390.2 MB 8.5 MB/s eta 0:00:10\n",
      "   ------------------------------- -------- 306.2/390.2 MB 8.6 MB/s eta 0:00:10\n",
      "   ------------------------------- -------- 306.4/390.2 MB 8.5 MB/s eta 0:00:10\n",
      "   ------------------------------- -------- 306.6/390.2 MB 8.3 MB/s eta 0:00:11\n",
      "   ------------------------------- -------- 307.0/390.2 MB 8.3 MB/s eta 0:00:11\n",
      "   ------------------------------- -------- 307.3/390.2 MB 8.2 MB/s eta 0:00:11\n",
      "   ------------------------------- -------- 307.8/390.2 MB 8.2 MB/s eta 0:00:11\n",
      "   ------------------------------- -------- 308.2/390.2 MB 8.2 MB/s eta 0:00:11\n",
      "   ------------------------------- -------- 308.5/390.2 MB 8.1 MB/s eta 0:00:11\n",
      "   ------------------------------- -------- 308.7/390.2 MB 8.0 MB/s eta 0:00:11\n",
      "   ------------------------------- -------- 309.1/390.2 MB 8.2 MB/s eta 0:00:10\n",
      "   ------------------------------- -------- 309.6/390.2 MB 8.4 MB/s eta 0:00:10\n",
      "   ------------------------------- -------- 310.1/390.2 MB 8.4 MB/s eta 0:00:10\n",
      "   ------------------------------- -------- 310.6/390.2 MB 8.5 MB/s eta 0:00:10\n",
      "   ------------------------------- -------- 311.1/390.2 MB 8.5 MB/s eta 0:00:10\n",
      "   ------------------------------- -------- 311.6/390.2 MB 8.7 MB/s eta 0:00:10\n",
      "   ------------------------------- -------- 312.1/390.2 MB 8.7 MB/s eta 0:00:09\n",
      "   -------------------------------- ------- 312.5/390.2 MB 8.6 MB/s eta 0:00:10\n",
      "   -------------------------------- ------- 312.9/390.2 MB 8.6 MB/s eta 0:00:09\n",
      "   -------------------------------- ------- 313.0/390.2 MB 8.5 MB/s eta 0:00:10\n",
      "   -------------------------------- ------- 313.1/390.2 MB 8.2 MB/s eta 0:00:10\n",
      "   -------------------------------- ------- 313.6/390.2 MB 8.3 MB/s eta 0:00:10\n",
      "   -------------------------------- ------- 314.0/390.2 MB 8.3 MB/s eta 0:00:10\n",
      "   -------------------------------- ------- 314.6/390.2 MB 8.4 MB/s eta 0:00:10\n",
      "   -------------------------------- ------- 315.1/390.2 MB 8.4 MB/s eta 0:00:09\n",
      "   -------------------------------- ------- 315.4/390.2 MB 8.4 MB/s eta 0:00:09\n",
      "   -------------------------------- ------- 315.9/390.2 MB 8.4 MB/s eta 0:00:09\n",
      "   -------------------------------- ------- 316.0/390.2 MB 8.2 MB/s eta 0:00:10\n",
      "   -------------------------------- ------- 316.3/390.2 MB 8.0 MB/s eta 0:00:10\n",
      "   -------------------------------- ------- 316.7/390.2 MB 8.1 MB/s eta 0:00:10\n",
      "   -------------------------------- ------- 316.9/390.2 MB 8.2 MB/s eta 0:00:09\n",
      "   -------------------------------- ------- 317.3/390.2 MB 8.2 MB/s eta 0:00:09\n",
      "   -------------------------------- ------- 317.7/390.2 MB 8.3 MB/s eta 0:00:09\n",
      "   -------------------------------- ------- 317.8/390.2 MB 8.0 MB/s eta 0:00:10\n",
      "   -------------------------------- ------- 318.3/390.2 MB 8.0 MB/s eta 0:00:10\n",
      "   -------------------------------- ------- 318.9/390.2 MB 8.3 MB/s eta 0:00:09\n",
      "   -------------------------------- ------- 319.4/390.2 MB 8.4 MB/s eta 0:00:09\n",
      "   -------------------------------- ------- 319.9/390.2 MB 8.4 MB/s eta 0:00:09\n",
      "   -------------------------------- ------- 320.4/390.2 MB 8.4 MB/s eta 0:00:09\n",
      "   -------------------------------- ------- 321.0/390.2 MB 8.4 MB/s eta 0:00:09\n",
      "   -------------------------------- ------- 321.5/390.2 MB 8.5 MB/s eta 0:00:09\n",
      "   --------------------------------- ------ 321.9/390.2 MB 8.4 MB/s eta 0:00:09\n",
      "   --------------------------------- ------ 322.3/390.2 MB 8.3 MB/s eta 0:00:09\n",
      "   --------------------------------- ------ 322.5/390.2 MB 8.2 MB/s eta 0:00:09\n",
      "   --------------------------------- ------ 322.7/390.2 MB 8.1 MB/s eta 0:00:09\n",
      "   --------------------------------- ------ 322.9/390.2 MB 7.9 MB/s eta 0:00:09\n",
      "   --------------------------------- ------ 323.3/390.2 MB 8.3 MB/s eta 0:00:09\n",
      "   --------------------------------- ------ 323.7/390.2 MB 8.3 MB/s eta 0:00:09\n",
      "   --------------------------------- ------ 323.8/390.2 MB 8.3 MB/s eta 0:00:09\n",
      "   --------------------------------- ------ 324.3/390.2 MB 8.1 MB/s eta 0:00:09\n",
      "   --------------------------------- ------ 324.7/390.2 MB 8.3 MB/s eta 0:00:08\n",
      "   --------------------------------- ------ 324.7/390.2 MB 7.9 MB/s eta 0:00:09\n",
      "   --------------------------------- ------ 325.4/390.2 MB 8.0 MB/s eta 0:00:09\n",
      "   --------------------------------- ------ 325.6/390.2 MB 8.0 MB/s eta 0:00:09\n",
      "   --------------------------------- ------ 325.8/390.2 MB 7.6 MB/s eta 0:00:09\n",
      "   --------------------------------- ------ 326.3/390.2 MB 7.8 MB/s eta 0:00:09\n",
      "   --------------------------------- ------ 326.6/390.2 MB 7.9 MB/s eta 0:00:09\n",
      "   --------------------------------- ------ 326.9/390.2 MB 7.8 MB/s eta 0:00:09\n",
      "   --------------------------------- ------ 326.9/390.2 MB 7.8 MB/s eta 0:00:09\n",
      "   --------------------------------- ------ 327.4/390.2 MB 7.8 MB/s eta 0:00:09\n",
      "   --------------------------------- ------ 327.4/390.2 MB 7.8 MB/s eta 0:00:09\n",
      "   --------------------------------- ------ 327.4/390.2 MB 7.8 MB/s eta 0:00:09\n",
      "   --------------------------------- ------ 328.2/390.2 MB 7.7 MB/s eta 0:00:09\n",
      "   --------------------------------- ------ 328.6/390.2 MB 7.6 MB/s eta 0:00:09\n",
      "   --------------------------------- ------ 329.0/390.2 MB 7.5 MB/s eta 0:00:09\n",
      "   --------------------------------- ------ 329.4/390.2 MB 7.5 MB/s eta 0:00:09\n",
      "   --------------------------------- ------ 329.8/390.2 MB 7.4 MB/s eta 0:00:09\n",
      "   --------------------------------- ------ 330.1/390.2 MB 7.4 MB/s eta 0:00:09\n",
      "   --------------------------------- ------ 330.4/390.2 MB 7.2 MB/s eta 0:00:09\n",
      "   --------------------------------- ------ 330.8/390.2 MB 7.2 MB/s eta 0:00:09\n",
      "   --------------------------------- ------ 331.3/390.2 MB 7.1 MB/s eta 0:00:09\n",
      "   ---------------------------------- ----- 331.7/390.2 MB 7.0 MB/s eta 0:00:09\n",
      "   ---------------------------------- ----- 332.3/390.2 MB 7.2 MB/s eta 0:00:09\n",
      "   ---------------------------------- ----- 332.8/390.2 MB 7.4 MB/s eta 0:00:08\n",
      "   ---------------------------------- ----- 333.3/390.2 MB 7.7 MB/s eta 0:00:08\n",
      "   ---------------------------------- ----- 333.8/390.2 MB 7.7 MB/s eta 0:00:08\n",
      "   ---------------------------------- ----- 334.4/390.2 MB 8.1 MB/s eta 0:00:07\n",
      "   ---------------------------------- ----- 334.9/390.2 MB 7.8 MB/s eta 0:00:08\n",
      "   ---------------------------------- ----- 335.3/390.2 MB 8.2 MB/s eta 0:00:07\n",
      "   ---------------------------------- ----- 335.6/390.2 MB 8.0 MB/s eta 0:00:07\n",
      "   ---------------------------------- ----- 336.1/390.2 MB 8.4 MB/s eta 0:00:07\n",
      "   ---------------------------------- ----- 336.6/390.2 MB 8.5 MB/s eta 0:00:07\n",
      "   ---------------------------------- ----- 336.8/390.2 MB 8.6 MB/s eta 0:00:07\n",
      "   ---------------------------------- ----- 337.4/390.2 MB 8.8 MB/s eta 0:00:06\n",
      "   ---------------------------------- ----- 337.8/390.2 MB 9.9 MB/s eta 0:00:06\n",
      "   ---------------------------------- ----- 338.2/390.2 MB 9.4 MB/s eta 0:00:06\n",
      "   ---------------------------------- ----- 338.6/390.2 MB 9.2 MB/s eta 0:00:06\n",
      "   ---------------------------------- ----- 339.1/390.2 MB 9.4 MB/s eta 0:00:06\n",
      "   ---------------------------------- ----- 339.7/390.2 MB 9.6 MB/s eta 0:00:06\n",
      "   ---------------------------------- ----- 340.2/390.2 MB 9.6 MB/s eta 0:00:06\n",
      "   ---------------------------------- ---- 340.7/390.2 MB 10.1 MB/s eta 0:00:05\n",
      "   ---------------------------------- ---- 341.2/390.2 MB 10.2 MB/s eta 0:00:05\n",
      "   ---------------------------------- ---- 341.7/390.2 MB 10.2 MB/s eta 0:00:05\n",
      "   ---------------------------------- ---- 342.3/390.2 MB 10.1 MB/s eta 0:00:05\n",
      "   ---------------------------------- ---- 342.8/390.2 MB 10.2 MB/s eta 0:00:05\n",
      "   ---------------------------------- ---- 343.3/390.2 MB 10.2 MB/s eta 0:00:05\n",
      "   ---------------------------------- ---- 343.8/390.2 MB 10.1 MB/s eta 0:00:05\n",
      "   ---------------------------------- ---- 344.3/390.2 MB 10.2 MB/s eta 0:00:05\n",
      "   ---------------------------------- ---- 344.8/390.2 MB 10.2 MB/s eta 0:00:05\n",
      "   ----------------------------------- ---- 345.1/390.2 MB 9.9 MB/s eta 0:00:05\n",
      "   ---------------------------------- ---- 345.5/390.2 MB 10.1 MB/s eta 0:00:05\n",
      "   ---------------------------------- ---- 346.0/390.2 MB 10.2 MB/s eta 0:00:05\n",
      "   ---------------------------------- ---- 346.3/390.2 MB 10.1 MB/s eta 0:00:05\n",
      "   ----------------------------------- ---- 346.4/390.2 MB 9.6 MB/s eta 0:00:05\n",
      "   ----------------------------------- ---- 346.5/390.2 MB 9.4 MB/s eta 0:00:05\n",
      "   ----------------------------------- ---- 346.7/390.2 MB 9.1 MB/s eta 0:00:05\n",
      "   ----------------------------------- ---- 347.0/390.2 MB 9.0 MB/s eta 0:00:05\n",
      "   ----------------------------------- ---- 347.2/390.2 MB 8.8 MB/s eta 0:00:05\n",
      "   ----------------------------------- ---- 347.2/390.2 MB 8.8 MB/s eta 0:00:05\n",
      "   ----------------------------------- ---- 347.8/390.2 MB 8.6 MB/s eta 0:00:05\n",
      "   ----------------------------------- ---- 348.1/390.2 MB 8.5 MB/s eta 0:00:05\n",
      "   ----------------------------------- ---- 348.7/390.2 MB 8.6 MB/s eta 0:00:05\n",
      "   ----------------------------------- ---- 348.9/390.2 MB 8.5 MB/s eta 0:00:05\n",
      "   ----------------------------------- ---- 349.4/390.2 MB 8.5 MB/s eta 0:00:05\n",
      "   ----------------------------------- ---- 349.8/390.2 MB 8.4 MB/s eta 0:00:05\n",
      "   ----------------------------------- ---- 350.2/390.2 MB 8.3 MB/s eta 0:00:05\n",
      "   ----------------------------------- ---- 350.7/390.2 MB 8.3 MB/s eta 0:00:05\n",
      "   ----------------------------------- ---- 351.0/390.2 MB 8.2 MB/s eta 0:00:05\n",
      "   ------------------------------------ --- 351.5/390.2 MB 8.2 MB/s eta 0:00:05\n",
      "   ------------------------------------ --- 352.0/390.2 MB 8.2 MB/s eta 0:00:05\n",
      "   ------------------------------------ --- 352.4/390.2 MB 8.1 MB/s eta 0:00:05\n",
      "   ------------------------------------ --- 352.8/390.2 MB 8.0 MB/s eta 0:00:05\n",
      "   ------------------------------------ --- 353.0/390.2 MB 7.8 MB/s eta 0:00:05\n",
      "   ------------------------------------ --- 353.5/390.2 MB 7.8 MB/s eta 0:00:05\n",
      "   ------------------------------------ --- 353.9/390.2 MB 7.8 MB/s eta 0:00:05\n",
      "   ------------------------------------ --- 354.2/390.2 MB 7.7 MB/s eta 0:00:05\n",
      "   ------------------------------------ --- 354.7/390.2 MB 7.7 MB/s eta 0:00:05\n",
      "   ------------------------------------ --- 355.1/390.2 MB 7.6 MB/s eta 0:00:05\n",
      "   ------------------------------------ --- 355.4/390.2 MB 7.7 MB/s eta 0:00:05\n",
      "   ------------------------------------ --- 355.7/390.2 MB 7.5 MB/s eta 0:00:05\n",
      "   ------------------------------------ --- 355.9/390.2 MB 7.4 MB/s eta 0:00:05\n",
      "   ------------------------------------ --- 356.2/390.2 MB 7.3 MB/s eta 0:00:05\n",
      "   ------------------------------------ --- 356.6/390.2 MB 7.3 MB/s eta 0:00:05\n",
      "   ------------------------------------ --- 356.7/390.2 MB 7.4 MB/s eta 0:00:05\n",
      "   ------------------------------------ --- 356.8/390.2 MB 7.3 MB/s eta 0:00:05\n",
      "   ------------------------------------ --- 356.8/390.2 MB 7.2 MB/s eta 0:00:05\n",
      "   ------------------------------------ --- 356.9/390.2 MB 7.0 MB/s eta 0:00:05\n",
      "   ------------------------------------ --- 356.9/390.2 MB 7.0 MB/s eta 0:00:05\n",
      "   ------------------------------------ --- 356.9/390.2 MB 7.0 MB/s eta 0:00:05\n",
      "   ------------------------------------ --- 357.0/390.2 MB 6.5 MB/s eta 0:00:06\n",
      "   ------------------------------------ --- 357.8/390.2 MB 7.0 MB/s eta 0:00:05\n",
      "   ------------------------------------ --- 358.1/390.2 MB 6.8 MB/s eta 0:00:05\n",
      "   ------------------------------------ --- 358.4/390.2 MB 6.8 MB/s eta 0:00:05\n",
      "   ------------------------------------ --- 358.7/390.2 MB 6.8 MB/s eta 0:00:05\n",
      "   ------------------------------------ --- 359.0/390.2 MB 6.8 MB/s eta 0:00:05\n",
      "   ------------------------------------ --- 359.4/390.2 MB 6.7 MB/s eta 0:00:05\n",
      "   ------------------------------------ --- 359.8/390.2 MB 6.7 MB/s eta 0:00:05\n",
      "   ------------------------------------ --- 360.2/390.2 MB 6.7 MB/s eta 0:00:05\n",
      "   ------------------------------------ --- 360.5/390.2 MB 6.6 MB/s eta 0:00:05\n",
      "   ------------------------------------ --- 360.9/390.2 MB 6.6 MB/s eta 0:00:05\n",
      "   ------------------------------------- -- 361.2/390.2 MB 6.6 MB/s eta 0:00:05\n",
      "   ------------------------------------- -- 361.4/390.2 MB 6.5 MB/s eta 0:00:05\n",
      "   ------------------------------------- -- 361.8/390.2 MB 6.4 MB/s eta 0:00:05\n",
      "   ------------------------------------- -- 362.1/390.2 MB 6.4 MB/s eta 0:00:05\n",
      "   ------------------------------------- -- 362.4/390.2 MB 6.4 MB/s eta 0:00:05\n",
      "   ------------------------------------- -- 362.8/390.2 MB 6.4 MB/s eta 0:00:05\n",
      "   ------------------------------------- -- 363.0/390.2 MB 6.2 MB/s eta 0:00:05\n",
      "   ------------------------------------- -- 363.4/390.2 MB 6.3 MB/s eta 0:00:05\n",
      "   ------------------------------------- -- 363.5/390.2 MB 6.2 MB/s eta 0:00:05\n",
      "   ------------------------------------- -- 363.7/390.2 MB 6.1 MB/s eta 0:00:05\n",
      "   ------------------------------------- -- 364.0/390.2 MB 6.0 MB/s eta 0:00:05\n",
      "   ------------------------------------- -- 364.1/390.2 MB 5.8 MB/s eta 0:00:05\n",
      "   ------------------------------------- -- 364.2/390.2 MB 5.8 MB/s eta 0:00:05\n",
      "   ------------------------------------- -- 364.4/390.2 MB 5.7 MB/s eta 0:00:05\n",
      "   ------------------------------------- -- 364.6/390.2 MB 5.6 MB/s eta 0:00:05\n",
      "   ------------------------------------- -- 364.7/390.2 MB 5.5 MB/s eta 0:00:05\n",
      "   ------------------------------------- -- 364.8/390.2 MB 5.4 MB/s eta 0:00:05\n",
      "   ------------------------------------- -- 364.9/390.2 MB 5.3 MB/s eta 0:00:05\n",
      "   ------------------------------------- -- 364.9/390.2 MB 5.3 MB/s eta 0:00:05\n",
      "   ------------------------------------- -- 364.9/390.2 MB 5.3 MB/s eta 0:00:05\n",
      "   ------------------------------------- -- 364.9/390.2 MB 5.3 MB/s eta 0:00:05\n",
      "   ------------------------------------- -- 365.3/390.2 MB 5.0 MB/s eta 0:00:06\n",
      "   ------------------------------------- -- 365.6/390.2 MB 4.9 MB/s eta 0:00:06\n",
      "   ------------------------------------- -- 365.6/390.2 MB 4.8 MB/s eta 0:00:06\n",
      "   ------------------------------------- -- 365.8/390.2 MB 4.8 MB/s eta 0:00:06\n",
      "   ------------------------------------- -- 365.9/390.2 MB 4.7 MB/s eta 0:00:06\n",
      "   ------------------------------------- -- 366.0/390.2 MB 4.7 MB/s eta 0:00:06\n",
      "   ------------------------------------- -- 366.1/390.2 MB 4.6 MB/s eta 0:00:06\n",
      "   ------------------------------------- -- 366.2/390.2 MB 4.6 MB/s eta 0:00:06\n",
      "   ------------------------------------- -- 366.3/390.2 MB 4.5 MB/s eta 0:00:06\n",
      "   ------------------------------------- -- 366.3/390.2 MB 4.5 MB/s eta 0:00:06\n",
      "   ------------------------------------- -- 366.4/390.2 MB 4.4 MB/s eta 0:00:06\n",
      "   ------------------------------------- -- 366.4/390.2 MB 4.4 MB/s eta 0:00:06\n",
      "   ------------------------------------- -- 366.4/390.2 MB 4.2 MB/s eta 0:00:06\n",
      "   ------------------------------------- -- 366.8/390.2 MB 4.2 MB/s eta 0:00:06\n",
      "   ------------------------------------- -- 366.9/390.2 MB 4.2 MB/s eta 0:00:06\n",
      "   ------------------------------------- -- 366.9/390.2 MB 4.1 MB/s eta 0:00:06\n",
      "   ------------------------------------- -- 367.0/390.2 MB 4.1 MB/s eta 0:00:06\n",
      "   ------------------------------------- -- 367.1/390.2 MB 4.1 MB/s eta 0:00:06\n",
      "   ------------------------------------- -- 367.1/390.2 MB 4.4 MB/s eta 0:00:06\n",
      "   ------------------------------------- -- 367.2/390.2 MB 4.3 MB/s eta 0:00:06\n",
      "   ------------------------------------- -- 367.2/390.2 MB 4.2 MB/s eta 0:00:06\n",
      "   ------------------------------------- -- 367.2/390.2 MB 4.1 MB/s eta 0:00:06\n",
      "   ------------------------------------- -- 367.3/390.2 MB 4.1 MB/s eta 0:00:06\n",
      "   ------------------------------------- -- 367.3/390.2 MB 4.1 MB/s eta 0:00:06\n",
      "   ------------------------------------- -- 367.3/390.2 MB 3.9 MB/s eta 0:00:06\n",
      "   ------------------------------------- -- 367.6/390.2 MB 3.9 MB/s eta 0:00:06\n",
      "   ------------------------------------- -- 367.6/390.2 MB 3.8 MB/s eta 0:00:06\n",
      "   ------------------------------------- -- 367.7/390.2 MB 3.7 MB/s eta 0:00:07\n",
      "   ------------------------------------- -- 367.7/390.2 MB 3.7 MB/s eta 0:00:07\n",
      "   ------------------------------------- -- 367.7/390.2 MB 3.7 MB/s eta 0:00:07\n",
      "   ------------------------------------- -- 367.9/390.2 MB 3.6 MB/s eta 0:00:07\n",
      "   ------------------------------------- -- 368.1/390.2 MB 3.6 MB/s eta 0:00:07\n",
      "   ------------------------------------- -- 368.1/390.2 MB 3.5 MB/s eta 0:00:07\n",
      "   ------------------------------------- -- 368.2/390.2 MB 3.5 MB/s eta 0:00:07\n",
      "   ------------------------------------- -- 368.3/390.2 MB 3.4 MB/s eta 0:00:07\n",
      "   ------------------------------------- -- 368.4/390.2 MB 3.4 MB/s eta 0:00:07\n",
      "   ------------------------------------- -- 368.5/390.2 MB 3.3 MB/s eta 0:00:07\n",
      "   ------------------------------------- -- 368.6/390.2 MB 3.3 MB/s eta 0:00:07\n",
      "   ------------------------------------- -- 368.7/390.2 MB 3.3 MB/s eta 0:00:07\n",
      "   ------------------------------------- -- 368.7/390.2 MB 3.2 MB/s eta 0:00:07\n",
      "   ------------------------------------- -- 368.7/390.2 MB 3.2 MB/s eta 0:00:07\n",
      "   ------------------------------------- -- 368.8/390.2 MB 3.1 MB/s eta 0:00:07\n",
      "   ------------------------------------- -- 368.9/390.2 MB 3.1 MB/s eta 0:00:07\n",
      "   ------------------------------------- -- 368.9/390.2 MB 3.1 MB/s eta 0:00:07\n",
      "   ------------------------------------- -- 369.0/390.2 MB 3.1 MB/s eta 0:00:07\n",
      "   ------------------------------------- -- 369.0/390.2 MB 3.0 MB/s eta 0:00:08\n",
      "   ------------------------------------- -- 369.1/390.2 MB 3.0 MB/s eta 0:00:08\n",
      "   ------------------------------------- -- 369.2/390.2 MB 3.0 MB/s eta 0:00:08\n",
      "   ------------------------------------- -- 369.3/390.2 MB 2.9 MB/s eta 0:00:08\n",
      "   ------------------------------------- -- 369.3/390.2 MB 2.9 MB/s eta 0:00:08\n",
      "   ------------------------------------- -- 369.4/390.2 MB 2.9 MB/s eta 0:00:08\n",
      "   ------------------------------------- -- 369.5/390.2 MB 2.8 MB/s eta 0:00:08\n",
      "   ------------------------------------- -- 369.6/390.2 MB 2.8 MB/s eta 0:00:08\n",
      "   ------------------------------------- -- 369.7/390.2 MB 2.8 MB/s eta 0:00:08\n",
      "   ------------------------------------- -- 369.7/390.2 MB 2.8 MB/s eta 0:00:08\n",
      "   ------------------------------------- -- 369.9/390.2 MB 2.7 MB/s eta 0:00:08\n",
      "   ------------------------------------- -- 370.0/390.2 MB 2.7 MB/s eta 0:00:08\n",
      "   ------------------------------------- -- 370.1/390.2 MB 2.7 MB/s eta 0:00:08\n",
      "   ------------------------------------- -- 370.3/390.2 MB 2.7 MB/s eta 0:00:08\n",
      "   ------------------------------------- -- 370.4/390.2 MB 2.6 MB/s eta 0:00:08\n",
      "   ------------------------------------- -- 370.4/390.2 MB 2.6 MB/s eta 0:00:08\n",
      "   ------------------------------------- -- 370.6/390.2 MB 2.6 MB/s eta 0:00:08\n",
      "   ------------------------------------- -- 370.6/390.2 MB 2.6 MB/s eta 0:00:08\n",
      "   ------------------------------------- -- 370.7/390.2 MB 2.5 MB/s eta 0:00:08\n",
      "   -------------------------------------- - 370.8/390.2 MB 2.5 MB/s eta 0:00:08\n",
      "   -------------------------------------- - 370.9/390.2 MB 2.5 MB/s eta 0:00:08\n",
      "   -------------------------------------- - 371.0/390.2 MB 2.5 MB/s eta 0:00:08\n",
      "   -------------------------------------- - 371.0/390.2 MB 2.5 MB/s eta 0:00:08\n",
      "   -------------------------------------- - 371.1/390.2 MB 2.4 MB/s eta 0:00:08\n",
      "   -------------------------------------- - 371.2/390.2 MB 2.4 MB/s eta 0:00:08\n",
      "   -------------------------------------- - 371.3/390.2 MB 2.4 MB/s eta 0:00:08\n",
      "   -------------------------------------- - 371.4/390.2 MB 2.4 MB/s eta 0:00:08\n",
      "   -------------------------------------- - 371.6/390.2 MB 2.4 MB/s eta 0:00:08\n",
      "   -------------------------------------- - 371.7/390.2 MB 2.4 MB/s eta 0:00:08\n",
      "   -------------------------------------- - 371.8/390.2 MB 2.3 MB/s eta 0:00:08\n",
      "   -------------------------------------- - 372.0/390.2 MB 2.3 MB/s eta 0:00:08\n",
      "   -------------------------------------- - 372.1/390.2 MB 2.3 MB/s eta 0:00:08\n",
      "   -------------------------------------- - 372.3/390.2 MB 2.3 MB/s eta 0:00:08\n",
      "   -------------------------------------- - 372.4/390.2 MB 2.3 MB/s eta 0:00:08\n",
      "   -------------------------------------- - 372.5/390.2 MB 2.3 MB/s eta 0:00:08\n",
      "   -------------------------------------- - 372.6/390.2 MB 2.2 MB/s eta 0:00:08\n",
      "   -------------------------------------- - 372.8/390.2 MB 2.2 MB/s eta 0:00:08\n",
      "   -------------------------------------- - 372.9/390.2 MB 2.2 MB/s eta 0:00:08\n",
      "   -------------------------------------- - 373.0/390.2 MB 2.2 MB/s eta 0:00:08\n",
      "   -------------------------------------- - 373.2/390.2 MB 2.2 MB/s eta 0:00:08\n",
      "   -------------------------------------- - 373.2/390.2 MB 2.2 MB/s eta 0:00:08\n",
      "   -------------------------------------- - 373.4/390.2 MB 2.2 MB/s eta 0:00:08\n",
      "   -------------------------------------- - 373.5/390.2 MB 2.2 MB/s eta 0:00:08\n",
      "   -------------------------------------- - 373.6/390.2 MB 2.1 MB/s eta 0:00:08\n",
      "   -------------------------------------- - 373.7/390.2 MB 2.1 MB/s eta 0:00:08\n",
      "   -------------------------------------- - 373.8/390.2 MB 2.1 MB/s eta 0:00:08\n",
      "   -------------------------------------- - 373.9/390.2 MB 2.1 MB/s eta 0:00:08\n",
      "   -------------------------------------- - 374.0/390.2 MB 2.1 MB/s eta 0:00:08\n",
      "   -------------------------------------- - 374.1/390.2 MB 2.1 MB/s eta 0:00:08\n",
      "   -------------------------------------- - 374.3/390.2 MB 2.1 MB/s eta 0:00:08\n",
      "   -------------------------------------- - 374.4/390.2 MB 2.1 MB/s eta 0:00:08\n",
      "   -------------------------------------- - 374.4/390.2 MB 2.1 MB/s eta 0:00:08\n",
      "   -------------------------------------- - 374.6/390.2 MB 2.1 MB/s eta 0:00:08\n",
      "   -------------------------------------- - 374.7/390.2 MB 2.1 MB/s eta 0:00:08\n",
      "   -------------------------------------- - 374.8/390.2 MB 2.1 MB/s eta 0:00:08\n",
      "   -------------------------------------- - 375.0/390.2 MB 2.1 MB/s eta 0:00:08\n",
      "   -------------------------------------- - 375.1/390.2 MB 2.1 MB/s eta 0:00:08\n",
      "   -------------------------------------- - 375.2/390.2 MB 2.1 MB/s eta 0:00:08\n",
      "   -------------------------------------- - 375.4/390.2 MB 2.1 MB/s eta 0:00:08\n",
      "   -------------------------------------- - 375.5/390.2 MB 2.1 MB/s eta 0:00:07\n",
      "   -------------------------------------- - 375.7/390.2 MB 2.1 MB/s eta 0:00:07\n",
      "   -------------------------------------- - 375.8/390.2 MB 2.1 MB/s eta 0:00:07\n",
      "   -------------------------------------- - 375.9/390.2 MB 2.1 MB/s eta 0:00:07\n",
      "   -------------------------------------- - 376.0/390.2 MB 2.1 MB/s eta 0:00:07\n",
      "   -------------------------------------- - 376.2/390.2 MB 2.1 MB/s eta 0:00:07\n",
      "   -------------------------------------- - 376.4/390.2 MB 2.1 MB/s eta 0:00:07\n",
      "   -------------------------------------- - 376.4/390.2 MB 2.1 MB/s eta 0:00:07\n",
      "   -------------------------------------- - 376.6/390.2 MB 2.2 MB/s eta 0:00:07\n",
      "   -------------------------------------- - 376.8/390.2 MB 2.2 MB/s eta 0:00:07\n",
      "   -------------------------------------- - 376.8/390.2 MB 2.2 MB/s eta 0:00:07\n",
      "   -------------------------------------- - 377.0/390.2 MB 2.1 MB/s eta 0:00:07\n",
      "   -------------------------------------- - 377.1/390.2 MB 2.1 MB/s eta 0:00:07\n",
      "   -------------------------------------- - 377.2/390.2 MB 2.2 MB/s eta 0:00:06\n",
      "   -------------------------------------- - 377.4/390.2 MB 2.2 MB/s eta 0:00:06\n",
      "   -------------------------------------- - 377.5/390.2 MB 2.3 MB/s eta 0:00:06\n",
      "   -------------------------------------- - 377.6/390.2 MB 2.3 MB/s eta 0:00:06\n",
      "   -------------------------------------- - 377.7/390.2 MB 2.3 MB/s eta 0:00:06\n",
      "   -------------------------------------- - 377.8/390.2 MB 2.3 MB/s eta 0:00:06\n",
      "   -------------------------------------- - 377.9/390.2 MB 2.3 MB/s eta 0:00:06\n",
      "   -------------------------------------- - 378.1/390.2 MB 2.3 MB/s eta 0:00:06\n",
      "   -------------------------------------- - 378.2/390.2 MB 2.3 MB/s eta 0:00:06\n",
      "   -------------------------------------- - 378.3/390.2 MB 2.3 MB/s eta 0:00:06\n",
      "   -------------------------------------- - 378.3/390.2 MB 2.3 MB/s eta 0:00:06\n",
      "   -------------------------------------- - 378.5/390.2 MB 2.3 MB/s eta 0:00:06\n",
      "   -------------------------------------- - 378.6/390.2 MB 2.3 MB/s eta 0:00:06\n",
      "   -------------------------------------- - 378.8/390.2 MB 2.3 MB/s eta 0:00:05\n",
      "   -------------------------------------- - 378.9/390.2 MB 2.4 MB/s eta 0:00:05\n",
      "   -------------------------------------- - 379.1/390.2 MB 2.4 MB/s eta 0:00:05\n",
      "   -------------------------------------- - 379.2/390.2 MB 2.5 MB/s eta 0:00:05\n",
      "   -------------------------------------- - 379.3/390.2 MB 2.5 MB/s eta 0:00:05\n",
      "   -------------------------------------- - 379.5/390.2 MB 2.5 MB/s eta 0:00:05\n",
      "   -------------------------------------- - 379.7/390.2 MB 2.5 MB/s eta 0:00:05\n",
      "   -------------------------------------- - 379.8/390.2 MB 2.6 MB/s eta 0:00:05\n",
      "   -------------------------------------- - 379.9/390.2 MB 2.6 MB/s eta 0:00:04\n",
      "   -------------------------------------- - 379.9/390.2 MB 2.6 MB/s eta 0:00:04\n",
      "   -------------------------------------- - 380.1/390.2 MB 2.6 MB/s eta 0:00:04\n",
      "   -------------------------------------- - 380.2/390.2 MB 2.6 MB/s eta 0:00:04\n",
      "   -------------------------------------- - 380.3/390.2 MB 2.6 MB/s eta 0:00:04\n",
      "   -------------------------------------- - 380.5/390.2 MB 2.6 MB/s eta 0:00:04\n",
      "   ---------------------------------------  380.6/390.2 MB 2.6 MB/s eta 0:00:04\n",
      "   ---------------------------------------  380.7/390.2 MB 2.6 MB/s eta 0:00:04\n",
      "   ---------------------------------------  380.7/390.2 MB 2.6 MB/s eta 0:00:04\n",
      "   ---------------------------------------  380.8/390.2 MB 2.6 MB/s eta 0:00:04\n",
      "   ---------------------------------------  380.9/390.2 MB 2.6 MB/s eta 0:00:04\n",
      "   ---------------------------------------  381.0/390.2 MB 2.6 MB/s eta 0:00:04\n",
      "   ---------------------------------------  381.2/390.2 MB 2.6 MB/s eta 0:00:04\n",
      "   ---------------------------------------  381.4/390.2 MB 2.6 MB/s eta 0:00:04\n",
      "   ---------------------------------------  381.5/390.2 MB 2.7 MB/s eta 0:00:04\n",
      "   ---------------------------------------  381.7/390.2 MB 2.7 MB/s eta 0:00:04\n",
      "   ---------------------------------------  381.8/390.2 MB 2.7 MB/s eta 0:00:04\n",
      "   ---------------------------------------  382.0/390.2 MB 2.7 MB/s eta 0:00:04\n",
      "   ---------------------------------------  382.2/390.2 MB 2.7 MB/s eta 0:00:03\n",
      "   ---------------------------------------  382.4/390.2 MB 2.7 MB/s eta 0:00:03\n",
      "   ---------------------------------------  382.5/390.2 MB 2.7 MB/s eta 0:00:03\n",
      "   ---------------------------------------  382.7/390.2 MB 2.7 MB/s eta 0:00:03\n",
      "   ---------------------------------------  382.8/390.2 MB 2.7 MB/s eta 0:00:03\n",
      "   ---------------------------------------  382.9/390.2 MB 2.7 MB/s eta 0:00:03\n",
      "   ---------------------------------------  383.1/390.2 MB 2.7 MB/s eta 0:00:03\n",
      "   ---------------------------------------  383.3/390.2 MB 2.7 MB/s eta 0:00:03\n",
      "   ---------------------------------------  383.4/390.2 MB 2.8 MB/s eta 0:00:03\n",
      "   ---------------------------------------  383.6/390.2 MB 2.8 MB/s eta 0:00:03\n",
      "   ---------------------------------------  383.7/390.2 MB 2.8 MB/s eta 0:00:03\n",
      "   ---------------------------------------  383.8/390.2 MB 2.8 MB/s eta 0:00:03\n",
      "   ---------------------------------------  383.9/390.2 MB 2.8 MB/s eta 0:00:03\n",
      "   ---------------------------------------  384.1/390.2 MB 2.8 MB/s eta 0:00:03\n",
      "   ---------------------------------------  384.3/390.2 MB 2.8 MB/s eta 0:00:03\n",
      "   ---------------------------------------  384.5/390.2 MB 2.8 MB/s eta 0:00:03\n",
      "   ---------------------------------------  384.7/390.2 MB 2.9 MB/s eta 0:00:02\n",
      "   ---------------------------------------  384.8/390.2 MB 2.9 MB/s eta 0:00:02\n",
      "   ---------------------------------------  385.0/390.2 MB 2.9 MB/s eta 0:00:02\n",
      "   ---------------------------------------  385.2/390.2 MB 2.9 MB/s eta 0:00:02\n",
      "   ---------------------------------------  385.3/390.2 MB 2.9 MB/s eta 0:00:02\n",
      "   ---------------------------------------  385.5/390.2 MB 2.9 MB/s eta 0:00:02\n",
      "   ---------------------------------------  385.7/390.2 MB 3.0 MB/s eta 0:00:02\n",
      "   ---------------------------------------  385.9/390.2 MB 3.0 MB/s eta 0:00:02\n",
      "   ---------------------------------------  386.1/390.2 MB 3.0 MB/s eta 0:00:02\n",
      "   ---------------------------------------  386.2/390.2 MB 3.0 MB/s eta 0:00:02\n",
      "   ---------------------------------------  386.4/390.2 MB 3.0 MB/s eta 0:00:02\n",
      "   ---------------------------------------  386.6/390.2 MB 3.0 MB/s eta 0:00:02\n",
      "   ---------------------------------------  386.8/390.2 MB 3.0 MB/s eta 0:00:02\n",
      "   ---------------------------------------  386.9/390.2 MB 3.0 MB/s eta 0:00:02\n",
      "   ---------------------------------------  387.1/390.2 MB 3.1 MB/s eta 0:00:02\n",
      "   ---------------------------------------  387.3/390.2 MB 3.1 MB/s eta 0:00:01\n",
      "   ---------------------------------------  387.3/390.2 MB 3.0 MB/s eta 0:00:01\n",
      "   ---------------------------------------  387.5/390.2 MB 3.1 MB/s eta 0:00:01\n",
      "   ---------------------------------------  387.7/390.2 MB 3.1 MB/s eta 0:00:01\n",
      "   ---------------------------------------  387.8/390.2 MB 3.1 MB/s eta 0:00:01\n",
      "   ---------------------------------------  388.0/390.2 MB 3.1 MB/s eta 0:00:01\n",
      "   ---------------------------------------  388.2/390.2 MB 3.2 MB/s eta 0:00:01\n",
      "   ---------------------------------------  388.4/390.2 MB 3.2 MB/s eta 0:00:01\n",
      "   ---------------------------------------  388.6/390.2 MB 3.2 MB/s eta 0:00:01\n",
      "   ---------------------------------------  388.8/390.2 MB 3.3 MB/s eta 0:00:01\n",
      "   ---------------------------------------  389.0/390.2 MB 3.3 MB/s eta 0:00:01\n",
      "   ---------------------------------------  389.2/390.2 MB 3.3 MB/s eta 0:00:01\n",
      "   ---------------------------------------  389.4/390.2 MB 3.3 MB/s eta 0:00:01\n",
      "   ---------------------------------------  389.6/390.2 MB 3.3 MB/s eta 0:00:01\n",
      "   ---------------------------------------  389.8/390.2 MB 3.3 MB/s eta 0:00:01\n",
      "   ---------------------------------------  390.0/390.2 MB 3.4 MB/s eta 0:00:01\n",
      "   ---------------------------------------  390.2/390.2 MB 3.4 MB/s eta 0:00:01\n",
      "   ---------------------------------------  390.2/390.2 MB 3.4 MB/s eta 0:00:01\n",
      "   ---------------------------------------  390.2/390.2 MB 3.4 MB/s eta 0:00:01\n",
      "   ---------------------------------------  390.2/390.2 MB 3.4 MB/s eta 0:00:01\n",
      "   ---------------------------------------  390.2/390.2 MB 3.4 MB/s eta 0:00:01\n",
      "   ---------------------------------------  390.2/390.2 MB 3.4 MB/s eta 0:00:01\n",
      "   ---------------------------------------  390.2/390.2 MB 3.4 MB/s eta 0:00:01\n",
      "   ---------------------------------------  390.2/390.2 MB 3.4 MB/s eta 0:00:01\n",
      "   ---------------------------------------  390.2/390.2 MB 3.4 MB/s eta 0:00:01\n",
      "   ---------------------------------------  390.2/390.2 MB 3.4 MB/s eta 0:00:01\n",
      "   ---------------------------------------  390.2/390.2 MB 3.4 MB/s eta 0:00:01\n",
      "   ---------------------------------------  390.2/390.2 MB 3.4 MB/s eta 0:00:01\n",
      "   ---------------------------------------  390.2/390.2 MB 3.4 MB/s eta 0:00:01\n",
      "   ---------------------------------------- 390.2/390.2 MB 2.9 MB/s eta 0:00:00\n",
      "Downloading absl_py-2.1.0-py3-none-any.whl (133 kB)\n",
      "   ---------------------------------------- 0.0/133.7 kB ? eta -:--:--\n",
      "   ---------------------------------------- 133.7/133.7 kB 7.7 MB/s eta 0:00:00\n",
      "Downloading astunparse-1.6.3-py2.py3-none-any.whl (12 kB)\n",
      "Downloading flatbuffers-25.1.24-py2.py3-none-any.whl (30 kB)\n",
      "Downloading gast-0.6.0-py3-none-any.whl (21 kB)\n",
      "Downloading google_pasta-0.2.0-py3-none-any.whl (57 kB)\n",
      "   ---------------------------------------- 0.0/57.5 kB ? eta -:--:--\n",
      "   ---------------------------------------- 57.5/57.5 kB 3.0 MB/s eta 0:00:00\n",
      "Downloading grpcio-1.70.0-cp311-cp311-win_amd64.whl (4.3 MB)\n",
      "   ---------------------------------------- 0.0/4.3 MB ? eta -:--:--\n",
      "   - -------------------------------------- 0.2/4.3 MB 4.1 MB/s eta 0:00:01\n",
      "   --- ------------------------------------ 0.4/4.3 MB 4.1 MB/s eta 0:00:01\n",
      "   --- ------------------------------------ 0.4/4.3 MB 3.8 MB/s eta 0:00:02\n",
      "   --- ------------------------------------ 0.4/4.3 MB 3.8 MB/s eta 0:00:02\n",
      "   ------ --------------------------------- 0.7/4.3 MB 3.0 MB/s eta 0:00:02\n",
      "   ------ --------------------------------- 0.7/4.3 MB 2.5 MB/s eta 0:00:02\n",
      "   ------- -------------------------------- 0.8/4.3 MB 2.5 MB/s eta 0:00:02\n",
      "   --------- ------------------------------ 1.0/4.3 MB 2.8 MB/s eta 0:00:02\n",
      "   ----------- ---------------------------- 1.3/4.3 MB 3.0 MB/s eta 0:00:02\n",
      "   ------------- -------------------------- 1.4/4.3 MB 3.0 MB/s eta 0:00:01\n",
      "   --------------- ------------------------ 1.6/4.3 MB 3.1 MB/s eta 0:00:01\n",
      "   ---------------- ----------------------- 1.8/4.3 MB 3.2 MB/s eta 0:00:01\n",
      "   ------------------ --------------------- 2.0/4.3 MB 3.3 MB/s eta 0:00:01\n",
      "   -------------------- ------------------- 2.2/4.3 MB 3.3 MB/s eta 0:00:01\n",
      "   ---------------------- ----------------- 2.4/4.3 MB 3.4 MB/s eta 0:00:01\n",
      "   ----------------------- ---------------- 2.5/4.3 MB 3.4 MB/s eta 0:00:01\n",
      "   ------------------------- -------------- 2.7/4.3 MB 3.4 MB/s eta 0:00:01\n",
      "   -------------------------- ------------- 2.9/4.3 MB 3.4 MB/s eta 0:00:01\n",
      "   ---------------------------- ----------- 3.1/4.3 MB 3.5 MB/s eta 0:00:01\n",
      "   ------------------------------ --------- 3.3/4.3 MB 3.5 MB/s eta 0:00:01\n",
      "   -------------------------------- ------- 3.5/4.3 MB 3.6 MB/s eta 0:00:01\n",
      "   ---------------------------------- ----- 3.8/4.3 MB 3.6 MB/s eta 0:00:01\n",
      "   ------------------------------------ --- 3.9/4.3 MB 3.6 MB/s eta 0:00:01\n",
      "   -------------------------------------- - 4.1/4.3 MB 3.7 MB/s eta 0:00:01\n",
      "   ---------------------------------------- 4.3/4.3 MB 3.7 MB/s eta 0:00:00\n",
      "Downloading h5py-3.12.1-cp311-cp311-win_amd64.whl (3.0 MB)\n",
      "   ---------------------------------------- 0.0/3.0 MB ? eta -:--:--\n",
      "   --- ------------------------------------ 0.2/3.0 MB 7.6 MB/s eta 0:00:01\n",
      "   ----- ---------------------------------- 0.4/3.0 MB 5.0 MB/s eta 0:00:01\n",
      "   -------- ------------------------------- 0.6/3.0 MB 4.8 MB/s eta 0:00:01\n",
      "   ----------- ---------------------------- 0.9/3.0 MB 4.9 MB/s eta 0:00:01\n",
      "   ------------- -------------------------- 1.0/3.0 MB 4.7 MB/s eta 0:00:01\n",
      "   --------------- ------------------------ 1.2/3.0 MB 4.3 MB/s eta 0:00:01\n",
      "   ----------------- ---------------------- 1.3/3.0 MB 4.2 MB/s eta 0:00:01\n",
      "   -------------------- ------------------- 1.5/3.0 MB 4.3 MB/s eta 0:00:01\n",
      "   ------------------------ --------------- 1.8/3.0 MB 4.4 MB/s eta 0:00:01\n",
      "   -------------------------- ------------- 2.0/3.0 MB 4.4 MB/s eta 0:00:01\n",
      "   ----------------------------- ---------- 2.3/3.0 MB 4.5 MB/s eta 0:00:01\n",
      "   --------------------------------- ------ 2.5/3.0 MB 4.5 MB/s eta 0:00:01\n",
      "   ------------------------------------ --- 2.8/3.0 MB 4.6 MB/s eta 0:00:01\n",
      "   ---------------------------------------- 3.0/3.0 MB 4.7 MB/s eta 0:00:00\n",
      "Downloading keras-3.8.0-py3-none-any.whl (1.3 MB)\n",
      "   ---------------------------------------- 0.0/1.3 MB ? eta -:--:--\n",
      "   --- ------------------------------------ 0.1/1.3 MB 6.4 MB/s eta 0:00:01\n",
      "   --- ------------------------------------ 0.1/1.3 MB 6.4 MB/s eta 0:00:01\n",
      "   --- ------------------------------------ 0.1/1.3 MB 6.4 MB/s eta 0:00:01\n",
      "   --- ------------------------------------ 0.1/1.3 MB 6.4 MB/s eta 0:00:01\n",
      "   --- ------------------------------------ 0.1/1.3 MB 6.4 MB/s eta 0:00:01\n",
      "   --- ------------------------------------ 0.1/1.3 MB 6.4 MB/s eta 0:00:01\n",
      "   --- ------------------------------------ 0.1/1.3 MB 6.4 MB/s eta 0:00:01\n",
      "   --- ------------------------------------ 0.1/1.3 MB 6.4 MB/s eta 0:00:01\n",
      "   --- ------------------------------------ 0.1/1.3 MB 6.4 MB/s eta 0:00:01\n",
      "   --- ------------------------------------ 0.1/1.3 MB 6.4 MB/s eta 0:00:01\n",
      "   ------------ --------------------------- 0.4/1.3 MB 798.7 kB/s eta 0:00:02\n",
      "   ------------ --------------------------- 0.4/1.3 MB 798.7 kB/s eta 0:00:02\n",
      "   -------------- ------------------------- 0.5/1.3 MB 739.8 kB/s eta 0:00:02\n",
      "   ---------------- ----------------------- 0.5/1.3 MB 811.7 kB/s eta 0:00:01\n",
      "   ---------------------- ----------------- 0.7/1.3 MB 1.0 MB/s eta 0:00:01\n",
      "   ------------------------------ --------- 1.0/1.3 MB 1.3 MB/s eta 0:00:01\n",
      "   ---------------------------------------  1.3/1.3 MB 1.6 MB/s eta 0:00:01\n",
      "   ---------------------------------------- 1.3/1.3 MB 1.6 MB/s eta 0:00:00\n",
      "Downloading libclang-18.1.1-py2.py3-none-win_amd64.whl (26.4 MB)\n",
      "   ---------------------------------------- 0.0/26.4 MB ? eta -:--:--\n",
      "   ---------------------------------------- 0.3/26.4 MB 7.9 MB/s eta 0:00:04\n",
      "    --------------------------------------- 0.6/26.4 MB 7.4 MB/s eta 0:00:04\n",
      "   - -------------------------------------- 0.8/26.4 MB 6.7 MB/s eta 0:00:04\n",
      "   - -------------------------------------- 1.2/26.4 MB 6.8 MB/s eta 0:00:04\n",
      "   -- ------------------------------------- 1.4/26.4 MB 6.5 MB/s eta 0:00:04\n",
      "   -- ------------------------------------- 1.7/26.4 MB 6.5 MB/s eta 0:00:04\n",
      "   -- ------------------------------------- 1.9/26.4 MB 6.1 MB/s eta 0:00:04\n",
      "   --- ------------------------------------ 2.2/26.4 MB 6.0 MB/s eta 0:00:05\n",
      "   --- ------------------------------------ 2.4/26.4 MB 5.9 MB/s eta 0:00:05\n",
      "   --- ------------------------------------ 2.6/26.4 MB 5.8 MB/s eta 0:00:05\n",
      "   ---- ----------------------------------- 3.0/26.4 MB 6.0 MB/s eta 0:00:04\n",
      "   ----- ---------------------------------- 3.4/26.4 MB 6.2 MB/s eta 0:00:04\n",
      "   ----- ---------------------------------- 3.8/26.4 MB 6.3 MB/s eta 0:00:04\n",
      "   ------ --------------------------------- 4.0/26.4 MB 6.3 MB/s eta 0:00:04\n",
      "   ------ --------------------------------- 4.4/26.4 MB 6.4 MB/s eta 0:00:04\n",
      "   ------- -------------------------------- 4.8/26.4 MB 6.5 MB/s eta 0:00:04\n",
      "   -------- ------------------------------- 5.3/26.4 MB 6.8 MB/s eta 0:00:04\n",
      "   -------- ------------------------------- 5.7/26.4 MB 6.9 MB/s eta 0:00:03\n",
      "   --------- ------------------------------ 6.0/26.4 MB 7.0 MB/s eta 0:00:03\n",
      "   --------- ------------------------------ 6.4/26.4 MB 6.9 MB/s eta 0:00:03\n",
      "   ---------- ----------------------------- 6.8/26.4 MB 7.0 MB/s eta 0:00:03\n",
      "   ---------- ----------------------------- 7.0/26.4 MB 6.9 MB/s eta 0:00:03\n",
      "   ---------- ----------------------------- 7.1/26.4 MB 6.7 MB/s eta 0:00:03\n",
      "   ----------- ---------------------------- 7.3/26.4 MB 6.6 MB/s eta 0:00:03\n",
      "   ----------- ---------------------------- 7.5/26.4 MB 6.5 MB/s eta 0:00:03\n",
      "   ----------- ---------------------------- 7.8/26.4 MB 6.5 MB/s eta 0:00:03\n",
      "   ------------ --------------------------- 7.9/26.4 MB 6.3 MB/s eta 0:00:03\n",
      "   ------------ --------------------------- 8.0/26.4 MB 6.3 MB/s eta 0:00:03\n",
      "   ------------ --------------------------- 8.0/26.4 MB 6.3 MB/s eta 0:00:03\n",
      "   ------------ --------------------------- 8.0/26.4 MB 6.3 MB/s eta 0:00:03\n",
      "   ------------ --------------------------- 8.0/26.4 MB 6.3 MB/s eta 0:00:03\n",
      "   ------------- -------------------------- 8.7/26.4 MB 5.9 MB/s eta 0:00:04\n",
      "   ------------- -------------------------- 8.7/26.4 MB 5.9 MB/s eta 0:00:04\n",
      "   ------------- -------------------------- 8.7/26.4 MB 5.9 MB/s eta 0:00:04\n",
      "   -------------- ------------------------- 9.4/26.4 MB 5.8 MB/s eta 0:00:03\n",
      "   -------------- ------------------------- 9.4/26.4 MB 5.8 MB/s eta 0:00:03\n",
      "   -------------- ------------------------- 9.5/26.4 MB 5.5 MB/s eta 0:00:04\n",
      "   -------------- ------------------------- 9.6/26.4 MB 5.5 MB/s eta 0:00:04\n",
      "   -------------- ------------------------- 9.6/26.4 MB 5.4 MB/s eta 0:00:04\n",
      "   -------------- ------------------------- 9.8/26.4 MB 5.3 MB/s eta 0:00:04\n",
      "   --------------- ------------------------ 10.0/26.4 MB 5.2 MB/s eta 0:00:04\n",
      "   --------------- ------------------------ 10.2/26.4 MB 5.2 MB/s eta 0:00:04\n",
      "   --------------- ------------------------ 10.4/26.4 MB 5.2 MB/s eta 0:00:04\n",
      "   --------------- ------------------------ 10.6/26.4 MB 5.1 MB/s eta 0:00:04\n",
      "   ---------------- ----------------------- 10.7/26.4 MB 5.1 MB/s eta 0:00:04\n",
      "   ---------------- ----------------------- 10.8/26.4 MB 5.0 MB/s eta 0:00:04\n",
      "   ---------------- ----------------------- 10.9/26.4 MB 4.9 MB/s eta 0:00:04\n",
      "   ---------------- ----------------------- 11.1/26.4 MB 4.9 MB/s eta 0:00:04\n",
      "   ---------------- ----------------------- 11.2/26.4 MB 4.8 MB/s eta 0:00:04\n",
      "   ----------------- ---------------------- 11.3/26.4 MB 4.7 MB/s eta 0:00:04\n",
      "   ----------------- ---------------------- 11.4/26.4 MB 4.7 MB/s eta 0:00:04\n",
      "   ----------------- ---------------------- 11.5/26.4 MB 4.6 MB/s eta 0:00:04\n",
      "   ----------------- ---------------------- 11.7/26.4 MB 4.5 MB/s eta 0:00:04\n",
      "   ----------------- ---------------------- 11.8/26.4 MB 4.5 MB/s eta 0:00:04\n",
      "   ------------------ --------------------- 11.9/26.4 MB 4.5 MB/s eta 0:00:04\n",
      "   ------------------ --------------------- 12.0/26.4 MB 4.4 MB/s eta 0:00:04\n",
      "   ------------------ --------------------- 12.2/26.4 MB 4.4 MB/s eta 0:00:04\n",
      "   ------------------ --------------------- 12.5/26.4 MB 4.4 MB/s eta 0:00:04\n",
      "   ------------------- -------------------- 12.7/26.4 MB 4.4 MB/s eta 0:00:04\n",
      "   ------------------- -------------------- 12.9/26.4 MB 4.4 MB/s eta 0:00:04\n",
      "   ------------------- -------------------- 13.2/26.4 MB 4.4 MB/s eta 0:00:04\n",
      "   -------------------- ------------------- 13.4/26.4 MB 4.3 MB/s eta 0:00:04\n",
      "   -------------------- ------------------- 13.6/26.4 MB 4.3 MB/s eta 0:00:03\n",
      "   --------------------- ------------------ 13.9/26.4 MB 4.3 MB/s eta 0:00:03\n",
      "   --------------------- ------------------ 14.1/26.4 MB 4.3 MB/s eta 0:00:03\n",
      "   --------------------- ------------------ 14.3/26.4 MB 4.3 MB/s eta 0:00:03\n",
      "   ---------------------- ----------------- 14.6/26.4 MB 4.2 MB/s eta 0:00:03\n",
      "   ---------------------- ----------------- 14.9/26.4 MB 4.2 MB/s eta 0:00:03\n",
      "   ---------------------- ----------------- 15.1/26.4 MB 4.1 MB/s eta 0:00:03\n",
      "   ----------------------- ---------------- 15.2/26.4 MB 4.1 MB/s eta 0:00:03\n",
      "   ----------------------- ---------------- 15.5/26.4 MB 4.1 MB/s eta 0:00:03\n",
      "   ----------------------- ---------------- 15.6/26.4 MB 4.0 MB/s eta 0:00:03\n",
      "   ----------------------- ---------------- 15.8/26.4 MB 3.9 MB/s eta 0:00:03\n",
      "   ------------------------ --------------- 15.9/26.4 MB 3.9 MB/s eta 0:00:03\n",
      "   ------------------------ --------------- 15.9/26.4 MB 3.9 MB/s eta 0:00:03\n",
      "   ------------------------ --------------- 15.9/26.4 MB 3.9 MB/s eta 0:00:03\n",
      "   ------------------------ --------------- 15.9/26.4 MB 3.9 MB/s eta 0:00:03\n",
      "   ------------------------ --------------- 16.2/26.4 MB 3.7 MB/s eta 0:00:03\n",
      "   ------------------------ --------------- 16.2/26.4 MB 3.7 MB/s eta 0:00:03\n",
      "   ------------------------ --------------- 16.3/26.4 MB 3.6 MB/s eta 0:00:03\n",
      "   ------------------------- -------------- 16.6/26.4 MB 3.6 MB/s eta 0:00:03\n",
      "   ------------------------- -------------- 16.9/26.4 MB 3.6 MB/s eta 0:00:03\n",
      "   -------------------------- ------------- 17.2/26.4 MB 3.6 MB/s eta 0:00:03\n",
      "   -------------------------- ------------- 17.4/26.4 MB 3.6 MB/s eta 0:00:03\n",
      "   -------------------------- ------------- 17.7/26.4 MB 3.7 MB/s eta 0:00:03\n",
      "   --------------------------- ------------ 18.0/26.4 MB 3.7 MB/s eta 0:00:03\n",
      "   --------------------------- ------------ 18.4/26.4 MB 4.0 MB/s eta 0:00:03\n",
      "   ---------------------------- ----------- 18.7/26.4 MB 3.9 MB/s eta 0:00:02\n",
      "   ---------------------------- ----------- 19.0/26.4 MB 4.0 MB/s eta 0:00:02\n",
      "   ----------------------------- ---------- 19.2/26.4 MB 3.9 MB/s eta 0:00:02\n",
      "   ----------------------------- ---------- 19.4/26.4 MB 3.9 MB/s eta 0:00:02\n",
      "   ----------------------------- ---------- 19.8/26.4 MB 4.0 MB/s eta 0:00:02\n",
      "   ------------------------------ --------- 20.1/26.4 MB 4.1 MB/s eta 0:00:02\n",
      "   ------------------------------ --------- 20.4/26.4 MB 4.2 MB/s eta 0:00:02\n",
      "   ------------------------------- -------- 20.6/26.4 MB 4.2 MB/s eta 0:00:02\n",
      "   ------------------------------- -------- 20.9/26.4 MB 4.3 MB/s eta 0:00:02\n",
      "   -------------------------------- ------- 21.2/26.4 MB 4.4 MB/s eta 0:00:02\n",
      "   -------------------------------- ------- 21.5/26.4 MB 4.6 MB/s eta 0:00:02\n",
      "   -------------------------------- ------- 21.8/26.4 MB 4.7 MB/s eta 0:00:01\n",
      "   --------------------------------- ------ 22.0/26.4 MB 4.7 MB/s eta 0:00:01\n",
      "   --------------------------------- ------ 22.3/26.4 MB 4.9 MB/s eta 0:00:01\n",
      "   ---------------------------------- ----- 22.6/26.4 MB 5.0 MB/s eta 0:00:01\n",
      "   ---------------------------------- ----- 23.0/26.4 MB 5.0 MB/s eta 0:00:01\n",
      "   ----------------------------------- ---- 23.2/26.4 MB 5.0 MB/s eta 0:00:01\n",
      "   ----------------------------------- ---- 23.3/26.4 MB 5.0 MB/s eta 0:00:01\n",
      "   ----------------------------------- ---- 23.5/26.4 MB 4.9 MB/s eta 0:00:01\n",
      "   ----------------------------------- ---- 23.8/26.4 MB 4.9 MB/s eta 0:00:01\n",
      "   ------------------------------------ --- 24.1/26.4 MB 5.0 MB/s eta 0:00:01\n",
      "   ------------------------------------ --- 24.4/26.4 MB 5.0 MB/s eta 0:00:01\n",
      "   ------------------------------------- -- 24.7/26.4 MB 5.0 MB/s eta 0:00:01\n",
      "   ------------------------------------- -- 24.9/26.4 MB 5.0 MB/s eta 0:00:01\n",
      "   ------------------------------------- -- 24.9/26.4 MB 5.0 MB/s eta 0:00:01\n",
      "   -------------------------------------- - 25.3/26.4 MB 5.1 MB/s eta 0:00:01\n",
      "   -------------------------------------- - 25.6/26.4 MB 5.0 MB/s eta 0:00:01\n",
      "   ---------------------------------------  26.0/26.4 MB 5.2 MB/s eta 0:00:01\n",
      "   ---------------------------------------  26.3/26.4 MB 5.7 MB/s eta 0:00:01\n",
      "   ---------------------------------------  26.4/26.4 MB 5.7 MB/s eta 0:00:01\n",
      "   ---------------------------------------- 26.4/26.4 MB 5.5 MB/s eta 0:00:00\n",
      "Downloading ml_dtypes-0.4.1-cp311-cp311-win_amd64.whl (126 kB)\n",
      "   ---------------------------------------- 0.0/126.7 kB ? eta -:--:--\n",
      "   ---------------------------------------- 126.7/126.7 kB 7.3 MB/s eta 0:00:00\n",
      "Downloading opt_einsum-3.4.0-py3-none-any.whl (71 kB)\n",
      "   ---------------------------------------- 0.0/71.9 kB ? eta -:--:--\n",
      "   ---------------------------------------- 71.9/71.9 kB ? eta 0:00:00\n",
      "Downloading protobuf-5.29.3-cp310-abi3-win_amd64.whl (434 kB)\n",
      "   ---------------------------------------- 0.0/434.5 kB ? eta -:--:--\n",
      "   ----------------------------------- --- 399.4/434.5 kB 12.2 MB/s eta 0:00:01\n",
      "   ---------------------------------------- 434.5/434.5 kB 9.0 MB/s eta 0:00:00\n",
      "Downloading tensorboard-2.18.0-py3-none-any.whl (5.5 MB)\n",
      "   ---------------------------------------- 0.0/5.5 MB ? eta -:--:--\n",
      "   -- ------------------------------------- 0.4/5.5 MB 7.6 MB/s eta 0:00:01\n",
      "   ---- ----------------------------------- 0.7/5.5 MB 7.0 MB/s eta 0:00:01\n",
      "   ------- -------------------------------- 1.0/5.5 MB 6.9 MB/s eta 0:00:01\n",
      "   --------- ------------------------------ 1.4/5.5 MB 7.2 MB/s eta 0:00:01\n",
      "   ----------- ---------------------------- 1.6/5.5 MB 6.9 MB/s eta 0:00:01\n",
      "   ------------- -------------------------- 1.9/5.5 MB 6.7 MB/s eta 0:00:01\n",
      "   ---------------- ----------------------- 2.2/5.5 MB 6.7 MB/s eta 0:00:01\n",
      "   ------------------ --------------------- 2.6/5.5 MB 6.9 MB/s eta 0:00:01\n",
      "   -------------------- ------------------- 2.9/5.5 MB 6.7 MB/s eta 0:00:01\n",
      "   ---------------------- ----------------- 3.1/5.5 MB 6.7 MB/s eta 0:00:01\n",
      "   ------------------------ --------------- 3.4/5.5 MB 6.6 MB/s eta 0:00:01\n",
      "   -------------------------- ------------- 3.7/5.5 MB 6.5 MB/s eta 0:00:01\n",
      "   ---------------------------- ----------- 3.9/5.5 MB 6.3 MB/s eta 0:00:01\n",
      "   ---------------------------- ----------- 3.9/5.5 MB 6.1 MB/s eta 0:00:01\n",
      "   ----------------------------- ---------- 4.0/5.5 MB 5.7 MB/s eta 0:00:01\n",
      "   ----------------------------- ---------- 4.0/5.5 MB 5.6 MB/s eta 0:00:01\n",
      "   -------------------------------- ------- 4.4/5.5 MB 5.6 MB/s eta 0:00:01\n",
      "   ---------------------------------- ----- 4.7/5.5 MB 5.5 MB/s eta 0:00:01\n",
      "   ----------------------------------- ---- 4.8/5.5 MB 5.4 MB/s eta 0:00:01\n",
      "   ----------------------------------- ---- 4.9/5.5 MB 5.2 MB/s eta 0:00:01\n",
      "   ------------------------------------ --- 5.1/5.5 MB 5.2 MB/s eta 0:00:01\n",
      "   ------------------------------------- -- 5.2/5.5 MB 5.0 MB/s eta 0:00:01\n",
      "   -------------------------------------- - 5.3/5.5 MB 4.9 MB/s eta 0:00:01\n",
      "   ---------------------------------------  5.5/5.5 MB 4.9 MB/s eta 0:00:01\n",
      "   ---------------------------------------- 5.5/5.5 MB 4.8 MB/s eta 0:00:00\n",
      "Downloading tensorflow_io_gcs_filesystem-0.31.0-cp311-cp311-win_amd64.whl (1.5 MB)\n",
      "   ---------------------------------------- 0.0/1.5 MB ? eta -:--:--\n",
      "   ---- ----------------------------------- 0.2/1.5 MB 3.7 MB/s eta 0:00:01\n",
      "   ----------- ---------------------------- 0.4/1.5 MB 4.4 MB/s eta 0:00:01\n",
      "   ------------------ --------------------- 0.7/1.5 MB 4.9 MB/s eta 0:00:01\n",
      "   ------------------------- -------------- 0.9/1.5 MB 4.9 MB/s eta 0:00:01\n",
      "   -------------------------------- ------- 1.2/1.5 MB 5.1 MB/s eta 0:00:01\n",
      "   -------------------------------------- - 1.4/1.5 MB 5.1 MB/s eta 0:00:01\n",
      "   ---------------------------------------- 1.5/1.5 MB 4.7 MB/s eta 0:00:00\n",
      "Downloading termcolor-2.5.0-py3-none-any.whl (7.8 kB)\n",
      "Downloading wrapt-1.17.2-cp311-cp311-win_amd64.whl (38 kB)\n",
      "Downloading Markdown-3.7-py3-none-any.whl (106 kB)\n",
      "   ---------------------------------------- 0.0/106.3 kB ? eta -:--:--\n",
      "   ---------------------------------------- 106.3/106.3 kB 6.4 MB/s eta 0:00:00\n",
      "Downloading tensorboard_data_server-0.7.2-py3-none-any.whl (2.4 kB)\n",
      "Downloading werkzeug-3.1.3-py3-none-any.whl (224 kB)\n",
      "   ---------------------------------------- 0.0/224.5 kB ? eta -:--:--\n",
      "   ---------------------------------------- 224.5/224.5 kB 6.9 MB/s eta 0:00:00\n",
      "Downloading namex-0.0.8-py3-none-any.whl (5.8 kB)\n",
      "Downloading optree-0.14.0-cp311-cp311-win_amd64.whl (300 kB)\n",
      "   ---------------------------------------- 0.0/300.4 kB ? eta -:--:--\n",
      "   ------------------------------- -------- 235.5/300.4 kB 4.8 MB/s eta 0:00:01\n",
      "   ---------------------------------------- 300.4/300.4 kB 4.6 MB/s eta 0:00:00\n",
      "Downloading rich-13.9.4-py3-none-any.whl (242 kB)\n",
      "   ---------------------------------------- 0.0/242.4 kB ? eta -:--:--\n",
      "   ---------------------------------------- 242.4/242.4 kB 4.9 MB/s eta 0:00:00\n",
      "Downloading markdown_it_py-3.0.0-py3-none-any.whl (87 kB)\n",
      "   ---------------------------------------- 0.0/87.5 kB ? eta -:--:--\n",
      "   ---------------------------------------- 87.5/87.5 kB 5.2 MB/s eta 0:00:00\n",
      "Downloading mdurl-0.1.2-py3-none-any.whl (10.0 kB)\n",
      "Installing collected packages: namex, libclang, flatbuffers, wrapt, werkzeug, termcolor, tensorflow-io-gcs-filesystem, tensorboard-data-server, protobuf, optree, opt-einsum, ml-dtypes, mdurl, markdown, h5py, grpcio, google-pasta, gast, astunparse, absl-py, tensorboard, markdown-it-py, rich, keras, tensorflow-intel, tensorflow\n",
      "Successfully installed absl-py-2.1.0 astunparse-1.6.3 flatbuffers-25.1.24 gast-0.6.0 google-pasta-0.2.0 grpcio-1.70.0 h5py-3.12.1 keras-3.8.0 libclang-18.1.1 markdown-3.7 markdown-it-py-3.0.0 mdurl-0.1.2 ml-dtypes-0.4.1 namex-0.0.8 opt-einsum-3.4.0 optree-0.14.0 protobuf-5.29.3 rich-13.9.4 tensorboard-2.18.0 tensorboard-data-server-0.7.2 tensorflow-2.18.0 tensorflow-intel-2.18.0 tensorflow-io-gcs-filesystem-0.31.0 termcolor-2.5.0 werkzeug-3.1.3 wrapt-1.17.2\n"
     ]
    }
   ],
   "source": [
    "!pip install -U tensorflow"
   ]
  },
  {
   "cell_type": "code",
   "execution_count": 91,
   "metadata": {},
   "outputs": [],
   "source": [
    "import numpy as np\n",
    "import tensorflow as tf\n",
    "from tensorflow.keras.models import Model\n",
    "from tensorflow.keras.layers import Input, LSTM, Dense, concatenate, Lambda\n",
    "from tensorflow.keras.optimizers import Adam\n",
    "from tensorflow.keras.callbacks import ReduceLROnPlateau, EarlyStopping\n",
    "import matplotlib.pyplot as plt\n",
    "from sklearn.preprocessing import RobustScaler"
   ]
  },
  {
   "cell_type": "code",
   "execution_count": 93,
   "metadata": {},
   "outputs": [],
   "source": [
    "class CustomSchedule(tf.keras.optimizers.schedules.LearningRateSchedule):\n",
    "    \"\"\"Динамический график изменения learning rate с \"прогревом\" (warm-up).\"\"\"\n",
    "\n",
    "    def init(self, initial_lr=1e-4, warmup_steps=1000):\n",
    "        super().init()\n",
    "        self.initial_lr = initial_lr\n",
    "        self.warmup_steps = warmup_steps\n",
    "    \n",
    "\n",
    "    def __call__(self, step):\n",
    "        return tf.minimum(\n",
    "            self.initial_lr * (step / self.warmup_steps)**0.5,\n",
    "            self.initial_lr\n",
    "        )\n",
    "    \n",
    "def weighted_asymmetric_loss(y_true, y_pred):\n",
    "    \"\"\"\n",
    "    Асимметричная взвешенная кросс-энтропия для задачи классификации направления.\n",
    "    Ожидается, что y_true содержит one-hot вектора (shape [batch, 3]), а y_pred — вероятности (softmax).\n",
    "    \"\"\"\n",
    "    # Определяем индексы истинного класса\n",
    "    true_idx = tf.argmax(y_true, axis=1)\n",
    "    \n",
    "    # Присваиваем веса: 1.5 для класса \"Падение\" (index=2),\n",
    "    # 0.7 для \"Стабильность\" (index=1), 1.0 для \"Рост\" (index=0)\n",
    "    weights = tf.where(true_idx == 2,           # Класс \"Падение\" 1.5,\n",
    "                       tf.where(true_idx == 1, # Класс \"Стабильность\" 0.7, 1.0 # Класс \"Рост\" \n",
    "                        )\n",
    "    )\n",
    "    ce = tf.keras.losses.categorical_crossentropy(y_true, y_pred)\n",
    "\n",
    "    return tf.reduce_mean(ce * weights)\n",
    "    \n",
    "\n",
    "def mare_loss(y_true, y_pred):\n",
    "    \"\"\"\n",
    "    MARE (Mean Absolute Relative Error). Подходит для процентных изменений.\n",
    "    \"\"\"\n",
    "    return tf.reduce_mean( tf.abs((y_true - y_pred) / (y_true + 1e-8)) )\n",
    "\n",
    "def temporal_consistency_loss(y_pred):\n",
    "    \"\"\"\n",
    "    Пример регуляризации временной согласованности (демонстрация).\n",
    "    Для реальных временных рядов чаще обрабатывают последовательные выходы.\n",
    "    \"\"\"\n",
    "    # В данном упрощённом примере возвращаем 0, чтобы не вносить вклад в итоговую функцию потерь.\n",
    "    return 0.0\n",
    "\n",
    "\n",
    "class CustomLoss(tf.keras.losses.Loss):\n",
    "    \"\"\"\n",
    "    Комбинированная функция потерь, объединяющая:\n",
    "    - weighted_asymmetric_loss для направления\n",
    "    - mare_loss для уровней High/Low\n",
    "    - опционально temporal_consistency_loss\n",
    "    \"\"\"\n",
    "    \n",
    "    def init(self, alpha=0.3, beta=0.2, name='custom_loss'):\n",
    "        super().init(name=name)\n",
    "        self.alpha = alpha # Вес модельного вклада для прогноза High/Low\n",
    "        self.beta = beta # Вес временной регуляризации (демонстрация)\n",
    "    \n",
    "    def call(self, y_true, y_pred):\n",
    "        # y_pred — список [direction_pred, high_pred, low_pred]\n",
    "        direction_pred = y_pred[0]\n",
    "        high_pred = y_pred[1]\n",
    "        low_pred = y_pred[2]\n",
    "\n",
    "        # y_true — список [direction_true, high_true, low_true]\n",
    "        direction_true = y_true[0]\n",
    "        high_true = y_true[1]\n",
    "        low_true = y_true[2]\n",
    "\n",
    "        # Основные компоненты потерь\n",
    "        ce_loss = weighted_asymmetric_loss(direction_true, direction_pred)\n",
    "        hl_loss = 0.5 * (mare_loss(high_true, high_pred) + mare_loss(low_true, low_pred))\n",
    "        temp_loss = self.beta * temporal_consistency_loss(direction_pred)  # Пример\n",
    "\n",
    "        total_loss = ce_loss + self.alpha * hl_loss + temp_loss\n",
    "        return total_loss"
   ]
  },
  {
   "cell_type": "code",
   "execution_count": 94,
   "metadata": {},
   "outputs": [],
   "source": [
    "def create_lstm_model(input_shape, n_units=64, freeze_encoder=False):\n",
    "    \"\"\"\n",
    "    Cоздание мультивыходной LSTM-модели: - 1 выход для трехклассовой\n",
    "    классификации направления (direction) - 2 выхода для регрессии High/Low.\n",
    "    \"\"\"\n",
    "\n",
    "    inputs = Input(shape=input_shape, name='input_layer')\n",
    "\n",
    "    # Предположим, что последний столбец в фичах — это ATR (пример).\n",
    "    atr = Lambda(lambda x: x[:, :, -1:], name='atr_slice')(inputs)\n",
    "\n",
    "    x = LSTM(n_units, return_sequences=True, name='lstm1')(inputs)\n",
    "    x = LSTM(n_units // 2, return_sequences=False, name='lstm2')(x)\n",
    "\n",
    "    # Направление (3 класса)\n",
    "    direction_branch = Dense(32, activation='selu', name='direction_dense')(x)\n",
    "    direction_out = Dense(3, activation='softmax', name='direction')(direction_branch)\n",
    "\n",
    "    # Прогноз High/Low\n",
    "    # Для примера, просто склеим выход LSTM со значением ATR ( squeeze )\n",
    "    hl_concat = concatenate([x, tf.squeeze(atr, axis=[1, 2])], name='concat_atr')\n",
    "    hl_hidden = Dense(32, activation='selu', name='hl_dense')(hl_concat)\n",
    "    high_out = Dense(1, activation='linear', name='high')(hl_hidden)\n",
    "    low_out = Dense(1, activation='linear', name='low')(hl_hidden)\n",
    "\n",
    "    model = Model(inputs=inputs, outputs=[direction_out, high_out, low_out])\n",
    "\n",
    "    # Если freeze_encoder == True, \"замораживаем\" все слои энкодера, кроме последних\n",
    "    if freeze_encoder:\n",
    "        # -6, чтобы оставить trainable: direction_dense, direction, concat_atr, hl_dense, high, low\n",
    "        # а также упомянутый LSTM2 (если хочется). Можно отрегулировать под задачу.\n",
    "        for layer in model.layers[:-6]:\n",
    "            layer.trainable = False\n",
    "\n",
    "    return model"
   ]
  },
  {
   "cell_type": "code",
   "execution_count": 104,
   "metadata": {},
   "outputs": [
    {
     "data": {
      "text/html": [
       "<div>\n",
       "<style scoped>\n",
       "    .dataframe tbody tr th:only-of-type {\n",
       "        vertical-align: middle;\n",
       "    }\n",
       "\n",
       "    .dataframe tbody tr th {\n",
       "        vertical-align: top;\n",
       "    }\n",
       "\n",
       "    .dataframe thead th {\n",
       "        text-align: right;\n",
       "    }\n",
       "</style>\n",
       "<table border=\"1\" class=\"dataframe\">\n",
       "  <thead>\n",
       "    <tr style=\"text-align: right;\">\n",
       "      <th></th>\n",
       "      <th>timestamp</th>\n",
       "      <th>open</th>\n",
       "      <th>high</th>\n",
       "      <th>low</th>\n",
       "      <th>close</th>\n",
       "    </tr>\n",
       "  </thead>\n",
       "  <tbody>\n",
       "    <tr>\n",
       "      <th>0</th>\n",
       "      <td>2022-12-31 21:00:00</td>\n",
       "      <td>52.70</td>\n",
       "      <td>52.70</td>\n",
       "      <td>52.60</td>\n",
       "      <td>52.60</td>\n",
       "    </tr>\n",
       "    <tr>\n",
       "      <th>1</th>\n",
       "      <td>2022-12-31 21:15:00</td>\n",
       "      <td>52.70</td>\n",
       "      <td>52.70</td>\n",
       "      <td>52.50</td>\n",
       "      <td>52.60</td>\n",
       "    </tr>\n",
       "    <tr>\n",
       "      <th>2</th>\n",
       "      <td>2022-12-31 21:30:00</td>\n",
       "      <td>52.60</td>\n",
       "      <td>52.60</td>\n",
       "      <td>52.40</td>\n",
       "      <td>52.50</td>\n",
       "    </tr>\n",
       "    <tr>\n",
       "      <th>3</th>\n",
       "      <td>2022-12-31 21:45:00</td>\n",
       "      <td>52.50</td>\n",
       "      <td>52.50</td>\n",
       "      <td>52.40</td>\n",
       "      <td>52.40</td>\n",
       "    </tr>\n",
       "    <tr>\n",
       "      <th>4</th>\n",
       "      <td>2022-12-31 22:00:00</td>\n",
       "      <td>52.40</td>\n",
       "      <td>52.50</td>\n",
       "      <td>52.40</td>\n",
       "      <td>52.50</td>\n",
       "    </tr>\n",
       "    <tr>\n",
       "      <th>...</th>\n",
       "      <td>...</td>\n",
       "      <td>...</td>\n",
       "      <td>...</td>\n",
       "      <td>...</td>\n",
       "      <td>...</td>\n",
       "    </tr>\n",
       "    <tr>\n",
       "      <th>34946</th>\n",
       "      <td>2023-12-30 22:45:00</td>\n",
       "      <td>112.43</td>\n",
       "      <td>112.48</td>\n",
       "      <td>111.33</td>\n",
       "      <td>112.09</td>\n",
       "    </tr>\n",
       "    <tr>\n",
       "      <th>34947</th>\n",
       "      <td>2023-12-30 23:00:00</td>\n",
       "      <td>112.08</td>\n",
       "      <td>112.95</td>\n",
       "      <td>112.02</td>\n",
       "      <td>112.45</td>\n",
       "    </tr>\n",
       "    <tr>\n",
       "      <th>34948</th>\n",
       "      <td>2023-12-30 23:15:00</td>\n",
       "      <td>112.40</td>\n",
       "      <td>112.51</td>\n",
       "      <td>112.03</td>\n",
       "      <td>112.15</td>\n",
       "    </tr>\n",
       "    <tr>\n",
       "      <th>34949</th>\n",
       "      <td>2023-12-30 23:30:00</td>\n",
       "      <td>112.10</td>\n",
       "      <td>112.33</td>\n",
       "      <td>111.49</td>\n",
       "      <td>111.50</td>\n",
       "    </tr>\n",
       "    <tr>\n",
       "      <th>34950</th>\n",
       "      <td>2023-12-30 23:45:00</td>\n",
       "      <td>111.53</td>\n",
       "      <td>111.66</td>\n",
       "      <td>110.90</td>\n",
       "      <td>111.02</td>\n",
       "    </tr>\n",
       "  </tbody>\n",
       "</table>\n",
       "<p>34951 rows × 5 columns</p>\n",
       "</div>"
      ],
      "text/plain": [
       "                 timestamp    open    high     low   close\n",
       "0      2022-12-31 21:00:00   52.70   52.70   52.60   52.60\n",
       "1      2022-12-31 21:15:00   52.70   52.70   52.50   52.60\n",
       "2      2022-12-31 21:30:00   52.60   52.60   52.40   52.50\n",
       "3      2022-12-31 21:45:00   52.50   52.50   52.40   52.40\n",
       "4      2022-12-31 22:00:00   52.40   52.50   52.40   52.50\n",
       "...                    ...     ...     ...     ...     ...\n",
       "34946  2023-12-30 22:45:00  112.43  112.48  111.33  112.09\n",
       "34947  2023-12-30 23:00:00  112.08  112.95  112.02  112.45\n",
       "34948  2023-12-30 23:15:00  112.40  112.51  112.03  112.15\n",
       "34949  2023-12-30 23:30:00  112.10  112.33  111.49  111.50\n",
       "34950  2023-12-30 23:45:00  111.53  111.66  110.90  111.02\n",
       "\n",
       "[34951 rows x 5 columns]"
      ]
     },
     "execution_count": 104,
     "metadata": {},
     "output_type": "execute_result"
    }
   ],
   "source": [
    "dummy_data"
   ]
  },
  {
   "cell_type": "code",
   "execution_count": 95,
   "metadata": {},
   "outputs": [],
   "source": [
    "def prepare_data(data, window_size=30):\n",
    "    \"\"\"\n",
    "    Подготовка данных: Превращаем [samples, features] ->\n",
    "    [samples, window_size, features] для LSTM. Предполагается, что в data:\n",
    "    - первые три столбца для one-hot направления,\n",
    "    - четвертый столбец — High,\n",
    "    - пятый столбец — Low,\n",
    "    - остальные — вспомогательные фичи (open, close, atr и т.д.).\n",
    "    \"\"\"\n",
    "    \n",
    "    X, y_dir, y_high, y_low = [], [], [], []\n",
    "    for i in range(window_size, len(data)):\n",
    "        X.append(data[i - window_size : i]) # direction (one-hot) в колонках 0..2\n",
    "        y_dir.append(data[i, 0:3]) # High — column 3, Low — column 4\n",
    "        y_high.append(data[i, 3])\n",
    "        y_low.append(data[i, 4])\n",
    "        X = np.array(X)\n",
    "        y_dir = np.array(y_dir)\n",
    "        y_high = np.array(y_high).reshape(-1, 1)\n",
    "        y_low = np.array(y_low).reshape(-1, 1)\n",
    "        return X, [y_dir, y_high, y_low]\n"
   ]
  },
  {
   "cell_type": "code",
   "execution_count": 115,
   "metadata": {},
   "outputs": [
    {
     "data": {
      "text/html": [
       "<div>\n",
       "<style scoped>\n",
       "    .dataframe tbody tr th:only-of-type {\n",
       "        vertical-align: middle;\n",
       "    }\n",
       "\n",
       "    .dataframe tbody tr th {\n",
       "        vertical-align: top;\n",
       "    }\n",
       "\n",
       "    .dataframe thead th {\n",
       "        text-align: right;\n",
       "    }\n",
       "</style>\n",
       "<table border=\"1\" class=\"dataframe\">\n",
       "  <thead>\n",
       "    <tr style=\"text-align: right;\">\n",
       "      <th></th>\n",
       "      <th>timestamp</th>\n",
       "      <th>open</th>\n",
       "      <th>high</th>\n",
       "      <th>low</th>\n",
       "      <th>close</th>\n",
       "      <th>SMA_delta</th>\n",
       "      <th>RSI_14</th>\n",
       "      <th>BB_delta_cu</th>\n",
       "      <th>BB_delta_cl</th>\n",
       "      <th>ATR</th>\n",
       "      <th>Revers</th>\n",
       "      <th>Moment</th>\n",
       "    </tr>\n",
       "  </thead>\n",
       "  <tbody>\n",
       "    <tr>\n",
       "      <th>0</th>\n",
       "      <td>2022-12-31 21:00:00</td>\n",
       "      <td>52.70</td>\n",
       "      <td>52.70</td>\n",
       "      <td>52.60</td>\n",
       "      <td>52.60</td>\n",
       "      <td>NaN</td>\n",
       "      <td>NaN</td>\n",
       "      <td>NaN</td>\n",
       "      <td>NaN</td>\n",
       "      <td>NaN</td>\n",
       "      <td>NaN</td>\n",
       "      <td>NaN</td>\n",
       "    </tr>\n",
       "    <tr>\n",
       "      <th>1</th>\n",
       "      <td>2022-12-31 21:15:00</td>\n",
       "      <td>52.70</td>\n",
       "      <td>52.70</td>\n",
       "      <td>52.50</td>\n",
       "      <td>52.60</td>\n",
       "      <td>NaN</td>\n",
       "      <td>NaN</td>\n",
       "      <td>NaN</td>\n",
       "      <td>NaN</td>\n",
       "      <td>NaN</td>\n",
       "      <td>-0.001899</td>\n",
       "      <td>-0.001899</td>\n",
       "    </tr>\n",
       "    <tr>\n",
       "      <th>2</th>\n",
       "      <td>2022-12-31 21:30:00</td>\n",
       "      <td>52.60</td>\n",
       "      <td>52.60</td>\n",
       "      <td>52.40</td>\n",
       "      <td>52.50</td>\n",
       "      <td>NaN</td>\n",
       "      <td>NaN</td>\n",
       "      <td>NaN</td>\n",
       "      <td>NaN</td>\n",
       "      <td>NaN</td>\n",
       "      <td>-0.000000</td>\n",
       "      <td>-0.001899</td>\n",
       "    </tr>\n",
       "    <tr>\n",
       "      <th>3</th>\n",
       "      <td>2022-12-31 21:45:00</td>\n",
       "      <td>52.50</td>\n",
       "      <td>52.50</td>\n",
       "      <td>52.40</td>\n",
       "      <td>52.40</td>\n",
       "      <td>NaN</td>\n",
       "      <td>NaN</td>\n",
       "      <td>NaN</td>\n",
       "      <td>NaN</td>\n",
       "      <td>NaN</td>\n",
       "      <td>-0.000000</td>\n",
       "      <td>-0.001903</td>\n",
       "    </tr>\n",
       "    <tr>\n",
       "      <th>4</th>\n",
       "      <td>2022-12-31 22:00:00</td>\n",
       "      <td>52.40</td>\n",
       "      <td>52.50</td>\n",
       "      <td>52.40</td>\n",
       "      <td>52.50</td>\n",
       "      <td>NaN</td>\n",
       "      <td>NaN</td>\n",
       "      <td>NaN</td>\n",
       "      <td>NaN</td>\n",
       "      <td>NaN</td>\n",
       "      <td>-0.000000</td>\n",
       "      <td>-0.001907</td>\n",
       "    </tr>\n",
       "    <tr>\n",
       "      <th>...</th>\n",
       "      <td>...</td>\n",
       "      <td>...</td>\n",
       "      <td>...</td>\n",
       "      <td>...</td>\n",
       "      <td>...</td>\n",
       "      <td>...</td>\n",
       "      <td>...</td>\n",
       "      <td>...</td>\n",
       "      <td>...</td>\n",
       "      <td>...</td>\n",
       "      <td>...</td>\n",
       "      <td>...</td>\n",
       "    </tr>\n",
       "    <tr>\n",
       "      <th>34946</th>\n",
       "      <td>2023-12-30 22:45:00</td>\n",
       "      <td>112.43</td>\n",
       "      <td>112.48</td>\n",
       "      <td>111.33</td>\n",
       "      <td>112.09</td>\n",
       "      <td>1.00110</td>\n",
       "      <td>44.783715</td>\n",
       "      <td>0.830014</td>\n",
       "      <td>0.531014</td>\n",
       "      <td>0.713212</td>\n",
       "      <td>-0.000178</td>\n",
       "      <td>0.002940</td>\n",
       "    </tr>\n",
       "    <tr>\n",
       "      <th>34947</th>\n",
       "      <td>2023-12-30 23:00:00</td>\n",
       "      <td>112.08</td>\n",
       "      <td>112.95</td>\n",
       "      <td>112.02</td>\n",
       "      <td>112.45</td>\n",
       "      <td>0.92620</td>\n",
       "      <td>52.736318</td>\n",
       "      <td>0.450825</td>\n",
       "      <td>0.786825</td>\n",
       "      <td>0.834117</td>\n",
       "      <td>0.000089</td>\n",
       "      <td>-0.003029</td>\n",
       "    </tr>\n",
       "    <tr>\n",
       "      <th>34948</th>\n",
       "      <td>2023-12-30 23:15:00</td>\n",
       "      <td>112.40</td>\n",
       "      <td>112.51</td>\n",
       "      <td>112.03</td>\n",
       "      <td>112.15</td>\n",
       "      <td>0.85815</td>\n",
       "      <td>53.132832</td>\n",
       "      <td>0.676968</td>\n",
       "      <td>0.348968</td>\n",
       "      <td>0.788235</td>\n",
       "      <td>0.000445</td>\n",
       "      <td>0.003296</td>\n",
       "    </tr>\n",
       "    <tr>\n",
       "      <th>34949</th>\n",
       "      <td>2023-12-30 23:30:00</td>\n",
       "      <td>112.10</td>\n",
       "      <td>112.33</td>\n",
       "      <td>111.49</td>\n",
       "      <td>111.50</td>\n",
       "      <td>0.83045</td>\n",
       "      <td>39.568345</td>\n",
       "      <td>1.364445</td>\n",
       "      <td>-0.246555</td>\n",
       "      <td>0.753804</td>\n",
       "      <td>0.000446</td>\n",
       "      <td>-0.002227</td>\n",
       "    </tr>\n",
       "    <tr>\n",
       "      <th>34950</th>\n",
       "      <td>2023-12-30 23:45:00</td>\n",
       "      <td>111.53</td>\n",
       "      <td>111.66</td>\n",
       "      <td>110.90</td>\n",
       "      <td>111.02</td>\n",
       "      <td>0.86855</td>\n",
       "      <td>27.184466</td>\n",
       "      <td>1.992305</td>\n",
       "      <td>-0.428695</td>\n",
       "      <td>0.715963</td>\n",
       "      <td>-0.000269</td>\n",
       "      <td>-0.005367</td>\n",
       "    </tr>\n",
       "  </tbody>\n",
       "</table>\n",
       "<p>34951 rows × 12 columns</p>\n",
       "</div>"
      ],
      "text/plain": [
       "                 timestamp    open    high     low   close  SMA_delta  \\\n",
       "0      2022-12-31 21:00:00   52.70   52.70   52.60   52.60        NaN   \n",
       "1      2022-12-31 21:15:00   52.70   52.70   52.50   52.60        NaN   \n",
       "2      2022-12-31 21:30:00   52.60   52.60   52.40   52.50        NaN   \n",
       "3      2022-12-31 21:45:00   52.50   52.50   52.40   52.40        NaN   \n",
       "4      2022-12-31 22:00:00   52.40   52.50   52.40   52.50        NaN   \n",
       "...                    ...     ...     ...     ...     ...        ...   \n",
       "34946  2023-12-30 22:45:00  112.43  112.48  111.33  112.09    1.00110   \n",
       "34947  2023-12-30 23:00:00  112.08  112.95  112.02  112.45    0.92620   \n",
       "34948  2023-12-30 23:15:00  112.40  112.51  112.03  112.15    0.85815   \n",
       "34949  2023-12-30 23:30:00  112.10  112.33  111.49  111.50    0.83045   \n",
       "34950  2023-12-30 23:45:00  111.53  111.66  110.90  111.02    0.86855   \n",
       "\n",
       "          RSI_14  BB_delta_cu  BB_delta_cl       ATR    Revers    Moment  \n",
       "0            NaN          NaN          NaN       NaN       NaN       NaN  \n",
       "1            NaN          NaN          NaN       NaN -0.001899 -0.001899  \n",
       "2            NaN          NaN          NaN       NaN -0.000000 -0.001899  \n",
       "3            NaN          NaN          NaN       NaN -0.000000 -0.001903  \n",
       "4            NaN          NaN          NaN       NaN -0.000000 -0.001907  \n",
       "...          ...          ...          ...       ...       ...       ...  \n",
       "34946  44.783715     0.830014     0.531014  0.713212 -0.000178  0.002940  \n",
       "34947  52.736318     0.450825     0.786825  0.834117  0.000089 -0.003029  \n",
       "34948  53.132832     0.676968     0.348968  0.788235  0.000445  0.003296  \n",
       "34949  39.568345     1.364445    -0.246555  0.753804  0.000446 -0.002227  \n",
       "34950  27.184466     1.992305    -0.428695  0.715963 -0.000269 -0.005367  \n",
       "\n",
       "[34951 rows x 12 columns]"
      ]
     },
     "execution_count": 115,
     "metadata": {},
     "output_type": "execute_result"
    }
   ],
   "source": [
    "from feature_engineering import AAVE\n",
    "AAVE"
   ]
  },
  {
   "cell_type": "code",
   "execution_count": 96,
   "metadata": {},
   "outputs": [],
   "source": [
    "def scale_data(dummy_data):\n",
    "    scaler = RobustScaler()\n",
    "    return scaler.fit_transform(dummy_data)"
   ]
  },
  {
   "cell_type": "code",
   "execution_count": 102,
   "metadata": {},
   "outputs": [
    {
     "ename": "IndexError",
     "evalue": "index 4 is out of bounds for axis 1 with size 4",
     "output_type": "error",
     "traceback": [
      "\u001b[1;31m---------------------------------------------------------------------------\u001b[0m",
      "\u001b[1;31mIndexError\u001b[0m                                Traceback (most recent call last)",
      "Cell \u001b[1;32mIn[102], line 187\u001b[0m\n\u001b[0;32m    184\u001b[0m     \u001b[39mprint\u001b[39m(\u001b[39m\"\u001b[39m\u001b[39m\\n\u001b[39;00m\u001b[39mFine-tuned model saved: trading_model_v1.h5\u001b[39m\u001b[39m\"\u001b[39m)\n\u001b[0;32m    186\u001b[0m \u001b[39mif\u001b[39;00m \u001b[39m__name__\u001b[39m \u001b[39m==\u001b[39m \u001b[39m\"\u001b[39m\u001b[39m__main__\u001b[39m\u001b[39m\"\u001b[39m:\n\u001b[1;32m--> 187\u001b[0m     main()\n",
      "Cell \u001b[1;32mIn[102], line 13\u001b[0m, in \u001b[0;36mmain\u001b[1;34m()\u001b[0m\n\u001b[0;32m      9\u001b[0m \u001b[39m#-------------------------------------------------------------------------\u001b[39;00m\n\u001b[0;32m     10\u001b[0m \u001b[39m# 3. Подготовка временных окон\u001b[39;00m\n\u001b[0;32m     11\u001b[0m \u001b[39m#-------------------------------------------------------------------------\u001b[39;00m\n\u001b[0;32m     12\u001b[0m window_size \u001b[39m=\u001b[39m \u001b[39m30\u001b[39m\n\u001b[1;32m---> 13\u001b[0m X_seq, y_seq \u001b[39m=\u001b[39m prepare_data(scaled_data, window_size\u001b[39m=\u001b[39;49mwindow_size)\n\u001b[0;32m     15\u001b[0m \u001b[39m# Разделяем на train/val/test (70% / 15% / 15%)\u001b[39;00m\n\u001b[0;32m     16\u001b[0m total_samples \u001b[39m=\u001b[39m X_seq\u001b[39m.\u001b[39mshape[\u001b[39m0\u001b[39m]\n",
      "Cell \u001b[1;32mIn[95], line 16\u001b[0m, in \u001b[0;36mprepare_data\u001b[1;34m(data, window_size)\u001b[0m\n\u001b[0;32m     14\u001b[0m y_dir\u001b[39m.\u001b[39mappend(data[i, \u001b[39m0\u001b[39m:\u001b[39m3\u001b[39m]) \u001b[39m# High — column 3, Low — column 4\u001b[39;00m\n\u001b[0;32m     15\u001b[0m y_high\u001b[39m.\u001b[39mappend(data[i, \u001b[39m3\u001b[39m])\n\u001b[1;32m---> 16\u001b[0m y_low\u001b[39m.\u001b[39mappend(data[i, \u001b[39m4\u001b[39;49m])\n\u001b[0;32m     17\u001b[0m X \u001b[39m=\u001b[39m np\u001b[39m.\u001b[39marray(X)\n\u001b[0;32m     18\u001b[0m y_dir \u001b[39m=\u001b[39m np\u001b[39m.\u001b[39marray(y_dir)\n",
      "\u001b[1;31mIndexError\u001b[0m: index 4 is out of bounds for axis 1 with size 4"
     ]
    }
   ],
   "source": [
    "def main():\n",
    "    num_features = 4\n",
    "\n",
    "    dummy_data = pd.read_csv('data/AAVE_USDT_15m_candles.csv', sep=';') # Загрузка (или генерация) данны\n",
    "    dummy_data.drop('timestamp', axis=1, inplace=True)\n",
    "\n",
    "    scaled_data = scale_data(dummy_data) # Масштабирование данных\n",
    "\n",
    "    #-------------------------------------------------------------------------\n",
    "    # 3. Подготовка временных окон\n",
    "    #-------------------------------------------------------------------------\n",
    "    window_size = 30\n",
    "    X_seq, y_seq = prepare_data(scaled_data, window_size=window_size)\n",
    "\n",
    "    # Разделяем на train/val/test (70% / 15% / 15%)\n",
    "    total_samples = X_seq.shape[0]\n",
    "    train_end = int(0.7 * total_samples)\n",
    "    val_end = int(0.85 * total_samples)\n",
    "\n",
    "    X_train = X_seq[:train_end]\n",
    "    X_val   = X_seq[train_end:val_end]\n",
    "    X_test  = X_seq[val_end:]\n",
    "\n",
    "    y_dir_train, y_high_train, y_low_train = y_seq[0][:train_end], y_seq[1][:train_end], y_seq[2][:train_end]\n",
    "    y_dir_val,   y_high_val,   y_low_val   = y_seq[0][train_end:val_end], y_seq[1][train_end:val_end], y_seq[2][train_end:val_end]\n",
    "    y_dir_test,  y_high_test,  y_low_test  = y_seq[0][val_end:], y_seq[1][val_end:], y_seq[2][val_end:]\n",
    "\n",
    "    #-------------------------------------------------------------------------\n",
    "    # 4. Создание и первый этап обучения модели\n",
    "    #-------------------------------------------------------------------------\n",
    "    print(\"Stage 1: Initial Training\")\n",
    "\n",
    "    model = create_lstm_model(\n",
    "        input_shape=(window_size, num_features),\n",
    "        n_units=64,\n",
    "        freeze_encoder=False\n",
    "    )\n",
    "\n",
    "    # Используем динамический learning rate\n",
    "    lr_schedule = CustomSchedule(initial_lr=1e-3)\n",
    "    optimizer = Adam(learning_rate=lr_schedule)\n",
    "\n",
    "    model.compile(\n",
    "        optimizer=optimizer,\n",
    "        loss={\n",
    "            'direction': weighted_asymmetric_loss,  # для направления\n",
    "            'high': mare_loss,                      # для High\n",
    "            'low': mare_loss                        # для Low\n",
    "        },\n",
    "        loss_weights=[0.7, 0.15, 0.15],  # относительные веса лоссов\n",
    "        metrics={\n",
    "            'direction': 'accuracy',\n",
    "            'high': 'mae',\n",
    "            'low': 'mae'\n",
    "        }\n",
    "    )\n",
    "\n",
    "    train_targets = {\n",
    "        'direction': y_dir_train,\n",
    "        'high': y_high_train,\n",
    "        'low': y_low_train\n",
    "    }\n",
    "    val_targets = {\n",
    "        'direction': y_dir_val,\n",
    "        'high': y_high_val,\n",
    "        'low': y_low_val\n",
    "    }\n",
    "\n",
    "    callbacks = [\n",
    "        ReduceLROnPlateau(monitor='val_loss', factor=0.5, patience=5, verbose=1),\n",
    "        EarlyStopping(monitor='val_direction_accuracy', patience=10, mode='max', verbose=1, restore_best_weights=True)\n",
    "    ]\n",
    "\n",
    "    history_stage1 = model.fit(\n",
    "        X_train,\n",
    "        train_targets,\n",
    "        epochs=25,\n",
    "        batch_size=64,\n",
    "        validation_data=(X_val, val_targets),\n",
    "        callbacks=callbacks,\n",
    "        verbose=1\n",
    "    )\n",
    "\n",
    "    #-------------------------------------------------------------------------\n",
    "    # 5. Второй этап обучения (fine-tuning) с заморозкой энкодера\n",
    "    #-------------------------------------------------------------------------\n",
    "    print(\"\\nStage 2: Fine-Tuning with Frozen Encoder\")\n",
    "\n",
    "    model_fine_tune = create_lstm_model(\n",
    "        input_shape=(window_size, num_features),\n",
    "        n_units=64,\n",
    "        freeze_encoder=True\n",
    "    )\n",
    "    # Переносим веса с первого этапа\n",
    "    model_fine_tune.set_weights(model.get_weights())\n",
    "\n",
    "    # Компилируем уже с комбинированной CustomLoss\n",
    "    model_fine_tune.compile(\n",
    "        optimizer=Adam(1e-5),\n",
    "        loss=CustomLoss(alpha=0.3, beta=0.2),\n",
    "        metrics={\n",
    "            'direction': 'accuracy',\n",
    "            'high': 'mae',\n",
    "            'low': 'mae'\n",
    "        }\n",
    "    )\n",
    "\n",
    "    # Здесь цели нужно в виде списка [dir, high, low]:\n",
    "    history_stage2 = model_fine_tune.fit(\n",
    "        X_train,\n",
    "        [y_dir_train, y_high_train, y_low_train],\n",
    "        epochs=15,\n",
    "        batch_size=64,\n",
    "        validation_data=(X_val, [y_dir_val, y_high_val, y_low_val]),\n",
    "        verbose=1\n",
    "    )\n",
    "\n",
    "    #-------------------------------------------------------------------------\n",
    "    # 6. Оценка на тестовой выборке\n",
    "    #-------------------------------------------------------------------------\n",
    "    print(\"\\nModel Evaluation on Test Set:\")\n",
    "    test_results = model_fine_tune.evaluate(\n",
    "        X_test,\n",
    "        [y_dir_test, y_high_test, y_low_test],\n",
    "        verbose=1\n",
    "    )\n",
    "    # test_results = [total_loss, direction_loss, high_loss, low_loss,\n",
    "    #                 direction_accuracy, high_mae, low_mae] (зависит от порядка outputs и metrics)\n",
    "    print(\"Test Results:\", test_results)\n",
    "\n",
    "    #-------------------------------------------------------------------------\n",
    "    # 7. Визуализация истории обучения\n",
    "    #-------------------------------------------------------------------------\n",
    "    plt.figure(figsize=(12, 4))\n",
    "\n",
    "    # История Stage 1: график loss и accuracy\n",
    "    plt.subplot(1, 2, 1)\n",
    "    plt.plot(history_stage1.history['loss'], label='Train Loss (Stage 1)')\n",
    "    plt.plot(history_stage1.history['val_loss'], label='Val Loss (Stage 1)')\n",
    "    plt.title('Stage 1: Total Loss')\n",
    "    plt.xlabel('Epoch')\n",
    "    plt.ylabel('Loss')\n",
    "    plt.legend()\n",
    "\n",
    "    plt.subplot(1, 2, 2)\n",
    "    if 'direction_accuracy' in history_stage1.history:\n",
    "        plt.plot(history_stage1.history['direction_accuracy'], label='Train Acc (Stage 1)')\n",
    "    if 'val_direction_accuracy' in history_stage1.history:\n",
    "        plt.plot(history_stage1.history['val_direction_accuracy'], label='Val Acc (Stage 1)')\n",
    "    plt.title('Stage 1: Direction Accuracy')\n",
    "    plt.xlabel('Epoch')\n",
    "    plt.ylabel('Accuracy')\n",
    "    plt.legend()\n",
    "    plt.tight_layout()\n",
    "    plt.show()\n",
    "\n",
    "    # История Stage 2: график loss и accuracy\n",
    "    plt.figure(figsize=(12, 4))\n",
    "\n",
    "    plt.subplot(1, 2, 1)\n",
    "    plt.plot(history_stage2.history['loss'], label='Train Loss (Stage 2)')\n",
    "    plt.plot(history_stage2.history['val_loss'], label='Val Loss (Stage 2)')\n",
    "    plt.title('Stage 2: Total Loss')\n",
    "    plt.xlabel('Epoch')\n",
    "    plt.ylabel('Loss')\n",
    "    plt.legend()\n",
    "\n",
    "    plt.subplot(1, 2, 2)\n",
    "    if 'direction_accuracy' in history_stage2.history:\n",
    "        plt.plot(history_stage2.history['direction_accuracy'], label='Train Acc (Stage 2)')\n",
    "    if 'val_direction_accuracy' in history_stage2.history:\n",
    "        plt.plot(history_stage2.history['val_direction_accuracy'], label='Val Acc (Stage 2)')\n",
    "    plt.title('Stage 2: Direction Accuracy')\n",
    "    plt.xlabel('Epoch')\n",
    "    plt.ylabel('Accuracy')\n",
    "    plt.legend()\n",
    "    plt.tight_layout()\n",
    "    plt.show()\n",
    "\n",
    "    #-------------------------------------------------------------------------\n",
    "    # 8. Сохранение итоговой модели (пример)\n",
    "    #-------------------------------------------------------------------------\n",
    "    model_fine_tune.save('trading_model_v1.h5')\n",
    "    print(\"\\nFine-tuned model saved: trading_model_v1.h5\")\n",
    "\n",
    "if __name__ == \"__main__\":\n",
    "    main()"
   ]
  },
  {
   "cell_type": "markdown",
   "metadata": {},
   "source": [
    "---------------"
   ]
  },
  {
   "cell_type": "code",
   "execution_count": null,
   "metadata": {},
   "outputs": [],
   "source": [
    "import numpy as np\n",
    "import tensorflow as tf\n",
    "from tensorflow.keras.models import Model\n",
    "from tensorflow.keras.layers import *\n",
    "from tensorflow.keras.optimizers import Adam\n",
    "from tensorflow.keras.callbacks import ReduceLROnPlateau, EarlyStopping\n",
    "from sklearn.preprocessing import RobustScaler\n",
    "\n",
    "def create_lstm_model(input_shape, n_units=64, freeze_encoder=False):\n",
    "    \"\"\"Создает multi-output LSTM архитектуру\"\"\"\n",
    "    inputs = Input(shape=input_shape)\n",
    "    \n",
    "    # Интеграция ATR как дополнительного канала\n",
    "    atr = Lambda(lambda x: x[:,:,-1:])(inputs)  # Предполагаем, что ATR последний фича\n",
    "    \n",
    "    # Основная LSTM ветка\n",
    "    lstm1 = LSTM(n_units, return_sequences=True)(inputs)\n",
    "    lstm2 = LSTM(n_units//2, return_sequences=False)(lstm1)\n",
    "    \n",
    "    # Ветка для прогноза направления\n",
    "    direction_branch = Dense(32, activation='selu')(lstm2)\n",
    "    direction_out = Dense(3, activation='softmax', name='direction')(direction_branch)\n",
    "    \n",
    "    # Ветка для прогноза High/Low с учетом ATR\n",
    "    hl_branch = concatenate([lstm2, atr[:, -1, :]])\n",
    "    hl_branch = Dense(32, activation='selu')(hl_branch)\n",
    "    high_out = Dense(1, activation='linear', name='high')(hl_branch)\n",
    "    low_out = Dense(1, activation='linear', name='low')(hl_branch)\n",
    "\n",
    "    model = Model(\n",
    "        inputs=inputs, \n",
    "        outputs=[direction_out, high_out, low_out]\n",
    "    )\n",
    "    \n",
    "    if freeze_encoder:\n",
    "        for layer in model.layers[:-6]:  # Замораживаем encoder\n",
    "            layer.trainable = False\n",
    "            \n",
    "    return model\n",
    "\n",
    "class CustomSchedule(tf.keras.optimizers.schedules.LearningRateSchedule):\n",
    "    \"\"\"Динамический learning rate с warmup\"\"\"\n",
    "    def __init__(self, initial_lr=1e-4, warmup_steps=1000):\n",
    "        super().__init__()\n",
    "        self.initial_lr = initial_lr\n",
    "        self.warmup_steps = warmup_steps\n",
    "\n",
    "    def __call__(self, step):\n",
    "        return tf.minimum(\n",
    "            self.initial_lr * (step / self.warmup_steps)**0.5,\n",
    "            self.initial_lr\n",
    "        )\n",
    "\n",
    "def weighted_asymmetric_loss(y_true, y_pred):\n",
    "    \"\"\"Асимметричная взвешенная кросс-энтропия\"\"\"\n",
    "    weights = tf.where(\n",
    "        tf.argmax(y_true, axis=1) == 2,  # Класс падения\n",
    "        1.5,  # Вес для false negative\n",
    "        tf.where(\n",
    "            tf.argmax(y_true, axis=1) == 1,  # Стабильность\n",
    "            0.7,\n",
    "            1.0  # Вес для роста\n",
    "        )\n",
    "    )\n",
    "    ce = tf.keras.losses.categorical_crossentropy(y_true, y_pred)\n",
    "    return tf.reduce_mean(ce * weights)\n",
    "\n",
    "def mare_loss(y_true, y_pred):\n",
    "    \"\"\"Mean Absolute Relative Error с защитой от деления на ноль\"\"\"\n",
    "    return tf.reduce_mean(\n",
    "        tf.abs((y_true - y_pred) / (y_true + 1e-8))\n",
    "    )\n",
    "\n",
    "def temporal_consistency_loss(y_pred):\n",
    "    \"\"\"Регуляризация временной согласованности\"\"\"\n",
    "    return tf.reduce_mean(\n",
    "        tf.abs(y_pred[:, 1:] - y_pred[:, :-1])\n",
    "    )\n",
    "\n",
    "class CustomLoss(tf.keras.losses.Loss):\n",
    "    \"\"\"Комбинированная функция потерь\"\"\"\n",
    "    def __init__(self, alpha=0.3, beta=0.2, name='custom_loss'):\n",
    "        super().__init__(name=name)\n",
    "        self.alpha = alpha  # Вес для HL loss\n",
    "        self.beta = beta    # Вес для temporal loss\n",
    "\n",
    "    def call(self, y_true, y_pred):\n",
    "        # Разделяем выходы модели\n",
    "        direction_pred = y_pred[0]\n",
    "        high_pred = y_pred[1]\n",
    "        low_pred = y_pred[2]\n",
    "        \n",
    "        # Разделяем истинные значения\n",
    "        direction_true = y_true[0]\n",
    "        high_true = y_true[1]\n",
    "        low_true = y_true[2]\n",
    "        \n",
    "        # Компоненты потерь\n",
    "        ce_loss = weighted_asymmetric_loss(direction_true, direction_pred)\n",
    "        hl_loss = 0.5*(mare_loss(high_true, high_pred) + mare_loss(low_true, low_pred))\n",
    "        temp_loss = self.beta * temporal_consistency_loss(direction_pred)\n",
    "        \n",
    "        return ce_loss + self.alpha*hl_loss + temp_loss\n",
    "\n",
    "def prepare_data(data, window_size=30):\n",
    "    \"\"\"Подготовка временных окон для LSTM\"\"\"\n",
    "    X, y_dir, y_high, y_low = [], [], [], []\n",
    "    for i in range(window_size, len(data)):\n",
    "        X.append(data[i-window_size:i])\n",
    "        y_dir.append(data[i, 0])   # Направление\n",
    "        y_high.append(data[i, 1])  # High\n",
    "        y_low.append(data[i, 2])   # Low\n",
    "    return np.array(X), [np.array(y_dir), np.array(y_high), np.array(y_low)]\n",
    "\n",
    "# Пример использования\n",
    "if __name__ == \"__main__\":\n",
    "    # 1. Загрузка и предобработка данных\n",
    "    # Предполагаем, что data уже загружен и содержит [direction, high, low, features...]\n",
    "    scaler = RobustScaler()\n",
    "    scaled_data = scaler.fit_transform(data)\n",
    "    \n",
    "    # 2. Создание временных окон\n",
    "    X, y = prepare_data(scaled_data, window_size=30)\n",
    "    \n",
    "    # 3. Разделение на train/val\n",
    "    split = int(0.8 * len(X))\n",
    "    X_train, X_val = X[:split], X[split:]\n",
    "    y_train, y_val = [y[0][:split], y[1][:split], y[2][:split]], \\\n",
    "                     [y[0][split:], y[1][split:], y[2][split:]]\n",
    "\n",
    "    # 4. Инициализация модели\n",
    "    model = create_lstm_model(input_shape=(30, X.shape[2]))\n",
    "    \n",
    "    # 5. Компиляция с кастомным learning rate\n",
    "    lr_schedule = CustomSchedule(initial_lr=1e-3)\n",
    "    optimizer = Adam(learning_rate=lr_schedule)\n",
    "    \n",
    "    model.compile(\n",
    "        optimizer=optimizer,\n",
    "        loss={\n",
    "            'direction': weighted_asymmetric_loss,\n",
    "            'high': mare_loss,\n",
    "            'low': mare_loss\n",
    "        },\n",
    "        loss_weights=[0.7, 0.15, 0.15],  # Веса для каждого выхода\n",
    "        metrics={\n",
    "            'direction': 'accuracy',\n",
    "            'high': 'mae',\n",
    "            'low': 'mae'\n",
    "        }\n",
    "    )\n",
    "\n",
    "    # 6. Коллбеки\n",
    "    callbacks = [\n",
    "        ReduceLROnPlateau(monitor='val_loss', factor=0.5, patience=5),\n",
    "        EarlyStopping(monitor='val_direction_accuracy', patience=15, mode='max')\n",
    "    ]\n",
    "\n",
    "    # 7. Первый этап обучения\n",
    "    print(\"Stage 1: Initial Training\")\n",
    "    stage1_history = model.fit(\n",
    "        X_train, y_train,\n",
    "        epochs=50,\n",
    "        batch_size=64,\n",
    "        validation_data=(X_val, y_val),\n",
    "        callbacks=callbacks\n",
    "    )\n",
    "\n",
    "    # 8. Второй этап с заморозкой encoder\n",
    "    print(\"\\nStage 2: Fine-tuning\")\n",
    "    model = create_lstm_model(\n",
    "        input_shape=(30, X.shape[2]), \n",
    "        freeze_encoder=True\n",
    "    )\n",
    "    \n",
    "    # Переносим веса из первой модели\n",
    "    model.set_weights(model.get_weights()) \n",
    "    \n",
    "    model.compile(\n",
    "        optimizer=Adam(1e-5),\n",
    "        loss=CustomLoss(alpha=0.3, beta=0.2),\n",
    "        metrics={\n",
    "            'direction': 'accuracy',\n",
    "            'high': 'mae',\n",
    "            'low': 'mae'\n",
    "        }\n",
    "    )\n",
    "\n",
    "    stage2_history = model.fit(\n",
    "        X_train, y_train,\n",
    "        epochs=30,\n",
    "        batch_size=64,\n",
    "        validation_data=(X_val, y_val)\n",
    "    )\n",
    "\n",
    "    # 9. Сохранение модели\n",
    "    model.save('trading_model_v1.h5')\n"
   ]
  }
 ],
 "metadata": {
  "kernelspec": {
   "display_name": "myenv",
   "language": "python",
   "name": "python3"
  },
  "language_info": {
   "codemirror_mode": {
    "name": "ipython",
    "version": 3
   },
   "file_extension": ".py",
   "mimetype": "text/x-python",
   "name": "python",
   "nbconvert_exporter": "python",
   "pygments_lexer": "ipython3",
   "version": "3.11.4"
  },
  "orig_nbformat": 4
 },
 "nbformat": 4,
 "nbformat_minor": 2
}
