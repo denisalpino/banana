{
 "cells": [
  {
   "cell_type": "code",
   "execution_count": 1,
   "metadata": {},
   "outputs": [
    {
     "name": "stdout",
     "output_type": "stream",
     "text": [
      "Requirement already satisfied: optuna-integration[tfkeras] in c:\\users\\79112\\.conda\\envs\\myenv\\lib\\site-packages (4.2.1)\n",
      "Requirement already satisfied: optuna in c:\\users\\79112\\.conda\\envs\\myenv\\lib\\site-packages (from optuna-integration[tfkeras]) (4.2.0)\n",
      "Requirement already satisfied: tensorflow in c:\\users\\79112\\.conda\\envs\\myenv\\lib\\site-packages (from optuna-integration[tfkeras]) (2.18.0)\n",
      "Requirement already satisfied: alembic>=1.5.0 in c:\\users\\79112\\.conda\\envs\\myenv\\lib\\site-packages (from optuna->optuna-integration[tfkeras]) (1.14.1)\n",
      "Requirement already satisfied: colorlog in c:\\users\\79112\\.conda\\envs\\myenv\\lib\\site-packages (from optuna->optuna-integration[tfkeras]) (6.9.0)\n",
      "Requirement already satisfied: numpy in c:\\users\\79112\\.conda\\envs\\myenv\\lib\\site-packages (from optuna->optuna-integration[tfkeras]) (1.26.0)\n",
      "Requirement already satisfied: packaging>=20.0 in c:\\users\\79112\\.conda\\envs\\myenv\\lib\\site-packages (from optuna->optuna-integration[tfkeras]) (23.2)\n",
      "Requirement already satisfied: sqlalchemy>=1.4.2 in c:\\users\\79112\\.conda\\envs\\myenv\\lib\\site-packages (from optuna->optuna-integration[tfkeras]) (2.0.37)\n",
      "Requirement already satisfied: tqdm in c:\\users\\79112\\.conda\\envs\\myenv\\lib\\site-packages (from optuna->optuna-integration[tfkeras]) (4.66.2)\n",
      "Requirement already satisfied: PyYAML in c:\\users\\79112\\.conda\\envs\\myenv\\lib\\site-packages (from optuna->optuna-integration[tfkeras]) (6.0.1)\n",
      "Requirement already satisfied: tensorflow-intel==2.18.0 in c:\\users\\79112\\.conda\\envs\\myenv\\lib\\site-packages (from tensorflow->optuna-integration[tfkeras]) (2.18.0)\n",
      "Requirement already satisfied: absl-py>=1.0.0 in c:\\users\\79112\\.conda\\envs\\myenv\\lib\\site-packages (from tensorflow-intel==2.18.0->tensorflow->optuna-integration[tfkeras]) (2.1.0)\n",
      "Requirement already satisfied: astunparse>=1.6.0 in c:\\users\\79112\\.conda\\envs\\myenv\\lib\\site-packages (from tensorflow-intel==2.18.0->tensorflow->optuna-integration[tfkeras]) (1.6.3)\n",
      "Requirement already satisfied: flatbuffers>=24.3.25 in c:\\users\\79112\\.conda\\envs\\myenv\\lib\\site-packages (from tensorflow-intel==2.18.0->tensorflow->optuna-integration[tfkeras]) (25.1.24)\n",
      "Requirement already satisfied: gast!=0.5.0,!=0.5.1,!=0.5.2,>=0.2.1 in c:\\users\\79112\\.conda\\envs\\myenv\\lib\\site-packages (from tensorflow-intel==2.18.0->tensorflow->optuna-integration[tfkeras]) (0.6.0)\n",
      "Requirement already satisfied: google-pasta>=0.1.1 in c:\\users\\79112\\.conda\\envs\\myenv\\lib\\site-packages (from tensorflow-intel==2.18.0->tensorflow->optuna-integration[tfkeras]) (0.2.0)\n",
      "Requirement already satisfied: libclang>=13.0.0 in c:\\users\\79112\\.conda\\envs\\myenv\\lib\\site-packages (from tensorflow-intel==2.18.0->tensorflow->optuna-integration[tfkeras]) (18.1.1)\n",
      "Requirement already satisfied: opt-einsum>=2.3.2 in c:\\users\\79112\\.conda\\envs\\myenv\\lib\\site-packages (from tensorflow-intel==2.18.0->tensorflow->optuna-integration[tfkeras]) (3.4.0)\n",
      "Requirement already satisfied: protobuf!=4.21.0,!=4.21.1,!=4.21.2,!=4.21.3,!=4.21.4,!=4.21.5,<6.0.0dev,>=3.20.3 in c:\\users\\79112\\.conda\\envs\\myenv\\lib\\site-packages (from tensorflow-intel==2.18.0->tensorflow->optuna-integration[tfkeras]) (5.29.3)\n",
      "Requirement already satisfied: requests<3,>=2.21.0 in c:\\users\\79112\\.conda\\envs\\myenv\\lib\\site-packages (from tensorflow-intel==2.18.0->tensorflow->optuna-integration[tfkeras]) (2.31.0)\n",
      "Requirement already satisfied: setuptools in c:\\users\\79112\\.conda\\envs\\myenv\\lib\\site-packages (from tensorflow-intel==2.18.0->tensorflow->optuna-integration[tfkeras]) (68.2.2)\n",
      "Requirement already satisfied: six>=1.12.0 in c:\\users\\79112\\.conda\\envs\\myenv\\lib\\site-packages (from tensorflow-intel==2.18.0->tensorflow->optuna-integration[tfkeras]) (1.16.0)\n",
      "Requirement already satisfied: termcolor>=1.1.0 in c:\\users\\79112\\.conda\\envs\\myenv\\lib\\site-packages (from tensorflow-intel==2.18.0->tensorflow->optuna-integration[tfkeras]) (2.5.0)\n",
      "Requirement already satisfied: typing-extensions>=3.6.6 in c:\\users\\79112\\.conda\\envs\\myenv\\lib\\site-packages (from tensorflow-intel==2.18.0->tensorflow->optuna-integration[tfkeras]) (4.8.0)\n",
      "Requirement already satisfied: wrapt>=1.11.0 in c:\\users\\79112\\.conda\\envs\\myenv\\lib\\site-packages (from tensorflow-intel==2.18.0->tensorflow->optuna-integration[tfkeras]) (1.17.2)\n",
      "Requirement already satisfied: grpcio<2.0,>=1.24.3 in c:\\users\\79112\\.conda\\envs\\myenv\\lib\\site-packages (from tensorflow-intel==2.18.0->tensorflow->optuna-integration[tfkeras]) (1.70.0)\n",
      "Requirement already satisfied: tensorboard<2.19,>=2.18 in c:\\users\\79112\\.conda\\envs\\myenv\\lib\\site-packages (from tensorflow-intel==2.18.0->tensorflow->optuna-integration[tfkeras]) (2.18.0)\n",
      "Requirement already satisfied: keras>=3.5.0 in c:\\users\\79112\\.conda\\envs\\myenv\\lib\\site-packages (from tensorflow-intel==2.18.0->tensorflow->optuna-integration[tfkeras]) (3.8.0)\n",
      "Requirement already satisfied: h5py>=3.11.0 in c:\\users\\79112\\.conda\\envs\\myenv\\lib\\site-packages (from tensorflow-intel==2.18.0->tensorflow->optuna-integration[tfkeras]) (3.12.1)\n",
      "Requirement already satisfied: ml-dtypes<0.5.0,>=0.4.0 in c:\\users\\79112\\.conda\\envs\\myenv\\lib\\site-packages (from tensorflow-intel==2.18.0->tensorflow->optuna-integration[tfkeras]) (0.4.1)\n",
      "Requirement already satisfied: tensorflow-io-gcs-filesystem>=0.23.1 in c:\\users\\79112\\.conda\\envs\\myenv\\lib\\site-packages (from tensorflow-intel==2.18.0->tensorflow->optuna-integration[tfkeras]) (0.31.0)\n",
      "Requirement already satisfied: Mako in c:\\users\\79112\\.conda\\envs\\myenv\\lib\\site-packages (from alembic>=1.5.0->optuna->optuna-integration[tfkeras]) (1.3.8)\n",
      "Requirement already satisfied: greenlet!=0.4.17 in c:\\users\\79112\\.conda\\envs\\myenv\\lib\\site-packages (from sqlalchemy>=1.4.2->optuna->optuna-integration[tfkeras]) (3.1.1)\n",
      "Requirement already satisfied: colorama in c:\\users\\79112\\.conda\\envs\\myenv\\lib\\site-packages (from colorlog->optuna->optuna-integration[tfkeras]) (0.4.6)\n",
      "Requirement already satisfied: wheel<1.0,>=0.23.0 in c:\\users\\79112\\.conda\\envs\\myenv\\lib\\site-packages (from astunparse>=1.6.0->tensorflow-intel==2.18.0->tensorflow->optuna-integration[tfkeras]) (0.41.3)\n",
      "Requirement already satisfied: rich in c:\\users\\79112\\.conda\\envs\\myenv\\lib\\site-packages (from keras>=3.5.0->tensorflow-intel==2.18.0->tensorflow->optuna-integration[tfkeras]) (13.9.4)\n",
      "Requirement already satisfied: namex in c:\\users\\79112\\.conda\\envs\\myenv\\lib\\site-packages (from keras>=3.5.0->tensorflow-intel==2.18.0->tensorflow->optuna-integration[tfkeras]) (0.0.8)\n",
      "Requirement already satisfied: optree in c:\\users\\79112\\.conda\\envs\\myenv\\lib\\site-packages (from keras>=3.5.0->tensorflow-intel==2.18.0->tensorflow->optuna-integration[tfkeras]) (0.14.0)\n",
      "Requirement already satisfied: charset-normalizer<4,>=2 in c:\\users\\79112\\.conda\\envs\\myenv\\lib\\site-packages (from requests<3,>=2.21.0->tensorflow-intel==2.18.0->tensorflow->optuna-integration[tfkeras]) (3.3.2)\n",
      "Requirement already satisfied: idna<4,>=2.5 in c:\\users\\79112\\.conda\\envs\\myenv\\lib\\site-packages (from requests<3,>=2.21.0->tensorflow-intel==2.18.0->tensorflow->optuna-integration[tfkeras]) (3.4)\n",
      "Requirement already satisfied: urllib3<3,>=1.21.1 in c:\\users\\79112\\.conda\\envs\\myenv\\lib\\site-packages (from requests<3,>=2.21.0->tensorflow-intel==2.18.0->tensorflow->optuna-integration[tfkeras]) (2.0.7)\n",
      "Requirement already satisfied: certifi>=2017.4.17 in c:\\users\\79112\\.conda\\envs\\myenv\\lib\\site-packages (from requests<3,>=2.21.0->tensorflow-intel==2.18.0->tensorflow->optuna-integration[tfkeras]) (2024.12.14)\n",
      "Requirement already satisfied: markdown>=2.6.8 in c:\\users\\79112\\.conda\\envs\\myenv\\lib\\site-packages (from tensorboard<2.19,>=2.18->tensorflow-intel==2.18.0->tensorflow->optuna-integration[tfkeras]) (3.7)\n",
      "Requirement already satisfied: tensorboard-data-server<0.8.0,>=0.7.0 in c:\\users\\79112\\.conda\\envs\\myenv\\lib\\site-packages (from tensorboard<2.19,>=2.18->tensorflow-intel==2.18.0->tensorflow->optuna-integration[tfkeras]) (0.7.2)\n",
      "Requirement already satisfied: werkzeug>=1.0.1 in c:\\users\\79112\\.conda\\envs\\myenv\\lib\\site-packages (from tensorboard<2.19,>=2.18->tensorflow-intel==2.18.0->tensorflow->optuna-integration[tfkeras]) (3.1.3)\n",
      "Requirement already satisfied: MarkupSafe>=0.9.2 in c:\\users\\79112\\.conda\\envs\\myenv\\lib\\site-packages (from Mako->alembic>=1.5.0->optuna->optuna-integration[tfkeras]) (2.1.5)\n",
      "Requirement already satisfied: markdown-it-py>=2.2.0 in c:\\users\\79112\\.conda\\envs\\myenv\\lib\\site-packages (from rich->keras>=3.5.0->tensorflow-intel==2.18.0->tensorflow->optuna-integration[tfkeras]) (3.0.0)\n",
      "Requirement already satisfied: pygments<3.0.0,>=2.13.0 in c:\\users\\79112\\.conda\\envs\\myenv\\lib\\site-packages (from rich->keras>=3.5.0->tensorflow-intel==2.18.0->tensorflow->optuna-integration[tfkeras]) (2.17.2)\n",
      "Requirement already satisfied: mdurl~=0.1 in c:\\users\\79112\\.conda\\envs\\myenv\\lib\\site-packages (from markdown-it-py>=2.2.0->rich->keras>=3.5.0->tensorflow-intel==2.18.0->tensorflow->optuna-integration[tfkeras]) (0.1.2)\n",
      "Collecting pytorch\n",
      "  Using cached pytorch-1.0.2.tar.gz (689 bytes)\n",
      "  Preparing metadata (setup.py): started\n",
      "  Preparing metadata (setup.py): finished with status 'done'\n",
      "Building wheels for collected packages: pytorch\n",
      "  Building wheel for pytorch (setup.py): started\n",
      "  Building wheel for pytorch (setup.py): finished with status 'error'\n",
      "  Running setup.py clean for pytorch\n",
      "Failed to build pytorch\n"
     ]
    },
    {
     "name": "stderr",
     "output_type": "stream",
     "text": [
      "  error: subprocess-exited-with-error\n",
      "  \n",
      "  × python setup.py bdist_wheel did not run successfully.\n",
      "  │ exit code: 1\n",
      "  ╰─> [6 lines of output]\n",
      "      Traceback (most recent call last):\n",
      "        File \"<string>\", line 2, in <module>\n",
      "        File \"<pip-setuptools-caller>\", line 34, in <module>\n",
      "        File \"C:\\Users\\79112\\AppData\\Local\\Temp\\pip-install-lpx99y62\\pytorch_af256cc7e154476c82043e098369c0e2\\setup.py\", line 15, in <module>\n",
      "          raise Exception(message)\n",
      "      Exception: You tried to install \"pytorch\". The package named for PyTorch is \"torch\"\n",
      "      [end of output]\n",
      "  \n",
      "  note: This error originates from a subprocess, and is likely not a problem with pip.\n",
      "  ERROR: Failed building wheel for pytorch\n",
      "ERROR: Could not build wheels for pytorch, which is required to install pyproject.toml-based projects\n"
     ]
    }
   ],
   "source": [
    "!pip install -U optuna-integration[tfkeras]\n",
    "!pip install -U pytorch"
   ]
  },
  {
   "cell_type": "code",
   "execution_count": 1,
   "metadata": {},
   "outputs": [],
   "source": [
    "import pandas as pd\n",
    "import numpy as np\n",
    "import warnings\n",
    "\n",
    "from feature_engineering import AAVE, ARB, BNB, BTC, ETH, JASMY, LDO, LINK, OP, PENDLE\n",
    "from data_preprocessing import prepare_data, prepare_for_train\n",
    "from vizualize import show_example\n",
    "\n",
    "\n",
    "import tensorflow as tf\n",
    "from tensorflow.keras.models import Model\n",
    "from tensorflow.keras.layers import Input, LSTM, Dense, concatenate, Lambda, Reshape\n",
    "from tensorflow.keras.optimizers import Adam\n",
    "from tensorflow.keras.callbacks import ReduceLROnPlateau, EarlyStopping\n",
    "import matplotlib.pyplot as plt\n",
    "from sklearn.preprocessing import RobustScaler"
   ]
  },
  {
   "cell_type": "code",
   "execution_count": 81,
   "metadata": {},
   "outputs": [],
   "source": [
    "warnings.simplefilter('ignore', Warning)"
   ]
  },
  {
   "cell_type": "code",
   "execution_count": 2,
   "metadata": {},
   "outputs": [
    {
     "data": {
      "text/html": [
       "<div>\n",
       "<style scoped>\n",
       "    .dataframe tbody tr th:only-of-type {\n",
       "        vertical-align: middle;\n",
       "    }\n",
       "\n",
       "    .dataframe tbody tr th {\n",
       "        vertical-align: top;\n",
       "    }\n",
       "\n",
       "    .dataframe thead th {\n",
       "        text-align: right;\n",
       "    }\n",
       "</style>\n",
       "<table border=\"1\" class=\"dataframe\">\n",
       "  <thead>\n",
       "    <tr style=\"text-align: right;\">\n",
       "      <th></th>\n",
       "      <th>timestamp</th>\n",
       "      <th>open</th>\n",
       "      <th>high</th>\n",
       "      <th>low</th>\n",
       "      <th>close</th>\n",
       "      <th>SMA_delta</th>\n",
       "      <th>RSI_14</th>\n",
       "      <th>BB_delta_cu</th>\n",
       "      <th>BB_delta_cl</th>\n",
       "      <th>ATR</th>\n",
       "      <th>Revers</th>\n",
       "      <th>Moment</th>\n",
       "      <th>next_high</th>\n",
       "      <th>next_low</th>\n",
       "      <th>next_close</th>\n",
       "      <th>dynamic_range</th>\n",
       "      <th>target</th>\n",
       "    </tr>\n",
       "  </thead>\n",
       "  <tbody>\n",
       "    <tr>\n",
       "      <th>199</th>\n",
       "      <td>2023-01-02 22:45:00</td>\n",
       "      <td>53.50</td>\n",
       "      <td>53.50</td>\n",
       "      <td>53.20</td>\n",
       "      <td>53.20</td>\n",
       "      <td>-1.20850</td>\n",
       "      <td>30.769231</td>\n",
       "      <td>0.705370</td>\n",
       "      <td>-0.164630</td>\n",
       "      <td>0.224202</td>\n",
       "      <td>-0.000000</td>\n",
       "      <td>-0.003731</td>\n",
       "      <td>53.50</td>\n",
       "      <td>53.20</td>\n",
       "      <td>53.30</td>\n",
       "      <td>0.004214</td>\n",
       "      <td>1</td>\n",
       "    </tr>\n",
       "    <tr>\n",
       "      <th>200</th>\n",
       "      <td>2023-01-02 23:00:00</td>\n",
       "      <td>53.30</td>\n",
       "      <td>53.50</td>\n",
       "      <td>53.20</td>\n",
       "      <td>53.30</td>\n",
       "      <td>-1.19000</td>\n",
       "      <td>35.714286</td>\n",
       "      <td>0.627246</td>\n",
       "      <td>-0.012754</td>\n",
       "      <td>0.234309</td>\n",
       "      <td>-0.001878</td>\n",
       "      <td>-0.005623</td>\n",
       "      <td>53.40</td>\n",
       "      <td>53.30</td>\n",
       "      <td>53.30</td>\n",
       "      <td>0.004396</td>\n",
       "      <td>0</td>\n",
       "    </tr>\n",
       "    <tr>\n",
       "      <th>201</th>\n",
       "      <td>2023-01-02 23:15:00</td>\n",
       "      <td>53.30</td>\n",
       "      <td>53.40</td>\n",
       "      <td>53.30</td>\n",
       "      <td>53.30</td>\n",
       "      <td>-1.17150</td>\n",
       "      <td>35.714286</td>\n",
       "      <td>0.642491</td>\n",
       "      <td>0.032491</td>\n",
       "      <td>0.229734</td>\n",
       "      <td>-0.000000</td>\n",
       "      <td>0.000000</td>\n",
       "      <td>53.40</td>\n",
       "      <td>53.20</td>\n",
       "      <td>53.40</td>\n",
       "      <td>0.004310</td>\n",
       "      <td>0</td>\n",
       "    </tr>\n",
       "    <tr>\n",
       "      <th>202</th>\n",
       "      <td>2023-01-02 23:30:00</td>\n",
       "      <td>53.30</td>\n",
       "      <td>53.40</td>\n",
       "      <td>53.20</td>\n",
       "      <td>53.40</td>\n",
       "      <td>-1.15700</td>\n",
       "      <td>42.857143</td>\n",
       "      <td>0.544142</td>\n",
       "      <td>0.154142</td>\n",
       "      <td>0.212436</td>\n",
       "      <td>-0.000000</td>\n",
       "      <td>0.000000</td>\n",
       "      <td>53.40</td>\n",
       "      <td>52.90</td>\n",
       "      <td>53.00</td>\n",
       "      <td>0.003978</td>\n",
       "      <td>-1</td>\n",
       "    </tr>\n",
       "    <tr>\n",
       "      <th>203</th>\n",
       "      <td>2023-01-02 23:45:00</td>\n",
       "      <td>53.30</td>\n",
       "      <td>53.40</td>\n",
       "      <td>52.90</td>\n",
       "      <td>53.00</td>\n",
       "      <td>-1.12900</td>\n",
       "      <td>29.411765</td>\n",
       "      <td>1.004051</td>\n",
       "      <td>-0.135949</td>\n",
       "      <td>0.210778</td>\n",
       "      <td>0.001874</td>\n",
       "      <td>0.001874</td>\n",
       "      <td>53.10</td>\n",
       "      <td>52.90</td>\n",
       "      <td>53.00</td>\n",
       "      <td>0.003977</td>\n",
       "      <td>0</td>\n",
       "    </tr>\n",
       "    <tr>\n",
       "      <th>...</th>\n",
       "      <td>...</td>\n",
       "      <td>...</td>\n",
       "      <td>...</td>\n",
       "      <td>...</td>\n",
       "      <td>...</td>\n",
       "      <td>...</td>\n",
       "      <td>...</td>\n",
       "      <td>...</td>\n",
       "      <td>...</td>\n",
       "      <td>...</td>\n",
       "      <td>...</td>\n",
       "      <td>...</td>\n",
       "      <td>...</td>\n",
       "      <td>...</td>\n",
       "      <td>...</td>\n",
       "      <td>...</td>\n",
       "      <td>...</td>\n",
       "    </tr>\n",
       "    <tr>\n",
       "      <th>34945</th>\n",
       "      <td>2023-12-30 22:30:00</td>\n",
       "      <td>112.08</td>\n",
       "      <td>112.52</td>\n",
       "      <td>111.85</td>\n",
       "      <td>112.41</td>\n",
       "      <td>1.04415</td>\n",
       "      <td>49.453552</td>\n",
       "      <td>0.521033</td>\n",
       "      <td>0.893033</td>\n",
       "      <td>0.726014</td>\n",
       "      <td>-0.000089</td>\n",
       "      <td>-0.001516</td>\n",
       "      <td>112.48</td>\n",
       "      <td>111.33</td>\n",
       "      <td>112.09</td>\n",
       "      <td>0.006459</td>\n",
       "      <td>-1</td>\n",
       "    </tr>\n",
       "    <tr>\n",
       "      <th>34946</th>\n",
       "      <td>2023-12-30 22:45:00</td>\n",
       "      <td>112.43</td>\n",
       "      <td>112.48</td>\n",
       "      <td>111.33</td>\n",
       "      <td>112.09</td>\n",
       "      <td>1.00110</td>\n",
       "      <td>44.783715</td>\n",
       "      <td>0.830014</td>\n",
       "      <td>0.531014</td>\n",
       "      <td>0.713212</td>\n",
       "      <td>-0.000178</td>\n",
       "      <td>0.002940</td>\n",
       "      <td>112.95</td>\n",
       "      <td>112.02</td>\n",
       "      <td>112.45</td>\n",
       "      <td>0.006363</td>\n",
       "      <td>1</td>\n",
       "    </tr>\n",
       "    <tr>\n",
       "      <th>34947</th>\n",
       "      <td>2023-12-30 23:00:00</td>\n",
       "      <td>112.08</td>\n",
       "      <td>112.95</td>\n",
       "      <td>112.02</td>\n",
       "      <td>112.45</td>\n",
       "      <td>0.92620</td>\n",
       "      <td>52.736318</td>\n",
       "      <td>0.450825</td>\n",
       "      <td>0.786825</td>\n",
       "      <td>0.834117</td>\n",
       "      <td>0.000089</td>\n",
       "      <td>-0.003029</td>\n",
       "      <td>112.51</td>\n",
       "      <td>112.03</td>\n",
       "      <td>112.15</td>\n",
       "      <td>0.007418</td>\n",
       "      <td>0</td>\n",
       "    </tr>\n",
       "    <tr>\n",
       "      <th>34948</th>\n",
       "      <td>2023-12-30 23:15:00</td>\n",
       "      <td>112.40</td>\n",
       "      <td>112.51</td>\n",
       "      <td>112.03</td>\n",
       "      <td>112.15</td>\n",
       "      <td>0.85815</td>\n",
       "      <td>53.132832</td>\n",
       "      <td>0.676968</td>\n",
       "      <td>0.348968</td>\n",
       "      <td>0.788235</td>\n",
       "      <td>0.000445</td>\n",
       "      <td>0.003296</td>\n",
       "      <td>112.33</td>\n",
       "      <td>111.49</td>\n",
       "      <td>111.50</td>\n",
       "      <td>0.007028</td>\n",
       "      <td>0</td>\n",
       "    </tr>\n",
       "    <tr>\n",
       "      <th>34949</th>\n",
       "      <td>2023-12-30 23:30:00</td>\n",
       "      <td>112.10</td>\n",
       "      <td>112.33</td>\n",
       "      <td>111.49</td>\n",
       "      <td>111.50</td>\n",
       "      <td>0.83045</td>\n",
       "      <td>39.568345</td>\n",
       "      <td>1.364445</td>\n",
       "      <td>-0.246555</td>\n",
       "      <td>0.753804</td>\n",
       "      <td>0.000446</td>\n",
       "      <td>-0.002227</td>\n",
       "      <td>111.66</td>\n",
       "      <td>110.90</td>\n",
       "      <td>111.02</td>\n",
       "      <td>0.006761</td>\n",
       "      <td>0</td>\n",
       "    </tr>\n",
       "  </tbody>\n",
       "</table>\n",
       "<p>34751 rows × 17 columns</p>\n",
       "</div>"
      ],
      "text/plain": [
       "                timestamp    open    high     low   close  SMA_delta  \\\n",
       "199   2023-01-02 22:45:00   53.50   53.50   53.20   53.20   -1.20850   \n",
       "200   2023-01-02 23:00:00   53.30   53.50   53.20   53.30   -1.19000   \n",
       "201   2023-01-02 23:15:00   53.30   53.40   53.30   53.30   -1.17150   \n",
       "202   2023-01-02 23:30:00   53.30   53.40   53.20   53.40   -1.15700   \n",
       "203   2023-01-02 23:45:00   53.30   53.40   52.90   53.00   -1.12900   \n",
       "...                   ...     ...     ...     ...     ...        ...   \n",
       "34945 2023-12-30 22:30:00  112.08  112.52  111.85  112.41    1.04415   \n",
       "34946 2023-12-30 22:45:00  112.43  112.48  111.33  112.09    1.00110   \n",
       "34947 2023-12-30 23:00:00  112.08  112.95  112.02  112.45    0.92620   \n",
       "34948 2023-12-30 23:15:00  112.40  112.51  112.03  112.15    0.85815   \n",
       "34949 2023-12-30 23:30:00  112.10  112.33  111.49  111.50    0.83045   \n",
       "\n",
       "          RSI_14  BB_delta_cu  BB_delta_cl       ATR    Revers    Moment  \\\n",
       "199    30.769231     0.705370    -0.164630  0.224202 -0.000000 -0.003731   \n",
       "200    35.714286     0.627246    -0.012754  0.234309 -0.001878 -0.005623   \n",
       "201    35.714286     0.642491     0.032491  0.229734 -0.000000  0.000000   \n",
       "202    42.857143     0.544142     0.154142  0.212436 -0.000000  0.000000   \n",
       "203    29.411765     1.004051    -0.135949  0.210778  0.001874  0.001874   \n",
       "...          ...          ...          ...       ...       ...       ...   \n",
       "34945  49.453552     0.521033     0.893033  0.726014 -0.000089 -0.001516   \n",
       "34946  44.783715     0.830014     0.531014  0.713212 -0.000178  0.002940   \n",
       "34947  52.736318     0.450825     0.786825  0.834117  0.000089 -0.003029   \n",
       "34948  53.132832     0.676968     0.348968  0.788235  0.000445  0.003296   \n",
       "34949  39.568345     1.364445    -0.246555  0.753804  0.000446 -0.002227   \n",
       "\n",
       "       next_high  next_low  next_close  dynamic_range  target  \n",
       "199        53.50     53.20       53.30       0.004214       1  \n",
       "200        53.40     53.30       53.30       0.004396       0  \n",
       "201        53.40     53.20       53.40       0.004310       0  \n",
       "202        53.40     52.90       53.00       0.003978      -1  \n",
       "203        53.10     52.90       53.00       0.003977       0  \n",
       "...          ...       ...         ...            ...     ...  \n",
       "34945     112.48    111.33      112.09       0.006459      -1  \n",
       "34946     112.95    112.02      112.45       0.006363       1  \n",
       "34947     112.51    112.03      112.15       0.007418       0  \n",
       "34948     112.33    111.49      111.50       0.007028       0  \n",
       "34949     111.66    110.90      111.02       0.006761       0  \n",
       "\n",
       "[34751 rows x 17 columns]"
      ]
     },
     "execution_count": 2,
     "metadata": {},
     "output_type": "execute_result"
    }
   ],
   "source": [
    "df = prepare_data(AAVE, multiplier=2).copy()\n",
    "df"
   ]
  },
  {
   "cell_type": "code",
   "execution_count": 3,
   "metadata": {},
   "outputs": [
    {
     "data": {
      "application/vnd.plotly.v1+json": {
       "config": {
        "plotlyServerURL": "https://plot.ly"
       },
       "data": [
        {
         "close": [
          53.2,
          53.3,
          53.3,
          53.4,
          53,
          53,
          52.9,
          53.1,
          53.2,
          53,
          52.7,
          52.9,
          52.9,
          53,
          52.8,
          52.9,
          52.8,
          52.7,
          52.9,
          52.9,
          53,
          53,
          53,
          52.9,
          52.9,
          52.9,
          52.9,
          53.1,
          53.2,
          53.2,
          53.3,
          53.1,
          53,
          53,
          53,
          53.1,
          53.1,
          53,
          52.8,
          52.7,
          52.9,
          52.9,
          53,
          53.1,
          53.1,
          53.1,
          53.1,
          53.1,
          53,
          53
         ],
         "high": [
          53.5,
          53.5,
          53.4,
          53.4,
          53.4,
          53.1,
          53.1,
          53.2,
          53.3,
          53.2,
          53.1,
          53,
          53,
          53,
          53,
          53,
          52.9,
          52.9,
          53,
          53.1,
          53.1,
          53.1,
          53.1,
          53.1,
          53,
          53,
          53.1,
          53.2,
          53.3,
          53.4,
          53.4,
          53.4,
          53.2,
          53.1,
          53.1,
          53.1,
          53.2,
          53.2,
          53.1,
          52.9,
          53,
          52.9,
          53.1,
          53.2,
          53.3,
          53.3,
          53.2,
          53.2,
          53.2,
          53.1
         ],
         "low": [
          53.2,
          53.2,
          53.3,
          53.2,
          52.9,
          52.9,
          52.9,
          52.9,
          53.1,
          53,
          52.6,
          52.6,
          52.8,
          52.8,
          52.8,
          52.8,
          52.8,
          52.6,
          52.7,
          52.8,
          52.9,
          53,
          52.9,
          52.8,
          52.8,
          52.9,
          52.9,
          52.9,
          53.1,
          53.1,
          53.1,
          53.1,
          53,
          52.9,
          52.9,
          53,
          53.1,
          53,
          52.8,
          52.7,
          52.7,
          52.8,
          52.8,
          53,
          53.1,
          53.1,
          53.1,
          53,
          53,
          53
         ],
         "name": "Candlestick",
         "open": [
          53.5,
          53.3,
          53.3,
          53.3,
          53.3,
          52.9,
          53,
          52.9,
          53.1,
          53.1,
          53,
          52.7,
          53,
          52.9,
          53,
          52.8,
          52.9,
          52.8,
          52.7,
          52.8,
          52.9,
          53,
          53,
          53,
          52.9,
          52.9,
          53,
          52.9,
          53.1,
          53.2,
          53.2,
          53.3,
          53.1,
          53,
          53,
          53,
          53.1,
          53.1,
          53,
          52.9,
          52.7,
          52.9,
          52.8,
          53,
          53.1,
          53.2,
          53.2,
          53.1,
          53.1,
          53
         ],
         "type": "candlestick",
         "x": [
          "2023-01-02T22:45:00",
          "2023-01-02T23:00:00",
          "2023-01-02T23:15:00",
          "2023-01-02T23:30:00",
          "2023-01-02T23:45:00",
          "2023-01-03T00:00:00",
          "2023-01-03T00:15:00",
          "2023-01-03T00:30:00",
          "2023-01-03T00:45:00",
          "2023-01-03T01:00:00",
          "2023-01-03T01:15:00",
          "2023-01-03T01:30:00",
          "2023-01-03T01:45:00",
          "2023-01-03T02:00:00",
          "2023-01-03T02:15:00",
          "2023-01-03T02:30:00",
          "2023-01-03T02:45:00",
          "2023-01-03T03:00:00",
          "2023-01-03T03:15:00",
          "2023-01-03T03:30:00",
          "2023-01-03T03:45:00",
          "2023-01-03T04:00:00",
          "2023-01-03T04:15:00",
          "2023-01-03T04:30:00",
          "2023-01-03T04:45:00",
          "2023-01-03T05:00:00",
          "2023-01-03T05:15:00",
          "2023-01-03T05:30:00",
          "2023-01-03T05:45:00",
          "2023-01-03T06:00:00",
          "2023-01-03T06:15:00",
          "2023-01-03T06:30:00",
          "2023-01-03T06:45:00",
          "2023-01-03T07:00:00",
          "2023-01-03T07:15:00",
          "2023-01-03T07:30:00",
          "2023-01-03T07:45:00",
          "2023-01-03T08:00:00",
          "2023-01-03T08:15:00",
          "2023-01-03T08:30:00",
          "2023-01-03T08:45:00",
          "2023-01-03T09:00:00",
          "2023-01-03T09:15:00",
          "2023-01-03T09:30:00",
          "2023-01-03T09:45:00",
          "2023-01-03T10:00:00",
          "2023-01-03T10:15:00",
          "2023-01-03T10:30:00",
          "2023-01-03T10:45:00",
          "2023-01-03T11:00:00"
         ]
        },
        {
         "marker": {
          "color": "green",
          "size": 8,
          "symbol": "triangle-up"
         },
         "mode": "markers+text",
         "name": "Long TP",
         "textposition": "top center",
         "type": "scatter",
         "x": [
          "2023-01-02T23:00:00",
          "2023-01-03T00:30:00",
          "2023-01-03T01:30:00",
          "2023-01-03T03:15:00",
          "2023-01-03T05:30:00",
          "2023-01-03T08:45:00"
         ],
         "y": [
          53.4242023433022,
          53.10809557758878,
          52.93505417859779,
          52.91232346379393,
          53.11980820216693,
          52.88821643167479
         ]
        },
        {
         "marker": {
          "color": "red",
          "size": 8,
          "symbol": "triangle-down"
         },
         "mode": "markers+text",
         "name": "Long SL",
         "textposition": "bottom center",
         "type": "scatter",
         "x": [
          "2023-01-02T23:00:00",
          "2023-01-03T00:30:00",
          "2023-01-03T01:30:00",
          "2023-01-03T03:15:00",
          "2023-01-03T05:30:00",
          "2023-01-03T08:45:00"
         ],
         "y": [
          52.97579765669781,
          52.69190442241123,
          52.46494582140222,
          52.48767653620608,
          52.680191797833075,
          52.51178356832522
         ]
        },
        {
         "marker": {
          "color": "green",
          "size": 8,
          "symbol": "triangle-down"
         },
         "mode": "markers+text",
         "name": "Short TP",
         "textposition": "bottom center",
         "type": "scatter",
         "x": [
          "2023-01-02T23:45:00",
          "2023-01-03T01:15:00"
         ],
         "y": [
          53.18756368941188,
          52.77493748623332
         ]
        },
        {
         "marker": {
          "color": "red",
          "size": 8,
          "symbol": "triangle-up"
         },
         "mode": "markers+text",
         "name": "Short SL",
         "textposition": "top center",
         "type": "scatter",
         "x": [
          "2023-01-02T23:45:00",
          "2023-01-03T01:15:00"
         ],
         "y": [
          53.61243631058812,
          53.22506251376668
         ]
        },
        {
         "mode": "text",
         "showlegend": false,
         "text": "Buy",
         "textfont": {
          "size": 14
         },
         "textposition": "top center",
         "type": "scatter",
         "x": [
          "2023-01-02T22:45:00"
         ],
         "y": [
          53.2
         ]
        },
        {
         "mode": "text",
         "showlegend": false,
         "text": "Stay",
         "textfont": {
          "size": 14
         },
         "textposition": "top center",
         "type": "scatter",
         "x": [
          "2023-01-02T23:00:00"
         ],
         "y": [
          53.3
         ]
        },
        {
         "mode": "text",
         "showlegend": false,
         "text": "Stay",
         "textfont": {
          "size": 14
         },
         "textposition": "top center",
         "type": "scatter",
         "x": [
          "2023-01-02T23:15:00"
         ],
         "y": [
          53.3
         ]
        },
        {
         "mode": "text",
         "showlegend": false,
         "text": "Sell",
         "textfont": {
          "size": 14
         },
         "textposition": "top center",
         "type": "scatter",
         "x": [
          "2023-01-02T23:30:00"
         ],
         "y": [
          53.4
         ]
        },
        {
         "mode": "text",
         "showlegend": false,
         "text": "Stay",
         "textfont": {
          "size": 14
         },
         "textposition": "top center",
         "type": "scatter",
         "x": [
          "2023-01-02T23:45:00"
         ],
         "y": [
          53
         ]
        },
        {
         "mode": "text",
         "showlegend": false,
         "text": "Stay",
         "textfont": {
          "size": 14
         },
         "textposition": "top center",
         "type": "scatter",
         "x": [
          "2023-01-03T00:00:00"
         ],
         "y": [
          53
         ]
        },
        {
         "mode": "text",
         "showlegend": false,
         "text": "Buy",
         "textfont": {
          "size": 14
         },
         "textposition": "top center",
         "type": "scatter",
         "x": [
          "2023-01-03T00:15:00"
         ],
         "y": [
          52.9
         ]
        },
        {
         "mode": "text",
         "showlegend": false,
         "text": "Stay",
         "textfont": {
          "size": 14
         },
         "textposition": "top center",
         "type": "scatter",
         "x": [
          "2023-01-03T00:30:00"
         ],
         "y": [
          53.1
         ]
        },
        {
         "mode": "text",
         "showlegend": false,
         "text": "Stay",
         "textfont": {
          "size": 14
         },
         "textposition": "top center",
         "type": "scatter",
         "x": [
          "2023-01-03T00:45:00"
         ],
         "y": [
          53.2
         ]
        },
        {
         "mode": "text",
         "showlegend": false,
         "text": "Sell",
         "textfont": {
          "size": 14
         },
         "textposition": "top center",
         "type": "scatter",
         "x": [
          "2023-01-03T01:00:00"
         ],
         "y": [
          53
         ]
        },
        {
         "mode": "text",
         "showlegend": false,
         "text": "Buy",
         "textfont": {
          "size": 14
         },
         "textposition": "top center",
         "type": "scatter",
         "x": [
          "2023-01-03T01:15:00"
         ],
         "y": [
          52.7
         ]
        },
        {
         "mode": "text",
         "showlegend": false,
         "text": "Stay",
         "textfont": {
          "size": 14
         },
         "textposition": "top center",
         "type": "scatter",
         "x": [
          "2023-01-03T01:30:00"
         ],
         "y": [
          52.9
         ]
        },
        {
         "mode": "text",
         "showlegend": false,
         "text": "Stay",
         "textfont": {
          "size": 14
         },
         "textposition": "top center",
         "type": "scatter",
         "x": [
          "2023-01-03T01:45:00"
         ],
         "y": [
          52.9
         ]
        },
        {
         "mode": "text",
         "showlegend": false,
         "text": "Stay",
         "textfont": {
          "size": 14
         },
         "textposition": "top center",
         "type": "scatter",
         "x": [
          "2023-01-03T02:00:00"
         ],
         "y": [
          53
         ]
        },
        {
         "mode": "text",
         "showlegend": false,
         "text": "Stay",
         "textfont": {
          "size": 14
         },
         "textposition": "top center",
         "type": "scatter",
         "x": [
          "2023-01-03T02:15:00"
         ],
         "y": [
          52.8
         ]
        },
        {
         "mode": "text",
         "showlegend": false,
         "text": "Stay",
         "textfont": {
          "size": 14
         },
         "textposition": "top center",
         "type": "scatter",
         "x": [
          "2023-01-03T02:30:00"
         ],
         "y": [
          52.9
         ]
        },
        {
         "mode": "text",
         "showlegend": false,
         "text": "Stay",
         "textfont": {
          "size": 14
         },
         "textposition": "top center",
         "type": "scatter",
         "x": [
          "2023-01-03T02:45:00"
         ],
         "y": [
          52.8
         ]
        },
        {
         "mode": "text",
         "showlegend": false,
         "text": "Buy",
         "textfont": {
          "size": 14
         },
         "textposition": "top center",
         "type": "scatter",
         "x": [
          "2023-01-03T03:00:00"
         ],
         "y": [
          52.7
         ]
        },
        {
         "mode": "text",
         "showlegend": false,
         "text": "Stay",
         "textfont": {
          "size": 14
         },
         "textposition": "top center",
         "type": "scatter",
         "x": [
          "2023-01-03T03:15:00"
         ],
         "y": [
          52.9
         ]
        },
        {
         "mode": "text",
         "showlegend": false,
         "text": "Stay",
         "textfont": {
          "size": 14
         },
         "textposition": "top center",
         "type": "scatter",
         "x": [
          "2023-01-03T03:30:00"
         ],
         "y": [
          52.9
         ]
        },
        {
         "mode": "text",
         "showlegend": false,
         "text": "Stay",
         "textfont": {
          "size": 14
         },
         "textposition": "top center",
         "type": "scatter",
         "x": [
          "2023-01-03T03:45:00"
         ],
         "y": [
          53
         ]
        },
        {
         "mode": "text",
         "showlegend": false,
         "text": "Stay",
         "textfont": {
          "size": 14
         },
         "textposition": "top center",
         "type": "scatter",
         "x": [
          "2023-01-03T04:00:00"
         ],
         "y": [
          53
         ]
        },
        {
         "mode": "text",
         "showlegend": false,
         "text": "Stay",
         "textfont": {
          "size": 14
         },
         "textposition": "top center",
         "type": "scatter",
         "x": [
          "2023-01-03T04:15:00"
         ],
         "y": [
          53
         ]
        },
        {
         "mode": "text",
         "showlegend": false,
         "text": "Stay",
         "textfont": {
          "size": 14
         },
         "textposition": "top center",
         "type": "scatter",
         "x": [
          "2023-01-03T04:30:00"
         ],
         "y": [
          52.9
         ]
        },
        {
         "mode": "text",
         "showlegend": false,
         "text": "Stay",
         "textfont": {
          "size": 14
         },
         "textposition": "top center",
         "type": "scatter",
         "x": [
          "2023-01-03T04:45:00"
         ],
         "y": [
          52.9
         ]
        },
        {
         "mode": "text",
         "showlegend": false,
         "text": "Stay",
         "textfont": {
          "size": 14
         },
         "textposition": "top center",
         "type": "scatter",
         "x": [
          "2023-01-03T05:00:00"
         ],
         "y": [
          52.9
         ]
        },
        {
         "mode": "text",
         "showlegend": false,
         "text": "Buy",
         "textfont": {
          "size": 14
         },
         "textposition": "top center",
         "type": "scatter",
         "x": [
          "2023-01-03T05:15:00"
         ],
         "y": [
          52.9
         ]
        },
        {
         "mode": "text",
         "showlegend": false,
         "text": "Stay",
         "textfont": {
          "size": 14
         },
         "textposition": "top center",
         "type": "scatter",
         "x": [
          "2023-01-03T05:30:00"
         ],
         "y": [
          53.1
         ]
        },
        {
         "mode": "text",
         "showlegend": false,
         "text": "Stay",
         "textfont": {
          "size": 14
         },
         "textposition": "top center",
         "type": "scatter",
         "x": [
          "2023-01-03T05:45:00"
         ],
         "y": [
          53.2
         ]
        },
        {
         "mode": "text",
         "showlegend": false,
         "text": "Stay",
         "textfont": {
          "size": 14
         },
         "textposition": "top center",
         "type": "scatter",
         "x": [
          "2023-01-03T06:00:00"
         ],
         "y": [
          53.2
         ]
        },
        {
         "mode": "text",
         "showlegend": false,
         "text": "Stay",
         "textfont": {
          "size": 14
         },
         "textposition": "top center",
         "type": "scatter",
         "x": [
          "2023-01-03T06:15:00"
         ],
         "y": [
          53.3
         ]
        },
        {
         "mode": "text",
         "showlegend": false,
         "text": "Stay",
         "textfont": {
          "size": 14
         },
         "textposition": "top center",
         "type": "scatter",
         "x": [
          "2023-01-03T06:30:00"
         ],
         "y": [
          53.1
         ]
        },
        {
         "mode": "text",
         "showlegend": false,
         "text": "Stay",
         "textfont": {
          "size": 14
         },
         "textposition": "top center",
         "type": "scatter",
         "x": [
          "2023-01-03T06:45:00"
         ],
         "y": [
          53
         ]
        },
        {
         "mode": "text",
         "showlegend": false,
         "text": "Stay",
         "textfont": {
          "size": 14
         },
         "textposition": "top center",
         "type": "scatter",
         "x": [
          "2023-01-03T07:00:00"
         ],
         "y": [
          53
         ]
        },
        {
         "mode": "text",
         "showlegend": false,
         "text": "Stay",
         "textfont": {
          "size": 14
         },
         "textposition": "top center",
         "type": "scatter",
         "x": [
          "2023-01-03T07:15:00"
         ],
         "y": [
          53
         ]
        },
        {
         "mode": "text",
         "showlegend": false,
         "text": "Stay",
         "textfont": {
          "size": 14
         },
         "textposition": "top center",
         "type": "scatter",
         "x": [
          "2023-01-03T07:30:00"
         ],
         "y": [
          53.1
         ]
        },
        {
         "mode": "text",
         "showlegend": false,
         "text": "Stay",
         "textfont": {
          "size": 14
         },
         "textposition": "top center",
         "type": "scatter",
         "x": [
          "2023-01-03T07:45:00"
         ],
         "y": [
          53.1
         ]
        },
        {
         "mode": "text",
         "showlegend": false,
         "text": "Stay",
         "textfont": {
          "size": 14
         },
         "textposition": "top center",
         "type": "scatter",
         "x": [
          "2023-01-03T08:00:00"
         ],
         "y": [
          53
         ]
        },
        {
         "mode": "text",
         "showlegend": false,
         "text": "Stay",
         "textfont": {
          "size": 14
         },
         "textposition": "top center",
         "type": "scatter",
         "x": [
          "2023-01-03T08:15:00"
         ],
         "y": [
          52.8
         ]
        },
        {
         "mode": "text",
         "showlegend": false,
         "text": "Buy",
         "textfont": {
          "size": 14
         },
         "textposition": "top center",
         "type": "scatter",
         "x": [
          "2023-01-03T08:30:00"
         ],
         "y": [
          52.7
         ]
        },
        {
         "mode": "text",
         "showlegend": false,
         "text": "Stay",
         "textfont": {
          "size": 14
         },
         "textposition": "top center",
         "type": "scatter",
         "x": [
          "2023-01-03T08:45:00"
         ],
         "y": [
          52.9
         ]
        },
        {
         "mode": "text",
         "showlegend": false,
         "text": "Stay",
         "textfont": {
          "size": 14
         },
         "textposition": "top center",
         "type": "scatter",
         "x": [
          "2023-01-03T09:00:00"
         ],
         "y": [
          52.9
         ]
        },
        {
         "mode": "text",
         "showlegend": false,
         "text": "Stay",
         "textfont": {
          "size": 14
         },
         "textposition": "top center",
         "type": "scatter",
         "x": [
          "2023-01-03T09:15:00"
         ],
         "y": [
          53
         ]
        },
        {
         "mode": "text",
         "showlegend": false,
         "text": "Stay",
         "textfont": {
          "size": 14
         },
         "textposition": "top center",
         "type": "scatter",
         "x": [
          "2023-01-03T09:30:00"
         ],
         "y": [
          53.1
         ]
        },
        {
         "mode": "text",
         "showlegend": false,
         "text": "Stay",
         "textfont": {
          "size": 14
         },
         "textposition": "top center",
         "type": "scatter",
         "x": [
          "2023-01-03T09:45:00"
         ],
         "y": [
          53.1
         ]
        },
        {
         "mode": "text",
         "showlegend": false,
         "text": "Stay",
         "textfont": {
          "size": 14
         },
         "textposition": "top center",
         "type": "scatter",
         "x": [
          "2023-01-03T10:00:00"
         ],
         "y": [
          53.1
         ]
        },
        {
         "mode": "text",
         "showlegend": false,
         "text": "Stay",
         "textfont": {
          "size": 14
         },
         "textposition": "top center",
         "type": "scatter",
         "x": [
          "2023-01-03T10:15:00"
         ],
         "y": [
          53.1
         ]
        },
        {
         "mode": "text",
         "showlegend": false,
         "text": "Stay",
         "textfont": {
          "size": 14
         },
         "textposition": "top center",
         "type": "scatter",
         "x": [
          "2023-01-03T10:30:00"
         ],
         "y": [
          53.1
         ]
        },
        {
         "mode": "text",
         "showlegend": false,
         "text": "Stay",
         "textfont": {
          "size": 14
         },
         "textposition": "top center",
         "type": "scatter",
         "x": [
          "2023-01-03T10:45:00"
         ],
         "y": [
          53
         ]
        },
        {
         "mode": "text",
         "showlegend": false,
         "text": "Stay",
         "textfont": {
          "size": 14
         },
         "textposition": "top center",
         "type": "scatter",
         "x": [
          "2023-01-03T11:00:00"
         ],
         "y": [
          53
         ]
        },
        {
         "line": {
          "color": "green",
          "width": 1.5
         },
         "marker": {
          "size": 6
         },
         "mode": "lines+markers",
         "showlegend": false,
         "type": "scatter",
         "x": [
          "2023-01-02T22:45:00",
          "2023-01-02T23:00:00"
         ],
         "y": [
          53.2,
          53.4242023433022
         ]
        },
        {
         "marker": {
          "color": "green",
          "size": 16,
          "symbol": "triangle-up"
         },
         "mode": "markers",
         "showlegend": false,
         "type": "scatter",
         "x": [
          "2023-01-02T23:00:00"
         ],
         "y": [
          53.4242023433022
         ]
        },
        {
         "line": {
          "color": "green",
          "width": 1.5
         },
         "marker": {
          "size": 6
         },
         "mode": "lines+markers",
         "showlegend": false,
         "type": "scatter",
         "x": [
          "2023-01-02T23:30:00",
          "2023-01-02T23:45:00"
         ],
         "y": [
          53.4,
          53.18756368941188
         ]
        },
        {
         "marker": {
          "color": "green",
          "size": 16,
          "symbol": "triangle-down"
         },
         "mode": "markers",
         "showlegend": false,
         "type": "scatter",
         "x": [
          "2023-01-02T23:45:00"
         ],
         "y": [
          53.18756368941188
         ]
        },
        {
         "line": {
          "color": "green",
          "width": 1.5
         },
         "marker": {
          "size": 6
         },
         "mode": "lines+markers",
         "showlegend": false,
         "type": "scatter",
         "x": [
          "2023-01-03T00:15:00",
          "2023-01-03T00:30:00"
         ],
         "y": [
          52.9,
          53.10809557758878
         ]
        },
        {
         "marker": {
          "color": "green",
          "size": 16,
          "symbol": "triangle-up"
         },
         "mode": "markers",
         "showlegend": false,
         "type": "scatter",
         "x": [
          "2023-01-03T00:30:00"
         ],
         "y": [
          53.10809557758878
         ]
        },
        {
         "line": {
          "color": "green",
          "width": 1.5
         },
         "marker": {
          "size": 6
         },
         "mode": "lines+markers",
         "showlegend": false,
         "type": "scatter",
         "x": [
          "2023-01-03T01:00:00",
          "2023-01-03T01:15:00"
         ],
         "y": [
          53,
          52.77493748623332
         ]
        },
        {
         "marker": {
          "color": "green",
          "size": 16,
          "symbol": "triangle-down"
         },
         "mode": "markers",
         "showlegend": false,
         "type": "scatter",
         "x": [
          "2023-01-03T01:15:00"
         ],
         "y": [
          52.77493748623332
         ]
        },
        {
         "line": {
          "color": "green",
          "width": 1.5
         },
         "marker": {
          "size": 6
         },
         "mode": "lines+markers",
         "showlegend": false,
         "type": "scatter",
         "x": [
          "2023-01-03T01:15:00",
          "2023-01-03T01:30:00"
         ],
         "y": [
          52.7,
          52.93505417859779
         ]
        },
        {
         "marker": {
          "color": "green",
          "size": 16,
          "symbol": "triangle-up"
         },
         "mode": "markers",
         "showlegend": false,
         "type": "scatter",
         "x": [
          "2023-01-03T01:30:00"
         ],
         "y": [
          52.93505417859779
         ]
        },
        {
         "line": {
          "color": "green",
          "width": 1.5
         },
         "marker": {
          "size": 6
         },
         "mode": "lines+markers",
         "showlegend": false,
         "type": "scatter",
         "x": [
          "2023-01-03T03:00:00",
          "2023-01-03T03:15:00"
         ],
         "y": [
          52.7,
          52.91232346379393
         ]
        },
        {
         "marker": {
          "color": "green",
          "size": 16,
          "symbol": "triangle-up"
         },
         "mode": "markers",
         "showlegend": false,
         "type": "scatter",
         "x": [
          "2023-01-03T03:15:00"
         ],
         "y": [
          52.91232346379393
         ]
        },
        {
         "line": {
          "color": "green",
          "width": 1.5
         },
         "marker": {
          "size": 6
         },
         "mode": "lines+markers",
         "showlegend": false,
         "type": "scatter",
         "x": [
          "2023-01-03T05:15:00",
          "2023-01-03T05:30:00"
         ],
         "y": [
          52.9,
          53.11980820216693
         ]
        },
        {
         "marker": {
          "color": "green",
          "size": 16,
          "symbol": "triangle-up"
         },
         "mode": "markers",
         "showlegend": false,
         "type": "scatter",
         "x": [
          "2023-01-03T05:30:00"
         ],
         "y": [
          53.11980820216693
         ]
        },
        {
         "line": {
          "color": "green",
          "width": 1.5
         },
         "marker": {
          "size": 6
         },
         "mode": "lines+markers",
         "showlegend": false,
         "type": "scatter",
         "x": [
          "2023-01-03T08:30:00",
          "2023-01-03T08:45:00"
         ],
         "y": [
          52.7,
          52.88821643167479
         ]
        },
        {
         "marker": {
          "color": "green",
          "size": 16,
          "symbol": "triangle-up"
         },
         "mode": "markers",
         "showlegend": false,
         "type": "scatter",
         "x": [
          "2023-01-03T08:45:00"
         ],
         "y": [
          52.88821643167479
         ]
        }
       ],
       "layout": {
        "annotations": [
         {
          "font": {
           "color": "green",
           "size": 12
          },
          "showarrow": false,
          "text": "0.42%",
          "x": "2023-01-02T23:00:00",
          "xshift": -20,
          "y": 53.4242023433022,
          "yshift": 10
         },
         {
          "font": {
           "color": "green",
           "size": 12
          },
          "showarrow": false,
          "text": "0.40%",
          "x": "2023-01-02T23:45:00",
          "xshift": -20,
          "y": 53.18756368941188,
          "yshift": -10
         },
         {
          "font": {
           "color": "green",
           "size": 12
          },
          "showarrow": false,
          "text": "0.39%",
          "x": "2023-01-03T00:30:00",
          "xshift": -20,
          "y": 53.10809557758878,
          "yshift": 10
         },
         {
          "font": {
           "color": "green",
           "size": 12
          },
          "showarrow": false,
          "text": "0.42%",
          "x": "2023-01-03T01:15:00",
          "xshift": -20,
          "y": 52.77493748623332,
          "yshift": -10
         },
         {
          "font": {
           "color": "green",
           "size": 12
          },
          "showarrow": false,
          "text": "0.45%",
          "x": "2023-01-03T01:30:00",
          "xshift": -20,
          "y": 52.93505417859779,
          "yshift": 10
         },
         {
          "font": {
           "color": "green",
           "size": 12
          },
          "showarrow": false,
          "text": "0.40%",
          "x": "2023-01-03T03:15:00",
          "xshift": -20,
          "y": 52.91232346379393,
          "yshift": 10
         },
         {
          "font": {
           "color": "green",
           "size": 12
          },
          "showarrow": false,
          "text": "0.42%",
          "x": "2023-01-03T05:30:00",
          "xshift": -20,
          "y": 53.11980820216693,
          "yshift": 10
         },
         {
          "font": {
           "color": "green",
           "size": 12
          },
          "showarrow": false,
          "text": "0.36%",
          "x": "2023-01-03T08:45:00",
          "xshift": -20,
          "y": 52.88821643167479,
          "yshift": 10
         }
        ],
        "height": 800,
        "template": {
         "data": {
          "bar": [
           {
            "error_x": {
             "color": "#2a3f5f"
            },
            "error_y": {
             "color": "#2a3f5f"
            },
            "marker": {
             "line": {
              "color": "white",
              "width": 0.5
             },
             "pattern": {
              "fillmode": "overlay",
              "size": 10,
              "solidity": 0.2
             }
            },
            "type": "bar"
           }
          ],
          "barpolar": [
           {
            "marker": {
             "line": {
              "color": "white",
              "width": 0.5
             },
             "pattern": {
              "fillmode": "overlay",
              "size": 10,
              "solidity": 0.2
             }
            },
            "type": "barpolar"
           }
          ],
          "carpet": [
           {
            "aaxis": {
             "endlinecolor": "#2a3f5f",
             "gridcolor": "#C8D4E3",
             "linecolor": "#C8D4E3",
             "minorgridcolor": "#C8D4E3",
             "startlinecolor": "#2a3f5f"
            },
            "baxis": {
             "endlinecolor": "#2a3f5f",
             "gridcolor": "#C8D4E3",
             "linecolor": "#C8D4E3",
             "minorgridcolor": "#C8D4E3",
             "startlinecolor": "#2a3f5f"
            },
            "type": "carpet"
           }
          ],
          "choropleth": [
           {
            "colorbar": {
             "outlinewidth": 0,
             "ticks": ""
            },
            "type": "choropleth"
           }
          ],
          "contour": [
           {
            "colorbar": {
             "outlinewidth": 0,
             "ticks": ""
            },
            "colorscale": [
             [
              0,
              "#0d0887"
             ],
             [
              0.1111111111111111,
              "#46039f"
             ],
             [
              0.2222222222222222,
              "#7201a8"
             ],
             [
              0.3333333333333333,
              "#9c179e"
             ],
             [
              0.4444444444444444,
              "#bd3786"
             ],
             [
              0.5555555555555556,
              "#d8576b"
             ],
             [
              0.6666666666666666,
              "#ed7953"
             ],
             [
              0.7777777777777778,
              "#fb9f3a"
             ],
             [
              0.8888888888888888,
              "#fdca26"
             ],
             [
              1,
              "#f0f921"
             ]
            ],
            "type": "contour"
           }
          ],
          "contourcarpet": [
           {
            "colorbar": {
             "outlinewidth": 0,
             "ticks": ""
            },
            "type": "contourcarpet"
           }
          ],
          "heatmap": [
           {
            "colorbar": {
             "outlinewidth": 0,
             "ticks": ""
            },
            "colorscale": [
             [
              0,
              "#0d0887"
             ],
             [
              0.1111111111111111,
              "#46039f"
             ],
             [
              0.2222222222222222,
              "#7201a8"
             ],
             [
              0.3333333333333333,
              "#9c179e"
             ],
             [
              0.4444444444444444,
              "#bd3786"
             ],
             [
              0.5555555555555556,
              "#d8576b"
             ],
             [
              0.6666666666666666,
              "#ed7953"
             ],
             [
              0.7777777777777778,
              "#fb9f3a"
             ],
             [
              0.8888888888888888,
              "#fdca26"
             ],
             [
              1,
              "#f0f921"
             ]
            ],
            "type": "heatmap"
           }
          ],
          "heatmapgl": [
           {
            "colorbar": {
             "outlinewidth": 0,
             "ticks": ""
            },
            "colorscale": [
             [
              0,
              "#0d0887"
             ],
             [
              0.1111111111111111,
              "#46039f"
             ],
             [
              0.2222222222222222,
              "#7201a8"
             ],
             [
              0.3333333333333333,
              "#9c179e"
             ],
             [
              0.4444444444444444,
              "#bd3786"
             ],
             [
              0.5555555555555556,
              "#d8576b"
             ],
             [
              0.6666666666666666,
              "#ed7953"
             ],
             [
              0.7777777777777778,
              "#fb9f3a"
             ],
             [
              0.8888888888888888,
              "#fdca26"
             ],
             [
              1,
              "#f0f921"
             ]
            ],
            "type": "heatmapgl"
           }
          ],
          "histogram": [
           {
            "marker": {
             "pattern": {
              "fillmode": "overlay",
              "size": 10,
              "solidity": 0.2
             }
            },
            "type": "histogram"
           }
          ],
          "histogram2d": [
           {
            "colorbar": {
             "outlinewidth": 0,
             "ticks": ""
            },
            "colorscale": [
             [
              0,
              "#0d0887"
             ],
             [
              0.1111111111111111,
              "#46039f"
             ],
             [
              0.2222222222222222,
              "#7201a8"
             ],
             [
              0.3333333333333333,
              "#9c179e"
             ],
             [
              0.4444444444444444,
              "#bd3786"
             ],
             [
              0.5555555555555556,
              "#d8576b"
             ],
             [
              0.6666666666666666,
              "#ed7953"
             ],
             [
              0.7777777777777778,
              "#fb9f3a"
             ],
             [
              0.8888888888888888,
              "#fdca26"
             ],
             [
              1,
              "#f0f921"
             ]
            ],
            "type": "histogram2d"
           }
          ],
          "histogram2dcontour": [
           {
            "colorbar": {
             "outlinewidth": 0,
             "ticks": ""
            },
            "colorscale": [
             [
              0,
              "#0d0887"
             ],
             [
              0.1111111111111111,
              "#46039f"
             ],
             [
              0.2222222222222222,
              "#7201a8"
             ],
             [
              0.3333333333333333,
              "#9c179e"
             ],
             [
              0.4444444444444444,
              "#bd3786"
             ],
             [
              0.5555555555555556,
              "#d8576b"
             ],
             [
              0.6666666666666666,
              "#ed7953"
             ],
             [
              0.7777777777777778,
              "#fb9f3a"
             ],
             [
              0.8888888888888888,
              "#fdca26"
             ],
             [
              1,
              "#f0f921"
             ]
            ],
            "type": "histogram2dcontour"
           }
          ],
          "mesh3d": [
           {
            "colorbar": {
             "outlinewidth": 0,
             "ticks": ""
            },
            "type": "mesh3d"
           }
          ],
          "parcoords": [
           {
            "line": {
             "colorbar": {
              "outlinewidth": 0,
              "ticks": ""
             }
            },
            "type": "parcoords"
           }
          ],
          "pie": [
           {
            "automargin": true,
            "type": "pie"
           }
          ],
          "scatter": [
           {
            "fillpattern": {
             "fillmode": "overlay",
             "size": 10,
             "solidity": 0.2
            },
            "type": "scatter"
           }
          ],
          "scatter3d": [
           {
            "line": {
             "colorbar": {
              "outlinewidth": 0,
              "ticks": ""
             }
            },
            "marker": {
             "colorbar": {
              "outlinewidth": 0,
              "ticks": ""
             }
            },
            "type": "scatter3d"
           }
          ],
          "scattercarpet": [
           {
            "marker": {
             "colorbar": {
              "outlinewidth": 0,
              "ticks": ""
             }
            },
            "type": "scattercarpet"
           }
          ],
          "scattergeo": [
           {
            "marker": {
             "colorbar": {
              "outlinewidth": 0,
              "ticks": ""
             }
            },
            "type": "scattergeo"
           }
          ],
          "scattergl": [
           {
            "marker": {
             "colorbar": {
              "outlinewidth": 0,
              "ticks": ""
             }
            },
            "type": "scattergl"
           }
          ],
          "scattermapbox": [
           {
            "marker": {
             "colorbar": {
              "outlinewidth": 0,
              "ticks": ""
             }
            },
            "type": "scattermapbox"
           }
          ],
          "scatterpolar": [
           {
            "marker": {
             "colorbar": {
              "outlinewidth": 0,
              "ticks": ""
             }
            },
            "type": "scatterpolar"
           }
          ],
          "scatterpolargl": [
           {
            "marker": {
             "colorbar": {
              "outlinewidth": 0,
              "ticks": ""
             }
            },
            "type": "scatterpolargl"
           }
          ],
          "scatterternary": [
           {
            "marker": {
             "colorbar": {
              "outlinewidth": 0,
              "ticks": ""
             }
            },
            "type": "scatterternary"
           }
          ],
          "surface": [
           {
            "colorbar": {
             "outlinewidth": 0,
             "ticks": ""
            },
            "colorscale": [
             [
              0,
              "#0d0887"
             ],
             [
              0.1111111111111111,
              "#46039f"
             ],
             [
              0.2222222222222222,
              "#7201a8"
             ],
             [
              0.3333333333333333,
              "#9c179e"
             ],
             [
              0.4444444444444444,
              "#bd3786"
             ],
             [
              0.5555555555555556,
              "#d8576b"
             ],
             [
              0.6666666666666666,
              "#ed7953"
             ],
             [
              0.7777777777777778,
              "#fb9f3a"
             ],
             [
              0.8888888888888888,
              "#fdca26"
             ],
             [
              1,
              "#f0f921"
             ]
            ],
            "type": "surface"
           }
          ],
          "table": [
           {
            "cells": {
             "fill": {
              "color": "#EBF0F8"
             },
             "line": {
              "color": "white"
             }
            },
            "header": {
             "fill": {
              "color": "#C8D4E3"
             },
             "line": {
              "color": "white"
             }
            },
            "type": "table"
           }
          ]
         },
         "layout": {
          "annotationdefaults": {
           "arrowcolor": "#2a3f5f",
           "arrowhead": 0,
           "arrowwidth": 1
          },
          "autotypenumbers": "strict",
          "coloraxis": {
           "colorbar": {
            "outlinewidth": 0,
            "ticks": ""
           }
          },
          "colorscale": {
           "diverging": [
            [
             0,
             "#8e0152"
            ],
            [
             0.1,
             "#c51b7d"
            ],
            [
             0.2,
             "#de77ae"
            ],
            [
             0.3,
             "#f1b6da"
            ],
            [
             0.4,
             "#fde0ef"
            ],
            [
             0.5,
             "#f7f7f7"
            ],
            [
             0.6,
             "#e6f5d0"
            ],
            [
             0.7,
             "#b8e186"
            ],
            [
             0.8,
             "#7fbc41"
            ],
            [
             0.9,
             "#4d9221"
            ],
            [
             1,
             "#276419"
            ]
           ],
           "sequential": [
            [
             0,
             "#0d0887"
            ],
            [
             0.1111111111111111,
             "#46039f"
            ],
            [
             0.2222222222222222,
             "#7201a8"
            ],
            [
             0.3333333333333333,
             "#9c179e"
            ],
            [
             0.4444444444444444,
             "#bd3786"
            ],
            [
             0.5555555555555556,
             "#d8576b"
            ],
            [
             0.6666666666666666,
             "#ed7953"
            ],
            [
             0.7777777777777778,
             "#fb9f3a"
            ],
            [
             0.8888888888888888,
             "#fdca26"
            ],
            [
             1,
             "#f0f921"
            ]
           ],
           "sequentialminus": [
            [
             0,
             "#0d0887"
            ],
            [
             0.1111111111111111,
             "#46039f"
            ],
            [
             0.2222222222222222,
             "#7201a8"
            ],
            [
             0.3333333333333333,
             "#9c179e"
            ],
            [
             0.4444444444444444,
             "#bd3786"
            ],
            [
             0.5555555555555556,
             "#d8576b"
            ],
            [
             0.6666666666666666,
             "#ed7953"
            ],
            [
             0.7777777777777778,
             "#fb9f3a"
            ],
            [
             0.8888888888888888,
             "#fdca26"
            ],
            [
             1,
             "#f0f921"
            ]
           ]
          },
          "colorway": [
           "#636efa",
           "#EF553B",
           "#00cc96",
           "#ab63fa",
           "#FFA15A",
           "#19d3f3",
           "#FF6692",
           "#B6E880",
           "#FF97FF",
           "#FECB52"
          ],
          "font": {
           "color": "#2a3f5f"
          },
          "geo": {
           "bgcolor": "white",
           "lakecolor": "white",
           "landcolor": "white",
           "showlakes": true,
           "showland": true,
           "subunitcolor": "#C8D4E3"
          },
          "hoverlabel": {
           "align": "left"
          },
          "hovermode": "closest",
          "mapbox": {
           "style": "light"
          },
          "paper_bgcolor": "white",
          "plot_bgcolor": "white",
          "polar": {
           "angularaxis": {
            "gridcolor": "#EBF0F8",
            "linecolor": "#EBF0F8",
            "ticks": ""
           },
           "bgcolor": "white",
           "radialaxis": {
            "gridcolor": "#EBF0F8",
            "linecolor": "#EBF0F8",
            "ticks": ""
           }
          },
          "scene": {
           "xaxis": {
            "backgroundcolor": "white",
            "gridcolor": "#DFE8F3",
            "gridwidth": 2,
            "linecolor": "#EBF0F8",
            "showbackground": true,
            "ticks": "",
            "zerolinecolor": "#EBF0F8"
           },
           "yaxis": {
            "backgroundcolor": "white",
            "gridcolor": "#DFE8F3",
            "gridwidth": 2,
            "linecolor": "#EBF0F8",
            "showbackground": true,
            "ticks": "",
            "zerolinecolor": "#EBF0F8"
           },
           "zaxis": {
            "backgroundcolor": "white",
            "gridcolor": "#DFE8F3",
            "gridwidth": 2,
            "linecolor": "#EBF0F8",
            "showbackground": true,
            "ticks": "",
            "zerolinecolor": "#EBF0F8"
           }
          },
          "shapedefaults": {
           "line": {
            "color": "#2a3f5f"
           }
          },
          "ternary": {
           "aaxis": {
            "gridcolor": "#DFE8F3",
            "linecolor": "#A2B1C6",
            "ticks": ""
           },
           "baxis": {
            "gridcolor": "#DFE8F3",
            "linecolor": "#A2B1C6",
            "ticks": ""
           },
           "bgcolor": "white",
           "caxis": {
            "gridcolor": "#DFE8F3",
            "linecolor": "#A2B1C6",
            "ticks": ""
           }
          },
          "title": {
           "x": 0.05
          },
          "xaxis": {
           "automargin": true,
           "gridcolor": "#EBF0F8",
           "linecolor": "#EBF0F8",
           "ticks": "",
           "title": {
            "standoff": 15
           },
           "zerolinecolor": "#EBF0F8",
           "zerolinewidth": 2
          },
          "yaxis": {
           "automargin": true,
           "gridcolor": "#EBF0F8",
           "linecolor": "#EBF0F8",
           "ticks": "",
           "title": {
            "standoff": 15
           },
           "zerolinecolor": "#EBF0F8",
           "zerolinewidth": 2
          }
         }
        },
        "title": {
         "text": "Свечной график"
        },
        "width": 1500,
        "xaxis": {
         "rangeslider": {
          "visible": false
         },
         "title": {
          "text": "Время"
         }
        },
        "yaxis": {
         "title": {
          "text": "Цена"
         }
        }
       }
      }
     },
     "metadata": {},
     "output_type": "display_data"
    }
   ],
   "source": [
    "show_example(df)"
   ]
  },
  {
   "cell_type": "code",
   "execution_count": 4,
   "metadata": {},
   "outputs": [
    {
     "data": {
      "text/html": [
       "<div>\n",
       "<style scoped>\n",
       "    .dataframe tbody tr th:only-of-type {\n",
       "        vertical-align: middle;\n",
       "    }\n",
       "\n",
       "    .dataframe tbody tr th {\n",
       "        vertical-align: top;\n",
       "    }\n",
       "\n",
       "    .dataframe thead th {\n",
       "        text-align: right;\n",
       "    }\n",
       "</style>\n",
       "<table border=\"1\" class=\"dataframe\">\n",
       "  <thead>\n",
       "    <tr style=\"text-align: right;\">\n",
       "      <th></th>\n",
       "      <th>open</th>\n",
       "      <th>high</th>\n",
       "      <th>low</th>\n",
       "      <th>close</th>\n",
       "      <th>SMA_delta</th>\n",
       "      <th>RSI_14</th>\n",
       "      <th>BB_delta_cu</th>\n",
       "      <th>BB_delta_cl</th>\n",
       "      <th>ATR</th>\n",
       "      <th>Revers</th>\n",
       "      <th>Moment</th>\n",
       "      <th>target</th>\n",
       "    </tr>\n",
       "  </thead>\n",
       "  <tbody>\n",
       "    <tr>\n",
       "      <th>0</th>\n",
       "      <td>53.50</td>\n",
       "      <td>53.50</td>\n",
       "      <td>53.20</td>\n",
       "      <td>53.20</td>\n",
       "      <td>-1.20850</td>\n",
       "      <td>30.769231</td>\n",
       "      <td>0.705370</td>\n",
       "      <td>-0.164630</td>\n",
       "      <td>0.224202</td>\n",
       "      <td>-0.000000</td>\n",
       "      <td>-0.003731</td>\n",
       "      <td>1</td>\n",
       "    </tr>\n",
       "    <tr>\n",
       "      <th>1</th>\n",
       "      <td>53.30</td>\n",
       "      <td>53.50</td>\n",
       "      <td>53.20</td>\n",
       "      <td>53.30</td>\n",
       "      <td>-1.19000</td>\n",
       "      <td>35.714286</td>\n",
       "      <td>0.627246</td>\n",
       "      <td>-0.012754</td>\n",
       "      <td>0.234309</td>\n",
       "      <td>-0.001878</td>\n",
       "      <td>-0.005623</td>\n",
       "      <td>0</td>\n",
       "    </tr>\n",
       "    <tr>\n",
       "      <th>2</th>\n",
       "      <td>53.30</td>\n",
       "      <td>53.40</td>\n",
       "      <td>53.30</td>\n",
       "      <td>53.30</td>\n",
       "      <td>-1.17150</td>\n",
       "      <td>35.714286</td>\n",
       "      <td>0.642491</td>\n",
       "      <td>0.032491</td>\n",
       "      <td>0.229734</td>\n",
       "      <td>-0.000000</td>\n",
       "      <td>0.000000</td>\n",
       "      <td>0</td>\n",
       "    </tr>\n",
       "    <tr>\n",
       "      <th>3</th>\n",
       "      <td>53.30</td>\n",
       "      <td>53.40</td>\n",
       "      <td>53.20</td>\n",
       "      <td>53.40</td>\n",
       "      <td>-1.15700</td>\n",
       "      <td>42.857143</td>\n",
       "      <td>0.544142</td>\n",
       "      <td>0.154142</td>\n",
       "      <td>0.212436</td>\n",
       "      <td>-0.000000</td>\n",
       "      <td>0.000000</td>\n",
       "      <td>-1</td>\n",
       "    </tr>\n",
       "    <tr>\n",
       "      <th>4</th>\n",
       "      <td>53.30</td>\n",
       "      <td>53.40</td>\n",
       "      <td>52.90</td>\n",
       "      <td>53.00</td>\n",
       "      <td>-1.12900</td>\n",
       "      <td>29.411765</td>\n",
       "      <td>1.004051</td>\n",
       "      <td>-0.135949</td>\n",
       "      <td>0.210778</td>\n",
       "      <td>0.001874</td>\n",
       "      <td>0.001874</td>\n",
       "      <td>0</td>\n",
       "    </tr>\n",
       "    <tr>\n",
       "      <th>...</th>\n",
       "      <td>...</td>\n",
       "      <td>...</td>\n",
       "      <td>...</td>\n",
       "      <td>...</td>\n",
       "      <td>...</td>\n",
       "      <td>...</td>\n",
       "      <td>...</td>\n",
       "      <td>...</td>\n",
       "      <td>...</td>\n",
       "      <td>...</td>\n",
       "      <td>...</td>\n",
       "      <td>...</td>\n",
       "    </tr>\n",
       "    <tr>\n",
       "      <th>34746</th>\n",
       "      <td>112.08</td>\n",
       "      <td>112.52</td>\n",
       "      <td>111.85</td>\n",
       "      <td>112.41</td>\n",
       "      <td>1.04415</td>\n",
       "      <td>49.453552</td>\n",
       "      <td>0.521033</td>\n",
       "      <td>0.893033</td>\n",
       "      <td>0.726014</td>\n",
       "      <td>-0.000089</td>\n",
       "      <td>-0.001516</td>\n",
       "      <td>-1</td>\n",
       "    </tr>\n",
       "    <tr>\n",
       "      <th>34747</th>\n",
       "      <td>112.43</td>\n",
       "      <td>112.48</td>\n",
       "      <td>111.33</td>\n",
       "      <td>112.09</td>\n",
       "      <td>1.00110</td>\n",
       "      <td>44.783715</td>\n",
       "      <td>0.830014</td>\n",
       "      <td>0.531014</td>\n",
       "      <td>0.713212</td>\n",
       "      <td>-0.000178</td>\n",
       "      <td>0.002940</td>\n",
       "      <td>1</td>\n",
       "    </tr>\n",
       "    <tr>\n",
       "      <th>34748</th>\n",
       "      <td>112.08</td>\n",
       "      <td>112.95</td>\n",
       "      <td>112.02</td>\n",
       "      <td>112.45</td>\n",
       "      <td>0.92620</td>\n",
       "      <td>52.736318</td>\n",
       "      <td>0.450825</td>\n",
       "      <td>0.786825</td>\n",
       "      <td>0.834117</td>\n",
       "      <td>0.000089</td>\n",
       "      <td>-0.003029</td>\n",
       "      <td>0</td>\n",
       "    </tr>\n",
       "    <tr>\n",
       "      <th>34749</th>\n",
       "      <td>112.40</td>\n",
       "      <td>112.51</td>\n",
       "      <td>112.03</td>\n",
       "      <td>112.15</td>\n",
       "      <td>0.85815</td>\n",
       "      <td>53.132832</td>\n",
       "      <td>0.676968</td>\n",
       "      <td>0.348968</td>\n",
       "      <td>0.788235</td>\n",
       "      <td>0.000445</td>\n",
       "      <td>0.003296</td>\n",
       "      <td>0</td>\n",
       "    </tr>\n",
       "    <tr>\n",
       "      <th>34750</th>\n",
       "      <td>112.10</td>\n",
       "      <td>112.33</td>\n",
       "      <td>111.49</td>\n",
       "      <td>111.50</td>\n",
       "      <td>0.83045</td>\n",
       "      <td>39.568345</td>\n",
       "      <td>1.364445</td>\n",
       "      <td>-0.246555</td>\n",
       "      <td>0.753804</td>\n",
       "      <td>0.000446</td>\n",
       "      <td>-0.002227</td>\n",
       "      <td>0</td>\n",
       "    </tr>\n",
       "  </tbody>\n",
       "</table>\n",
       "<p>34751 rows × 12 columns</p>\n",
       "</div>"
      ],
      "text/plain": [
       "         open    high     low   close  SMA_delta     RSI_14  BB_delta_cu  \\\n",
       "0       53.50   53.50   53.20   53.20   -1.20850  30.769231     0.705370   \n",
       "1       53.30   53.50   53.20   53.30   -1.19000  35.714286     0.627246   \n",
       "2       53.30   53.40   53.30   53.30   -1.17150  35.714286     0.642491   \n",
       "3       53.30   53.40   53.20   53.40   -1.15700  42.857143     0.544142   \n",
       "4       53.30   53.40   52.90   53.00   -1.12900  29.411765     1.004051   \n",
       "...       ...     ...     ...     ...        ...        ...          ...   \n",
       "34746  112.08  112.52  111.85  112.41    1.04415  49.453552     0.521033   \n",
       "34747  112.43  112.48  111.33  112.09    1.00110  44.783715     0.830014   \n",
       "34748  112.08  112.95  112.02  112.45    0.92620  52.736318     0.450825   \n",
       "34749  112.40  112.51  112.03  112.15    0.85815  53.132832     0.676968   \n",
       "34750  112.10  112.33  111.49  111.50    0.83045  39.568345     1.364445   \n",
       "\n",
       "       BB_delta_cl       ATR    Revers    Moment  target  \n",
       "0        -0.164630  0.224202 -0.000000 -0.003731       1  \n",
       "1        -0.012754  0.234309 -0.001878 -0.005623       0  \n",
       "2         0.032491  0.229734 -0.000000  0.000000       0  \n",
       "3         0.154142  0.212436 -0.000000  0.000000      -1  \n",
       "4        -0.135949  0.210778  0.001874  0.001874       0  \n",
       "...            ...       ...       ...       ...     ...  \n",
       "34746     0.893033  0.726014 -0.000089 -0.001516      -1  \n",
       "34747     0.531014  0.713212 -0.000178  0.002940       1  \n",
       "34748     0.786825  0.834117  0.000089 -0.003029       0  \n",
       "34749     0.348968  0.788235  0.000445  0.003296       0  \n",
       "34750    -0.246555  0.753804  0.000446 -0.002227       0  \n",
       "\n",
       "[34751 rows x 12 columns]"
      ]
     },
     "execution_count": 4,
     "metadata": {},
     "output_type": "execute_result"
    }
   ],
   "source": [
    "prepare_for_train(df).reset_index(drop=True)"
   ]
  },
  {
   "cell_type": "code",
   "execution_count": 5,
   "metadata": {},
   "outputs": [],
   "source": [
    "df.drop('timestamp', axis=1, inplace=True)"
   ]
  },
  {
   "cell_type": "code",
   "execution_count": 6,
   "metadata": {},
   "outputs": [],
   "source": [
    "df['target'] = df['target'].replace({-1: 1, 1: 2}) "
   ]
  },
  {
   "cell_type": "code",
   "execution_count": 7,
   "metadata": {},
   "outputs": [
    {
     "data": {
      "text/html": [
       "<div>\n",
       "<style scoped>\n",
       "    .dataframe tbody tr th:only-of-type {\n",
       "        vertical-align: middle;\n",
       "    }\n",
       "\n",
       "    .dataframe tbody tr th {\n",
       "        vertical-align: top;\n",
       "    }\n",
       "\n",
       "    .dataframe thead th {\n",
       "        text-align: right;\n",
       "    }\n",
       "</style>\n",
       "<table border=\"1\" class=\"dataframe\">\n",
       "  <thead>\n",
       "    <tr style=\"text-align: right;\">\n",
       "      <th></th>\n",
       "      <th>open</th>\n",
       "      <th>high</th>\n",
       "      <th>low</th>\n",
       "      <th>close</th>\n",
       "      <th>SMA_delta</th>\n",
       "      <th>RSI_14</th>\n",
       "      <th>BB_delta_cu</th>\n",
       "      <th>BB_delta_cl</th>\n",
       "      <th>ATR</th>\n",
       "      <th>Revers</th>\n",
       "      <th>Moment</th>\n",
       "      <th>target</th>\n",
       "    </tr>\n",
       "  </thead>\n",
       "  <tbody>\n",
       "    <tr>\n",
       "      <th>199</th>\n",
       "      <td>53.50</td>\n",
       "      <td>53.50</td>\n",
       "      <td>53.20</td>\n",
       "      <td>53.20</td>\n",
       "      <td>-1.20850</td>\n",
       "      <td>30.769231</td>\n",
       "      <td>0.705370</td>\n",
       "      <td>-0.164630</td>\n",
       "      <td>0.224202</td>\n",
       "      <td>-0.000000</td>\n",
       "      <td>-0.003731</td>\n",
       "      <td>2</td>\n",
       "    </tr>\n",
       "    <tr>\n",
       "      <th>200</th>\n",
       "      <td>53.30</td>\n",
       "      <td>53.50</td>\n",
       "      <td>53.20</td>\n",
       "      <td>53.30</td>\n",
       "      <td>-1.19000</td>\n",
       "      <td>35.714286</td>\n",
       "      <td>0.627246</td>\n",
       "      <td>-0.012754</td>\n",
       "      <td>0.234309</td>\n",
       "      <td>-0.001878</td>\n",
       "      <td>-0.005623</td>\n",
       "      <td>0</td>\n",
       "    </tr>\n",
       "    <tr>\n",
       "      <th>201</th>\n",
       "      <td>53.30</td>\n",
       "      <td>53.40</td>\n",
       "      <td>53.30</td>\n",
       "      <td>53.30</td>\n",
       "      <td>-1.17150</td>\n",
       "      <td>35.714286</td>\n",
       "      <td>0.642491</td>\n",
       "      <td>0.032491</td>\n",
       "      <td>0.229734</td>\n",
       "      <td>-0.000000</td>\n",
       "      <td>0.000000</td>\n",
       "      <td>0</td>\n",
       "    </tr>\n",
       "    <tr>\n",
       "      <th>202</th>\n",
       "      <td>53.30</td>\n",
       "      <td>53.40</td>\n",
       "      <td>53.20</td>\n",
       "      <td>53.40</td>\n",
       "      <td>-1.15700</td>\n",
       "      <td>42.857143</td>\n",
       "      <td>0.544142</td>\n",
       "      <td>0.154142</td>\n",
       "      <td>0.212436</td>\n",
       "      <td>-0.000000</td>\n",
       "      <td>0.000000</td>\n",
       "      <td>1</td>\n",
       "    </tr>\n",
       "    <tr>\n",
       "      <th>203</th>\n",
       "      <td>53.30</td>\n",
       "      <td>53.40</td>\n",
       "      <td>52.90</td>\n",
       "      <td>53.00</td>\n",
       "      <td>-1.12900</td>\n",
       "      <td>29.411765</td>\n",
       "      <td>1.004051</td>\n",
       "      <td>-0.135949</td>\n",
       "      <td>0.210778</td>\n",
       "      <td>0.001874</td>\n",
       "      <td>0.001874</td>\n",
       "      <td>0</td>\n",
       "    </tr>\n",
       "    <tr>\n",
       "      <th>...</th>\n",
       "      <td>...</td>\n",
       "      <td>...</td>\n",
       "      <td>...</td>\n",
       "      <td>...</td>\n",
       "      <td>...</td>\n",
       "      <td>...</td>\n",
       "      <td>...</td>\n",
       "      <td>...</td>\n",
       "      <td>...</td>\n",
       "      <td>...</td>\n",
       "      <td>...</td>\n",
       "      <td>...</td>\n",
       "    </tr>\n",
       "    <tr>\n",
       "      <th>34945</th>\n",
       "      <td>112.08</td>\n",
       "      <td>112.52</td>\n",
       "      <td>111.85</td>\n",
       "      <td>112.41</td>\n",
       "      <td>1.04415</td>\n",
       "      <td>49.453552</td>\n",
       "      <td>0.521033</td>\n",
       "      <td>0.893033</td>\n",
       "      <td>0.726014</td>\n",
       "      <td>-0.000089</td>\n",
       "      <td>-0.001516</td>\n",
       "      <td>1</td>\n",
       "    </tr>\n",
       "    <tr>\n",
       "      <th>34946</th>\n",
       "      <td>112.43</td>\n",
       "      <td>112.48</td>\n",
       "      <td>111.33</td>\n",
       "      <td>112.09</td>\n",
       "      <td>1.00110</td>\n",
       "      <td>44.783715</td>\n",
       "      <td>0.830014</td>\n",
       "      <td>0.531014</td>\n",
       "      <td>0.713212</td>\n",
       "      <td>-0.000178</td>\n",
       "      <td>0.002940</td>\n",
       "      <td>2</td>\n",
       "    </tr>\n",
       "    <tr>\n",
       "      <th>34947</th>\n",
       "      <td>112.08</td>\n",
       "      <td>112.95</td>\n",
       "      <td>112.02</td>\n",
       "      <td>112.45</td>\n",
       "      <td>0.92620</td>\n",
       "      <td>52.736318</td>\n",
       "      <td>0.450825</td>\n",
       "      <td>0.786825</td>\n",
       "      <td>0.834117</td>\n",
       "      <td>0.000089</td>\n",
       "      <td>-0.003029</td>\n",
       "      <td>0</td>\n",
       "    </tr>\n",
       "    <tr>\n",
       "      <th>34948</th>\n",
       "      <td>112.40</td>\n",
       "      <td>112.51</td>\n",
       "      <td>112.03</td>\n",
       "      <td>112.15</td>\n",
       "      <td>0.85815</td>\n",
       "      <td>53.132832</td>\n",
       "      <td>0.676968</td>\n",
       "      <td>0.348968</td>\n",
       "      <td>0.788235</td>\n",
       "      <td>0.000445</td>\n",
       "      <td>0.003296</td>\n",
       "      <td>0</td>\n",
       "    </tr>\n",
       "    <tr>\n",
       "      <th>34949</th>\n",
       "      <td>112.10</td>\n",
       "      <td>112.33</td>\n",
       "      <td>111.49</td>\n",
       "      <td>111.50</td>\n",
       "      <td>0.83045</td>\n",
       "      <td>39.568345</td>\n",
       "      <td>1.364445</td>\n",
       "      <td>-0.246555</td>\n",
       "      <td>0.753804</td>\n",
       "      <td>0.000446</td>\n",
       "      <td>-0.002227</td>\n",
       "      <td>0</td>\n",
       "    </tr>\n",
       "  </tbody>\n",
       "</table>\n",
       "<p>34751 rows × 12 columns</p>\n",
       "</div>"
      ],
      "text/plain": [
       "         open    high     low   close  SMA_delta     RSI_14  BB_delta_cu  \\\n",
       "199     53.50   53.50   53.20   53.20   -1.20850  30.769231     0.705370   \n",
       "200     53.30   53.50   53.20   53.30   -1.19000  35.714286     0.627246   \n",
       "201     53.30   53.40   53.30   53.30   -1.17150  35.714286     0.642491   \n",
       "202     53.30   53.40   53.20   53.40   -1.15700  42.857143     0.544142   \n",
       "203     53.30   53.40   52.90   53.00   -1.12900  29.411765     1.004051   \n",
       "...       ...     ...     ...     ...        ...        ...          ...   \n",
       "34945  112.08  112.52  111.85  112.41    1.04415  49.453552     0.521033   \n",
       "34946  112.43  112.48  111.33  112.09    1.00110  44.783715     0.830014   \n",
       "34947  112.08  112.95  112.02  112.45    0.92620  52.736318     0.450825   \n",
       "34948  112.40  112.51  112.03  112.15    0.85815  53.132832     0.676968   \n",
       "34949  112.10  112.33  111.49  111.50    0.83045  39.568345     1.364445   \n",
       "\n",
       "       BB_delta_cl       ATR    Revers    Moment  target  \n",
       "199      -0.164630  0.224202 -0.000000 -0.003731       2  \n",
       "200      -0.012754  0.234309 -0.001878 -0.005623       0  \n",
       "201       0.032491  0.229734 -0.000000  0.000000       0  \n",
       "202       0.154142  0.212436 -0.000000  0.000000       1  \n",
       "203      -0.135949  0.210778  0.001874  0.001874       0  \n",
       "...            ...       ...       ...       ...     ...  \n",
       "34945     0.893033  0.726014 -0.000089 -0.001516       1  \n",
       "34946     0.531014  0.713212 -0.000178  0.002940       2  \n",
       "34947     0.786825  0.834117  0.000089 -0.003029       0  \n",
       "34948     0.348968  0.788235  0.000445  0.003296       0  \n",
       "34949    -0.246555  0.753804  0.000446 -0.002227       0  \n",
       "\n",
       "[34751 rows x 12 columns]"
      ]
     },
     "execution_count": 7,
     "metadata": {},
     "output_type": "execute_result"
    }
   ],
   "source": [
    "df = prepare_for_train(df)\n",
    "df"
   ]
  },
  {
   "cell_type": "code",
   "execution_count": 54,
   "metadata": {},
   "outputs": [
    {
     "data": {
      "text/plain": [
       "(0.1273344651952462, 0.7554027222238209, 0.11726281258093292)"
      ]
     },
     "execution_count": 54,
     "metadata": {},
     "output_type": "execute_result"
    }
   ],
   "source": [
    "class_weights = df.target.value_counts()\n",
    "class_weights"
   ]
  },
  {
   "cell_type": "code",
   "execution_count": 62,
   "metadata": {},
   "outputs": [],
   "source": [
    "import torch\n",
    "import torch.nn as nn\n",
    "from torch.utils.data import DataLoader, Dataset\n",
    "\n",
    "class FinancialDataset(Dataset):\n",
    "    def __init__(self, data, sequence_length, target_col):\n",
    "        \"\"\"\n",
    "        data: pandas DataFrame с временными рядами и признаками\n",
    "        sequence_length: длина временной последовательности\n",
    "        target_col: название столбца, который является целевой переменной\n",
    "        \"\"\"\n",
    "        self.data = data\n",
    "        self.sequence_length = sequence_length\n",
    "        self.target_col = target_col\n",
    "\n",
    "        # Преобразуем данные в тензоры\n",
    "        self.features = torch.tensor(data.drop(columns=[target_col]).values, dtype=torch.float32)\n",
    "        self.targets = torch.tensor(data[target_col].values, dtype=torch.float32)\n",
    "\n",
    "    def __len__(self):\n",
    "        # Количество доступных последовательностей\n",
    "        return len(self.data) - self.sequence_length\n",
    "\n",
    "    def __getitem__(self, idx):\n",
    "        # Последовательность признаков\n",
    "        x = self.features[idx:idx + self.sequence_length]\n",
    "        # Целевая переменная для предсказания\n",
    "        y = self.targets[idx + self.sequence_length]\n",
    "        # Добавляем размерность для y\n",
    "        y = torch.tensor([y], dtype=torch.float32)  # Теперь y имеет форму [1]\n",
    "        return x, y"
   ]
  },
  {
   "cell_type": "code",
   "execution_count": 63,
   "metadata": {},
   "outputs": [],
   "source": [
    "targets = df.target.values\n",
    "features = df.drop(['target', 'open', 'high', 'low'], axis=1).values \n",
    "\n",
    "# Разделение на тренировочные и валидационные данные\n",
    "x_train, x_val, y_train, y_val = train_test_split(features, targets, test_size=0.2, shuffle=False)\n",
    "\n",
    "# Преобразование в тензоры\n",
    "x_train = torch.tensor(x_train, dtype=torch.float32)\n",
    "y_train = torch.tensor(y_train, dtype=torch.float32)\n",
    "x_val = torch.tensor(x_val, dtype=torch.float32)\n",
    "y_val = torch.tensor(y_val, dtype=torch.float32)\n",
    "\n",
    "# Создание Dataset\n",
    "train_dataset = TensorDataset(x_train, y_train)\n",
    "val_dataset = TensorDataset(x_val, y_val)\n",
    "\n",
    "# Создание DataLoader\n",
    "train_loader = DataLoader(train_dataset, batch_size=16, shuffle=False)\n",
    "val_loader = DataLoader(val_dataset, batch_size=16, shuffle=False)"
   ]
  },
  {
   "cell_type": "code",
   "execution_count": 75,
   "metadata": {},
   "outputs": [
    {
     "name": "stdout",
     "output_type": "stream",
     "text": [
      "Epoch 1/20, Train Loss: 0.2595, Val Loss: 0.2751, Val Accuracy: 0.7487, Val F1 Macro: 0.2854\n",
      "Epoch 2/20, Train Loss: 0.2490, Val Loss: 0.2746, Val Accuracy: 0.7487, Val F1 Macro: 0.2854\n",
      "Epoch 3/20, Train Loss: 0.2470, Val Loss: 0.2742, Val Accuracy: 0.7487, Val F1 Macro: 0.2854\n",
      "Epoch 4/20, Train Loss: 0.2455, Val Loss: 0.2725, Val Accuracy: 0.7487, Val F1 Macro: 0.2854\n",
      "Epoch 5/20, Train Loss: 0.2446, Val Loss: 0.2712, Val Accuracy: 0.7487, Val F1 Macro: 0.2854\n",
      "Epoch 6/20, Train Loss: 0.2439, Val Loss: 0.2697, Val Accuracy: 0.7487, Val F1 Macro: 0.2854\n",
      "Epoch 7/20, Train Loss: 0.2434, Val Loss: 0.2685, Val Accuracy: 0.7487, Val F1 Macro: 0.2854\n",
      "Epoch 8/20, Train Loss: 0.2430, Val Loss: 0.2683, Val Accuracy: 0.7487, Val F1 Macro: 0.2854\n",
      "Epoch 9/20, Train Loss: 0.2428, Val Loss: 0.2675, Val Accuracy: 0.7487, Val F1 Macro: 0.2854\n",
      "Epoch 10/20, Train Loss: 0.2424, Val Loss: 0.2672, Val Accuracy: 0.7487, Val F1 Macro: 0.2854\n",
      "Epoch 11/20, Train Loss: 0.2421, Val Loss: 0.2664, Val Accuracy: 0.7487, Val F1 Macro: 0.2854\n",
      "Epoch 12/20, Train Loss: 0.2419, Val Loss: 0.2662, Val Accuracy: 0.7487, Val F1 Macro: 0.2854\n",
      "Epoch 13/20, Train Loss: 0.2417, Val Loss: 0.2658, Val Accuracy: 0.7487, Val F1 Macro: 0.2854\n",
      "Epoch 14/20, Train Loss: 0.2414, Val Loss: 0.2654, Val Accuracy: 0.7487, Val F1 Macro: 0.2854\n",
      "Epoch 15/20, Train Loss: 0.2413, Val Loss: 0.2651, Val Accuracy: 0.7487, Val F1 Macro: 0.2854\n",
      "Epoch 16/20, Train Loss: 0.2411, Val Loss: 0.2650, Val Accuracy: 0.7487, Val F1 Macro: 0.2854\n",
      "Epoch 17/20, Train Loss: 0.2410, Val Loss: 0.2649, Val Accuracy: 0.7487, Val F1 Macro: 0.2854\n",
      "Epoch 18/20, Train Loss: 0.2409, Val Loss: 0.2648, Val Accuracy: 0.7488, Val F1 Macro: 0.2862\n",
      "Epoch 19/20, Train Loss: 0.2408, Val Loss: 0.2648, Val Accuracy: 0.7488, Val F1 Macro: 0.2862\n",
      "Epoch 20/20, Train Loss: 0.2407, Val Loss: 0.2647, Val Accuracy: 0.7488, Val F1 Macro: 0.2862\n"
     ]
    }
   ],
   "source": [
    "import torch\n",
    "import torch.nn as nn\n",
    "import torch.optim as optim\n",
    "from torch.utils.data import DataLoader, TensorDataset\n",
    "from sklearn.metrics import accuracy_score, f1_score, precision_score, recall_score # <---  Добавлен импорт\n",
    "import numpy as np\n",
    "\n",
    "# === Класс для взвешенной функции потерь ===\n",
    "class WeightedCrossEntropyLoss(nn.Module):\n",
    "    def __init__(self, class_weights):\n",
    "        super(WeightedCrossEntropyLoss, self).__init__()\n",
    "        self.class_weights = torch.tensor(class_weights, dtype=torch.float32)\n",
    "\n",
    "    def forward(self, outputs, targets):\n",
    "        targets = targets.long()  # Преобразуем в long\n",
    "        weights = self.class_weights.to(targets.device)\n",
    "        loss = nn.CrossEntropyLoss(weight=weights)(outputs, targets)\n",
    "        return loss\n",
    "\n",
    "# === Класс для LSTM ===\n",
    "class LSTMModel(nn.Module):\n",
    "    def __init__(self, input_size, hidden_size, num_layers, num_classes):\n",
    "        super(LSTMModel, self).__init__()\n",
    "        self.lstm = nn.LSTM(input_size, hidden_size, num_layers, batch_first=True)\n",
    "        self.fc = nn.Linear(hidden_size, num_classes)\n",
    "\n",
    "    def forward(self, x):\n",
    "        lstm_out, _ = self.lstm(x)\n",
    "        lstm_last_out = lstm_out[:, -1, :]  # Последний временной шаг\n",
    "        output = self.fc(lstm_last_out)\n",
    "        return output\n",
    "\n",
    "# === Функция обучения ===\n",
    "def train_model(model, train_loader, val_loader, criterion, optimizer, num_epochs, device):\n",
    "    model = model.to(device)\n",
    "\n",
    "    for epoch in range(num_epochs):\n",
    "        model.train()\n",
    "        train_loss = 0.0\n",
    "\n",
    "        for inputs, targets in train_loader:\n",
    "            inputs, targets = inputs.to(device), targets.to(device).long()  # Приведение к long\n",
    "            optimizer.zero_grad()\n",
    "            outputs = model(inputs)\n",
    "            loss = criterion(outputs, targets)\n",
    "            loss.backward()\n",
    "            optimizer.step()\n",
    "            train_loss += loss.item()\n",
    "\n",
    "        avg_train_loss = train_loss / len(train_loader)\n",
    "\n",
    "        model.eval()\n",
    "        val_loss = 0.0\n",
    "        all_val_targets = [] # Добавлено для сбора целей валидации\n",
    "        all_val_outputs = [] # Добавлено для сбора предсказаний валидации\n",
    "        with torch.no_grad():\n",
    "            for inputs, targets in val_loader:\n",
    "                inputs, targets = inputs.to(device), targets.to(device).long()\n",
    "                outputs = model(inputs)\n",
    "                loss = criterion(outputs, targets)\n",
    "                val_loss += loss.item()\n",
    "                all_val_targets.extend(targets.cpu().numpy()) # Сбор целей\n",
    "                all_val_outputs.extend(torch.argmax(outputs, dim=1).cpu().numpy()) # Сбор предсказаний\n",
    "\n",
    "        avg_val_loss = val_loss / len(val_loader)\n",
    "\n",
    "        # Расчет метрик на валидационном наборе\n",
    "        val_accuracy = accuracy_score(all_val_targets, all_val_outputs)\n",
    "        val_f1_macro = f1_score(all_val_targets, all_val_outputs, average='macro', zero_division=0) # Важно zero_division=0\n",
    "\n",
    "        print(f\"Epoch {epoch+1}/{num_epochs}, Train Loss: {avg_train_loss:.4f}, Val Loss: {avg_val_loss:.4f}, Val Accuracy: {val_accuracy:.4f}, Val F1 Macro: {val_f1_macro:.4f}\") # Вывод метрик\n",
    "\n",
    "    return model\n",
    "\n",
    "# === Подготовка данных ===\n",
    "# Генерация фиктивных данных (замените на ваш DataFrame df)\n",
    "num_samples = 1000\n",
    "num_features = 10\n",
    "num_classes = 3\n",
    "\n",
    "np.random.seed(42)\n",
    "features = df.drop(['target', 'open', 'high', 'low'], axis=1).values \n",
    "targets = df.target.values\n",
    "\n",
    "# Разделение на train и val\n",
    "x_train, x_val, y_train, y_val = train_test_split(features, targets, test_size=0.2, shuffle=False)\n",
    "\n",
    "# Преобразование в тензоры\n",
    "x_train = torch.tensor(x_train, dtype=torch.float32)\n",
    "y_train = torch.tensor(y_train, dtype=torch.long)\n",
    "x_val = torch.tensor(x_val, dtype=torch.float32)\n",
    "y_val = torch.tensor(y_val, dtype=torch.long)\n",
    "\n",
    "# Создание Dataset и DataLoader\n",
    "train_dataset = TensorDataset(x_train.unsqueeze(1), y_train)  # Добавляем временную размерность\n",
    "val_dataset = TensorDataset(x_val.unsqueeze(1), y_val)\n",
    "\n",
    "train_loader = DataLoader(train_dataset, batch_size=16, shuffle=False)\n",
    "val_loader = DataLoader(val_dataset, batch_size=16, shuffle=False)\n",
    "\n",
    "# === Инициализация модели ===\n",
    "input_size = x_train.shape[1]  # Количество признаков\n",
    "hidden_size = 64\n",
    "num_layers = 2\n",
    "num_classes = 3\n",
    "class_weights = np.bincount(y_train.numpy()) / len(y_train)\n",
    "\n",
    "model = LSTMModel(input_size, hidden_size, num_layers, num_classes)\n",
    "criterion = WeightedCrossEntropyLoss(class_weights)\n",
    "optimizer = torch.optim.AdamW(\n",
    "    model.parameters(),\n",
    "    lr=1e-3,\n",
    "    weight_decay=1e-3,\n",
    "    amsgrad=True,\n",
    ")\n",
    "device = torch.device(\"cuda\" if torch.cuda.is_available() else \"cpu\")\n",
    "\n",
    "# === Обучение модели ===\n",
    "num_epochs = 20\n",
    "trained_model = train_model(model, train_loader, val_loader, criterion, optimizer, num_epochs, device)\n"
   ]
  },
  {
   "cell_type": "markdown",
   "metadata": {},
   "source": [
    "---"
   ]
  },
  {
   "cell_type": "code",
   "execution_count": 79,
   "metadata": {},
   "outputs": [
    {
     "name": "stdout",
     "output_type": "stream",
     "text": [
      "Epoch 1/100\n",
      "Train - Loss: 0.7404, Accuracy: 0.7556, F1: 0.2902\n",
      "Val - Loss: 0.8516, Accuracy: 0.7487, F1: 0.2854\n",
      "Epoch 2/100\n",
      "Train - Loss: 0.7207, Accuracy: 0.7572, F1: 0.2889\n",
      "Val - Loss: 0.8796, Accuracy: 0.7006, F1: 0.3359\n",
      "Epoch 3/100\n",
      "Train - Loss: 0.7106, Accuracy: 0.7568, F1: 0.2918\n",
      "Val - Loss: 0.9245, Accuracy: 0.7054, F1: 0.3350\n",
      "Epoch 4/100\n",
      "Train - Loss: 0.7027, Accuracy: 0.7566, F1: 0.2965\n",
      "Val - Loss: 0.9762, Accuracy: 0.7282, F1: 0.3379\n",
      "Epoch 5/100\n",
      "Train - Loss: 0.6983, Accuracy: 0.7572, F1: 0.3018\n",
      "Val - Loss: 1.0367, Accuracy: 0.7261, F1: 0.3358\n",
      "Epoch 6/100\n",
      "Train - Loss: 0.6936, Accuracy: 0.7572, F1: 0.3057\n",
      "Val - Loss: 0.9514, Accuracy: 0.7395, F1: 0.3303\n",
      "Epoch 7/100\n",
      "Train - Loss: 0.6873, Accuracy: 0.7584, F1: 0.3212\n",
      "Val - Loss: 1.1080, Accuracy: 0.7218, F1: 0.3429\n",
      "Epoch 8/100\n",
      "Train - Loss: 0.6860, Accuracy: 0.7581, F1: 0.3266\n",
      "Val - Loss: 1.1035, Accuracy: 0.7300, F1: 0.3405\n",
      "Epoch 9/100\n",
      "Train - Loss: 0.6809, Accuracy: 0.7592, F1: 0.3383\n",
      "Val - Loss: 1.1337, Accuracy: 0.7196, F1: 0.3468\n",
      "Epoch 10/100\n",
      "Train - Loss: 0.6804, Accuracy: 0.7580, F1: 0.3326\n",
      "Val - Loss: 1.0767, Accuracy: 0.7308, F1: 0.3402\n",
      "Epoch 11/100\n",
      "Train - Loss: 0.6775, Accuracy: 0.7582, F1: 0.3377\n",
      "Val - Loss: 1.0834, Accuracy: 0.7353, F1: 0.3601\n",
      "Epoch 12/100\n",
      "Train - Loss: 0.6709, Accuracy: 0.7595, F1: 0.3515\n",
      "Val - Loss: 1.0818, Accuracy: 0.7187, F1: 0.3730\n",
      "Epoch 13/100\n",
      "Train - Loss: 0.6693, Accuracy: 0.7602, F1: 0.3568\n",
      "Val - Loss: 1.0040, Accuracy: 0.7346, F1: 0.3555\n",
      "Epoch 14/100\n",
      "Train - Loss: 0.6702, Accuracy: 0.7600, F1: 0.3569\n",
      "Val - Loss: 1.1113, Accuracy: 0.7162, F1: 0.3816\n",
      "Epoch 15/100\n",
      "Train - Loss: 0.6663, Accuracy: 0.7603, F1: 0.3583\n",
      "Val - Loss: 1.1365, Accuracy: 0.7167, F1: 0.3757\n",
      "Epoch 16/100\n",
      "Train - Loss: 0.6664, Accuracy: 0.7598, F1: 0.3586\n",
      "Val - Loss: 1.0401, Accuracy: 0.7177, F1: 0.3823\n",
      "Epoch 17/100\n",
      "Train - Loss: 0.6627, Accuracy: 0.7620, F1: 0.3674\n",
      "Val - Loss: 1.0390, Accuracy: 0.7244, F1: 0.3795\n",
      "Epoch 18/100\n",
      "Train - Loss: 0.6629, Accuracy: 0.7617, F1: 0.3714\n",
      "Val - Loss: 1.0525, Accuracy: 0.7298, F1: 0.3630\n"
     ]
    },
    {
     "ename": "KeyboardInterrupt",
     "evalue": "",
     "output_type": "error",
     "traceback": [
      "\u001b[1;31m---------------------------------------------------------------------------\u001b[0m",
      "\u001b[1;31mKeyboardInterrupt\u001b[0m                         Traceback (most recent call last)",
      "Cell \u001b[1;32mIn[79], line 157\u001b[0m\n\u001b[0;32m    155\u001b[0m \u001b[39m# Обучение модели\u001b[39;00m\n\u001b[0;32m    156\u001b[0m device \u001b[39m=\u001b[39m torch\u001b[39m.\u001b[39mdevice(\u001b[39m'\u001b[39m\u001b[39mcuda\u001b[39m\u001b[39m'\u001b[39m \u001b[39mif\u001b[39;00m torch\u001b[39m.\u001b[39mcuda\u001b[39m.\u001b[39mis_available() \u001b[39melse\u001b[39;00m \u001b[39m'\u001b[39m\u001b[39mcpu\u001b[39m\u001b[39m'\u001b[39m)\n\u001b[1;32m--> 157\u001b[0m model \u001b[39m=\u001b[39m train_model(model, train_loader, val_loader, criterion, optimizer, num_epochs, device)\n",
      "Cell \u001b[1;32mIn[79], line 78\u001b[0m, in \u001b[0;36mtrain_model\u001b[1;34m(model, train_loader, val_loader, criterion, optimizer, num_epochs, device, patience)\u001b[0m\n\u001b[0;32m     75\u001b[0m inputs, targets \u001b[39m=\u001b[39m inputs\u001b[39m.\u001b[39mto(device), targets\u001b[39m.\u001b[39mto(device)\n\u001b[0;32m     77\u001b[0m optimizer\u001b[39m.\u001b[39mzero_grad()\n\u001b[1;32m---> 78\u001b[0m outputs \u001b[39m=\u001b[39m model(inputs)\n\u001b[0;32m     79\u001b[0m loss \u001b[39m=\u001b[39m criterion(outputs, targets\u001b[39m.\u001b[39msqueeze())\n\u001b[0;32m     81\u001b[0m loss\u001b[39m.\u001b[39mbackward()\n",
      "File \u001b[1;32mc:\\Users\\79112\\.conda\\envs\\myenv\\Lib\\site-packages\\torch\\nn\\modules\\module.py:1736\u001b[0m, in \u001b[0;36mModule._wrapped_call_impl\u001b[1;34m(self, *args, **kwargs)\u001b[0m\n\u001b[0;32m   1734\u001b[0m     \u001b[39mreturn\u001b[39;00m \u001b[39mself\u001b[39m\u001b[39m.\u001b[39m_compiled_call_impl(\u001b[39m*\u001b[39margs, \u001b[39m*\u001b[39m\u001b[39m*\u001b[39mkwargs)  \u001b[39m# type: ignore[misc]\u001b[39;00m\n\u001b[0;32m   1735\u001b[0m \u001b[39melse\u001b[39;00m:\n\u001b[1;32m-> 1736\u001b[0m     \u001b[39mreturn\u001b[39;00m \u001b[39mself\u001b[39;49m\u001b[39m.\u001b[39;49m_call_impl(\u001b[39m*\u001b[39;49margs, \u001b[39m*\u001b[39;49m\u001b[39m*\u001b[39;49mkwargs)\n",
      "File \u001b[1;32mc:\\Users\\79112\\.conda\\envs\\myenv\\Lib\\site-packages\\torch\\nn\\modules\\module.py:1747\u001b[0m, in \u001b[0;36mModule._call_impl\u001b[1;34m(self, *args, **kwargs)\u001b[0m\n\u001b[0;32m   1742\u001b[0m \u001b[39m# If we don't have any hooks, we want to skip the rest of the logic in\u001b[39;00m\n\u001b[0;32m   1743\u001b[0m \u001b[39m# this function, and just call forward.\u001b[39;00m\n\u001b[0;32m   1744\u001b[0m \u001b[39mif\u001b[39;00m \u001b[39mnot\u001b[39;00m (\u001b[39mself\u001b[39m\u001b[39m.\u001b[39m_backward_hooks \u001b[39mor\u001b[39;00m \u001b[39mself\u001b[39m\u001b[39m.\u001b[39m_backward_pre_hooks \u001b[39mor\u001b[39;00m \u001b[39mself\u001b[39m\u001b[39m.\u001b[39m_forward_hooks \u001b[39mor\u001b[39;00m \u001b[39mself\u001b[39m\u001b[39m.\u001b[39m_forward_pre_hooks\n\u001b[0;32m   1745\u001b[0m         \u001b[39mor\u001b[39;00m _global_backward_pre_hooks \u001b[39mor\u001b[39;00m _global_backward_hooks\n\u001b[0;32m   1746\u001b[0m         \u001b[39mor\u001b[39;00m _global_forward_hooks \u001b[39mor\u001b[39;00m _global_forward_pre_hooks):\n\u001b[1;32m-> 1747\u001b[0m     \u001b[39mreturn\u001b[39;00m forward_call(\u001b[39m*\u001b[39;49margs, \u001b[39m*\u001b[39;49m\u001b[39m*\u001b[39;49mkwargs)\n\u001b[0;32m   1749\u001b[0m result \u001b[39m=\u001b[39m \u001b[39mNone\u001b[39;00m\n\u001b[0;32m   1750\u001b[0m called_always_called_hooks \u001b[39m=\u001b[39m \u001b[39mset\u001b[39m()\n",
      "Cell \u001b[1;32mIn[79], line 45\u001b[0m, in \u001b[0;36mLSTMModel.forward\u001b[1;34m(self, x)\u001b[0m\n\u001b[0;32m     42\u001b[0m c0 \u001b[39m=\u001b[39m torch\u001b[39m.\u001b[39mzeros(\u001b[39mself\u001b[39m\u001b[39m.\u001b[39mnum_layers, x\u001b[39m.\u001b[39msize(\u001b[39m0\u001b[39m), \u001b[39mself\u001b[39m\u001b[39m.\u001b[39mhidden_size)\u001b[39m.\u001b[39mto(x\u001b[39m.\u001b[39mdevice)\n\u001b[0;32m     44\u001b[0m \u001b[39m# Forward propagate LSTM\u001b[39;00m\n\u001b[1;32m---> 45\u001b[0m lstm_out, _ \u001b[39m=\u001b[39m \u001b[39mself\u001b[39;49m\u001b[39m.\u001b[39;49mlstm(x, (h0, c0))\n\u001b[0;32m     47\u001b[0m \u001b[39m# Get last time step output\u001b[39;00m\n\u001b[0;32m     48\u001b[0m last_hidden \u001b[39m=\u001b[39m lstm_out[:, \u001b[39m-\u001b[39m\u001b[39m1\u001b[39m, :]\n",
      "File \u001b[1;32mc:\\Users\\79112\\.conda\\envs\\myenv\\Lib\\site-packages\\torch\\nn\\modules\\module.py:1736\u001b[0m, in \u001b[0;36mModule._wrapped_call_impl\u001b[1;34m(self, *args, **kwargs)\u001b[0m\n\u001b[0;32m   1734\u001b[0m     \u001b[39mreturn\u001b[39;00m \u001b[39mself\u001b[39m\u001b[39m.\u001b[39m_compiled_call_impl(\u001b[39m*\u001b[39margs, \u001b[39m*\u001b[39m\u001b[39m*\u001b[39mkwargs)  \u001b[39m# type: ignore[misc]\u001b[39;00m\n\u001b[0;32m   1735\u001b[0m \u001b[39melse\u001b[39;00m:\n\u001b[1;32m-> 1736\u001b[0m     \u001b[39mreturn\u001b[39;00m \u001b[39mself\u001b[39;49m\u001b[39m.\u001b[39;49m_call_impl(\u001b[39m*\u001b[39;49margs, \u001b[39m*\u001b[39;49m\u001b[39m*\u001b[39;49mkwargs)\n",
      "File \u001b[1;32mc:\\Users\\79112\\.conda\\envs\\myenv\\Lib\\site-packages\\torch\\nn\\modules\\module.py:1747\u001b[0m, in \u001b[0;36mModule._call_impl\u001b[1;34m(self, *args, **kwargs)\u001b[0m\n\u001b[0;32m   1742\u001b[0m \u001b[39m# If we don't have any hooks, we want to skip the rest of the logic in\u001b[39;00m\n\u001b[0;32m   1743\u001b[0m \u001b[39m# this function, and just call forward.\u001b[39;00m\n\u001b[0;32m   1744\u001b[0m \u001b[39mif\u001b[39;00m \u001b[39mnot\u001b[39;00m (\u001b[39mself\u001b[39m\u001b[39m.\u001b[39m_backward_hooks \u001b[39mor\u001b[39;00m \u001b[39mself\u001b[39m\u001b[39m.\u001b[39m_backward_pre_hooks \u001b[39mor\u001b[39;00m \u001b[39mself\u001b[39m\u001b[39m.\u001b[39m_forward_hooks \u001b[39mor\u001b[39;00m \u001b[39mself\u001b[39m\u001b[39m.\u001b[39m_forward_pre_hooks\n\u001b[0;32m   1745\u001b[0m         \u001b[39mor\u001b[39;00m _global_backward_pre_hooks \u001b[39mor\u001b[39;00m _global_backward_hooks\n\u001b[0;32m   1746\u001b[0m         \u001b[39mor\u001b[39;00m _global_forward_hooks \u001b[39mor\u001b[39;00m _global_forward_pre_hooks):\n\u001b[1;32m-> 1747\u001b[0m     \u001b[39mreturn\u001b[39;00m forward_call(\u001b[39m*\u001b[39;49margs, \u001b[39m*\u001b[39;49m\u001b[39m*\u001b[39;49mkwargs)\n\u001b[0;32m   1749\u001b[0m result \u001b[39m=\u001b[39m \u001b[39mNone\u001b[39;00m\n\u001b[0;32m   1750\u001b[0m called_always_called_hooks \u001b[39m=\u001b[39m \u001b[39mset\u001b[39m()\n",
      "File \u001b[1;32mc:\\Users\\79112\\.conda\\envs\\myenv\\Lib\\site-packages\\torch\\nn\\modules\\rnn.py:1123\u001b[0m, in \u001b[0;36mLSTM.forward\u001b[1;34m(self, input, hx)\u001b[0m\n\u001b[0;32m   1120\u001b[0m         hx \u001b[39m=\u001b[39m \u001b[39mself\u001b[39m\u001b[39m.\u001b[39mpermute_hidden(hx, sorted_indices)\n\u001b[0;32m   1122\u001b[0m \u001b[39mif\u001b[39;00m batch_sizes \u001b[39mis\u001b[39;00m \u001b[39mNone\u001b[39;00m:\n\u001b[1;32m-> 1123\u001b[0m     result \u001b[39m=\u001b[39m _VF\u001b[39m.\u001b[39;49mlstm(\n\u001b[0;32m   1124\u001b[0m         \u001b[39minput\u001b[39;49m,\n\u001b[0;32m   1125\u001b[0m         hx,\n\u001b[0;32m   1126\u001b[0m         \u001b[39mself\u001b[39;49m\u001b[39m.\u001b[39;49m_flat_weights,\n\u001b[0;32m   1127\u001b[0m         \u001b[39mself\u001b[39;49m\u001b[39m.\u001b[39;49mbias,\n\u001b[0;32m   1128\u001b[0m         \u001b[39mself\u001b[39;49m\u001b[39m.\u001b[39;49mnum_layers,\n\u001b[0;32m   1129\u001b[0m         \u001b[39mself\u001b[39;49m\u001b[39m.\u001b[39;49mdropout,\n\u001b[0;32m   1130\u001b[0m         \u001b[39mself\u001b[39;49m\u001b[39m.\u001b[39;49mtraining,\n\u001b[0;32m   1131\u001b[0m         \u001b[39mself\u001b[39;49m\u001b[39m.\u001b[39;49mbidirectional,\n\u001b[0;32m   1132\u001b[0m         \u001b[39mself\u001b[39;49m\u001b[39m.\u001b[39;49mbatch_first,\n\u001b[0;32m   1133\u001b[0m     )\n\u001b[0;32m   1134\u001b[0m \u001b[39melse\u001b[39;00m:\n\u001b[0;32m   1135\u001b[0m     result \u001b[39m=\u001b[39m _VF\u001b[39m.\u001b[39mlstm(\n\u001b[0;32m   1136\u001b[0m         \u001b[39minput\u001b[39m,\n\u001b[0;32m   1137\u001b[0m         batch_sizes,\n\u001b[1;32m   (...)\u001b[0m\n\u001b[0;32m   1144\u001b[0m         \u001b[39mself\u001b[39m\u001b[39m.\u001b[39mbidirectional,\n\u001b[0;32m   1145\u001b[0m     )\n",
      "\u001b[1;31mKeyboardInterrupt\u001b[0m: "
     ]
    }
   ],
   "source": [
    "import torch\n",
    "import torch.nn as nn\n",
    "import torch.optim as optim\n",
    "from torch.utils.data import DataLoader, TensorDataset\n",
    "from sklearn.metrics import accuracy_score, f1_score, precision_score, recall_score\n",
    "import numpy as np\n",
    "\n",
    "class WeightedCrossEntropyLoss(nn.Module):\n",
    "    def __init__(self, class_weights):\n",
    "        super(WeightedCrossEntropyLoss, self).__init__()\n",
    "        self.class_weights = torch.tensor(class_weights, dtype=torch.float32)\n",
    "\n",
    "    def forward(self, outputs, targets):\n",
    "        targets = targets.long()\n",
    "        weights = self.class_weights.to(targets.device)\n",
    "        loss = nn.CrossEntropyLoss(weight=weights)(outputs, targets)\n",
    "        return loss\n",
    "\n",
    "class LSTMModel(nn.Module):\n",
    "    def __init__(self, input_size, hidden_size, num_layers, num_classes, dropout=0.2):\n",
    "        super(LSTMModel, self).__init__()\n",
    "        self.hidden_size = hidden_size\n",
    "        self.num_layers = num_layers\n",
    "        \n",
    "        self.lstm = nn.LSTM(\n",
    "            input_size=input_size,\n",
    "            hidden_size=hidden_size,\n",
    "            num_layers=num_layers,\n",
    "            batch_first=True,\n",
    "            dropout=dropout if num_layers > 1 else 0\n",
    "        )\n",
    "        \n",
    "        self.batch_norm = nn.BatchNorm1d(hidden_size)\n",
    "        self.dropout = nn.Dropout(dropout)\n",
    "        self.fc1 = nn.Linear(hidden_size, hidden_size // 2)\n",
    "        self.relu = nn.ReLU()\n",
    "        self.fc2 = nn.Linear(hidden_size // 2, num_classes)\n",
    "\n",
    "    def forward(self, x):\n",
    "        # Initialize hidden state with zeros\n",
    "        h0 = torch.zeros(self.num_layers, x.size(0), self.hidden_size).to(x.device)\n",
    "        c0 = torch.zeros(self.num_layers, x.size(0), self.hidden_size).to(x.device)\n",
    "        \n",
    "        # Forward propagate LSTM\n",
    "        lstm_out, _ = self.lstm(x, (h0, c0))\n",
    "        \n",
    "        # Get last time step output\n",
    "        last_hidden = lstm_out[:, -1, :]\n",
    "        \n",
    "        # Apply batch normalization\n",
    "        normalized = self.batch_norm(last_hidden)\n",
    "        \n",
    "        # First dense layer\n",
    "        out = self.fc1(normalized)\n",
    "        out = self.relu(out)\n",
    "        out = self.dropout(out)\n",
    "        \n",
    "        # Output layer\n",
    "        out = self.fc2(out)\n",
    "        return out\n",
    "\n",
    "def train_model(model, train_loader, val_loader, criterion, optimizer, num_epochs, device, patience=5):\n",
    "    model = model.to(device)\n",
    "    best_val_f1 = 0\n",
    "    patience_counter = 0\n",
    "    \n",
    "    for epoch in range(num_epochs):\n",
    "        # Training phase\n",
    "        model.train()\n",
    "        train_loss = 0.0\n",
    "        train_predictions = []\n",
    "        train_targets = []\n",
    "\n",
    "        for inputs, targets in train_loader:\n",
    "            inputs, targets = inputs.to(device), targets.to(device)\n",
    "            \n",
    "            optimizer.zero_grad()\n",
    "            outputs = model(inputs)\n",
    "            loss = criterion(outputs, targets.squeeze())\n",
    "            \n",
    "            loss.backward()\n",
    "            # Gradient clipping to prevent exploding gradients\n",
    "            torch.nn.utils.clip_grad_norm_(model.parameters(), max_norm=1.0)\n",
    "            optimizer.step()\n",
    "            \n",
    "            train_loss += loss.item()\n",
    "            train_predictions.extend(torch.argmax(outputs, dim=1).cpu().numpy())\n",
    "            train_targets.extend(targets.cpu().numpy())\n",
    "\n",
    "        avg_train_loss = train_loss / len(train_loader)\n",
    "        train_metrics = calculate_metrics(np.array(train_targets), np.array(train_predictions))\n",
    "\n",
    "        # Validation phase\n",
    "        model.eval()\n",
    "        val_loss = 0.0\n",
    "        val_predictions = []\n",
    "        val_targets = []\n",
    "\n",
    "        with torch.no_grad():\n",
    "            for inputs, targets in val_loader:\n",
    "                inputs, targets = inputs.to(device), targets.to(device)\n",
    "                outputs = model(inputs)\n",
    "                loss = criterion(outputs, targets.squeeze())\n",
    "                \n",
    "                val_loss += loss.item()\n",
    "                val_predictions.extend(torch.argmax(outputs, dim=1).cpu().numpy())\n",
    "                val_targets.extend(targets.cpu().numpy())\n",
    "\n",
    "        avg_val_loss = val_loss / len(val_loader)\n",
    "        val_metrics = calculate_metrics(np.array(val_targets), np.array(val_predictions))\n",
    "\n",
    "        # Early stopping check\n",
    "        if val_metrics['f1_macro'] > best_val_f1:\n",
    "            best_val_f1 = val_metrics['f1_macro']\n",
    "            patience_counter = 0\n",
    "        else:\n",
    "            patience_counter += 1\n",
    "\n",
    "        print(f\"Epoch {epoch+1}/{num_epochs}\")\n",
    "        print(f\"Train - Loss: {avg_train_loss:.4f}, Accuracy: {train_metrics['accuracy']:.4f}, F1: {train_metrics['f1_macro']:.4f}\")\n",
    "        print(f\"Val - Loss: {avg_val_loss:.4f}, Accuracy: {val_metrics['accuracy']:.4f}, F1: {val_metrics['f1_macro']:.4f}\")\n",
    "        \n",
    "        if patience_counter >= patience:\n",
    "            print(\"Early stopping triggered\")\n",
    "            break\n",
    "\n",
    "    return model\n",
    "\n",
    "def calculate_metrics(y_true, y_pred):\n",
    "    return {\n",
    "        'accuracy': accuracy_score(y_true, y_pred),\n",
    "        'f1_macro': f1_score(y_true, y_pred, average='macro', labels=[0, 1, 2], zero_division=0),\n",
    "        'precision': precision_score(y_true, y_pred, average=None, labels=[0, 1, 2], zero_division=0),\n",
    "        'recall': recall_score(y_true, y_pred, average=None, labels=[0, 1, 2], zero_division=0)\n",
    "    }\n",
    "\n",
    "\n",
    "# Гиперпараметры\n",
    "input_size = 10  # Размерность входных данных\n",
    "hidden_size = 128\n",
    "num_layers = 2\n",
    "num_classes = 3\n",
    "learning_rate = 0.0001\n",
    "num_epochs = 100\n",
    "batch_size = 32\n",
    "\n",
    "# Веса классов для несбалансированных данных\n",
    "class_weights = [1.0, 1.0, 1.0]  # Настройте в соответствии с распределением классов\n",
    "\n",
    "# Инициализация модели и оптимизатора\n",
    "model = LSTMModel(input_size, hidden_size, num_layers, num_classes)\n",
    "criterion = WeightedCrossEntropyLoss(class_weights)\n",
    "optimizer = optim.Adam(model.parameters(), lr=learning_rate)\n",
    "\n",
    "# Обучение модели\n",
    "device = torch.device('cuda' if torch.cuda.is_available() else 'cpu')\n",
    "model = train_model(model, train_loader, val_loader, criterion, optimizer, num_epochs, device)\n"
   ]
  },
  {
   "cell_type": "markdown",
   "metadata": {},
   "source": [
    "---"
   ]
  },
  {
   "cell_type": "code",
   "execution_count": 91,
   "metadata": {},
   "outputs": [
    {
     "name": "stdout",
     "output_type": "stream",
     "text": [
      "Epoch 1/100\n",
      "Train - Loss: 1.0848, Accuracy: 0.5025, F1: 0.3472\n",
      "Val   - Loss: 1.0800, Accuracy: 0.5053, F1: 0.3497\n",
      "Epoch 2/100\n",
      "Train - Loss: 1.0764, Accuracy: 0.5263, F1: 0.3655\n",
      "Val   - Loss: 1.0782, Accuracy: 0.5214, F1: 0.3145\n",
      "Epoch 3/100\n",
      "Train - Loss: 1.0722, Accuracy: 0.5464, F1: 0.3698\n",
      "Val   - Loss: 1.0784, Accuracy: 0.5091, F1: 0.3357\n",
      "Epoch 4/100\n",
      "Train - Loss: 1.0704, Accuracy: 0.5369, F1: 0.3731\n",
      "Val   - Loss: 1.0742, Accuracy: 0.5018, F1: 0.3351\n",
      "Epoch 5/100\n",
      "Train - Loss: 1.0697, Accuracy: 0.5379, F1: 0.3760\n",
      "Val   - Loss: 1.0769, Accuracy: 0.4465, F1: 0.3201\n",
      "Epoch 6/100\n",
      "Train - Loss: 1.0670, Accuracy: 0.5405, F1: 0.3798\n",
      "Val   - Loss: 1.0781, Accuracy: 0.5424, F1: 0.3383\n",
      "Epoch 7/100\n",
      "Train - Loss: 1.0663, Accuracy: 0.5489, F1: 0.3858\n",
      "Val   - Loss: 1.0883, Accuracy: 0.4064, F1: 0.2876\n",
      "Epoch 8/100\n",
      "Train - Loss: 1.0656, Accuracy: 0.5456, F1: 0.3837\n",
      "Val   - Loss: 1.0783, Accuracy: 0.4929, F1: 0.3366\n",
      "Epoch 9/100\n",
      "Train - Loss: 1.0647, Accuracy: 0.5463, F1: 0.3798\n",
      "Val   - Loss: 1.0755, Accuracy: 0.4562, F1: 0.3274\n",
      "Epoch 10/100\n",
      "Train - Loss: 1.0640, Accuracy: 0.5540, F1: 0.3892\n",
      "Val   - Loss: 1.0842, Accuracy: 0.4304, F1: 0.3039\n",
      "Epoch 11/100\n",
      "Train - Loss: 1.0616, Accuracy: 0.5478, F1: 0.3891\n",
      "Val   - Loss: 1.0942, Accuracy: 0.3991, F1: 0.2860\n",
      "Ранняя остановка активирована\n"
     ]
    },
    {
     "name": "stderr",
     "output_type": "stream",
     "text": [
      "C:\\Users\\79112\\AppData\\Local\\Temp\\ipykernel_20068\\3906777930.py:124: FutureWarning:\n",
      "\n",
      "You are using `torch.load` with `weights_only=False` (the current default value), which uses the default pickle module implicitly. It is possible to construct malicious pickle data which will execute arbitrary code during unpickling (See https://github.com/pytorch/pytorch/blob/main/SECURITY.md#untrusted-models for more details). In a future release, the default value for `weights_only` will be flipped to `True`. This limits the functions that could be executed during unpickling. Arbitrary objects will no longer be allowed to be loaded via this mode unless they are explicitly allowlisted by the user via `torch.serialization.add_safe_globals`. We recommend you start setting `weights_only=True` for any use case where you don't have full control of the loaded file. Please open an issue on GitHub for any issues related to this experimental feature.\n",
      "\n"
     ]
    }
   ],
   "source": [
    "import torch\n",
    "import torch.nn as nn\n",
    "import torch.optim as optim\n",
    "from torch.utils.data import DataLoader, TensorDataset\n",
    "from sklearn.metrics import accuracy_score, f1_score, precision_score, recall_score\n",
    "from sklearn.preprocessing import StandardScaler\n",
    "import numpy as np\n",
    "import os\n",
    "\n",
    "class WeightedCrossEntropyLoss(nn.Module):\n",
    "    def __init__(self, class_weights):\n",
    "        super(WeightedCrossEntropyLoss, self).__init__()\n",
    "        self.class_weights = torch.tensor(class_weights, dtype=torch.float32)\n",
    "\n",
    "    def forward(self, outputs, targets):\n",
    "        targets = targets.long()\n",
    "        weights = self.class_weights.to(targets.device)\n",
    "        loss = nn.CrossEntropyLoss(weight=weights)(outputs, targets)\n",
    "        return loss\n",
    "\n",
    "class LSTMModel(nn.Module):\n",
    "    def __init__(self, input_size, hidden_size, num_layers, num_classes, dropout=0.2):\n",
    "        super(LSTMModel, self).__init__()\n",
    "        self.hidden_size = hidden_size\n",
    "        self.num_layers = num_layers\n",
    "        \n",
    "        self.lstm = nn.LSTM(\n",
    "            input_size=input_size,\n",
    "            hidden_size=hidden_size,\n",
    "            num_layers=num_layers,\n",
    "            batch_first=True,\n",
    "            dropout=dropout if num_layers > 1 else 0\n",
    "        )\n",
    "        \n",
    "        self.fc = nn.Linear(hidden_size, num_classes)\n",
    "        self.dropout = nn.Dropout(dropout)\n",
    "\n",
    "    def forward(self, x):\n",
    "        # Инициализация скрытого и клеточного состояний\n",
    "        h0 = torch.zeros(self.num_layers, x.size(0), self.hidden_size).to(x.device)\n",
    "        c0 = torch.zeros(self.num_layers, x.size(0), self.hidden_size).to(x.device)\n",
    "        \n",
    "        # Прямой проход через LSTM\n",
    "        lstm_out, _ = self.lstm(x, (h0, c0))\n",
    "        \n",
    "        # Получение последнего временного шага\n",
    "        last_hidden = lstm_out[:, -1, :]\n",
    "        \n",
    "        # Пропуск через Dropout\n",
    "        out = self.dropout(last_hidden)\n",
    "        \n",
    "        # Выходной слой\n",
    "        out = self.fc(out)\n",
    "        return out\n",
    "\n",
    "def train_model(model, train_loader, val_loader, criterion, optimizer, num_epochs, device, patience=10):\n",
    "    model = model.to(device)\n",
    "    best_val_f1 = 0\n",
    "    patience_counter = 0\n",
    "    \n",
    "    for epoch in range(num_epochs):\n",
    "        # Фаза обучения\n",
    "        model.train()\n",
    "        train_loss = 0.0\n",
    "        train_predictions = []\n",
    "        train_targets = []\n",
    "\n",
    "        for inputs, targets in train_loader:\n",
    "            inputs, targets = inputs.to(device), targets.to(device)\n",
    "            \n",
    "            optimizer.zero_grad()\n",
    "            outputs = model(inputs)\n",
    "            loss = criterion(outputs, targets.squeeze())\n",
    "            \n",
    "            loss.backward()\n",
    "            # Ограничение градиентов для предотвращения взрыва градиентов\n",
    "            torch.nn.utils.clip_grad_norm_(model.parameters(), max_norm=1.0)\n",
    "            optimizer.step()\n",
    "            \n",
    "            train_loss += loss.item()\n",
    "            train_predictions.extend(torch.argmax(outputs, dim=1).cpu().numpy())\n",
    "            train_targets.extend(targets.cpu().numpy())\n",
    "\n",
    "        avg_train_loss = train_loss / len(train_loader)\n",
    "        train_metrics = calculate_metrics(np.array(train_targets), np.array(train_predictions))\n",
    "\n",
    "        # Фаза валидации\n",
    "        model.eval()\n",
    "        val_loss = 0.0\n",
    "        val_predictions = []\n",
    "        val_targets = []\n",
    "\n",
    "        with torch.no_grad():\n",
    "            for inputs, targets in val_loader:\n",
    "                inputs, targets = inputs.to(device), targets.to(device)\n",
    "                outputs = model(inputs)\n",
    "                loss = criterion(outputs, targets.squeeze())\n",
    "                \n",
    "                val_loss += loss.item()\n",
    "                val_predictions.extend(torch.argmax(outputs, dim=1).cpu().numpy())\n",
    "                val_targets.extend(targets.cpu().numpy())\n",
    "\n",
    "        avg_val_loss = val_loss / len(val_loader)\n",
    "        val_metrics = calculate_metrics(np.array(val_targets), np.array(val_predictions))\n",
    "\n",
    "        # Раннее прекращение обучения\n",
    "        if val_metrics['f1_macro'] > best_val_f1:\n",
    "            best_val_f1 = val_metrics['f1_macro']\n",
    "            patience_counter = 0\n",
    "            # Сохранение лучшей модели\n",
    "            torch.save(model.state_dict(), 'best_model.pth')\n",
    "        else:\n",
    "            patience_counter += 1\n",
    "\n",
    "        print(f\"Epoch {epoch+1}/{num_epochs}\")\n",
    "        print(f\"Train - Loss: {avg_train_loss:.4f}, Accuracy: {train_metrics['accuracy']:.4f}, F1: {train_metrics['f1_macro']:.4f}\")\n",
    "        print(f\"Val   - Loss: {avg_val_loss:.4f}, Accuracy: {val_metrics['accuracy']:.4f}, F1: {val_metrics['f1_macro']:.4f}\")\n",
    "        \n",
    "        if patience_counter >= patience:\n",
    "            print(\"Ранняя остановка активирована\")\n",
    "            break\n",
    "\n",
    "    # Загрузка лучшей модели\n",
    "    model.load_state_dict(torch.load('best_model.pth'))\n",
    "    return model\n",
    "\n",
    "def calculate_metrics(y_true, y_pred):\n",
    "    return {\n",
    "        'accuracy': accuracy_score(y_true, y_pred),\n",
    "        'f1_macro': f1_score(y_true, y_pred, average='macro', labels=[0, 1, 2], zero_division=0),\n",
    "        'precision': precision_score(y_true, y_pred, average=None, labels=[0, 1, 2], zero_division=0),\n",
    "        'recall': recall_score(y_true, y_pred, average=None, labels=[0, 1, 2], zero_division=0)\n",
    "    }\n",
    "\n",
    "def prepare_data(file_paths):\n",
    "    import pandas as pd\n",
    "    from sklearn.preprocessing import StandardScaler, LabelEncoder\n",
    "\n",
    "    features = df.drop(['target', 'open', 'high', 'low'], axis=1).values \n",
    "    targets = df.target.values\n",
    "    \n",
    "    # Нормализация\n",
    "    scaler = StandardScaler()\n",
    "    features = scaler.fit_transform(features)\n",
    "    \n",
    "    all_data = [features, targets]\n",
    "    \n",
    "    # Объединение всех данных\n",
    "    X = all_data[0]\n",
    "    y = all_data[1]\n",
    "    \n",
    "    return X, y\n",
    "\n",
    "def create_data_loaders(X, y, sequence_length=10, batch_size=32, split_ratio=0.8):\n",
    "    # Создание последовательностей для LSTM\n",
    "    sequences = []\n",
    "    targets = []\n",
    "    for i in range(len(X) - sequence_length):\n",
    "        sequences.append(X[i:i+sequence_length])\n",
    "        targets.append(y[i+sequence_length])\n",
    "    \n",
    "    sequences = np.array(sequences)\n",
    "    targets = np.array(targets)\n",
    "    \n",
    "    # Разделение на обучающую и валидационную выборки\n",
    "    split = int(len(sequences) * split_ratio)\n",
    "    X_train, X_val = sequences[:split], sequences[split:]\n",
    "    y_train, y_val = targets[:split], targets[split:]\n",
    "    \n",
    "    # Создание TensorDataset\n",
    "    train_dataset = TensorDataset(torch.tensor(X_train, dtype=torch.float32), torch.tensor(y_train, dtype=torch.long))\n",
    "    val_dataset = TensorDataset(torch.tensor(X_val, dtype=torch.float32), torch.tensor(y_val, dtype=torch.long))\n",
    "    \n",
    "    # Создание DataLoader\n",
    "    train_loader = DataLoader(train_dataset, batch_size=batch_size, shuffle=False)\n",
    "    val_loader = DataLoader(val_dataset, batch_size=batch_size, shuffle=False)\n",
    "    \n",
    "    return train_loader, val_loader\n",
    "\n",
    "# Основной блок кода\n",
    "if __name__ == \"__main__\":\n",
    "    # Пути к файлам с данными\n",
    "    file_paths = sv_files = [f for f in os.listdir(\n",
    "        \"./data/\") if os.path.isfile(os.path.join(\"./data/\", f))]\n",
    "    \n",
    "    # Подготовка данных\n",
    "    X, y = prepare_data(file_paths)\n",
    "    \n",
    "    # Создание DataLoader\n",
    "    train_loader, val_loader = create_data_loaders(X, y, sequence_length=10, batch_size=32, split_ratio=0.8)\n",
    "    \n",
    "    # Гиперпараметры\n",
    "    input_size = X.shape[1]  # Количество признаков\n",
    "    hidden_size = 64\n",
    "    num_layers = 2\n",
    "    num_classes = 3\n",
    "    learning_rate = 0.0005\n",
    "    num_epochs = 100\n",
    "    batch_size = 32\n",
    "    \n",
    "    # Рассчёт весов классов для обработки дисбаланса\n",
    "    class_counts = np.bincount(y)\n",
    "    class_weights = 1. / (class_counts + 1e-6)  # Добавление малой величины для избежания деления на ноль\n",
    "    class_weights = class_weights / class_weights.sum() * len(class_weights)  # Нормализация\n",
    "    \n",
    "    # Инициализация модели и оптимизатора\n",
    "    model = LSTMModel(input_size, hidden_size, num_layers, num_classes, dropout=0.3)\n",
    "    criterion = WeightedCrossEntropyLoss(class_weights)\n",
    "    optimizer = optim.Adam(model.parameters(), lr=learning_rate)\n",
    "    \n",
    "    # Обучение модели\n",
    "    device = torch.device('cuda' if torch.cuda.is_available() else 'cpu')\n",
    "    model = train_model(model, train_loader, val_loader, criterion, optimizer, num_epochs, device, patience=10)\n",
    "    \n",
    "    # Сохранение финальной модели\n",
    "    torch.save(model.state_dict(), 'final_model.pth')\n"
   ]
  },
  {
   "cell_type": "markdown",
   "metadata": {},
   "source": [
    "------------------------"
   ]
  },
  {
   "cell_type": "code",
   "execution_count": null,
   "metadata": {},
   "outputs": [
    {
     "name": "stdout",
     "output_type": "stream",
     "text": [
      "Epoch 1/10\n",
      "\u001b[1m11/11\u001b[0m \u001b[32m━━━━━━━━━━━━━━━━━━━━\u001b[0m\u001b[37m\u001b[0m \u001b[1m0s\u001b[0m 17ms/step - direction_accuracy: 0.3459 - direction_loss: 0.0056 - high_loss: 0.5104 - high_mae: 0.5105 - loss: 0.1604 - low_loss: 0.5323 - low_mae: 0.5325  "
     ]
    },
    {
     "ename": "ValueError",
     "evalue": "Data cardinality is ambiguous. Make sure all arrays contain the same number of samples.'x' sizes: 145\n'y' sizes: 145, 145, 291\n",
     "output_type": "error",
     "traceback": [
      "\u001b[1;31m---------------------------------------------------------------------------\u001b[0m",
      "\u001b[1;31mValueError\u001b[0m                                Traceback (most recent call last)",
      "Cell \u001b[1;32mIn[291], line 146\u001b[0m\n\u001b[0;32m    139\u001b[0m val_targets \u001b[39m=\u001b[39m {\u001b[39m\"\u001b[39m\u001b[39mdirection\u001b[39m\u001b[39m\"\u001b[39m: y_dir_val, \u001b[39m\"\u001b[39m\u001b[39mhigh\u001b[39m\u001b[39m\"\u001b[39m: y_high_val, \u001b[39m\"\u001b[39m\u001b[39mlow\u001b[39m\u001b[39m\"\u001b[39m: y_low_val}\n\u001b[0;32m    141\u001b[0m callbacks \u001b[39m=\u001b[39m [\n\u001b[0;32m    142\u001b[0m     ReduceLROnPlateau(monitor\u001b[39m=\u001b[39m\u001b[39m\"\u001b[39m\u001b[39mval_loss\u001b[39m\u001b[39m\"\u001b[39m, factor\u001b[39m=\u001b[39m\u001b[39m0.5\u001b[39m, patience\u001b[39m=\u001b[39m\u001b[39m5\u001b[39m, verbose\u001b[39m=\u001b[39m\u001b[39m1\u001b[39m),\n\u001b[0;32m    143\u001b[0m     EarlyStopping(monitor\u001b[39m=\u001b[39m\u001b[39m\"\u001b[39m\u001b[39mval_direction_accuracy\u001b[39m\u001b[39m\"\u001b[39m, patience\u001b[39m=\u001b[39m\u001b[39m10\u001b[39m, verbose\u001b[39m=\u001b[39m\u001b[39m1\u001b[39m, restore_best_weights\u001b[39m=\u001b[39m\u001b[39mTrue\u001b[39;00m)\n\u001b[0;32m    144\u001b[0m ]\n\u001b[1;32m--> 146\u001b[0m history_stage1 \u001b[39m=\u001b[39m model\u001b[39m.\u001b[39;49mfit(\n\u001b[0;32m    147\u001b[0m     X_train,\n\u001b[0;32m    148\u001b[0m     train_targets,\n\u001b[0;32m    149\u001b[0m     epochs\u001b[39m=\u001b[39;49m\u001b[39m10\u001b[39;49m,\n\u001b[0;32m    150\u001b[0m     batch_size\u001b[39m=\u001b[39;49m\u001b[39m64\u001b[39;49m,\n\u001b[0;32m    151\u001b[0m     validation_data\u001b[39m=\u001b[39;49m(X_val, val_targets),\n\u001b[0;32m    152\u001b[0m     callbacks\u001b[39m=\u001b[39;49mcallbacks,\n\u001b[0;32m    153\u001b[0m     verbose\u001b[39m=\u001b[39;49m\u001b[39m1\u001b[39;49m\n\u001b[0;32m    154\u001b[0m )\n\u001b[0;32m    156\u001b[0m \u001b[39m# -------------------------------------------------------------------------\u001b[39;00m\n\u001b[0;32m    157\u001b[0m \u001b[39m# 4. Оценка модели\u001b[39;00m\n\u001b[0;32m    158\u001b[0m \u001b[39m# -------------------------------------------------------------------------\u001b[39;00m\n\u001b[0;32m    160\u001b[0m \u001b[39mprint\u001b[39m(\u001b[39m\"\u001b[39m\u001b[39m\\n\u001b[39;00m\u001b[39mModel Evaluation:\u001b[39m\u001b[39m\"\u001b[39m)\n",
      "File \u001b[1;32mc:\\Users\\79112\\.conda\\envs\\myenv\\Lib\\site-packages\\keras\\src\\utils\\traceback_utils.py:122\u001b[0m, in \u001b[0;36mfilter_traceback.<locals>.error_handler\u001b[1;34m(*args, **kwargs)\u001b[0m\n\u001b[0;32m    119\u001b[0m     filtered_tb \u001b[39m=\u001b[39m _process_traceback_frames(e\u001b[39m.\u001b[39m__traceback__)\n\u001b[0;32m    120\u001b[0m     \u001b[39m# To get the full stack trace, call:\u001b[39;00m\n\u001b[0;32m    121\u001b[0m     \u001b[39m# `keras.config.disable_traceback_filtering()`\u001b[39;00m\n\u001b[1;32m--> 122\u001b[0m     \u001b[39mraise\u001b[39;00m e\u001b[39m.\u001b[39mwith_traceback(filtered_tb) \u001b[39mfrom\u001b[39;00m \u001b[39mNone\u001b[39;00m\n\u001b[0;32m    123\u001b[0m \u001b[39mfinally\u001b[39;00m:\n\u001b[0;32m    124\u001b[0m     \u001b[39mdel\u001b[39;00m filtered_tb\n",
      "File \u001b[1;32mc:\\Users\\79112\\.conda\\envs\\myenv\\Lib\\site-packages\\keras\\src\\trainers\\data_adapters\\data_adapter_utils.py:115\u001b[0m, in \u001b[0;36mcheck_data_cardinality\u001b[1;34m(data)\u001b[0m\n\u001b[0;32m    111\u001b[0m     sizes \u001b[39m=\u001b[39m \u001b[39m\"\u001b[39m\u001b[39m, \u001b[39m\u001b[39m\"\u001b[39m\u001b[39m.\u001b[39mjoin(\n\u001b[0;32m    112\u001b[0m         \u001b[39mstr\u001b[39m(i\u001b[39m.\u001b[39mshape[\u001b[39m0\u001b[39m]) \u001b[39mfor\u001b[39;00m i \u001b[39min\u001b[39;00m tree\u001b[39m.\u001b[39mflatten(single_data)\n\u001b[0;32m    113\u001b[0m     )\n\u001b[0;32m    114\u001b[0m     msg \u001b[39m+\u001b[39m\u001b[39m=\u001b[39m \u001b[39mf\u001b[39m\u001b[39m\"\u001b[39m\u001b[39m'\u001b[39m\u001b[39m{\u001b[39;00mlabel\u001b[39m}\u001b[39;00m\u001b[39m'\u001b[39m\u001b[39m sizes: \u001b[39m\u001b[39m{\u001b[39;00msizes\u001b[39m}\u001b[39;00m\u001b[39m\\n\u001b[39;00m\u001b[39m\"\u001b[39m\n\u001b[1;32m--> 115\u001b[0m \u001b[39mraise\u001b[39;00m \u001b[39mValueError\u001b[39;00m(msg)\n",
      "\u001b[1;31mValueError\u001b[0m: Data cardinality is ambiguous. Make sure all arrays contain the same number of samples.'x' sizes: 145\n'y' sizes: 145, 145, 291\n"
     ]
    }
   ],
   "source": [
    "def scale_data(dummy_data):\n",
    "    \"\"\"Масштабирование данных.\"\"\"\n",
    "    scaler = RobustScaler()\n",
    "    return scaler.fit_transform(dummy_data)\n",
    "\n",
    "class CustomSchedule(tf.keras.optimizers.schedules.LearningRateSchedule):\n",
    "    \"\"\"Динамический график изменения learning rate с warm-up.\"\"\"\n",
    "    def __init__(self, initial_lr=1e-4, warmup_steps=1000):\n",
    "        super().__init__()\n",
    "        self.initial_lr = initial_lr\n",
    "        self.warmup_steps = warmup_steps\n",
    "\n",
    "    def __call__(self, step):\n",
    "        return tf.minimum(self.initial_lr * tf.sqrt(step / self.warmup_steps), self.initial_lr)\n",
    "\n",
    "def weighted_asymmetric_loss(y_true, y_pred):\n",
    "    \"\"\"Асимметричная взвешенная cross-entropy loss.\"\"\"\n",
    "    true_idx = tf.argmax(y_true, axis=1)\n",
    "    weights = tf.where(true_idx == 2, 1.5, tf.where(true_idx == 1, 0.7, 1.0))\n",
    "    ce = tf.keras.losses.categorical_crossentropy(y_true, y_pred)\n",
    "    return tf.reduce_mean(ce * weights)\n",
    "\n",
    "def mare_loss(y_true, y_pred):\n",
    "    \"\"\"Mean Absolute Relative Error (MARE).\"\"\"\n",
    "    return tf.reduce_mean(tf.abs((y_true - y_pred) / (y_true + 1e-8)))\n",
    "\n",
    "class CustomLoss(tf.keras.losses.Loss):\n",
    "    \"\"\"Комбинированная функция потерь.\"\"\"\n",
    "    def __init__(self, alpha=0.3, beta=0.2, name=\"custom_loss\"):\n",
    "        super().__init__(name=name)\n",
    "        self.alpha = alpha\n",
    "        self.beta = beta\n",
    "\n",
    "    def call(self, y_true, y_pred):\n",
    "        direction_true, high_true, low_true = y_true\n",
    "        direction_pred, high_pred, low_pred = y_pred\n",
    "\n",
    "        ce_loss = weighted_asymmetric_loss(direction_true, direction_pred)\n",
    "        hl_loss = 0.5 * (mare_loss(high_true, high_pred) + mare_loss(low_true, low_pred))\n",
    "        return ce_loss + self.alpha * hl_loss\n",
    "\n",
    "def prepare_data(data, window_size=30):\n",
    "    X, y_dir, y_high, y_low = [], [], [], []\n",
    "    for i in range(window_size, len(data)):\n",
    "        X.append(data[i - window_size : i])\n",
    "        y_dir.append(data[i, 0:3])\n",
    "        y_high.append(data[i, 3])  # High\n",
    "        y_low.append(data[i, 4])   # Low\n",
    "\n",
    "    # Возвращаем данные ПОСЛЕ завершения цикла\n",
    "    X = np.array(X)\n",
    "    y_dir = np.array(y_dir)\n",
    "    y_high = np.array(y_high).reshape(-1, 1)\n",
    "    y_low = np.array(y_low).reshape(-1, 1)\n",
    "    \n",
    "    return X, [y_dir, y_high, y_low]\n",
    "\n",
    "def create_lstm_model(input_shape, n_units=64, freeze_encoder=False):\n",
    "    \"\"\"Создание мультивыходной LSTM-модели.\"\"\"\n",
    "    inputs = Input(shape=input_shape, name=\"input_layer\")\n",
    "    x = LSTM(n_units, return_sequences=True, name=\"lstm\")(inputs)\n",
    "\n",
    "    # Направление\n",
    "    direction_branch = LSTM(n_units // 2, return_sequences=False, name=\"lstm2\")(x)\n",
    "    direction_out = Dense(3, activation=\"softmax\", name=\"direction\")(direction_branch)\n",
    "\n",
    "    # Прогноз High/Low\n",
    "    atr = Lambda(lambda x: x[:, :, -1:], name=\"atr_slice\")(inputs)  # Последний столбец — ATR\n",
    "    atr = Reshape((input_shape[0], 1), name=\"atr_reshape\")(atr)     # Приводим к совместимой форме\n",
    "    hl_concat = concatenate([x, atr], axis=-1, name=\"concat_atr\")\n",
    "\n",
    "    hl_hidden = Dense(32, activation=\"selu\", name=\"hl_dense\")(hl_concat)\n",
    "    high_out = Dense(1, activation=\"linear\", name=\"high\")(hl_hidden)\n",
    "    low_out = Dense(1, activation=\"linear\", name=\"low\")(hl_hidden)\n",
    "\n",
    "    model = Model(inputs=inputs, outputs=[direction_out, high_out, low_out])\n",
    "    if freeze_encoder:\n",
    "        for layer in model.layers[:-6]:\n",
    "            layer.trainable = False\n",
    "\n",
    "    return model\n",
    "\n",
    "# -------------------------------------------------------------------------\n",
    "# 2. Подготовка данных\n",
    "# -------------------------------------------------------------------------\n",
    "\n",
    "# Сгенерируем данные для примера\n",
    "np.random.seed(42)  # Для воспроизводимости\n",
    "dummy_data = np.random.rand(1000, 16)  # Пример ваших данных (1000 наблюдений, 16 признаков)\n",
    "\n",
    "# Масштабирование\n",
    "scaled_data = scale_data(dummy_data)\n",
    "\n",
    "# Создание временных окон\n",
    "window_size = 30\n",
    "X_seq, y_seq = prepare_data(scaled_data, window_size=window_size)\n",
    "\n",
    "# Разделение данных\n",
    "total_samples = X_seq.shape[0]\n",
    "train_end = int(0.7 * total_samples)\n",
    "val_end = int(0.85 * total_samples)\n",
    "\n",
    "X_train = X_seq[:train_end]\n",
    "X_val = X_seq[train_end:val_end]\n",
    "X_test = X_seq[val_end:]\n",
    "\n",
    "y_dir_train, y_high_train, y_low_train = y_seq[0][:train_end], y_seq[1][:train_end], y_seq[2][:train_end]\n",
    "y_dir_val,   y_high_val,   y_low_val   = y_seq[0][train_end:val_end], y_seq[1][train_end:val_end], y_seq[2][train_end:]\n",
    "y_dir_test,  y_high_test,  y_low_test  = y_seq[0][val_end:], y_seq[1][val_end:], y_seq[2][val_end:]\n",
    "\n",
    "# -------------------------------------------------------------------------\n",
    "# 3. Создание и обучение модели\n",
    "# -------------------------------------------------------------------------\n",
    "\n",
    "# Создание модели\n",
    "model = create_lstm_model(input_shape=(window_size, 16), n_units=64)\n",
    "\n",
    "# Компиляция модели\n",
    "lr_schedule = CustomSchedule()\n",
    "optimizer = Adam(learning_rate=lr_schedule)\n",
    "\n",
    "model.compile(\n",
    "    optimizer=optimizer,\n",
    "    loss={\n",
    "        \"direction\": weighted_asymmetric_loss,\n",
    "        \"high\": \"mae\",\n",
    "        \"low\": \"mae\"\n",
    "    },\n",
    "    loss_weights=[0.7, 0.15, 0.15],\n",
    "    metrics={\n",
    "        \"direction\": \"accuracy\",\n",
    "        \"high\": \"mae\",\n",
    "        \"low\": \"mae\"\n",
    "    }\n",
    ")\n",
    "\n",
    "# Обучение модели\n",
    "train_targets = {\"direction\": y_dir_train, \"high\": y_high_train, \"low\": y_low_train}\n",
    "val_targets = {\"direction\": y_dir_val, \"high\": y_high_val, \"low\": y_low_val}\n",
    "\n",
    "callbacks = [\n",
    "    ReduceLROnPlateau(monitor=\"val_loss\", factor=0.5, patience=5, verbose=1),\n",
    "    EarlyStopping(monitor=\"val_direction_accuracy\", patience=10, verbose=1, restore_best_weights=True)\n",
    "]\n",
    "\n",
    "history_stage1 = model.fit(\n",
    "    X_train,\n",
    "    train_targets,\n",
    "    epochs=10,\n",
    "    batch_size=64,\n",
    "    validation_data=(X_val, val_targets),\n",
    "    callbacks=callbacks,\n",
    "    verbose=1\n",
    ")\n",
    "\n",
    "# -------------------------------------------------------------------------\n",
    "# 4. Оценка модели\n",
    "# -------------------------------------------------------------------------\n",
    "\n",
    "print(\"\\nModel Evaluation:\")\n",
    "test_results = model.evaluate(X_test, {\"direction\": y_dir_test, \"high\": y_high_test, \"low\": y_low_test})\n",
    "print(\"Test Results:\", test_results)"
   ]
  }
 ],
 "metadata": {
  "kernelspec": {
   "display_name": "myenv",
   "language": "python",
   "name": "python3"
  },
  "language_info": {
   "codemirror_mode": {
    "name": "ipython",
    "version": 3
   },
   "file_extension": ".py",
   "mimetype": "text/x-python",
   "name": "python",
   "nbconvert_exporter": "python",
   "pygments_lexer": "ipython3",
   "version": "3.11.4"
  },
  "orig_nbformat": 4
 },
 "nbformat": 4,
 "nbformat_minor": 2
}
