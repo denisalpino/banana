{
 "cells": [
  {
   "cell_type": "code",
   "execution_count": 20,
   "metadata": {},
   "outputs": [
    {
     "name": "stdout",
     "output_type": "stream",
     "text": [
      "Requirement already satisfied: kaleido in c:\\users\\79112\\.conda\\envs\\myenv\\lib\\site-packages (0.2.1)\n",
      "Requirement already satisfied: tensorflow in c:\\users\\79112\\.conda\\envs\\myenv\\lib\\site-packages (2.18.0)\n",
      "Requirement already satisfied: tensorflow-intel==2.18.0 in c:\\users\\79112\\.conda\\envs\\myenv\\lib\\site-packages (from tensorflow) (2.18.0)\n",
      "Requirement already satisfied: absl-py>=1.0.0 in c:\\users\\79112\\.conda\\envs\\myenv\\lib\\site-packages (from tensorflow-intel==2.18.0->tensorflow) (2.1.0)\n",
      "Requirement already satisfied: astunparse>=1.6.0 in c:\\users\\79112\\.conda\\envs\\myenv\\lib\\site-packages (from tensorflow-intel==2.18.0->tensorflow) (1.6.3)\n",
      "Requirement already satisfied: flatbuffers>=24.3.25 in c:\\users\\79112\\.conda\\envs\\myenv\\lib\\site-packages (from tensorflow-intel==2.18.0->tensorflow) (25.1.24)\n",
      "Requirement already satisfied: gast!=0.5.0,!=0.5.1,!=0.5.2,>=0.2.1 in c:\\users\\79112\\.conda\\envs\\myenv\\lib\\site-packages (from tensorflow-intel==2.18.0->tensorflow) (0.6.0)\n",
      "Requirement already satisfied: google-pasta>=0.1.1 in c:\\users\\79112\\.conda\\envs\\myenv\\lib\\site-packages (from tensorflow-intel==2.18.0->tensorflow) (0.2.0)\n",
      "Requirement already satisfied: libclang>=13.0.0 in c:\\users\\79112\\.conda\\envs\\myenv\\lib\\site-packages (from tensorflow-intel==2.18.0->tensorflow) (18.1.1)\n",
      "Requirement already satisfied: opt-einsum>=2.3.2 in c:\\users\\79112\\.conda\\envs\\myenv\\lib\\site-packages (from tensorflow-intel==2.18.0->tensorflow) (3.4.0)\n",
      "Requirement already satisfied: packaging in c:\\users\\79112\\.conda\\envs\\myenv\\lib\\site-packages (from tensorflow-intel==2.18.0->tensorflow) (23.2)\n",
      "Requirement already satisfied: protobuf!=4.21.0,!=4.21.1,!=4.21.2,!=4.21.3,!=4.21.4,!=4.21.5,<6.0.0dev,>=3.20.3 in c:\\users\\79112\\.conda\\envs\\myenv\\lib\\site-packages (from tensorflow-intel==2.18.0->tensorflow) (5.29.3)\n",
      "Requirement already satisfied: requests<3,>=2.21.0 in c:\\users\\79112\\.conda\\envs\\myenv\\lib\\site-packages (from tensorflow-intel==2.18.0->tensorflow) (2.31.0)\n",
      "Requirement already satisfied: setuptools in c:\\users\\79112\\.conda\\envs\\myenv\\lib\\site-packages (from tensorflow-intel==2.18.0->tensorflow) (68.2.2)\n",
      "Requirement already satisfied: six>=1.12.0 in c:\\users\\79112\\.conda\\envs\\myenv\\lib\\site-packages (from tensorflow-intel==2.18.0->tensorflow) (1.16.0)\n",
      "Requirement already satisfied: termcolor>=1.1.0 in c:\\users\\79112\\.conda\\envs\\myenv\\lib\\site-packages (from tensorflow-intel==2.18.0->tensorflow) (2.5.0)\n",
      "Requirement already satisfied: typing-extensions>=3.6.6 in c:\\users\\79112\\.conda\\envs\\myenv\\lib\\site-packages (from tensorflow-intel==2.18.0->tensorflow) (4.8.0)\n",
      "Requirement already satisfied: wrapt>=1.11.0 in c:\\users\\79112\\.conda\\envs\\myenv\\lib\\site-packages (from tensorflow-intel==2.18.0->tensorflow) (1.17.2)\n",
      "Requirement already satisfied: grpcio<2.0,>=1.24.3 in c:\\users\\79112\\.conda\\envs\\myenv\\lib\\site-packages (from tensorflow-intel==2.18.0->tensorflow) (1.70.0)\n",
      "Requirement already satisfied: tensorboard<2.19,>=2.18 in c:\\users\\79112\\.conda\\envs\\myenv\\lib\\site-packages (from tensorflow-intel==2.18.0->tensorflow) (2.18.0)\n",
      "Requirement already satisfied: keras>=3.5.0 in c:\\users\\79112\\.conda\\envs\\myenv\\lib\\site-packages (from tensorflow-intel==2.18.0->tensorflow) (3.8.0)\n",
      "Requirement already satisfied: numpy<2.1.0,>=1.26.0 in c:\\users\\79112\\.conda\\envs\\myenv\\lib\\site-packages (from tensorflow-intel==2.18.0->tensorflow) (1.26.0)\n",
      "Requirement already satisfied: h5py>=3.11.0 in c:\\users\\79112\\.conda\\envs\\myenv\\lib\\site-packages (from tensorflow-intel==2.18.0->tensorflow) (3.12.1)\n",
      "Requirement already satisfied: ml-dtypes<0.5.0,>=0.4.0 in c:\\users\\79112\\.conda\\envs\\myenv\\lib\\site-packages (from tensorflow-intel==2.18.0->tensorflow) (0.4.1)\n",
      "Requirement already satisfied: tensorflow-io-gcs-filesystem>=0.23.1 in c:\\users\\79112\\.conda\\envs\\myenv\\lib\\site-packages (from tensorflow-intel==2.18.0->tensorflow) (0.31.0)\n",
      "Requirement already satisfied: wheel<1.0,>=0.23.0 in c:\\users\\79112\\.conda\\envs\\myenv\\lib\\site-packages (from astunparse>=1.6.0->tensorflow-intel==2.18.0->tensorflow) (0.41.3)\n",
      "Requirement already satisfied: rich in c:\\users\\79112\\.conda\\envs\\myenv\\lib\\site-packages (from keras>=3.5.0->tensorflow-intel==2.18.0->tensorflow) (13.9.4)\n",
      "Requirement already satisfied: namex in c:\\users\\79112\\.conda\\envs\\myenv\\lib\\site-packages (from keras>=3.5.0->tensorflow-intel==2.18.0->tensorflow) (0.0.8)\n",
      "Requirement already satisfied: optree in c:\\users\\79112\\.conda\\envs\\myenv\\lib\\site-packages (from keras>=3.5.0->tensorflow-intel==2.18.0->tensorflow) (0.14.0)\n",
      "Requirement already satisfied: charset-normalizer<4,>=2 in c:\\users\\79112\\.conda\\envs\\myenv\\lib\\site-packages (from requests<3,>=2.21.0->tensorflow-intel==2.18.0->tensorflow) (3.3.2)\n",
      "Requirement already satisfied: idna<4,>=2.5 in c:\\users\\79112\\.conda\\envs\\myenv\\lib\\site-packages (from requests<3,>=2.21.0->tensorflow-intel==2.18.0->tensorflow) (3.4)\n",
      "Requirement already satisfied: urllib3<3,>=1.21.1 in c:\\users\\79112\\.conda\\envs\\myenv\\lib\\site-packages (from requests<3,>=2.21.0->tensorflow-intel==2.18.0->tensorflow) (2.0.7)\n",
      "Requirement already satisfied: certifi>=2017.4.17 in c:\\users\\79112\\.conda\\envs\\myenv\\lib\\site-packages (from requests<3,>=2.21.0->tensorflow-intel==2.18.0->tensorflow) (2024.12.14)\n",
      "Requirement already satisfied: markdown>=2.6.8 in c:\\users\\79112\\.conda\\envs\\myenv\\lib\\site-packages (from tensorboard<2.19,>=2.18->tensorflow-intel==2.18.0->tensorflow) (3.7)\n",
      "Requirement already satisfied: tensorboard-data-server<0.8.0,>=0.7.0 in c:\\users\\79112\\.conda\\envs\\myenv\\lib\\site-packages (from tensorboard<2.19,>=2.18->tensorflow-intel==2.18.0->tensorflow) (0.7.2)\n",
      "Requirement already satisfied: werkzeug>=1.0.1 in c:\\users\\79112\\.conda\\envs\\myenv\\lib\\site-packages (from tensorboard<2.19,>=2.18->tensorflow-intel==2.18.0->tensorflow) (3.1.3)\n",
      "Requirement already satisfied: MarkupSafe>=2.1.1 in c:\\users\\79112\\.conda\\envs\\myenv\\lib\\site-packages (from werkzeug>=1.0.1->tensorboard<2.19,>=2.18->tensorflow-intel==2.18.0->tensorflow) (2.1.5)\n",
      "Requirement already satisfied: markdown-it-py>=2.2.0 in c:\\users\\79112\\.conda\\envs\\myenv\\lib\\site-packages (from rich->keras>=3.5.0->tensorflow-intel==2.18.0->tensorflow) (3.0.0)\n",
      "Requirement already satisfied: pygments<3.0.0,>=2.13.0 in c:\\users\\79112\\.conda\\envs\\myenv\\lib\\site-packages (from rich->keras>=3.5.0->tensorflow-intel==2.18.0->tensorflow) (2.17.2)\n",
      "Requirement already satisfied: mdurl~=0.1 in c:\\users\\79112\\.conda\\envs\\myenv\\lib\\site-packages (from markdown-it-py>=2.2.0->rich->keras>=3.5.0->tensorflow-intel==2.18.0->tensorflow) (0.1.2)\n",
      "Collecting vectorbt\n",
      "  Downloading vectorbt-0.27.1-py3-none-any.whl.metadata (12 kB)\n",
      "Requirement already satisfied: numpy>=1.16.5 in c:\\users\\79112\\.conda\\envs\\myenv\\lib\\site-packages (from vectorbt) (1.26.0)\n",
      "Requirement already satisfied: pandas in c:\\users\\79112\\.conda\\envs\\myenv\\lib\\site-packages (from vectorbt) (2.1.3)\n",
      "Requirement already satisfied: scipy in c:\\users\\79112\\.conda\\envs\\myenv\\lib\\site-packages (from vectorbt) (1.11.4)\n",
      "Requirement already satisfied: matplotlib in c:\\users\\79112\\.conda\\envs\\myenv\\lib\\site-packages (from vectorbt) (3.8.2)\n",
      "Requirement already satisfied: plotly>=4.12.0 in c:\\users\\79112\\.conda\\envs\\myenv\\lib\\site-packages (from vectorbt) (5.22.0)\n",
      "Requirement already satisfied: ipywidgets>=7.0.0 in c:\\users\\79112\\.conda\\envs\\myenv\\lib\\site-packages (from vectorbt) (7.6.5)\n",
      "Collecting numba>=0.57.0 (from vectorbt)\n",
      "  Downloading numba-0.61.0-cp311-cp311-win_amd64.whl.metadata (2.8 kB)\n",
      "Collecting dill (from vectorbt)\n",
      "  Downloading dill-0.3.9-py3-none-any.whl.metadata (10 kB)\n",
      "Requirement already satisfied: tqdm in c:\\users\\79112\\.conda\\envs\\myenv\\lib\\site-packages (from vectorbt) (4.66.2)\n",
      "Collecting dateparser (from vectorbt)\n",
      "  Downloading dateparser-1.2.0-py2.py3-none-any.whl.metadata (28 kB)\n",
      "Collecting imageio (from vectorbt)\n",
      "  Downloading imageio-2.37.0-py3-none-any.whl.metadata (5.2 kB)\n",
      "Requirement already satisfied: scikit-learn in c:\\users\\79112\\.conda\\envs\\myenv\\lib\\site-packages (from vectorbt) (1.4.1.post1)\n",
      "Collecting schedule (from vectorbt)\n",
      "  Downloading schedule-1.2.2-py3-none-any.whl.metadata (3.8 kB)\n",
      "Requirement already satisfied: requests in c:\\users\\79112\\.conda\\envs\\myenv\\lib\\site-packages (from vectorbt) (2.31.0)\n",
      "Requirement already satisfied: pytz in c:\\users\\79112\\.conda\\envs\\myenv\\lib\\site-packages (from vectorbt) (2023.3.post1)\n",
      "Collecting mypy_extensions (from vectorbt)\n",
      "  Downloading mypy_extensions-1.0.0-py3-none-any.whl.metadata (1.1 kB)\n",
      "Requirement already satisfied: ipykernel>=4.5.1 in c:\\users\\79112\\.conda\\envs\\myenv\\lib\\site-packages (from ipywidgets>=7.0.0->vectorbt) (6.26.0)\n",
      "Requirement already satisfied: ipython-genutils~=0.2.0 in c:\\users\\79112\\.conda\\envs\\myenv\\lib\\site-packages (from ipywidgets>=7.0.0->vectorbt) (0.2.0)\n",
      "Requirement already satisfied: traitlets>=4.3.1 in c:\\users\\79112\\.conda\\envs\\myenv\\lib\\site-packages (from ipywidgets>=7.0.0->vectorbt) (5.14.0)\n",
      "Requirement already satisfied: nbformat>=4.2.0 in c:\\users\\79112\\.conda\\envs\\myenv\\lib\\site-packages (from ipywidgets>=7.0.0->vectorbt) (5.10.3)\n",
      "Requirement already satisfied: widgetsnbextension~=3.5.0 in c:\\users\\79112\\.conda\\envs\\myenv\\lib\\site-packages (from ipywidgets>=7.0.0->vectorbt) (3.5.1)\n",
      "Requirement already satisfied: ipython>=4.0.0 in c:\\users\\79112\\.conda\\envs\\myenv\\lib\\site-packages (from ipywidgets>=7.0.0->vectorbt) (8.12.3)\n",
      "Requirement already satisfied: jupyterlab-widgets>=1.0.0 in c:\\users\\79112\\.conda\\envs\\myenv\\lib\\site-packages (from ipywidgets>=7.0.0->vectorbt) (3.0.10)\n",
      "Collecting llvmlite<0.45,>=0.44.0dev0 (from numba>=0.57.0->vectorbt)\n",
      "  Downloading llvmlite-0.44.0-cp311-cp311-win_amd64.whl.metadata (5.0 kB)\n",
      "Requirement already satisfied: tenacity>=6.2.0 in c:\\users\\79112\\.conda\\envs\\myenv\\lib\\site-packages (from plotly>=4.12.0->vectorbt) (8.2.3)\n",
      "Requirement already satisfied: packaging in c:\\users\\79112\\.conda\\envs\\myenv\\lib\\site-packages (from plotly>=4.12.0->vectorbt) (23.2)\n",
      "Requirement already satisfied: python-dateutil in c:\\users\\79112\\.conda\\envs\\myenv\\lib\\site-packages (from dateparser->vectorbt) (2.8.2)\n",
      "Collecting regex!=2019.02.19,!=2021.8.27 (from dateparser->vectorbt)\n",
      "  Downloading regex-2024.11.6-cp311-cp311-win_amd64.whl.metadata (41 kB)\n",
      "     ---------------------------------------- 0.0/41.5 kB ? eta -:--:--\n",
      "     ---------------------------------------- 41.5/41.5 kB 1.0 MB/s eta 0:00:00\n",
      "Collecting tzlocal (from dateparser->vectorbt)\n",
      "  Downloading tzlocal-5.2-py3-none-any.whl.metadata (7.8 kB)\n",
      "Requirement already satisfied: pillow>=8.3.2 in c:\\users\\79112\\.conda\\envs\\myenv\\lib\\site-packages (from imageio->vectorbt) (9.4.0)\n",
      "Requirement already satisfied: contourpy>=1.0.1 in c:\\users\\79112\\.conda\\envs\\myenv\\lib\\site-packages (from matplotlib->vectorbt) (1.2.0)\n",
      "Requirement already satisfied: cycler>=0.10 in c:\\users\\79112\\.conda\\envs\\myenv\\lib\\site-packages (from matplotlib->vectorbt) (0.12.1)\n",
      "Requirement already satisfied: fonttools>=4.22.0 in c:\\users\\79112\\.conda\\envs\\myenv\\lib\\site-packages (from matplotlib->vectorbt) (4.25.0)\n",
      "Requirement already satisfied: kiwisolver>=1.3.1 in c:\\users\\79112\\.conda\\envs\\myenv\\lib\\site-packages (from matplotlib->vectorbt) (1.4.5)\n",
      "Requirement already satisfied: pyparsing>=2.3.1 in c:\\users\\79112\\.conda\\envs\\myenv\\lib\\site-packages (from matplotlib->vectorbt) (3.1.1)\n",
      "Requirement already satisfied: tzdata>=2022.1 in c:\\users\\79112\\.conda\\envs\\myenv\\lib\\site-packages (from pandas->vectorbt) (2023.3)\n",
      "Requirement already satisfied: charset-normalizer<4,>=2 in c:\\users\\79112\\.conda\\envs\\myenv\\lib\\site-packages (from requests->vectorbt) (3.3.2)\n",
      "Requirement already satisfied: idna<4,>=2.5 in c:\\users\\79112\\.conda\\envs\\myenv\\lib\\site-packages (from requests->vectorbt) (3.4)\n",
      "Requirement already satisfied: urllib3<3,>=1.21.1 in c:\\users\\79112\\.conda\\envs\\myenv\\lib\\site-packages (from requests->vectorbt) (2.0.7)\n",
      "Requirement already satisfied: certifi>=2017.4.17 in c:\\users\\79112\\.conda\\envs\\myenv\\lib\\site-packages (from requests->vectorbt) (2024.12.14)\n",
      "Requirement already satisfied: joblib>=1.2.0 in c:\\users\\79112\\.conda\\envs\\myenv\\lib\\site-packages (from scikit-learn->vectorbt) (1.3.2)\n",
      "Requirement already satisfied: threadpoolctl>=2.0.0 in c:\\users\\79112\\.conda\\envs\\myenv\\lib\\site-packages (from scikit-learn->vectorbt) (3.3.0)\n",
      "Requirement already satisfied: colorama in c:\\users\\79112\\.conda\\envs\\myenv\\lib\\site-packages (from tqdm->vectorbt) (0.4.6)\n",
      "Requirement already satisfied: comm>=0.1.1 in c:\\users\\79112\\.conda\\envs\\myenv\\lib\\site-packages (from ipykernel>=4.5.1->ipywidgets>=7.0.0->vectorbt) (0.1.4)\n",
      "Requirement already satisfied: debugpy>=1.6.5 in c:\\users\\79112\\.conda\\envs\\myenv\\lib\\site-packages (from ipykernel>=4.5.1->ipywidgets>=7.0.0->vectorbt) (1.8.0)\n",
      "Requirement already satisfied: jupyter-client>=6.1.12 in c:\\users\\79112\\.conda\\envs\\myenv\\lib\\site-packages (from ipykernel>=4.5.1->ipywidgets>=7.0.0->vectorbt) (8.6.0)\n",
      "Requirement already satisfied: jupyter-core!=5.0.*,>=4.12 in c:\\users\\79112\\.conda\\envs\\myenv\\lib\\site-packages (from ipykernel>=4.5.1->ipywidgets>=7.0.0->vectorbt) (5.5.0)\n",
      "Requirement already satisfied: matplotlib-inline>=0.1 in c:\\users\\79112\\.conda\\envs\\myenv\\lib\\site-packages (from ipykernel>=4.5.1->ipywidgets>=7.0.0->vectorbt) (0.1.6)\n",
      "Requirement already satisfied: nest-asyncio in c:\\users\\79112\\.conda\\envs\\myenv\\lib\\site-packages (from ipykernel>=4.5.1->ipywidgets>=7.0.0->vectorbt) (1.5.8)\n",
      "Requirement already satisfied: psutil in c:\\users\\79112\\.conda\\envs\\myenv\\lib\\site-packages (from ipykernel>=4.5.1->ipywidgets>=7.0.0->vectorbt) (5.9.5)\n",
      "Requirement already satisfied: pyzmq>=20 in c:\\users\\79112\\.conda\\envs\\myenv\\lib\\site-packages (from ipykernel>=4.5.1->ipywidgets>=7.0.0->vectorbt) (25.1.1)\n",
      "Requirement already satisfied: tornado>=6.1 in c:\\users\\79112\\.conda\\envs\\myenv\\lib\\site-packages (from ipykernel>=4.5.1->ipywidgets>=7.0.0->vectorbt) (6.3.3)\n",
      "Requirement already satisfied: backcall in c:\\users\\79112\\.conda\\envs\\myenv\\lib\\site-packages (from ipython>=4.0.0->ipywidgets>=7.0.0->vectorbt) (0.2.0)\n",
      "Requirement already satisfied: decorator in c:\\users\\79112\\.conda\\envs\\myenv\\lib\\site-packages (from ipython>=4.0.0->ipywidgets>=7.0.0->vectorbt) (5.1.1)\n",
      "Requirement already satisfied: jedi>=0.16 in c:\\users\\79112\\.conda\\envs\\myenv\\lib\\site-packages (from ipython>=4.0.0->ipywidgets>=7.0.0->vectorbt) (0.19.1)\n",
      "Requirement already satisfied: pickleshare in c:\\users\\79112\\.conda\\envs\\myenv\\lib\\site-packages (from ipython>=4.0.0->ipywidgets>=7.0.0->vectorbt) (0.7.5)\n",
      "Requirement already satisfied: prompt-toolkit!=3.0.37,<3.1.0,>=3.0.30 in c:\\users\\79112\\.conda\\envs\\myenv\\lib\\site-packages (from ipython>=4.0.0->ipywidgets>=7.0.0->vectorbt) (3.0.41)\n",
      "Requirement already satisfied: pygments>=2.4.0 in c:\\users\\79112\\.conda\\envs\\myenv\\lib\\site-packages (from ipython>=4.0.0->ipywidgets>=7.0.0->vectorbt) (2.17.2)\n",
      "Requirement already satisfied: stack-data in c:\\users\\79112\\.conda\\envs\\myenv\\lib\\site-packages (from ipython>=4.0.0->ipywidgets>=7.0.0->vectorbt) (0.6.2)\n",
      "Requirement already satisfied: fastjsonschema in c:\\users\\79112\\.conda\\envs\\myenv\\lib\\site-packages (from nbformat>=4.2.0->ipywidgets>=7.0.0->vectorbt) (2.19.1)\n",
      "Requirement already satisfied: jsonschema>=2.6 in c:\\users\\79112\\.conda\\envs\\myenv\\lib\\site-packages (from nbformat>=4.2.0->ipywidgets>=7.0.0->vectorbt) (4.21.1)\n",
      "Requirement already satisfied: six>=1.5 in c:\\users\\79112\\.conda\\envs\\myenv\\lib\\site-packages (from python-dateutil->dateparser->vectorbt) (1.16.0)\n",
      "Requirement already satisfied: notebook>=4.4.1 in c:\\users\\79112\\.conda\\envs\\myenv\\lib\\site-packages (from widgetsnbextension~=3.5.0->ipywidgets>=7.0.0->vectorbt) (7.1.2)\n",
      "Requirement already satisfied: parso<0.9.0,>=0.8.3 in c:\\users\\79112\\.conda\\envs\\myenv\\lib\\site-packages (from jedi>=0.16->ipython>=4.0.0->ipywidgets>=7.0.0->vectorbt) (0.8.3)\n",
      "Requirement already satisfied: attrs>=22.2.0 in c:\\users\\79112\\.conda\\envs\\myenv\\lib\\site-packages (from jsonschema>=2.6->nbformat>=4.2.0->ipywidgets>=7.0.0->vectorbt) (23.2.0)\n",
      "Requirement already satisfied: jsonschema-specifications>=2023.03.6 in c:\\users\\79112\\.conda\\envs\\myenv\\lib\\site-packages (from jsonschema>=2.6->nbformat>=4.2.0->ipywidgets>=7.0.0->vectorbt) (2023.12.1)\n",
      "Requirement already satisfied: referencing>=0.28.4 in c:\\users\\79112\\.conda\\envs\\myenv\\lib\\site-packages (from jsonschema>=2.6->nbformat>=4.2.0->ipywidgets>=7.0.0->vectorbt) (0.34.0)\n",
      "Requirement already satisfied: rpds-py>=0.7.1 in c:\\users\\79112\\.conda\\envs\\myenv\\lib\\site-packages (from jsonschema>=2.6->nbformat>=4.2.0->ipywidgets>=7.0.0->vectorbt) (0.18.0)\n",
      "Requirement already satisfied: platformdirs>=2.5 in c:\\users\\79112\\.conda\\envs\\myenv\\lib\\site-packages (from jupyter-core!=5.0.*,>=4.12->ipykernel>=4.5.1->ipywidgets>=7.0.0->vectorbt) (3.11.0)\n",
      "Requirement already satisfied: pywin32>=300 in c:\\users\\79112\\.conda\\envs\\myenv\\lib\\site-packages (from jupyter-core!=5.0.*,>=4.12->ipykernel>=4.5.1->ipywidgets>=7.0.0->vectorbt) (306)\n",
      "Requirement already satisfied: jupyter-server<3,>=2.4.0 in c:\\users\\79112\\.conda\\envs\\myenv\\lib\\site-packages (from notebook>=4.4.1->widgetsnbextension~=3.5.0->ipywidgets>=7.0.0->vectorbt) (2.13.0)\n",
      "Requirement already satisfied: jupyterlab-server<3,>=2.22.1 in c:\\users\\79112\\.conda\\envs\\myenv\\lib\\site-packages (from notebook>=4.4.1->widgetsnbextension~=3.5.0->ipywidgets>=7.0.0->vectorbt) (2.25.4)\n",
      "Requirement already satisfied: jupyterlab<4.2,>=4.1.1 in c:\\users\\79112\\.conda\\envs\\myenv\\lib\\site-packages (from notebook>=4.4.1->widgetsnbextension~=3.5.0->ipywidgets>=7.0.0->vectorbt) (4.1.5)\n",
      "Requirement already satisfied: notebook-shim<0.3,>=0.2 in c:\\users\\79112\\.conda\\envs\\myenv\\lib\\site-packages (from notebook>=4.4.1->widgetsnbextension~=3.5.0->ipywidgets>=7.0.0->vectorbt) (0.2.4)\n",
      "Requirement already satisfied: wcwidth in c:\\users\\79112\\.conda\\envs\\myenv\\lib\\site-packages (from prompt-toolkit!=3.0.37,<3.1.0,>=3.0.30->ipython>=4.0.0->ipywidgets>=7.0.0->vectorbt) (0.2.12)\n",
      "Requirement already satisfied: executing>=1.2.0 in c:\\users\\79112\\.conda\\envs\\myenv\\lib\\site-packages (from stack-data->ipython>=4.0.0->ipywidgets>=7.0.0->vectorbt) (2.0.1)\n",
      "Requirement already satisfied: asttokens>=2.1.0 in c:\\users\\79112\\.conda\\envs\\myenv\\lib\\site-packages (from stack-data->ipython>=4.0.0->ipywidgets>=7.0.0->vectorbt) (2.4.1)\n",
      "Requirement already satisfied: pure-eval in c:\\users\\79112\\.conda\\envs\\myenv\\lib\\site-packages (from stack-data->ipython>=4.0.0->ipywidgets>=7.0.0->vectorbt) (0.2.2)\n",
      "Requirement already satisfied: anyio>=3.1.0 in c:\\users\\79112\\.conda\\envs\\myenv\\lib\\site-packages (from jupyter-server<3,>=2.4.0->notebook>=4.4.1->widgetsnbextension~=3.5.0->ipywidgets>=7.0.0->vectorbt) (3.7.1)\n",
      "Requirement already satisfied: argon2-cffi in c:\\users\\79112\\.conda\\envs\\myenv\\lib\\site-packages (from jupyter-server<3,>=2.4.0->notebook>=4.4.1->widgetsnbextension~=3.5.0->ipywidgets>=7.0.0->vectorbt) (23.1.0)\n",
      "Requirement already satisfied: jinja2 in c:\\users\\79112\\.conda\\envs\\myenv\\lib\\site-packages (from jupyter-server<3,>=2.4.0->notebook>=4.4.1->widgetsnbextension~=3.5.0->ipywidgets>=7.0.0->vectorbt) (3.1.3)\n",
      "Requirement already satisfied: jupyter-events>=0.9.0 in c:\\users\\79112\\.conda\\envs\\myenv\\lib\\site-packages (from jupyter-server<3,>=2.4.0->notebook>=4.4.1->widgetsnbextension~=3.5.0->ipywidgets>=7.0.0->vectorbt) (0.10.0)\n",
      "Requirement already satisfied: jupyter-server-terminals in c:\\users\\79112\\.conda\\envs\\myenv\\lib\\site-packages (from jupyter-server<3,>=2.4.0->notebook>=4.4.1->widgetsnbextension~=3.5.0->ipywidgets>=7.0.0->vectorbt) (0.5.3)\n",
      "Requirement already satisfied: nbconvert>=6.4.4 in c:\\users\\79112\\.conda\\envs\\myenv\\lib\\site-packages (from jupyter-server<3,>=2.4.0->notebook>=4.4.1->widgetsnbextension~=3.5.0->ipywidgets>=7.0.0->vectorbt) (7.16.3)\n",
      "Requirement already satisfied: overrides in c:\\users\\79112\\.conda\\envs\\myenv\\lib\\site-packages (from jupyter-server<3,>=2.4.0->notebook>=4.4.1->widgetsnbextension~=3.5.0->ipywidgets>=7.0.0->vectorbt) (7.7.0)\n",
      "Requirement already satisfied: prometheus-client in c:\\users\\79112\\.conda\\envs\\myenv\\lib\\site-packages (from jupyter-server<3,>=2.4.0->notebook>=4.4.1->widgetsnbextension~=3.5.0->ipywidgets>=7.0.0->vectorbt) (0.20.0)\n",
      "Requirement already satisfied: pywinpty in c:\\users\\79112\\.conda\\envs\\myenv\\lib\\site-packages (from jupyter-server<3,>=2.4.0->notebook>=4.4.1->widgetsnbextension~=3.5.0->ipywidgets>=7.0.0->vectorbt) (2.0.13)\n",
      "Requirement already satisfied: send2trash>=1.8.2 in c:\\users\\79112\\.conda\\envs\\myenv\\lib\\site-packages (from jupyter-server<3,>=2.4.0->notebook>=4.4.1->widgetsnbextension~=3.5.0->ipywidgets>=7.0.0->vectorbt) (1.8.2)\n",
      "Requirement already satisfied: terminado>=0.8.3 in c:\\users\\79112\\.conda\\envs\\myenv\\lib\\site-packages (from jupyter-server<3,>=2.4.0->notebook>=4.4.1->widgetsnbextension~=3.5.0->ipywidgets>=7.0.0->vectorbt) (0.18.1)\n",
      "Requirement already satisfied: websocket-client in c:\\users\\79112\\.conda\\envs\\myenv\\lib\\site-packages (from jupyter-server<3,>=2.4.0->notebook>=4.4.1->widgetsnbextension~=3.5.0->ipywidgets>=7.0.0->vectorbt) (1.7.0)\n",
      "Requirement already satisfied: async-lru>=1.0.0 in c:\\users\\79112\\.conda\\envs\\myenv\\lib\\site-packages (from jupyterlab<4.2,>=4.1.1->notebook>=4.4.1->widgetsnbextension~=3.5.0->ipywidgets>=7.0.0->vectorbt) (2.0.4)\n",
      "Requirement already satisfied: httpx>=0.25.0 in c:\\users\\79112\\.conda\\envs\\myenv\\lib\\site-packages (from jupyterlab<4.2,>=4.1.1->notebook>=4.4.1->widgetsnbextension~=3.5.0->ipywidgets>=7.0.0->vectorbt) (0.27.0)\n",
      "Requirement already satisfied: jupyter-lsp>=2.0.0 in c:\\users\\79112\\.conda\\envs\\myenv\\lib\\site-packages (from jupyterlab<4.2,>=4.1.1->notebook>=4.4.1->widgetsnbextension~=3.5.0->ipywidgets>=7.0.0->vectorbt) (2.2.4)\n",
      "Requirement already satisfied: babel>=2.10 in c:\\users\\79112\\.conda\\envs\\myenv\\lib\\site-packages (from jupyterlab-server<3,>=2.22.1->notebook>=4.4.1->widgetsnbextension~=3.5.0->ipywidgets>=7.0.0->vectorbt) (2.14.0)\n",
      "Requirement already satisfied: json5>=0.9.0 in c:\\users\\79112\\.conda\\envs\\myenv\\lib\\site-packages (from jupyterlab-server<3,>=2.22.1->notebook>=4.4.1->widgetsnbextension~=3.5.0->ipywidgets>=7.0.0->vectorbt) (0.9.24)\n",
      "Requirement already satisfied: sniffio>=1.1 in c:\\users\\79112\\.conda\\envs\\myenv\\lib\\site-packages (from anyio>=3.1.0->jupyter-server<3,>=2.4.0->notebook>=4.4.1->widgetsnbextension~=3.5.0->ipywidgets>=7.0.0->vectorbt) (1.3.1)\n",
      "Requirement already satisfied: httpcore==1.* in c:\\users\\79112\\.conda\\envs\\myenv\\lib\\site-packages (from httpx>=0.25.0->jupyterlab<4.2,>=4.1.1->notebook>=4.4.1->widgetsnbextension~=3.5.0->ipywidgets>=7.0.0->vectorbt) (1.0.5)\n",
      "Requirement already satisfied: h11<0.15,>=0.13 in c:\\users\\79112\\.conda\\envs\\myenv\\lib\\site-packages (from httpcore==1.*->httpx>=0.25.0->jupyterlab<4.2,>=4.1.1->notebook>=4.4.1->widgetsnbextension~=3.5.0->ipywidgets>=7.0.0->vectorbt) (0.14.0)\n",
      "Requirement already satisfied: MarkupSafe>=2.0 in c:\\users\\79112\\.conda\\envs\\myenv\\lib\\site-packages (from jinja2->jupyter-server<3,>=2.4.0->notebook>=4.4.1->widgetsnbextension~=3.5.0->ipywidgets>=7.0.0->vectorbt) (2.1.5)\n",
      "Requirement already satisfied: python-json-logger>=2.0.4 in c:\\users\\79112\\.conda\\envs\\myenv\\lib\\site-packages (from jupyter-events>=0.9.0->jupyter-server<3,>=2.4.0->notebook>=4.4.1->widgetsnbextension~=3.5.0->ipywidgets>=7.0.0->vectorbt) (2.0.7)\n",
      "Requirement already satisfied: pyyaml>=5.3 in c:\\users\\79112\\.conda\\envs\\myenv\\lib\\site-packages (from jupyter-events>=0.9.0->jupyter-server<3,>=2.4.0->notebook>=4.4.1->widgetsnbextension~=3.5.0->ipywidgets>=7.0.0->vectorbt) (6.0.1)\n",
      "Requirement already satisfied: rfc3339-validator in c:\\users\\79112\\.conda\\envs\\myenv\\lib\\site-packages (from jupyter-events>=0.9.0->jupyter-server<3,>=2.4.0->notebook>=4.4.1->widgetsnbextension~=3.5.0->ipywidgets>=7.0.0->vectorbt) (0.1.4)\n",
      "Requirement already satisfied: rfc3986-validator>=0.1.1 in c:\\users\\79112\\.conda\\envs\\myenv\\lib\\site-packages (from jupyter-events>=0.9.0->jupyter-server<3,>=2.4.0->notebook>=4.4.1->widgetsnbextension~=3.5.0->ipywidgets>=7.0.0->vectorbt) (0.1.1)\n",
      "Requirement already satisfied: beautifulsoup4 in c:\\users\\79112\\.conda\\envs\\myenv\\lib\\site-packages (from nbconvert>=6.4.4->jupyter-server<3,>=2.4.0->notebook>=4.4.1->widgetsnbextension~=3.5.0->ipywidgets>=7.0.0->vectorbt) (4.12.2)\n",
      "Requirement already satisfied: bleach!=5.0.0 in c:\\users\\79112\\.conda\\envs\\myenv\\lib\\site-packages (from nbconvert>=6.4.4->jupyter-server<3,>=2.4.0->notebook>=4.4.1->widgetsnbextension~=3.5.0->ipywidgets>=7.0.0->vectorbt) (6.1.0)\n",
      "Requirement already satisfied: defusedxml in c:\\users\\79112\\.conda\\envs\\myenv\\lib\\site-packages (from nbconvert>=6.4.4->jupyter-server<3,>=2.4.0->notebook>=4.4.1->widgetsnbextension~=3.5.0->ipywidgets>=7.0.0->vectorbt) (0.7.1)\n",
      "Requirement already satisfied: jupyterlab-pygments in c:\\users\\79112\\.conda\\envs\\myenv\\lib\\site-packages (from nbconvert>=6.4.4->jupyter-server<3,>=2.4.0->notebook>=4.4.1->widgetsnbextension~=3.5.0->ipywidgets>=7.0.0->vectorbt) (0.3.0)\n",
      "Requirement already satisfied: mistune<4,>=2.0.3 in c:\\users\\79112\\.conda\\envs\\myenv\\lib\\site-packages (from nbconvert>=6.4.4->jupyter-server<3,>=2.4.0->notebook>=4.4.1->widgetsnbextension~=3.5.0->ipywidgets>=7.0.0->vectorbt) (3.0.2)\n",
      "Requirement already satisfied: nbclient>=0.5.0 in c:\\users\\79112\\.conda\\envs\\myenv\\lib\\site-packages (from nbconvert>=6.4.4->jupyter-server<3,>=2.4.0->notebook>=4.4.1->widgetsnbextension~=3.5.0->ipywidgets>=7.0.0->vectorbt) (0.10.0)\n",
      "Requirement already satisfied: pandocfilters>=1.4.1 in c:\\users\\79112\\.conda\\envs\\myenv\\lib\\site-packages (from nbconvert>=6.4.4->jupyter-server<3,>=2.4.0->notebook>=4.4.1->widgetsnbextension~=3.5.0->ipywidgets>=7.0.0->vectorbt) (1.5.1)\n",
      "Requirement already satisfied: tinycss2 in c:\\users\\79112\\.conda\\envs\\myenv\\lib\\site-packages (from nbconvert>=6.4.4->jupyter-server<3,>=2.4.0->notebook>=4.4.1->widgetsnbextension~=3.5.0->ipywidgets>=7.0.0->vectorbt) (1.2.1)\n",
      "Requirement already satisfied: argon2-cffi-bindings in c:\\users\\79112\\.conda\\envs\\myenv\\lib\\site-packages (from argon2-cffi->jupyter-server<3,>=2.4.0->notebook>=4.4.1->widgetsnbextension~=3.5.0->ipywidgets>=7.0.0->vectorbt) (21.2.0)\n",
      "Requirement already satisfied: webencodings in c:\\users\\79112\\.conda\\envs\\myenv\\lib\\site-packages (from bleach!=5.0.0->nbconvert>=6.4.4->jupyter-server<3,>=2.4.0->notebook>=4.4.1->widgetsnbextension~=3.5.0->ipywidgets>=7.0.0->vectorbt) (0.5.1)\n",
      "Requirement already satisfied: fqdn in c:\\users\\79112\\.conda\\envs\\myenv\\lib\\site-packages (from jsonschema[format-nongpl]>=4.18.0->jupyter-events>=0.9.0->jupyter-server<3,>=2.4.0->notebook>=4.4.1->widgetsnbextension~=3.5.0->ipywidgets>=7.0.0->vectorbt) (1.5.1)\n",
      "Requirement already satisfied: isoduration in c:\\users\\79112\\.conda\\envs\\myenv\\lib\\site-packages (from jsonschema[format-nongpl]>=4.18.0->jupyter-events>=0.9.0->jupyter-server<3,>=2.4.0->notebook>=4.4.1->widgetsnbextension~=3.5.0->ipywidgets>=7.0.0->vectorbt) (20.11.0)\n",
      "Requirement already satisfied: jsonpointer>1.13 in c:\\users\\79112\\.conda\\envs\\myenv\\lib\\site-packages (from jsonschema[format-nongpl]>=4.18.0->jupyter-events>=0.9.0->jupyter-server<3,>=2.4.0->notebook>=4.4.1->widgetsnbextension~=3.5.0->ipywidgets>=7.0.0->vectorbt) (2.0)\n",
      "Requirement already satisfied: uri-template in c:\\users\\79112\\.conda\\envs\\myenv\\lib\\site-packages (from jsonschema[format-nongpl]>=4.18.0->jupyter-events>=0.9.0->jupyter-server<3,>=2.4.0->notebook>=4.4.1->widgetsnbextension~=3.5.0->ipywidgets>=7.0.0->vectorbt) (1.3.0)\n",
      "Requirement already satisfied: webcolors>=1.11 in c:\\users\\79112\\.conda\\envs\\myenv\\lib\\site-packages (from jsonschema[format-nongpl]>=4.18.0->jupyter-events>=0.9.0->jupyter-server<3,>=2.4.0->notebook>=4.4.1->widgetsnbextension~=3.5.0->ipywidgets>=7.0.0->vectorbt) (1.13)\n",
      "Requirement already satisfied: cffi>=1.0.1 in c:\\users\\79112\\.conda\\envs\\myenv\\lib\\site-packages (from argon2-cffi-bindings->argon2-cffi->jupyter-server<3,>=2.4.0->notebook>=4.4.1->widgetsnbextension~=3.5.0->ipywidgets>=7.0.0->vectorbt) (1.16.0)\n",
      "Requirement already satisfied: soupsieve>1.2 in c:\\users\\79112\\.conda\\envs\\myenv\\lib\\site-packages (from beautifulsoup4->nbconvert>=6.4.4->jupyter-server<3,>=2.4.0->notebook>=4.4.1->widgetsnbextension~=3.5.0->ipywidgets>=7.0.0->vectorbt) (2.5)\n",
      "Requirement already satisfied: pycparser in c:\\users\\79112\\.conda\\envs\\myenv\\lib\\site-packages (from cffi>=1.0.1->argon2-cffi-bindings->argon2-cffi->jupyter-server<3,>=2.4.0->notebook>=4.4.1->widgetsnbextension~=3.5.0->ipywidgets>=7.0.0->vectorbt) (2.21)\n",
      "Requirement already satisfied: arrow>=0.15.0 in c:\\users\\79112\\.conda\\envs\\myenv\\lib\\site-packages (from isoduration->jsonschema[format-nongpl]>=4.18.0->jupyter-events>=0.9.0->jupyter-server<3,>=2.4.0->notebook>=4.4.1->widgetsnbextension~=3.5.0->ipywidgets>=7.0.0->vectorbt) (1.3.0)\n",
      "Requirement already satisfied: types-python-dateutil>=2.8.10 in c:\\users\\79112\\.conda\\envs\\myenv\\lib\\site-packages (from arrow>=0.15.0->isoduration->jsonschema[format-nongpl]>=4.18.0->jupyter-events>=0.9.0->jupyter-server<3,>=2.4.0->notebook>=4.4.1->widgetsnbextension~=3.5.0->ipywidgets>=7.0.0->vectorbt) (2.9.0.20240316)\n",
      "Downloading vectorbt-0.27.1-py3-none-any.whl (527 kB)\n",
      "   ---------------------------------------- 0.0/527.5 kB ? eta -:--:--\n",
      "   --- ------------------------------------ 41.0/527.5 kB ? eta -:--:--\n",
      "   -------- ------------------------------- 112.6/527.5 kB 1.3 MB/s eta 0:00:01\n",
      "   ---------- ----------------------------- 143.4/527.5 kB 1.1 MB/s eta 0:00:01\n",
      "   ----------------- ---------------------- 225.3/527.5 kB 1.3 MB/s eta 0:00:01\n",
      "   ------------------------ --------------- 317.4/527.5 kB 1.3 MB/s eta 0:00:01\n",
      "   ------------------------------- -------- 419.8/527.5 kB 1.5 MB/s eta 0:00:01\n",
      "   ---------------------------------------  522.2/527.5 kB 1.6 MB/s eta 0:00:01\n",
      "   ---------------------------------------- 527.5/527.5 kB 1.6 MB/s eta 0:00:00\n",
      "Downloading numba-0.61.0-cp311-cp311-win_amd64.whl (2.8 MB)\n",
      "   ---------------------------------------- 0.0/2.8 MB ? eta -:--:--\n",
      "   - -------------------------------------- 0.1/2.8 MB 2.4 MB/s eta 0:00:02\n",
      "   -- ------------------------------------- 0.2/2.8 MB 2.5 MB/s eta 0:00:02\n",
      "   ---- ----------------------------------- 0.3/2.8 MB 2.2 MB/s eta 0:00:02\n",
      "   ------ --------------------------------- 0.5/2.8 MB 2.4 MB/s eta 0:00:02\n",
      "   -------- ------------------------------- 0.6/2.8 MB 2.5 MB/s eta 0:00:01\n",
      "   ---------- ----------------------------- 0.7/2.8 MB 2.6 MB/s eta 0:00:01\n",
      "   ------------ --------------------------- 0.9/2.8 MB 2.7 MB/s eta 0:00:01\n",
      "   -------------- ------------------------- 1.0/2.8 MB 2.7 MB/s eta 0:00:01\n",
      "   ----------------- ---------------------- 1.2/2.8 MB 2.8 MB/s eta 0:00:01\n",
      "   ------------------- -------------------- 1.4/2.8 MB 2.9 MB/s eta 0:00:01\n",
      "   --------------------- ------------------ 1.5/2.8 MB 3.0 MB/s eta 0:00:01\n",
      "   ------------------------ --------------- 1.7/2.8 MB 3.1 MB/s eta 0:00:01\n",
      "   -------------------------- ------------- 1.9/2.8 MB 3.1 MB/s eta 0:00:01\n",
      "   ----------------------------- ---------- 2.1/2.8 MB 3.2 MB/s eta 0:00:01\n",
      "   ------------------------------- -------- 2.2/2.8 MB 3.2 MB/s eta 0:00:01\n",
      "   ---------------------------------- ----- 2.5/2.8 MB 3.3 MB/s eta 0:00:01\n",
      "   ------------------------------------ --- 2.6/2.8 MB 3.3 MB/s eta 0:00:01\n",
      "   ---------------------------------------  2.8/2.8 MB 3.3 MB/s eta 0:00:01\n",
      "   ---------------------------------------- 2.8/2.8 MB 3.3 MB/s eta 0:00:00\n",
      "Downloading dateparser-1.2.0-py2.py3-none-any.whl (294 kB)\n",
      "   ---------------------------------------- 0.0/295.0 kB ? eta -:--:--\n",
      "   ---------------------------------- ----- 256.0/295.0 kB 7.9 MB/s eta 0:00:01\n",
      "   ---------------------------------------- 295.0/295.0 kB 4.6 MB/s eta 0:00:00\n",
      "Downloading dill-0.3.9-py3-none-any.whl (119 kB)\n",
      "   ---------------------------------------- 0.0/119.4 kB ? eta -:--:--\n",
      "   ---------------------------------------- 119.4/119.4 kB 7.3 MB/s eta 0:00:00\n",
      "Downloading imageio-2.37.0-py3-none-any.whl (315 kB)\n",
      "   ---------------------------------------- 0.0/315.8 kB ? eta -:--:--\n",
      "   --------------------------------- ------ 266.2/315.8 kB 8.3 MB/s eta 0:00:01\n",
      "   ---------------------------------------- 315.8/315.8 kB 4.9 MB/s eta 0:00:00\n",
      "Downloading mypy_extensions-1.0.0-py3-none-any.whl (4.7 kB)\n",
      "Downloading schedule-1.2.2-py3-none-any.whl (12 kB)\n",
      "Downloading llvmlite-0.44.0-cp311-cp311-win_amd64.whl (30.3 MB)\n",
      "   ---------------------------------------- 0.0/30.3 MB ? eta -:--:--\n",
      "   ---------------------------------------- 0.3/30.3 MB 8.6 MB/s eta 0:00:04\n",
      "    --------------------------------------- 0.5/30.3 MB 5.6 MB/s eta 0:00:06\n",
      "   - -------------------------------------- 0.8/30.3 MB 5.8 MB/s eta 0:00:06\n",
      "   - -------------------------------------- 1.1/30.3 MB 6.3 MB/s eta 0:00:05\n",
      "   - -------------------------------------- 1.4/30.3 MB 6.0 MB/s eta 0:00:05\n",
      "   -- ------------------------------------- 1.8/30.3 MB 6.2 MB/s eta 0:00:05\n",
      "   -- ------------------------------------- 2.1/30.3 MB 6.3 MB/s eta 0:00:05\n",
      "   --- ------------------------------------ 2.4/30.3 MB 6.4 MB/s eta 0:00:05\n",
      "   --- ------------------------------------ 2.6/30.3 MB 6.1 MB/s eta 0:00:05\n",
      "   --- ------------------------------------ 2.9/30.3 MB 6.3 MB/s eta 0:00:05\n",
      "   ---- ----------------------------------- 3.4/30.3 MB 6.5 MB/s eta 0:00:05\n",
      "   ---- ----------------------------------- 3.7/30.3 MB 6.6 MB/s eta 0:00:05\n",
      "   ----- ---------------------------------- 4.2/30.3 MB 6.8 MB/s eta 0:00:04\n",
      "   ------ --------------------------------- 4.6/30.3 MB 7.0 MB/s eta 0:00:04\n",
      "   ------ --------------------------------- 5.0/30.3 MB 7.1 MB/s eta 0:00:04\n",
      "   ------ --------------------------------- 5.1/30.3 MB 7.2 MB/s eta 0:00:04\n",
      "   ------- -------------------------------- 5.6/30.3 MB 7.0 MB/s eta 0:00:04\n",
      "   ------- -------------------------------- 5.7/30.3 MB 6.8 MB/s eta 0:00:04\n",
      "   ------- -------------------------------- 5.9/30.3 MB 6.7 MB/s eta 0:00:04\n",
      "   -------- ------------------------------- 6.5/30.3 MB 6.9 MB/s eta 0:00:04\n",
      "   --------- ------------------------------ 6.9/30.3 MB 7.0 MB/s eta 0:00:04\n",
      "   --------- ------------------------------ 7.0/30.3 MB 7.1 MB/s eta 0:00:04\n",
      "   --------- ------------------------------ 7.5/30.3 MB 6.9 MB/s eta 0:00:04\n",
      "   ---------- ----------------------------- 7.6/30.3 MB 6.9 MB/s eta 0:00:04\n",
      "   ---------- ----------------------------- 7.8/30.3 MB 6.8 MB/s eta 0:00:04\n",
      "   ----------- ---------------------------- 8.3/30.3 MB 6.8 MB/s eta 0:00:04\n",
      "   ----------- ---------------------------- 8.4/30.3 MB 6.9 MB/s eta 0:00:04\n",
      "   ----------- ---------------------------- 8.9/30.3 MB 6.8 MB/s eta 0:00:04\n",
      "   ------------ --------------------------- 9.4/30.3 MB 7.0 MB/s eta 0:00:03\n",
      "   ------------- -------------------------- 9.9/30.3 MB 7.1 MB/s eta 0:00:03\n",
      "   ------------- -------------------------- 10.5/30.3 MB 7.3 MB/s eta 0:00:03\n",
      "   -------------- ------------------------- 11.0/30.3 MB 7.5 MB/s eta 0:00:03\n",
      "   --------------- ------------------------ 11.5/30.3 MB 7.7 MB/s eta 0:00:03\n",
      "   --------------- ------------------------ 12.0/30.3 MB 7.9 MB/s eta 0:00:03\n",
      "   ---------------- ----------------------- 12.6/30.3 MB 8.1 MB/s eta 0:00:03\n",
      "   ----------------- ---------------------- 13.1/30.3 MB 8.3 MB/s eta 0:00:03\n",
      "   ----------------- ---------------------- 13.6/30.3 MB 8.5 MB/s eta 0:00:02\n",
      "   ------------------ --------------------- 14.1/30.3 MB 8.6 MB/s eta 0:00:02\n",
      "   ------------------- -------------------- 14.6/30.3 MB 8.6 MB/s eta 0:00:02\n",
      "   ------------------- -------------------- 15.1/30.3 MB 8.7 MB/s eta 0:00:02\n",
      "   -------------------- ------------------- 15.6/30.3 MB 9.1 MB/s eta 0:00:02\n",
      "   --------------------- ------------------ 16.2/30.3 MB 9.6 MB/s eta 0:00:02\n",
      "   ---------------------- ----------------- 16.7/30.3 MB 9.6 MB/s eta 0:00:02\n",
      "   ---------------------- ----------------- 17.3/30.3 MB 10.4 MB/s eta 0:00:02\n",
      "   ----------------------- ---------------- 17.8/30.3 MB 10.1 MB/s eta 0:00:02\n",
      "   ------------------------ --------------- 18.3/30.3 MB 10.9 MB/s eta 0:00:02\n",
      "   ------------------------ --------------- 18.8/30.3 MB 11.3 MB/s eta 0:00:02\n",
      "   ------------------------- -------------- 19.3/30.3 MB 11.3 MB/s eta 0:00:01\n",
      "   -------------------------- ------------- 19.9/30.3 MB 11.3 MB/s eta 0:00:01\n",
      "   -------------------------- ------------- 20.4/30.3 MB 11.3 MB/s eta 0:00:01\n",
      "   --------------------------- ------------ 20.9/30.3 MB 11.3 MB/s eta 0:00:01\n",
      "   ---------------------------- ----------- 21.2/30.3 MB 11.3 MB/s eta 0:00:01\n",
      "   ---------------------------- ----------- 21.2/30.3 MB 11.3 MB/s eta 0:00:01\n",
      "   ---------------------------- ----------- 21.2/30.3 MB 11.3 MB/s eta 0:00:01\n",
      "   ------------------------------ --------- 22.8/30.3 MB 11.1 MB/s eta 0:00:01\n",
      "   ------------------------------ --------- 23.3/30.3 MB 11.1 MB/s eta 0:00:01\n",
      "   ------------------------------- -------- 23.8/30.3 MB 10.9 MB/s eta 0:00:01\n",
      "   ------------------------------- -------- 24.2/30.3 MB 10.7 MB/s eta 0:00:01\n",
      "   -------------------------------- ------- 24.6/30.3 MB 10.7 MB/s eta 0:00:01\n",
      "   --------------------------------- ------ 25.1/30.3 MB 10.7 MB/s eta 0:00:01\n",
      "   --------------------------------- ------ 25.6/30.3 MB 10.6 MB/s eta 0:00:01\n",
      "   ---------------------------------- ----- 26.1/30.3 MB 10.6 MB/s eta 0:00:01\n",
      "   ---------------------------------- ----- 26.2/30.3 MB 10.7 MB/s eta 0:00:01\n",
      "   ----------------------------------- ---- 26.7/30.3 MB 10.2 MB/s eta 0:00:01\n",
      "   ----------------------------------- ---- 27.1/30.3 MB 10.4 MB/s eta 0:00:01\n",
      "   ----------------------------------- ---- 27.1/30.3 MB 10.4 MB/s eta 0:00:01\n",
      "   ------------------------------------ --- 27.8/30.3 MB 9.8 MB/s eta 0:00:01\n",
      "   ------------------------------------- -- 28.1/30.3 MB 9.8 MB/s eta 0:00:01\n",
      "   ------------------------------------- -- 28.7/30.3 MB 9.6 MB/s eta 0:00:01\n",
      "   -------------------------------------- - 29.2/30.3 MB 9.6 MB/s eta 0:00:01\n",
      "   ---------------------------------------  29.8/30.3 MB 9.6 MB/s eta 0:00:01\n",
      "   ---------------------------------------  30.3/30.3 MB 9.6 MB/s eta 0:00:01\n",
      "   ---------------------------------------  30.3/30.3 MB 9.6 MB/s eta 0:00:01\n",
      "   ---------------------------------------- 30.3/30.3 MB 9.2 MB/s eta 0:00:00\n",
      "Downloading regex-2024.11.6-cp311-cp311-win_amd64.whl (274 kB)\n",
      "   ---------------------------------------- 0.0/274.1 kB ? eta -:--:--\n",
      "   ---------------------------------------- 274.1/274.1 kB 8.5 MB/s eta 0:00:00\n",
      "Downloading tzlocal-5.2-py3-none-any.whl (17 kB)\n",
      "Installing collected packages: tzlocal, schedule, regex, mypy_extensions, llvmlite, imageio, dill, numba, dateparser, vectorbt\n",
      "Successfully installed dateparser-1.2.0 dill-0.3.9 imageio-2.37.0 llvmlite-0.44.0 mypy_extensions-1.0.0 numba-0.61.0 regex-2024.11.6 schedule-1.2.2 tzlocal-5.2 vectorbt-0.27.1\n"
     ]
    }
   ],
   "source": [
    "!pip install -U kaleido\n",
    "!pip install -U tensorflow\n",
    "!pip install -U vectorbt"
   ]
  },
  {
   "cell_type": "code",
   "execution_count": 40,
   "metadata": {},
   "outputs": [],
   "source": [
    "import pandas as pd\n",
    "import numpy as np\n",
    "import talib as ta\n",
    "\n",
    "import plotly.graph_objects as go\n",
    "from typing import Optional\n",
    "\n",
    "import tensorflow as tf\n",
    "from tensorflow.keras.models import Model\n",
    "from tensorflow.keras.layers import Input, LSTM, Dense, concatenate, Lambda\n",
    "from tensorflow.keras.optimizers import Adam\n",
    "from tensorflow.keras.callbacks import ReduceLROnPlateau, EarlyStopping\n",
    "import matplotlib.pyplot as plt\n",
    "from sklearn.preprocessing import RobustScaler\n",
    "\n",
    "import vectorbt as vbt\n",
    "import glob\n",
    "import os"
   ]
  },
  {
   "cell_type": "code",
   "execution_count": 11,
   "metadata": {},
   "outputs": [
    {
     "name": "stdout",
     "output_type": "stream",
     "text": [
      "Средний TP: 0.0078%, Средний SL: 0.3570%\n",
      "target\n",
      " 0    26468\n",
      "-1     4413\n",
      " 1     4055\n",
      "Name: count, dtype: int64\n"
     ]
    },
    {
     "data": {
      "application/vnd.plotly.v1+json": {
       "config": {
        "plotlyServerURL": "https://plot.ly"
       },
       "data": [
        {
         "close": [
          51.7,
          51.8,
          51.8,
          51.7,
          51.8,
          52,
          52,
          52,
          52,
          52.1,
          52.1,
          52.1,
          52,
          52.1,
          52.3,
          52.4,
          52.3,
          52.2,
          52.1,
          52.1,
          52.2,
          52.1,
          52,
          52.1,
          52,
          52,
          51.9,
          52,
          52.2,
          52.1,
          51.9,
          51.8,
          51.7,
          51.6,
          51.8,
          51.7,
          51.6,
          51.7,
          51.6
         ],
         "high": [
          51.7,
          51.8,
          52,
          51.9,
          51.8,
          52,
          52,
          52,
          52.1,
          52.1,
          52.1,
          52.1,
          52.1,
          52.2,
          52.4,
          52.4,
          52.4,
          52.4,
          52.2,
          52.2,
          52.2,
          52.3,
          52.1,
          52.1,
          52.1,
          52.1,
          52.1,
          52,
          52.2,
          52.3,
          52.1,
          52,
          51.9,
          51.8,
          51.9,
          51.8,
          51.7,
          51.7,
          51.7
         ],
         "low": [
          51.6,
          51.7,
          51.7,
          51.7,
          51.7,
          51.8,
          51.8,
          51.9,
          52,
          52,
          52,
          52,
          51.9,
          52,
          52.1,
          52.3,
          52.3,
          52.1,
          52.1,
          52.1,
          52.1,
          52.1,
          52,
          52,
          51.9,
          51.9,
          51.9,
          51.9,
          52,
          52,
          51.9,
          51.8,
          51.7,
          51.3,
          51.4,
          51.6,
          51.5,
          51.5,
          51.6
         ],
         "name": "Candlestick",
         "open": [
          51.7,
          51.7,
          51.8,
          51.8,
          51.7,
          51.8,
          51.9,
          52,
          52,
          52,
          52.1,
          52,
          52.1,
          52,
          52.1,
          52.4,
          52.4,
          52.4,
          52.2,
          52.2,
          52.1,
          52.2,
          52.1,
          52,
          52.1,
          52,
          52.1,
          51.9,
          52,
          52.2,
          52,
          51.9,
          51.8,
          51.7,
          51.6,
          51.8,
          51.7,
          51.5,
          51.7
         ],
         "type": "candlestick",
         "x": [
          "2023-01-01T16:45:00",
          "2023-01-01T17:00:00",
          "2023-01-01T17:15:00",
          "2023-01-01T17:30:00",
          "2023-01-01T17:45:00",
          "2023-01-01T18:00:00",
          "2023-01-01T18:15:00",
          "2023-01-01T18:30:00",
          "2023-01-01T18:45:00",
          "2023-01-01T19:00:00",
          "2023-01-01T19:15:00",
          "2023-01-01T19:30:00",
          "2023-01-01T19:45:00",
          "2023-01-01T20:00:00",
          "2023-01-01T20:15:00",
          "2023-01-01T20:30:00",
          "2023-01-01T20:45:00",
          "2023-01-01T21:00:00",
          "2023-01-01T21:15:00",
          "2023-01-01T21:30:00",
          "2023-01-01T21:45:00",
          "2023-01-01T22:00:00",
          "2023-01-01T22:15:00",
          "2023-01-01T22:30:00",
          "2023-01-01T22:45:00",
          "2023-01-01T23:00:00",
          "2023-01-01T23:15:00",
          "2023-01-01T23:30:00",
          "2023-01-01T23:45:00",
          "2023-01-02T00:00:00",
          "2023-01-02T00:15:00",
          "2023-01-02T00:30:00",
          "2023-01-02T00:45:00",
          "2023-01-02T01:00:00",
          "2023-01-02T01:15:00",
          "2023-01-02T01:30:00",
          "2023-01-02T01:45:00",
          "2023-01-02T02:00:00",
          "2023-01-02T02:15:00"
         ]
        },
        {
         "marker": {
          "color": "green",
          "size": 8,
          "symbol": "triangle-up"
         },
         "mode": "markers+text",
         "name": "Long TP",
         "textposition": "top center",
         "type": "scatter",
         "x": [
          "2023-01-01T17:15:00",
          "2023-01-01T18:00:00",
          "2023-01-01T20:00:00",
          "2023-01-01T20:15:00",
          "2023-01-01T23:45:00",
          "2023-01-02T01:15:00"
         ],
         "y": [
          51.95526724524969,
          51.963200487541386,
          52.15090721716918,
          52.25441384451424,
          52.15463006167623,
          51.79765464609896
         ]
        },
        {
         "marker": {
          "color": "red",
          "size": 8,
          "symbol": "triangle-down"
         },
         "mode": "markers+text",
         "name": "Long SL",
         "textposition": "bottom center",
         "type": "scatter",
         "x": [
          "2023-01-01T17:15:00",
          "2023-01-01T18:00:00",
          "2023-01-01T20:00:00",
          "2023-01-01T20:15:00",
          "2023-01-01T23:45:00",
          "2023-01-02T01:15:00"
         ],
         "y": [
          51.64473275475031,
          51.63679951245861,
          51.84909278283082,
          51.94558615548576,
          51.84536993832377,
          51.40234535390104
         ]
        },
        {
         "marker": {
          "color": "green",
          "size": 8,
          "symbol": "triangle-down"
         },
         "mode": "markers+text",
         "name": "Short TP",
         "textposition": "bottom center",
         "type": "scatter",
         "x": [
          "2023-01-01T18:15:00",
          "2023-01-01T19:45:00",
          "2023-01-01T21:00:00",
          "2023-01-01T22:45:00",
          "2023-01-02T00:00:00",
          "2023-01-02T00:15:00",
          "2023-01-02T01:00:00"
         ],
         "y": [
          51.83417097585443,
          51.95286915074088,
          52.14411544591917,
          51.95141737161324,
          52.0421292284435,
          51.93197714069753,
          51.525602688816505
         ]
        },
        {
         "marker": {
          "color": "red",
          "size": 8,
          "symbol": "triangle-up"
         },
         "mode": "markers+text",
         "name": "Short SL",
         "textposition": "top center",
         "type": "scatter",
         "x": [
          "2023-01-01T18:15:00",
          "2023-01-01T19:45:00",
          "2023-01-01T21:00:00",
          "2023-01-01T22:45:00",
          "2023-01-02T00:00:00",
          "2023-01-02T00:15:00",
          "2023-01-02T01:00:00"
         ],
         "y": [
          52.16582902414557,
          52.247130849259115,
          52.455884554080825,
          52.248582628386764,
          52.357870771556506,
          52.26802285930247,
          51.8743973111835
         ]
        },
        {
         "mode": "text",
         "showlegend": false,
         "text": "Stay",
         "textfont": {
          "size": 14
         },
         "textposition": "top center",
         "type": "scatter",
         "x": [
          "2023-01-01T16:45:00"
         ],
         "y": [
          51.7
         ]
        },
        {
         "mode": "text",
         "showlegend": false,
         "text": "Buy",
         "textfont": {
          "size": 14
         },
         "textposition": "top center",
         "type": "scatter",
         "x": [
          "2023-01-01T17:00:00"
         ],
         "y": [
          51.8
         ]
        },
        {
         "mode": "text",
         "showlegend": false,
         "text": "Stay",
         "textfont": {
          "size": 14
         },
         "textposition": "top center",
         "type": "scatter",
         "x": [
          "2023-01-01T17:15:00"
         ],
         "y": [
          51.8
         ]
        },
        {
         "mode": "text",
         "showlegend": false,
         "text": "Stay",
         "textfont": {
          "size": 14
         },
         "textposition": "top center",
         "type": "scatter",
         "x": [
          "2023-01-01T17:30:00"
         ],
         "y": [
          51.7
         ]
        },
        {
         "mode": "text",
         "showlegend": false,
         "text": "Buy",
         "textfont": {
          "size": 14
         },
         "textposition": "top center",
         "type": "scatter",
         "x": [
          "2023-01-01T17:45:00"
         ],
         "y": [
          51.8
         ]
        },
        {
         "mode": "text",
         "showlegend": false,
         "text": "Sell",
         "textfont": {
          "size": 14
         },
         "textposition": "top center",
         "type": "scatter",
         "x": [
          "2023-01-01T18:00:00"
         ],
         "y": [
          52
         ]
        },
        {
         "mode": "text",
         "showlegend": false,
         "text": "Stay",
         "textfont": {
          "size": 14
         },
         "textposition": "top center",
         "type": "scatter",
         "x": [
          "2023-01-01T18:15:00"
         ],
         "y": [
          52
         ]
        },
        {
         "mode": "text",
         "showlegend": false,
         "text": "Stay",
         "textfont": {
          "size": 14
         },
         "textposition": "top center",
         "type": "scatter",
         "x": [
          "2023-01-01T18:30:00"
         ],
         "y": [
          52
         ]
        },
        {
         "mode": "text",
         "showlegend": false,
         "text": "Stay",
         "textfont": {
          "size": 14
         },
         "textposition": "top center",
         "type": "scatter",
         "x": [
          "2023-01-01T18:45:00"
         ],
         "y": [
          52
         ]
        },
        {
         "mode": "text",
         "showlegend": false,
         "text": "Stay",
         "textfont": {
          "size": 14
         },
         "textposition": "top center",
         "type": "scatter",
         "x": [
          "2023-01-01T19:00:00"
         ],
         "y": [
          52.1
         ]
        },
        {
         "mode": "text",
         "showlegend": false,
         "text": "Stay",
         "textfont": {
          "size": 14
         },
         "textposition": "top center",
         "type": "scatter",
         "x": [
          "2023-01-01T19:15:00"
         ],
         "y": [
          52.1
         ]
        },
        {
         "mode": "text",
         "showlegend": false,
         "text": "Sell",
         "textfont": {
          "size": 14
         },
         "textposition": "top center",
         "type": "scatter",
         "x": [
          "2023-01-01T19:30:00"
         ],
         "y": [
          52.1
         ]
        },
        {
         "mode": "text",
         "showlegend": false,
         "text": "Buy",
         "textfont": {
          "size": 14
         },
         "textposition": "top center",
         "type": "scatter",
         "x": [
          "2023-01-01T19:45:00"
         ],
         "y": [
          52
         ]
        },
        {
         "mode": "text",
         "showlegend": false,
         "text": "Buy",
         "textfont": {
          "size": 14
         },
         "textposition": "top center",
         "type": "scatter",
         "x": [
          "2023-01-01T20:00:00"
         ],
         "y": [
          52.1
         ]
        },
        {
         "mode": "text",
         "showlegend": false,
         "text": "Stay",
         "textfont": {
          "size": 14
         },
         "textposition": "top center",
         "type": "scatter",
         "x": [
          "2023-01-01T20:15:00"
         ],
         "y": [
          52.3
         ]
        },
        {
         "mode": "text",
         "showlegend": false,
         "text": "Stay",
         "textfont": {
          "size": 14
         },
         "textposition": "top center",
         "type": "scatter",
         "x": [
          "2023-01-01T20:30:00"
         ],
         "y": [
          52.4
         ]
        },
        {
         "mode": "text",
         "showlegend": false,
         "text": "Sell",
         "textfont": {
          "size": 14
         },
         "textposition": "top center",
         "type": "scatter",
         "x": [
          "2023-01-01T20:45:00"
         ],
         "y": [
          52.3
         ]
        },
        {
         "mode": "text",
         "showlegend": false,
         "text": "Stay",
         "textfont": {
          "size": 14
         },
         "textposition": "top center",
         "type": "scatter",
         "x": [
          "2023-01-01T21:00:00"
         ],
         "y": [
          52.2
         ]
        },
        {
         "mode": "text",
         "showlegend": false,
         "text": "Stay",
         "textfont": {
          "size": 14
         },
         "textposition": "top center",
         "type": "scatter",
         "x": [
          "2023-01-01T21:15:00"
         ],
         "y": [
          52.1
         ]
        },
        {
         "mode": "text",
         "showlegend": false,
         "text": "Stay",
         "textfont": {
          "size": 14
         },
         "textposition": "top center",
         "type": "scatter",
         "x": [
          "2023-01-01T21:30:00"
         ],
         "y": [
          52.1
         ]
        },
        {
         "mode": "text",
         "showlegend": false,
         "text": "Stay",
         "textfont": {
          "size": 14
         },
         "textposition": "top center",
         "type": "scatter",
         "x": [
          "2023-01-01T21:45:00"
         ],
         "y": [
          52.2
         ]
        },
        {
         "mode": "text",
         "showlegend": false,
         "text": "Stay",
         "textfont": {
          "size": 14
         },
         "textposition": "top center",
         "type": "scatter",
         "x": [
          "2023-01-01T22:00:00"
         ],
         "y": [
          52.1
         ]
        },
        {
         "mode": "text",
         "showlegend": false,
         "text": "Stay",
         "textfont": {
          "size": 14
         },
         "textposition": "top center",
         "type": "scatter",
         "x": [
          "2023-01-01T22:15:00"
         ],
         "y": [
          52
         ]
        },
        {
         "mode": "text",
         "showlegend": false,
         "text": "Sell",
         "textfont": {
          "size": 14
         },
         "textposition": "top center",
         "type": "scatter",
         "x": [
          "2023-01-01T22:30:00"
         ],
         "y": [
          52.1
         ]
        },
        {
         "mode": "text",
         "showlegend": false,
         "text": "Stay",
         "textfont": {
          "size": 14
         },
         "textposition": "top center",
         "type": "scatter",
         "x": [
          "2023-01-01T22:45:00"
         ],
         "y": [
          52
         ]
        },
        {
         "mode": "text",
         "showlegend": false,
         "text": "Stay",
         "textfont": {
          "size": 14
         },
         "textposition": "top center",
         "type": "scatter",
         "x": [
          "2023-01-01T23:00:00"
         ],
         "y": [
          52
         ]
        },
        {
         "mode": "text",
         "showlegend": false,
         "text": "Stay",
         "textfont": {
          "size": 14
         },
         "textposition": "top center",
         "type": "scatter",
         "x": [
          "2023-01-01T23:15:00"
         ],
         "y": [
          51.9
         ]
        },
        {
         "mode": "text",
         "showlegend": false,
         "text": "Buy",
         "textfont": {
          "size": 14
         },
         "textposition": "top center",
         "type": "scatter",
         "x": [
          "2023-01-01T23:30:00"
         ],
         "y": [
          52
         ]
        },
        {
         "mode": "text",
         "showlegend": false,
         "text": "Sell",
         "textfont": {
          "size": 14
         },
         "textposition": "top center",
         "type": "scatter",
         "x": [
          "2023-01-01T23:45:00"
         ],
         "y": [
          52.2
         ]
        },
        {
         "mode": "text",
         "showlegend": false,
         "text": "Sell",
         "textfont": {
          "size": 14
         },
         "textposition": "top center",
         "type": "scatter",
         "x": [
          "2023-01-02T00:00:00"
         ],
         "y": [
          52.1
         ]
        },
        {
         "mode": "text",
         "showlegend": false,
         "text": "Stay",
         "textfont": {
          "size": 14
         },
         "textposition": "top center",
         "type": "scatter",
         "x": [
          "2023-01-02T00:15:00"
         ],
         "y": [
          51.9
         ]
        },
        {
         "mode": "text",
         "showlegend": false,
         "text": "Stay",
         "textfont": {
          "size": 14
         },
         "textposition": "top center",
         "type": "scatter",
         "x": [
          "2023-01-02T00:30:00"
         ],
         "y": [
          51.8
         ]
        },
        {
         "mode": "text",
         "showlegend": false,
         "text": "Sell",
         "textfont": {
          "size": 14
         },
         "textposition": "top center",
         "type": "scatter",
         "x": [
          "2023-01-02T00:45:00"
         ],
         "y": [
          51.7
         ]
        },
        {
         "mode": "text",
         "showlegend": false,
         "text": "Buy",
         "textfont": {
          "size": 14
         },
         "textposition": "top center",
         "type": "scatter",
         "x": [
          "2023-01-02T01:00:00"
         ],
         "y": [
          51.6
         ]
        },
        {
         "mode": "text",
         "showlegend": false,
         "text": "Stay",
         "textfont": {
          "size": 14
         },
         "textposition": "top center",
         "type": "scatter",
         "x": [
          "2023-01-02T01:15:00"
         ],
         "y": [
          51.8
         ]
        },
        {
         "mode": "text",
         "showlegend": false,
         "text": "Stay",
         "textfont": {
          "size": 14
         },
         "textposition": "top center",
         "type": "scatter",
         "x": [
          "2023-01-02T01:30:00"
         ],
         "y": [
          51.7
         ]
        },
        {
         "mode": "text",
         "showlegend": false,
         "text": "Stay",
         "textfont": {
          "size": 14
         },
         "textposition": "top center",
         "type": "scatter",
         "x": [
          "2023-01-02T01:45:00"
         ],
         "y": [
          51.6
         ]
        },
        {
         "mode": "text",
         "showlegend": false,
         "text": "Stay",
         "textfont": {
          "size": 14
         },
         "textposition": "top center",
         "type": "scatter",
         "x": [
          "2023-01-02T02:00:00"
         ],
         "y": [
          51.7
         ]
        },
        {
         "mode": "text",
         "showlegend": false,
         "text": "Stay",
         "textfont": {
          "size": 14
         },
         "textposition": "top center",
         "type": "scatter",
         "x": [
          "2023-01-02T02:15:00"
         ],
         "y": [
          51.6
         ]
        },
        {
         "line": {
          "color": "green",
          "width": 1.5
         },
         "marker": {
          "size": 6
         },
         "mode": "lines+markers",
         "showlegend": false,
         "type": "scatter",
         "x": [
          "2023-01-01T17:00:00",
          "2023-01-01T17:15:00"
         ],
         "y": [
          51.8,
          51.95526724524969
         ]
        },
        {
         "marker": {
          "color": "green",
          "size": 16,
          "symbol": "triangle-up"
         },
         "mode": "markers",
         "showlegend": false,
         "type": "scatter",
         "x": [
          "2023-01-01T17:15:00"
         ],
         "y": [
          51.95526724524969
         ]
        },
        {
         "line": {
          "color": "green",
          "width": 1.5
         },
         "marker": {
          "size": 6
         },
         "mode": "lines+markers",
         "showlegend": false,
         "type": "scatter",
         "x": [
          "2023-01-01T17:45:00",
          "2023-01-01T18:00:00"
         ],
         "y": [
          51.8,
          51.963200487541386
         ]
        },
        {
         "marker": {
          "color": "green",
          "size": 16,
          "symbol": "triangle-up"
         },
         "mode": "markers",
         "showlegend": false,
         "type": "scatter",
         "x": [
          "2023-01-01T18:00:00"
         ],
         "y": [
          51.963200487541386
         ]
        },
        {
         "line": {
          "color": "green",
          "width": 1.5
         },
         "marker": {
          "size": 6
         },
         "mode": "lines+markers",
         "showlegend": false,
         "type": "scatter",
         "x": [
          "2023-01-01T18:00:00",
          "2023-01-01T18:15:00"
         ],
         "y": [
          52,
          51.83417097585443
         ]
        },
        {
         "marker": {
          "color": "green",
          "size": 16,
          "symbol": "triangle-down"
         },
         "mode": "markers",
         "showlegend": false,
         "type": "scatter",
         "x": [
          "2023-01-01T18:15:00"
         ],
         "y": [
          51.83417097585443
         ]
        },
        {
         "line": {
          "color": "green",
          "width": 1.5
         },
         "marker": {
          "size": 6
         },
         "mode": "lines+markers",
         "showlegend": false,
         "type": "scatter",
         "x": [
          "2023-01-01T19:30:00",
          "2023-01-01T19:45:00"
         ],
         "y": [
          52.1,
          51.95286915074088
         ]
        },
        {
         "marker": {
          "color": "green",
          "size": 16,
          "symbol": "triangle-down"
         },
         "mode": "markers",
         "showlegend": false,
         "type": "scatter",
         "x": [
          "2023-01-01T19:45:00"
         ],
         "y": [
          51.95286915074088
         ]
        },
        {
         "line": {
          "color": "green",
          "width": 1.5
         },
         "marker": {
          "size": 6
         },
         "mode": "lines+markers",
         "showlegend": false,
         "type": "scatter",
         "x": [
          "2023-01-01T19:45:00",
          "2023-01-01T20:00:00"
         ],
         "y": [
          52,
          52.15090721716918
         ]
        },
        {
         "marker": {
          "color": "green",
          "size": 16,
          "symbol": "triangle-up"
         },
         "mode": "markers",
         "showlegend": false,
         "type": "scatter",
         "x": [
          "2023-01-01T20:00:00"
         ],
         "y": [
          52.15090721716918
         ]
        },
        {
         "line": {
          "color": "green",
          "width": 1.5
         },
         "marker": {
          "size": 6
         },
         "mode": "lines+markers",
         "showlegend": false,
         "type": "scatter",
         "x": [
          "2023-01-01T20:00:00",
          "2023-01-01T20:15:00"
         ],
         "y": [
          52.1,
          52.25441384451424
         ]
        },
        {
         "marker": {
          "color": "green",
          "size": 16,
          "symbol": "triangle-up"
         },
         "mode": "markers",
         "showlegend": false,
         "type": "scatter",
         "x": [
          "2023-01-01T20:15:00"
         ],
         "y": [
          52.25441384451424
         ]
        },
        {
         "line": {
          "color": "green",
          "width": 1.5
         },
         "marker": {
          "size": 6
         },
         "mode": "lines+markers",
         "showlegend": false,
         "type": "scatter",
         "x": [
          "2023-01-01T20:45:00",
          "2023-01-01T21:00:00"
         ],
         "y": [
          52.3,
          52.14411544591917
         ]
        },
        {
         "marker": {
          "color": "green",
          "size": 16,
          "symbol": "triangle-down"
         },
         "mode": "markers",
         "showlegend": false,
         "type": "scatter",
         "x": [
          "2023-01-01T21:00:00"
         ],
         "y": [
          52.14411544591917
         ]
        },
        {
         "line": {
          "color": "green",
          "width": 1.5
         },
         "marker": {
          "size": 6
         },
         "mode": "lines+markers",
         "showlegend": false,
         "type": "scatter",
         "x": [
          "2023-01-01T22:30:00",
          "2023-01-01T22:45:00"
         ],
         "y": [
          52.1,
          51.95141737161324
         ]
        },
        {
         "marker": {
          "color": "green",
          "size": 16,
          "symbol": "triangle-down"
         },
         "mode": "markers",
         "showlegend": false,
         "type": "scatter",
         "x": [
          "2023-01-01T22:45:00"
         ],
         "y": [
          51.95141737161324
         ]
        },
        {
         "line": {
          "color": "green",
          "width": 1.5
         },
         "marker": {
          "size": 6
         },
         "mode": "lines+markers",
         "showlegend": false,
         "type": "scatter",
         "x": [
          "2023-01-01T23:30:00",
          "2023-01-01T23:45:00"
         ],
         "y": [
          52,
          52.15463006167623
         ]
        },
        {
         "marker": {
          "color": "green",
          "size": 16,
          "symbol": "triangle-up"
         },
         "mode": "markers",
         "showlegend": false,
         "type": "scatter",
         "x": [
          "2023-01-01T23:45:00"
         ],
         "y": [
          52.15463006167623
         ]
        },
        {
         "line": {
          "color": "green",
          "width": 1.5
         },
         "marker": {
          "size": 6
         },
         "mode": "lines+markers",
         "showlegend": false,
         "type": "scatter",
         "x": [
          "2023-01-01T23:45:00",
          "2023-01-02T00:00:00"
         ],
         "y": [
          52.2,
          52.0421292284435
         ]
        },
        {
         "marker": {
          "color": "green",
          "size": 16,
          "symbol": "triangle-down"
         },
         "mode": "markers",
         "showlegend": false,
         "type": "scatter",
         "x": [
          "2023-01-02T00:00:00"
         ],
         "y": [
          52.0421292284435
         ]
        },
        {
         "line": {
          "color": "green",
          "width": 1.5
         },
         "marker": {
          "size": 6
         },
         "mode": "lines+markers",
         "showlegend": false,
         "type": "scatter",
         "x": [
          "2023-01-02T00:00:00",
          "2023-01-02T00:15:00"
         ],
         "y": [
          52.1,
          51.93197714069753
         ]
        },
        {
         "marker": {
          "color": "green",
          "size": 16,
          "symbol": "triangle-down"
         },
         "mode": "markers",
         "showlegend": false,
         "type": "scatter",
         "x": [
          "2023-01-02T00:15:00"
         ],
         "y": [
          51.93197714069753
         ]
        },
        {
         "line": {
          "color": "green",
          "width": 1.5
         },
         "marker": {
          "size": 6
         },
         "mode": "lines+markers",
         "showlegend": false,
         "type": "scatter",
         "x": [
          "2023-01-02T00:45:00",
          "2023-01-02T01:00:00"
         ],
         "y": [
          51.7,
          51.525602688816505
         ]
        },
        {
         "marker": {
          "color": "green",
          "size": 16,
          "symbol": "triangle-down"
         },
         "mode": "markers",
         "showlegend": false,
         "type": "scatter",
         "x": [
          "2023-01-02T01:00:00"
         ],
         "y": [
          51.525602688816505
         ]
        },
        {
         "line": {
          "color": "green",
          "width": 1.5
         },
         "marker": {
          "size": 6
         },
         "mode": "lines+markers",
         "showlegend": false,
         "type": "scatter",
         "x": [
          "2023-01-02T01:00:00",
          "2023-01-02T01:15:00"
         ],
         "y": [
          51.6,
          51.79765464609896
         ]
        },
        {
         "marker": {
          "color": "green",
          "size": 16,
          "symbol": "triangle-up"
         },
         "mode": "markers",
         "showlegend": false,
         "type": "scatter",
         "x": [
          "2023-01-02T01:15:00"
         ],
         "y": [
          51.79765464609896
         ]
        }
       ],
       "layout": {
        "annotations": [
         {
          "font": {
           "color": "green",
           "size": 12
          },
          "showarrow": false,
          "text": "0.30%",
          "x": "2023-01-01T17:15:00",
          "xshift": -20,
          "y": 51.95526724524969,
          "yshift": 10
         },
         {
          "font": {
           "color": "green",
           "size": 12
          },
          "showarrow": false,
          "text": "0.32%",
          "x": "2023-01-01T18:00:00",
          "xshift": -20,
          "y": 51.963200487541386,
          "yshift": 10
         },
         {
          "font": {
           "color": "green",
           "size": 12
          },
          "showarrow": false,
          "text": "0.32%",
          "x": "2023-01-01T18:15:00",
          "xshift": -20,
          "y": 51.83417097585443,
          "yshift": -10
         },
         {
          "font": {
           "color": "green",
           "size": 12
          },
          "showarrow": false,
          "text": "0.28%",
          "x": "2023-01-01T19:45:00",
          "xshift": -20,
          "y": 51.95286915074088,
          "yshift": -10
         },
         {
          "font": {
           "color": "green",
           "size": 12
          },
          "showarrow": false,
          "text": "0.29%",
          "x": "2023-01-01T20:00:00",
          "xshift": -20,
          "y": 52.15090721716918,
          "yshift": 10
         },
         {
          "font": {
           "color": "green",
           "size": 12
          },
          "showarrow": false,
          "text": "0.30%",
          "x": "2023-01-01T20:15:00",
          "xshift": -20,
          "y": 52.25441384451424,
          "yshift": 10
         },
         {
          "font": {
           "color": "green",
           "size": 12
          },
          "showarrow": false,
          "text": "0.30%",
          "x": "2023-01-01T21:00:00",
          "xshift": -20,
          "y": 52.14411544591917,
          "yshift": -10
         },
         {
          "font": {
           "color": "green",
           "size": 12
          },
          "showarrow": false,
          "text": "0.29%",
          "x": "2023-01-01T22:45:00",
          "xshift": -20,
          "y": 51.95141737161324,
          "yshift": -10
         },
         {
          "font": {
           "color": "green",
           "size": 12
          },
          "showarrow": false,
          "text": "0.30%",
          "x": "2023-01-01T23:45:00",
          "xshift": -20,
          "y": 52.15463006167623,
          "yshift": 10
         },
         {
          "font": {
           "color": "green",
           "size": 12
          },
          "showarrow": false,
          "text": "0.30%",
          "x": "2023-01-02T00:00:00",
          "xshift": -20,
          "y": 52.0421292284435,
          "yshift": -10
         },
         {
          "font": {
           "color": "green",
           "size": 12
          },
          "showarrow": false,
          "text": "0.32%",
          "x": "2023-01-02T00:15:00",
          "xshift": -20,
          "y": 51.93197714069753,
          "yshift": -10
         },
         {
          "font": {
           "color": "green",
           "size": 12
          },
          "showarrow": false,
          "text": "0.34%",
          "x": "2023-01-02T01:00:00",
          "xshift": -20,
          "y": 51.525602688816505,
          "yshift": -10
         },
         {
          "font": {
           "color": "green",
           "size": 12
          },
          "showarrow": false,
          "text": "0.38%",
          "x": "2023-01-02T01:15:00",
          "xshift": -20,
          "y": 51.79765464609896,
          "yshift": 10
         }
        ],
        "height": 800,
        "template": {
         "data": {
          "bar": [
           {
            "error_x": {
             "color": "#2a3f5f"
            },
            "error_y": {
             "color": "#2a3f5f"
            },
            "marker": {
             "line": {
              "color": "white",
              "width": 0.5
             },
             "pattern": {
              "fillmode": "overlay",
              "size": 10,
              "solidity": 0.2
             }
            },
            "type": "bar"
           }
          ],
          "barpolar": [
           {
            "marker": {
             "line": {
              "color": "white",
              "width": 0.5
             },
             "pattern": {
              "fillmode": "overlay",
              "size": 10,
              "solidity": 0.2
             }
            },
            "type": "barpolar"
           }
          ],
          "carpet": [
           {
            "aaxis": {
             "endlinecolor": "#2a3f5f",
             "gridcolor": "#C8D4E3",
             "linecolor": "#C8D4E3",
             "minorgridcolor": "#C8D4E3",
             "startlinecolor": "#2a3f5f"
            },
            "baxis": {
             "endlinecolor": "#2a3f5f",
             "gridcolor": "#C8D4E3",
             "linecolor": "#C8D4E3",
             "minorgridcolor": "#C8D4E3",
             "startlinecolor": "#2a3f5f"
            },
            "type": "carpet"
           }
          ],
          "choropleth": [
           {
            "colorbar": {
             "outlinewidth": 0,
             "ticks": ""
            },
            "type": "choropleth"
           }
          ],
          "contour": [
           {
            "colorbar": {
             "outlinewidth": 0,
             "ticks": ""
            },
            "colorscale": [
             [
              0,
              "#0d0887"
             ],
             [
              0.1111111111111111,
              "#46039f"
             ],
             [
              0.2222222222222222,
              "#7201a8"
             ],
             [
              0.3333333333333333,
              "#9c179e"
             ],
             [
              0.4444444444444444,
              "#bd3786"
             ],
             [
              0.5555555555555556,
              "#d8576b"
             ],
             [
              0.6666666666666666,
              "#ed7953"
             ],
             [
              0.7777777777777778,
              "#fb9f3a"
             ],
             [
              0.8888888888888888,
              "#fdca26"
             ],
             [
              1,
              "#f0f921"
             ]
            ],
            "type": "contour"
           }
          ],
          "contourcarpet": [
           {
            "colorbar": {
             "outlinewidth": 0,
             "ticks": ""
            },
            "type": "contourcarpet"
           }
          ],
          "heatmap": [
           {
            "colorbar": {
             "outlinewidth": 0,
             "ticks": ""
            },
            "colorscale": [
             [
              0,
              "#0d0887"
             ],
             [
              0.1111111111111111,
              "#46039f"
             ],
             [
              0.2222222222222222,
              "#7201a8"
             ],
             [
              0.3333333333333333,
              "#9c179e"
             ],
             [
              0.4444444444444444,
              "#bd3786"
             ],
             [
              0.5555555555555556,
              "#d8576b"
             ],
             [
              0.6666666666666666,
              "#ed7953"
             ],
             [
              0.7777777777777778,
              "#fb9f3a"
             ],
             [
              0.8888888888888888,
              "#fdca26"
             ],
             [
              1,
              "#f0f921"
             ]
            ],
            "type": "heatmap"
           }
          ],
          "heatmapgl": [
           {
            "colorbar": {
             "outlinewidth": 0,
             "ticks": ""
            },
            "colorscale": [
             [
              0,
              "#0d0887"
             ],
             [
              0.1111111111111111,
              "#46039f"
             ],
             [
              0.2222222222222222,
              "#7201a8"
             ],
             [
              0.3333333333333333,
              "#9c179e"
             ],
             [
              0.4444444444444444,
              "#bd3786"
             ],
             [
              0.5555555555555556,
              "#d8576b"
             ],
             [
              0.6666666666666666,
              "#ed7953"
             ],
             [
              0.7777777777777778,
              "#fb9f3a"
             ],
             [
              0.8888888888888888,
              "#fdca26"
             ],
             [
              1,
              "#f0f921"
             ]
            ],
            "type": "heatmapgl"
           }
          ],
          "histogram": [
           {
            "marker": {
             "pattern": {
              "fillmode": "overlay",
              "size": 10,
              "solidity": 0.2
             }
            },
            "type": "histogram"
           }
          ],
          "histogram2d": [
           {
            "colorbar": {
             "outlinewidth": 0,
             "ticks": ""
            },
            "colorscale": [
             [
              0,
              "#0d0887"
             ],
             [
              0.1111111111111111,
              "#46039f"
             ],
             [
              0.2222222222222222,
              "#7201a8"
             ],
             [
              0.3333333333333333,
              "#9c179e"
             ],
             [
              0.4444444444444444,
              "#bd3786"
             ],
             [
              0.5555555555555556,
              "#d8576b"
             ],
             [
              0.6666666666666666,
              "#ed7953"
             ],
             [
              0.7777777777777778,
              "#fb9f3a"
             ],
             [
              0.8888888888888888,
              "#fdca26"
             ],
             [
              1,
              "#f0f921"
             ]
            ],
            "type": "histogram2d"
           }
          ],
          "histogram2dcontour": [
           {
            "colorbar": {
             "outlinewidth": 0,
             "ticks": ""
            },
            "colorscale": [
             [
              0,
              "#0d0887"
             ],
             [
              0.1111111111111111,
              "#46039f"
             ],
             [
              0.2222222222222222,
              "#7201a8"
             ],
             [
              0.3333333333333333,
              "#9c179e"
             ],
             [
              0.4444444444444444,
              "#bd3786"
             ],
             [
              0.5555555555555556,
              "#d8576b"
             ],
             [
              0.6666666666666666,
              "#ed7953"
             ],
             [
              0.7777777777777778,
              "#fb9f3a"
             ],
             [
              0.8888888888888888,
              "#fdca26"
             ],
             [
              1,
              "#f0f921"
             ]
            ],
            "type": "histogram2dcontour"
           }
          ],
          "mesh3d": [
           {
            "colorbar": {
             "outlinewidth": 0,
             "ticks": ""
            },
            "type": "mesh3d"
           }
          ],
          "parcoords": [
           {
            "line": {
             "colorbar": {
              "outlinewidth": 0,
              "ticks": ""
             }
            },
            "type": "parcoords"
           }
          ],
          "pie": [
           {
            "automargin": true,
            "type": "pie"
           }
          ],
          "scatter": [
           {
            "fillpattern": {
             "fillmode": "overlay",
             "size": 10,
             "solidity": 0.2
            },
            "type": "scatter"
           }
          ],
          "scatter3d": [
           {
            "line": {
             "colorbar": {
              "outlinewidth": 0,
              "ticks": ""
             }
            },
            "marker": {
             "colorbar": {
              "outlinewidth": 0,
              "ticks": ""
             }
            },
            "type": "scatter3d"
           }
          ],
          "scattercarpet": [
           {
            "marker": {
             "colorbar": {
              "outlinewidth": 0,
              "ticks": ""
             }
            },
            "type": "scattercarpet"
           }
          ],
          "scattergeo": [
           {
            "marker": {
             "colorbar": {
              "outlinewidth": 0,
              "ticks": ""
             }
            },
            "type": "scattergeo"
           }
          ],
          "scattergl": [
           {
            "marker": {
             "colorbar": {
              "outlinewidth": 0,
              "ticks": ""
             }
            },
            "type": "scattergl"
           }
          ],
          "scattermapbox": [
           {
            "marker": {
             "colorbar": {
              "outlinewidth": 0,
              "ticks": ""
             }
            },
            "type": "scattermapbox"
           }
          ],
          "scatterpolar": [
           {
            "marker": {
             "colorbar": {
              "outlinewidth": 0,
              "ticks": ""
             }
            },
            "type": "scatterpolar"
           }
          ],
          "scatterpolargl": [
           {
            "marker": {
             "colorbar": {
              "outlinewidth": 0,
              "ticks": ""
             }
            },
            "type": "scatterpolargl"
           }
          ],
          "scatterternary": [
           {
            "marker": {
             "colorbar": {
              "outlinewidth": 0,
              "ticks": ""
             }
            },
            "type": "scatterternary"
           }
          ],
          "surface": [
           {
            "colorbar": {
             "outlinewidth": 0,
             "ticks": ""
            },
            "colorscale": [
             [
              0,
              "#0d0887"
             ],
             [
              0.1111111111111111,
              "#46039f"
             ],
             [
              0.2222222222222222,
              "#7201a8"
             ],
             [
              0.3333333333333333,
              "#9c179e"
             ],
             [
              0.4444444444444444,
              "#bd3786"
             ],
             [
              0.5555555555555556,
              "#d8576b"
             ],
             [
              0.6666666666666666,
              "#ed7953"
             ],
             [
              0.7777777777777778,
              "#fb9f3a"
             ],
             [
              0.8888888888888888,
              "#fdca26"
             ],
             [
              1,
              "#f0f921"
             ]
            ],
            "type": "surface"
           }
          ],
          "table": [
           {
            "cells": {
             "fill": {
              "color": "#EBF0F8"
             },
             "line": {
              "color": "white"
             }
            },
            "header": {
             "fill": {
              "color": "#C8D4E3"
             },
             "line": {
              "color": "white"
             }
            },
            "type": "table"
           }
          ]
         },
         "layout": {
          "annotationdefaults": {
           "arrowcolor": "#2a3f5f",
           "arrowhead": 0,
           "arrowwidth": 1
          },
          "autotypenumbers": "strict",
          "coloraxis": {
           "colorbar": {
            "outlinewidth": 0,
            "ticks": ""
           }
          },
          "colorscale": {
           "diverging": [
            [
             0,
             "#8e0152"
            ],
            [
             0.1,
             "#c51b7d"
            ],
            [
             0.2,
             "#de77ae"
            ],
            [
             0.3,
             "#f1b6da"
            ],
            [
             0.4,
             "#fde0ef"
            ],
            [
             0.5,
             "#f7f7f7"
            ],
            [
             0.6,
             "#e6f5d0"
            ],
            [
             0.7,
             "#b8e186"
            ],
            [
             0.8,
             "#7fbc41"
            ],
            [
             0.9,
             "#4d9221"
            ],
            [
             1,
             "#276419"
            ]
           ],
           "sequential": [
            [
             0,
             "#0d0887"
            ],
            [
             0.1111111111111111,
             "#46039f"
            ],
            [
             0.2222222222222222,
             "#7201a8"
            ],
            [
             0.3333333333333333,
             "#9c179e"
            ],
            [
             0.4444444444444444,
             "#bd3786"
            ],
            [
             0.5555555555555556,
             "#d8576b"
            ],
            [
             0.6666666666666666,
             "#ed7953"
            ],
            [
             0.7777777777777778,
             "#fb9f3a"
            ],
            [
             0.8888888888888888,
             "#fdca26"
            ],
            [
             1,
             "#f0f921"
            ]
           ],
           "sequentialminus": [
            [
             0,
             "#0d0887"
            ],
            [
             0.1111111111111111,
             "#46039f"
            ],
            [
             0.2222222222222222,
             "#7201a8"
            ],
            [
             0.3333333333333333,
             "#9c179e"
            ],
            [
             0.4444444444444444,
             "#bd3786"
            ],
            [
             0.5555555555555556,
             "#d8576b"
            ],
            [
             0.6666666666666666,
             "#ed7953"
            ],
            [
             0.7777777777777778,
             "#fb9f3a"
            ],
            [
             0.8888888888888888,
             "#fdca26"
            ],
            [
             1,
             "#f0f921"
            ]
           ]
          },
          "colorway": [
           "#636efa",
           "#EF553B",
           "#00cc96",
           "#ab63fa",
           "#FFA15A",
           "#19d3f3",
           "#FF6692",
           "#B6E880",
           "#FF97FF",
           "#FECB52"
          ],
          "font": {
           "color": "#2a3f5f"
          },
          "geo": {
           "bgcolor": "white",
           "lakecolor": "white",
           "landcolor": "white",
           "showlakes": true,
           "showland": true,
           "subunitcolor": "#C8D4E3"
          },
          "hoverlabel": {
           "align": "left"
          },
          "hovermode": "closest",
          "mapbox": {
           "style": "light"
          },
          "paper_bgcolor": "white",
          "plot_bgcolor": "white",
          "polar": {
           "angularaxis": {
            "gridcolor": "#EBF0F8",
            "linecolor": "#EBF0F8",
            "ticks": ""
           },
           "bgcolor": "white",
           "radialaxis": {
            "gridcolor": "#EBF0F8",
            "linecolor": "#EBF0F8",
            "ticks": ""
           }
          },
          "scene": {
           "xaxis": {
            "backgroundcolor": "white",
            "gridcolor": "#DFE8F3",
            "gridwidth": 2,
            "linecolor": "#EBF0F8",
            "showbackground": true,
            "ticks": "",
            "zerolinecolor": "#EBF0F8"
           },
           "yaxis": {
            "backgroundcolor": "white",
            "gridcolor": "#DFE8F3",
            "gridwidth": 2,
            "linecolor": "#EBF0F8",
            "showbackground": true,
            "ticks": "",
            "zerolinecolor": "#EBF0F8"
           },
           "zaxis": {
            "backgroundcolor": "white",
            "gridcolor": "#DFE8F3",
            "gridwidth": 2,
            "linecolor": "#EBF0F8",
            "showbackground": true,
            "ticks": "",
            "zerolinecolor": "#EBF0F8"
           }
          },
          "shapedefaults": {
           "line": {
            "color": "#2a3f5f"
           }
          },
          "ternary": {
           "aaxis": {
            "gridcolor": "#DFE8F3",
            "linecolor": "#A2B1C6",
            "ticks": ""
           },
           "baxis": {
            "gridcolor": "#DFE8F3",
            "linecolor": "#A2B1C6",
            "ticks": ""
           },
           "bgcolor": "white",
           "caxis": {
            "gridcolor": "#DFE8F3",
            "linecolor": "#A2B1C6",
            "ticks": ""
           }
          },
          "title": {
           "x": 0.05
          },
          "xaxis": {
           "automargin": true,
           "gridcolor": "#EBF0F8",
           "linecolor": "#EBF0F8",
           "ticks": "",
           "title": {
            "standoff": 15
           },
           "zerolinecolor": "#EBF0F8",
           "zerolinewidth": 2
          },
          "yaxis": {
           "automargin": true,
           "gridcolor": "#EBF0F8",
           "linecolor": "#EBF0F8",
           "ticks": "",
           "title": {
            "standoff": 15
           },
           "zerolinecolor": "#EBF0F8",
           "zerolinewidth": 2
          }
         }
        },
        "title": {
         "text": "Свечной график"
        },
        "width": 1500,
        "xaxis": {
         "rangeslider": {
          "visible": false
         },
         "title": {
          "text": "Время"
         }
        },
        "yaxis": {
         "title": {
          "text": "Цена"
         }
        }
       }
      }
     },
     "metadata": {},
     "output_type": "display_data"
    }
   ],
   "source": [
    "# Загрузка и подготовка данных\n",
    "df = prepare_data('data/AAVE_USDT_15m_candles.csv', multiplier=2)\n",
    "tp_profit = df[df['target'] == 1]['returns'].mean()\n",
    "sl_loss = df[df['target'] == -1]['returns'].abs().mean()\n",
    "print(f\"Средний TP: {tp_profit:.4%}, Средний SL: {sl_loss:.4%}\")\n",
    "print(df.target.value_counts())\n",
    "    \n",
    "# Визуализация\n",
    "viz_df = df[65:104]\n",
    "fig = create_candlestick_chart(viz_df)\n",
    "add_levels(fig, viz_df)\n",
    "add_target_annotations(fig, viz_df)\n",
    "add_trade_lines(fig, viz_df)  # Заменяем предыдущие аннотации\n",
    "    \n",
    "fig.show()"
   ]
  },
  {
   "cell_type": "code",
   "execution_count": null,
   "metadata": {},
   "outputs": [],
   "source": [
    "class CustomSchedule(tf.keras.optimizers.schedules.LearningRateSchedule):\n",
    "    \"\"\"Динамический график изменения learning rate с \"прогревом\" (warm-up).\"\"\"\n",
    "\n",
    "    def init(self, initial_lr=1e-4, warmup_steps=1000):\n",
    "        super().init()\n",
    "        self.initial_lr = initial_lr\n",
    "        self.warmup_steps = warmup_steps\n",
    "    \n",
    "\n",
    "    def __call__(self, step):\n",
    "        return tf.minimum(\n",
    "            self.initial_lr * (step / self.warmup_steps)**0.5,\n",
    "            self.initial_lr\n",
    "        )\n",
    "    \n",
    "def weighted_asymmetric_loss(y_true, y_pred):\n",
    "    \"\"\"\n",
    "    Асимметричная взвешенная кросс-энтропия для задачи классификации направления.\n",
    "    Ожидается, что y_true содержит one-hot вектора (shape [batch, 3]), а y_pred — вероятности (softmax).\n",
    "    \"\"\"\n",
    "    # Определяем индексы истинного класса\n",
    "    true_idx = tf.argmax(y_true, axis=1)\n",
    "    \n",
    "    # Присваиваем веса: 1.5 для класса \"Падение\" (index=2),\n",
    "    # 0.7 для \"Стабильность\" (index=1), 1.0 для \"Рост\" (index=0)\n",
    "    weights = tf.where(true_idx == 2,           # Класс \"Падение\" 1.5,\n",
    "                       tf.where(true_idx == 1, # Класс \"Стабильность\" 0.7, 1.0 # Класс \"Рост\" \n",
    "                        )\n",
    "    )\n",
    "    ce = tf.keras.losses.categorical_crossentropy(y_true, y_pred)\n",
    "\n",
    "    return tf.reduce_mean(ce * weights)\n",
    "    \n",
    "\n",
    "def mare_loss(y_true, y_pred):\n",
    "    \"\"\"\n",
    "    MARE (Mean Absolute Relative Error). Подходит для процентных изменений.\n",
    "    \"\"\"\n",
    "    return tf.reduce_mean( tf.abs((y_true - y_pred) / (y_true + 1e-8)) )\n",
    "\n",
    "def temporal_consistency_loss(y_pred):\n",
    "    \"\"\"\n",
    "    Пример регуляризации временной согласованности (демонстрация).\n",
    "    Для реальных временных рядов чаще обрабатывают последовательные выходы.\n",
    "    \"\"\"\n",
    "    # В данном упрощённом примере возвращаем 0, чтобы не вносить вклад в итоговую функцию потерь.\n",
    "    return 0.0\n",
    "\n",
    "\n",
    "class CustomLoss(tf.keras.losses.Loss):\n",
    "    \"\"\"\n",
    "    Комбинированная функция потерь, объединяющая:\n",
    "    - weighted_asymmetric_loss для направления\n",
    "    - mare_loss для уровней High/Low\n",
    "    - опционально temporal_consistency_loss\n",
    "    \"\"\"\n",
    "    \n",
    "    def init(self, alpha=0.3, beta=0.2, name='custom_loss'):\n",
    "        super().init(name=name)\n",
    "        self.alpha = alpha # Вес модельного вклада для прогноза High/Low\n",
    "        self.beta = beta # Вес временной регуляризации (демонстрация)\n",
    "    \n",
    "    def call(self, y_true, y_pred):\n",
    "        # y_pred — список [direction_pred, high_pred, low_pred]\n",
    "        direction_pred = y_pred[0]\n",
    "        high_pred = y_pred[1]\n",
    "        low_pred = y_pred[2]\n",
    "\n",
    "        # y_true — список [direction_true, high_true, low_true]\n",
    "        direction_true = y_true[0]\n",
    "        high_true = y_true[1]\n",
    "        low_true = y_true[2]\n",
    "\n",
    "        # Основные компоненты потерь\n",
    "        ce_loss = weighted_asymmetric_loss(direction_true, direction_pred)\n",
    "        hl_loss = 0.5 * (mare_loss(high_true, high_pred) + mare_loss(low_true, low_pred))\n",
    "        temp_loss = self.beta * temporal_consistency_loss(direction_pred)  # Пример\n",
    "\n",
    "        total_loss = ce_loss + self.alpha * hl_loss + temp_loss\n",
    "        return total_loss"
   ]
  },
  {
   "cell_type": "code",
   "execution_count": null,
   "metadata": {},
   "outputs": [],
   "source": []
  },
  {
   "cell_type": "code",
   "execution_count": 18,
   "metadata": {},
   "outputs": [
    {
     "data": {
      "text/html": [
       "<div>\n",
       "<style scoped>\n",
       "    .dataframe tbody tr th:only-of-type {\n",
       "        vertical-align: middle;\n",
       "    }\n",
       "\n",
       "    .dataframe tbody tr th {\n",
       "        vertical-align: top;\n",
       "    }\n",
       "\n",
       "    .dataframe thead th {\n",
       "        text-align: right;\n",
       "    }\n",
       "</style>\n",
       "<table border=\"1\" class=\"dataframe\">\n",
       "  <thead>\n",
       "    <tr style=\"text-align: right;\">\n",
       "      <th></th>\n",
       "      <th>-1</th>\n",
       "      <th>0</th>\n",
       "      <th>1</th>\n",
       "      <th>open</th>\n",
       "      <th>high</th>\n",
       "      <th>low</th>\n",
       "      <th>close</th>\n",
       "    </tr>\n",
       "  </thead>\n",
       "  <tbody>\n",
       "    <tr>\n",
       "      <th>0</th>\n",
       "      <td>False</td>\n",
       "      <td>True</td>\n",
       "      <td>False</td>\n",
       "      <td>51.90</td>\n",
       "      <td>52.00</td>\n",
       "      <td>51.80</td>\n",
       "      <td>51.80</td>\n",
       "    </tr>\n",
       "    <tr>\n",
       "      <th>1</th>\n",
       "      <td>False</td>\n",
       "      <td>True</td>\n",
       "      <td>False</td>\n",
       "      <td>51.70</td>\n",
       "      <td>51.80</td>\n",
       "      <td>51.70</td>\n",
       "      <td>51.80</td>\n",
       "    </tr>\n",
       "    <tr>\n",
       "      <th>2</th>\n",
       "      <td>False</td>\n",
       "      <td>True</td>\n",
       "      <td>False</td>\n",
       "      <td>51.80</td>\n",
       "      <td>51.80</td>\n",
       "      <td>51.70</td>\n",
       "      <td>51.80</td>\n",
       "    </tr>\n",
       "    <tr>\n",
       "      <th>3</th>\n",
       "      <td>False</td>\n",
       "      <td>True</td>\n",
       "      <td>False</td>\n",
       "      <td>51.70</td>\n",
       "      <td>51.80</td>\n",
       "      <td>51.70</td>\n",
       "      <td>51.80</td>\n",
       "    </tr>\n",
       "    <tr>\n",
       "      <th>4</th>\n",
       "      <td>False</td>\n",
       "      <td>True</td>\n",
       "      <td>False</td>\n",
       "      <td>51.80</td>\n",
       "      <td>51.80</td>\n",
       "      <td>51.80</td>\n",
       "      <td>51.80</td>\n",
       "    </tr>\n",
       "    <tr>\n",
       "      <th>...</th>\n",
       "      <td>...</td>\n",
       "      <td>...</td>\n",
       "      <td>...</td>\n",
       "      <td>...</td>\n",
       "      <td>...</td>\n",
       "      <td>...</td>\n",
       "      <td>...</td>\n",
       "    </tr>\n",
       "    <tr>\n",
       "      <th>34931</th>\n",
       "      <td>True</td>\n",
       "      <td>False</td>\n",
       "      <td>False</td>\n",
       "      <td>112.08</td>\n",
       "      <td>112.52</td>\n",
       "      <td>111.85</td>\n",
       "      <td>112.41</td>\n",
       "    </tr>\n",
       "    <tr>\n",
       "      <th>34932</th>\n",
       "      <td>False</td>\n",
       "      <td>False</td>\n",
       "      <td>True</td>\n",
       "      <td>112.43</td>\n",
       "      <td>112.48</td>\n",
       "      <td>111.33</td>\n",
       "      <td>112.09</td>\n",
       "    </tr>\n",
       "    <tr>\n",
       "      <th>34933</th>\n",
       "      <td>False</td>\n",
       "      <td>True</td>\n",
       "      <td>False</td>\n",
       "      <td>112.08</td>\n",
       "      <td>112.95</td>\n",
       "      <td>112.02</td>\n",
       "      <td>112.45</td>\n",
       "    </tr>\n",
       "    <tr>\n",
       "      <th>34934</th>\n",
       "      <td>False</td>\n",
       "      <td>True</td>\n",
       "      <td>False</td>\n",
       "      <td>112.40</td>\n",
       "      <td>112.51</td>\n",
       "      <td>112.03</td>\n",
       "      <td>112.15</td>\n",
       "    </tr>\n",
       "    <tr>\n",
       "      <th>34935</th>\n",
       "      <td>False</td>\n",
       "      <td>True</td>\n",
       "      <td>False</td>\n",
       "      <td>112.10</td>\n",
       "      <td>112.33</td>\n",
       "      <td>111.49</td>\n",
       "      <td>111.50</td>\n",
       "    </tr>\n",
       "  </tbody>\n",
       "</table>\n",
       "<p>34936 rows × 7 columns</p>\n",
       "</div>"
      ],
      "text/plain": [
       "          -1      0      1    open    high     low   close\n",
       "0      False   True  False   51.90   52.00   51.80   51.80\n",
       "1      False   True  False   51.70   51.80   51.70   51.80\n",
       "2      False   True  False   51.80   51.80   51.70   51.80\n",
       "3      False   True  False   51.70   51.80   51.70   51.80\n",
       "4      False   True  False   51.80   51.80   51.80   51.80\n",
       "...      ...    ...    ...     ...     ...     ...     ...\n",
       "34931   True  False  False  112.08  112.52  111.85  112.41\n",
       "34932  False  False   True  112.43  112.48  111.33  112.09\n",
       "34933  False   True  False  112.08  112.95  112.02  112.45\n",
       "34934  False   True  False  112.40  112.51  112.03  112.15\n",
       "34935  False   True  False  112.10  112.33  111.49  111.50\n",
       "\n",
       "[34936 rows x 7 columns]"
      ]
     },
     "execution_count": 18,
     "metadata": {},
     "output_type": "execute_result"
    }
   ],
   "source": []
  },
  {
   "cell_type": "code",
   "execution_count": 58,
   "metadata": {},
   "outputs": [],
   "source": []
  },
  {
   "cell_type": "code",
   "execution_count": null,
   "metadata": {},
   "outputs": [],
   "source": [
    "def prepare_data_for_train(data, window_size=30):\n",
    "    \"\"\"\n",
    "    Подготовка данных: Превращаем [samples, features] ->\n",
    "    [samples, window_size, features] для LSTM. Предполагается, что в data:\n",
    "    - первые три столбца для one-hot направления,\n",
    "    - четвертый столбец — High,\n",
    "    - пятый столбец — Low,\n",
    "    - остальные — вспомогательные фичи (open, close, atr и т.д.).\n",
    "    \"\"\"\n",
    "    \n",
    "    X, y_dir, y_high, y_low = [], [], [], []\n",
    "    for i in range(window_size, len(data)):\n",
    "        X.append(data[i - window_size : i]) # direction (one-hot) в колонках 0..2\n",
    "        y_dir.append(data[i, 0:3]) # High — column 3, Low — column 4\n",
    "        y_high.append(data[i, 3])\n",
    "        y_low.append(data[i, 4])\n",
    "        X = np.array(X)\n",
    "        y_dir = np.array(y_dir)\n",
    "        y_high = np.array(y_high).reshape(-1, 1)\n",
    "        y_low = np.array(y_low).reshape(-1, 1)\n",
    "        return X, [y_dir, y_high, y_low]\n"
   ]
  }
 ],
 "metadata": {
  "kernelspec": {
   "display_name": "myenv",
   "language": "python",
   "name": "python3"
  },
  "language_info": {
   "codemirror_mode": {
    "name": "ipython",
    "version": 3
   },
   "file_extension": ".py",
   "mimetype": "text/x-python",
   "name": "python",
   "nbconvert_exporter": "python",
   "pygments_lexer": "ipython3",
   "version": "3.11.4"
  },
  "orig_nbformat": 4
 },
 "nbformat": 4,
 "nbformat_minor": 2
}
